{
 "cells": [
  {
   "cell_type": "code",
   "execution_count": 1,
   "metadata": {},
   "outputs": [],
   "source": [
    "%load_ext autoreload\n",
    "%autoreload 2"
   ]
  },
  {
   "cell_type": "code",
   "execution_count": 8,
   "metadata": {},
   "outputs": [],
   "source": [
    "from pathlib import Path\n",
    "\n",
    "from IPython.display import display, JSON\n",
    "import plotly.graph_objects as go\n",
    "\n",
    "from openfisca_core.simulation_builder import SimulationBuilder\n",
    "from openfisca_france import FranceTaxBenefitSystem\n",
    "from openfisca_france.model.base import TypesStatutOccupationLogement\n",
    "from taxipp.utils.test_case.utils import create_scenario_superieur_smic\n",
    "\n",
    "import openfisca_interactive"
   ]
  },
  {
   "cell_type": "code",
   "execution_count": 9,
   "metadata": {},
   "outputs": [],
   "source": [
    "tax_benefit_system = FranceTaxBenefitSystem()\n",
    "decomposition = tax_benefit_system.load_decomposition()\n",
    "tax_benefit_system.add_variables_from_decomposition_tree(decomposition, update=True)"
   ]
  },
  {
   "cell_type": "code",
   "execution_count": 10,
   "metadata": {},
   "outputs": [],
   "source": [
    "bars = openfisca_interactive.get_bars(decomposition)"
   ]
  },
  {
   "cell_type": "code",
   "execution_count": 11,
   "metadata": {},
   "outputs": [],
   "source": [
    "period = 2019\n",
    "test_case_scenario = create_scenario_superieur_smic(year = period, statut_occupation_logement = TypesStatutOccupationLogement.proprietaire.name)"
   ]
  },
  {
   "cell_type": "code",
   "execution_count": 15,
   "metadata": {},
   "outputs": [],
   "source": [
    "from openfisca_france.scenarios import init_single_entity\n",
    "\n",
    "simulation_builder = SimulationBuilder()\n",
    "simulation =  init_single_entity(tax_benefit_system.new_scenario(), **test_case_scenario).new_simulation()\n",
    "salaire_de_base_arr = simulation.calculate_add(\"salaire_de_base\", period=period)\n",
    "results = openfisca_interactive.calculate_bars(bars, simulation, period=period)\n",
    "salaire_index = 2"
   ]
  },
  {
   "cell_type": "code",
   "execution_count": 16,
   "metadata": {},
   "outputs": [],
   "source": [
    "displayed_bars = list(openfisca_interactive.iter_displayed_bars(\n",
    "    bars, results, x_variable_arr=salaire_de_base_arr, x_variable=salaire_de_base_arr[salaire_index],\n",
    "    include_subtotals=False, include_zero=False))"
   ]
  },
  {
   "cell_type": "code",
   "execution_count": 17,
   "metadata": {},
   "outputs": [
    {
     "data": {
      "application/vnd.jupyter.widget-view+json": {
       "model_id": "7a5c447f264b4a689776807351d90135",
       "version_major": 2,
       "version_minor": 0
      },
      "text/plain": [
       "FigureWidget({\n",
       "    'data': [{'measure': [relative, relative, relative, relative, relative,\n",
       "                   …"
      ]
     },
     "metadata": {},
     "output_type": "display_data"
    }
   ],
   "source": [
    "BarType = openfisca_interactive.BarType\n",
    "\n",
    "waterfall = go.Waterfall()\n",
    "waterfall.x = [bar.short_name or bar.variable_name for bar in displayed_bars]\n",
    "waterfall.y = [\n",
    "    bar.value if bar.type == BarType.VALUE else 0\n",
    "    for bar in displayed_bars\n",
    "]\n",
    "waterfall.measure = [\n",
    "    \"relative\" if bar.type == BarType.VALUE else \"total\"\n",
    "    for bar in displayed_bars\n",
    "]\n",
    "waterfall.text = [\n",
    "    (\"{:+.0f}\" if bar.type == BarType.VALUE else \"{:.0f}\").format(bar.value)\n",
    "    for bar in displayed_bars\n",
    "]\n",
    "\n",
    "layout = go.Layout(title=f\"Décomposition du revenu disponible ({period})\")\n",
    "go.FigureWidget(data=[waterfall], layout=layout)"
   ]
  },
  {
   "cell_type": "code",
   "execution_count": null,
   "metadata": {},
   "outputs": [],
   "source": []
  },
  {
   "cell_type": "code",
   "execution_count": null,
   "metadata": {},
   "outputs": [],
   "source": []
  },
  {
   "cell_type": "code",
   "execution_count": null,
   "metadata": {},
   "outputs": [],
   "source": []
  }
 ],
 "metadata": {
  "kernelspec": {
   "display_name": "Python 3",
   "language": "python",
   "name": "python3"
  },
  "language_info": {
   "codemirror_mode": {
    "name": "ipython",
    "version": 3
   },
   "file_extension": ".py",
   "mimetype": "text/x-python",
   "name": "python",
   "nbconvert_exporter": "python",
   "pygments_lexer": "ipython3",
   "version": "3.7.3"
  }
 },
 "nbformat": 4,
 "nbformat_minor": 4
}
