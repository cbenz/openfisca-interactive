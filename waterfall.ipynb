{
 "cells": [
  {
   "cell_type": "code",
   "execution_count": 1,
   "metadata": {},
   "outputs": [],
   "source": [
    "import dataclasses\n",
    "from dataclasses import dataclass\n",
    "from enum import Enum\n",
    "from pathlib import Path\n",
    "from typing import List\n",
    "\n",
    "from ruamel.yaml import YAML\n",
    "from IPython.display import display, JSON\n",
    "import ipywidgets as widgets\n",
    "import plotly.graph_objects as go\n",
    "\n",
    "from openfisca_core.simulation_builder import SimulationBuilder\n",
    "from openfisca_france import FranceTaxBenefitSystem"
   ]
  },
  {
   "cell_type": "code",
   "execution_count": 2,
   "metadata": {},
   "outputs": [],
   "source": [
    "tax_benefit_system = FranceTaxBenefitSystem()"
   ]
  },
  {
   "cell_type": "code",
   "execution_count": 3,
   "metadata": {},
   "outputs": [],
   "source": [
    "def count_to_step(min, max, count):\n",
    "    \"\"\"Examples:\n",
    "    >>> count_to_step(0, 80, 5)\n",
    "    20\n",
    "    \"\"\"\n",
    "    return float(max - min) / (count - 1)\n",
    "\n",
    "def value_to_index(min, step, value):\n",
    "    \"\"\"Examples:\n",
    "    >>> value_to_index(0, 10, 0)\n",
    "    0\n",
    "    >>> value_to_index(0, 10, 40)\n",
    "    4\n",
    "    >>> value_to_index(3, 1, 6)\n",
    "    3\n",
    "    \"\"\"\n",
    "    return int((value / step) - min)"
   ]
  },
  {
   "cell_type": "code",
   "execution_count": 4,
   "metadata": {},
   "outputs": [],
   "source": [
    "COUNT = 20\n",
    "MIN = 0\n",
    "MAX = 500000\n",
    "STEP = count_to_step(MIN, MAX, COUNT)\n",
    "INITIAL_VALUE = 0\n",
    "PERIOD = \"2019\""
   ]
  },
  {
   "cell_type": "code",
   "execution_count": 5,
   "metadata": {},
   "outputs": [],
   "source": [
    "test_case = {\n",
    "    \"individus\": {\n",
    "        \"Michel\": {\n",
    "            'date_naissance': {'ETERNITY': '1980-01-01'},\n",
    "        },\n",
    "    },\n",
    "    \"familles\": {\n",
    "        \"famille_1\": {\n",
    "            \"parents\": [\"Michel\"]\n",
    "        }\n",
    "    },\n",
    "    \"foyers_fiscaux\": {\n",
    "        \"foyer_fiscal_1\": {\n",
    "            \"declarants\": [\"Michel\"],\n",
    "        },\n",
    "    },\n",
    "    \"menages\": {\n",
    "        \"menage_1\": {\n",
    "            \"personne_de_reference\": [\"Michel\"],\n",
    "        }},\n",
    "    \"axes\": [[\n",
    "        {\n",
    "            \"name\": 'salaire_de_base',\n",
    "            \"count\": COUNT,\n",
    "            \"min\": MIN,\n",
    "            \"max\": MAX,\n",
    "            \"period\": PERIOD,\n",
    "        },\n",
    "    ]],\n",
    "}\n"
   ]
  },
  {
   "cell_type": "code",
   "execution_count": 6,
   "metadata": {},
   "outputs": [],
   "source": [
    "simulation_builder = SimulationBuilder()\n",
    "simulation = simulation_builder.build_from_entities(tax_benefit_system, test_case)"
   ]
  },
  {
   "cell_type": "code",
   "execution_count": 7,
   "metadata": {},
   "outputs": [],
   "source": [
    "salaire_de_base = simulation.calculate_add(\"salaire_de_base\", PERIOD)"
   ]
  },
  {
   "cell_type": "code",
   "execution_count": 8,
   "metadata": {},
   "outputs": [],
   "source": [
    "revenu_disponible = simulation.calculate(\"revenu_disponible\", PERIOD)"
   ]
  },
  {
   "cell_type": "code",
   "execution_count": 10,
   "metadata": {},
   "outputs": [],
   "source": [
    "yaml = YAML(typ='safe')\n",
    "decomposition = yaml.load(Path(\"./decomposition.yaml\"))"
   ]
  },
  {
   "cell_type": "code",
   "execution_count": 11,
   "metadata": {},
   "outputs": [],
   "source": [
    "class BarType(Enum):\n",
    "    VALUE = 1\n",
    "    SUB_TOTAL = 2\n",
    "    TOTAL = 3\n",
    "\n",
    "@dataclass\n",
    "class Bar:\n",
    "    code: str\n",
    "    type: BarType\n",
    "    name: str = None\n",
    "    value: float = None"
   ]
  },
  {
   "cell_type": "code",
   "execution_count": 12,
   "metadata": {},
   "outputs": [],
   "source": [
    "def get_bars(decomposition: dict) -> List[Bar]:\n",
    "    def visit(node):\n",
    "        children = node.get(\"children\")\n",
    "        if children:\n",
    "            for child in children:\n",
    "                yield from visit(child)\n",
    "            type_ = BarType.TOTAL if node[\"code\"] == decomposition[\"code\"] else BarType.SUB_TOTAL\n",
    "            yield Bar(code=node[\"code\"], name=node.get(\"name\"), type=type_)\n",
    "        else:\n",
    "            yield Bar(code=node[\"code\"], name=node.get(\"name\"), type=BarType.VALUE)\n",
    "\n",
    "    return list(visit(decomposition))"
   ]
  },
  {
   "cell_type": "code",
   "execution_count": 13,
   "metadata": {},
   "outputs": [],
   "source": [
    "bars = get_bars(decomposition)"
   ]
  },
  {
   "cell_type": "code",
   "execution_count": 14,
   "metadata": {},
   "outputs": [],
   "source": [
    "def calculate_bars(simulation, period, bars: List[Bar]) -> dict:\n",
    "    return {\n",
    "        bar.code: simulation.calculate_add(bar.code, period)\n",
    "        for bar in bars\n",
    "    }"
   ]
  },
  {
   "cell_type": "code",
   "execution_count": 15,
   "metadata": {},
   "outputs": [],
   "source": [
    "results = calculate_bars(simulation, PERIOD, bars)"
   ]
  },
  {
   "cell_type": "code",
   "execution_count": 16,
   "metadata": {},
   "outputs": [],
   "source": [
    "def iter_bars_with_value_at_index(bars, results, index, include_zero=False):\n",
    "    for bar in bars:\n",
    "        value = results[bar.code][index]\n",
    "        if include_zero or value != 0:\n",
    "            yield dataclasses.replace(bar, value=value)"
   ]
  },
  {
   "cell_type": "code",
   "execution_count": 17,
   "metadata": {},
   "outputs": [],
   "source": [
    "def iter_displayed_bars(bars: List[Bar], results: dict, index: int, include_subtotals: bool = True):\n",
    "    displayed_bars = filter(lambda bar: include_subtotals or bar.type != BarType.SUB_TOTAL, bars)\n",
    "    displayed_bars = iter_bars_with_value_at_index(displayed_bars, results, index)\n",
    "    yield from displayed_bars"
   ]
  },
  {
   "cell_type": "code",
   "execution_count": 18,
   "metadata": {},
   "outputs": [],
   "source": [
    "def create_waterfall(bars, results, title=\"Waterfall\"):\n",
    "    def update_plot(*args):\n",
    "        index = value_to_index(MIN, STEP, slider.value)\n",
    "        displayed_bars = list(iter_displayed_bars(bars, results, index, include_subtotals.value))\n",
    "        with fig.batch_update():\n",
    "            waterfall = fig.data[0]\n",
    "            waterfall.x = [bar.name or bar.code for bar in displayed_bars]\n",
    "            waterfall.y = [\n",
    "                bar.value if bar.type == BarType.VALUE else 0\n",
    "                for bar in displayed_bars\n",
    "            ]\n",
    "            waterfall.measure = [\n",
    "                \"relative\" if bar.type == BarType.VALUE else \"total\"\n",
    "                for bar in displayed_bars\n",
    "            ]\n",
    "            waterfall.text = [\n",
    "                (\"{:+.0f}\" if bar.type == BarType.VALUE else \"{:.0f}\").format(bar.value)\n",
    "                for bar in displayed_bars\n",
    "            ]\n",
    "\n",
    "    include_subtotals = widgets.Checkbox(description=\"Include subtotals\")\n",
    "    include_subtotals.observe(update_plot, 'value')\n",
    "\n",
    "    slider = widgets.FloatSlider(min=MIN, max=MAX, step=STEP, value=INITIAL_VALUE)\n",
    "    slider.observe(update_plot, 'value')\n",
    "\n",
    "    waterfall = go.Waterfall(textposition=\"inside\")\n",
    "    layout = go.Layout(title=title)\n",
    "    fig = go.FigureWidget(data=[waterfall], layout=layout)\n",
    "    update_plot()\n",
    "\n",
    "    return widgets.VBox([\n",
    "        widgets.HBox([widgets.Label('Salaire de base'), slider]),\n",
    "        include_subtotals,\n",
    "        fig,\n",
    "    ])"
   ]
  },
  {
   "cell_type": "code",
   "execution_count": 19,
   "metadata": {},
   "outputs": [
    {
     "data": {
      "application/vnd.jupyter.widget-view+json": {
       "model_id": "d0df85faa77a4d53a0311b7d30a2361e",
       "version_major": 2,
       "version_minor": 0
      },
      "text/plain": [
       "VBox(children=(HBox(children=(Label(value='Salaire de base'), FloatSlider(value=0.0, max=500000.0, step=26315.…"
      ]
     },
     "metadata": {},
     "output_type": "display_data"
    }
   ],
   "source": [
    "create_waterfall(bars, results)"
   ]
  }
 ],
 "metadata": {
  "kernelspec": {
   "display_name": "Python 3",
   "language": "python",
   "name": "python3"
  },
  "language_info": {
   "codemirror_mode": {
    "name": "ipython",
    "version": 3
   },
   "file_extension": ".py",
   "mimetype": "text/x-python",
   "name": "python",
   "nbconvert_exporter": "python",
   "pygments_lexer": "ipython3",
   "version": "3.7.3"
  }
 },
 "nbformat": 4,
 "nbformat_minor": 4
}
