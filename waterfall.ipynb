{
 "cells": [
  {
   "cell_type": "code",
   "execution_count": 1,
   "metadata": {},
   "outputs": [],
   "source": [
    "import dataclasses\n",
    "from dataclasses import dataclass\n",
    "from enum import Enum\n",
    "from pathlib import Path\n",
    "from typing import List\n",
    "\n",
    "from ruamel.yaml import YAML\n",
    "from IPython.display import display, JSON\n",
    "import ipywidgets as widgets\n",
    "import plotly.graph_objects as go\n",
    "\n",
    "from openfisca_core.simulation_builder import SimulationBuilder\n",
    "from openfisca_france import FranceTaxBenefitSystem"
   ]
  },
  {
   "cell_type": "code",
   "execution_count": 2,
   "metadata": {},
   "outputs": [],
   "source": [
    "tax_benefit_system = FranceTaxBenefitSystem()"
   ]
  },
  {
   "cell_type": "code",
   "execution_count": 3,
   "metadata": {},
   "outputs": [],
   "source": [
    "yaml = YAML(typ='safe')\n",
    "decomposition = yaml.load(Path(\"./decomposition.yaml\"))"
   ]
  },
  {
   "cell_type": "code",
   "execution_count": 4,
   "metadata": {},
   "outputs": [],
   "source": [
    "class BarType(Enum):\n",
    "    VALUE = 1\n",
    "    SUB_TOTAL = 2\n",
    "    TOTAL = 3"
   ]
  },
  {
   "cell_type": "code",
   "execution_count": 5,
   "metadata": {},
   "outputs": [],
   "source": [
    "@dataclass\n",
    "class Bar:\n",
    "    code: str\n",
    "    type: BarType\n",
    "    short_name: str = None\n",
    "    value: float = None"
   ]
  },
  {
   "cell_type": "code",
   "execution_count": 6,
   "metadata": {},
   "outputs": [],
   "source": [
    "def get_bars(decomposition: dict) -> List[Bar]:\n",
    "    def visit(node):\n",
    "        children = node.get(\"children\")\n",
    "        if children:\n",
    "            for child in children:\n",
    "                yield from visit(child)\n",
    "            type_ = BarType.TOTAL if node[\"code\"] == decomposition[\"code\"] else BarType.SUB_TOTAL\n",
    "            yield Bar(code=node[\"code\"], short_name=node.get(\"short_name\"), type=type_)\n",
    "        else:\n",
    "            yield Bar(code=node[\"code\"], short_name=node.get(\"short_name\"), type=BarType.VALUE)\n",
    "\n",
    "    return list(visit(decomposition))"
   ]
  },
  {
   "cell_type": "code",
   "execution_count": 7,
   "metadata": {},
   "outputs": [],
   "source": [
    "bars = get_bars(decomposition)"
   ]
  },
  {
   "cell_type": "code",
   "execution_count": 8,
   "metadata": {},
   "outputs": [],
   "source": [
    "def iter_displayed_bars(bars: List[Bar], results: dict, salaire_de_base_arr, salaire_de_base: float, include_subtotals: bool, include_zero: bool):\n",
    "    for bar in bars:\n",
    "        if bar.type == BarType.SUB_TOTAL and not include_subtotals:\n",
    "            continue\n",
    "        value = dict(zip(salaire_de_base_arr, results[bar.code]))[salaire_de_base]\n",
    "        if include_zero or value != 0:\n",
    "            yield dataclasses.replace(bar, value=value)  "
   ]
  },
  {
   "cell_type": "code",
   "execution_count": 9,
   "metadata": {},
   "outputs": [],
   "source": [
    "def calculate_bars(bars, simulation, period):\n",
    "    return {\n",
    "        bar.code: simulation.calculate_add(bar.code, period)\n",
    "        for bar in bars\n",
    "    }"
   ]
  },
  {
   "cell_type": "code",
   "execution_count": 18,
   "metadata": {},
   "outputs": [],
   "source": [
    "def create_waterfall(bars, results, salaire_de_base_arr, period):\n",
    "    def update_plot(*args):\n",
    "        displayed_bars = list(iter_displayed_bars(bars, results, salaire_de_base_arr=salaire_de_base_arr, salaire_de_base=slider.value,\n",
    "                                                  include_subtotals=include_subtotals.value, include_zero=include_zero.value))\n",
    "        with fig.batch_update():\n",
    "            waterfall = fig.data[0]\n",
    "            waterfall.x = [bar.short_name or bar.code for bar in displayed_bars]\n",
    "            waterfall.y = [\n",
    "                bar.value if bar.type == BarType.VALUE else 0\n",
    "                for bar in displayed_bars\n",
    "            ]\n",
    "            waterfall.measure = [\n",
    "                \"relative\" if bar.type == BarType.VALUE else \"total\"\n",
    "                for bar in displayed_bars\n",
    "            ]\n",
    "            waterfall.text = [\n",
    "                (\"{:+.0f}\" if bar.type == BarType.VALUE else \"{:.0f}\").format(bar.value)\n",
    "                for bar in displayed_bars\n",
    "            ]\n",
    "\n",
    "    include_subtotals = widgets.Checkbox(description=\"Afficher les sous-totaux\")\n",
    "    include_subtotals.observe(update_plot, 'value')\n",
    "\n",
    "    include_zero = widgets.Checkbox(description=\"Afficher les valeurs 0\")\n",
    "    include_zero.observe(update_plot, 'value')\n",
    "\n",
    "    slider = widgets.SelectionSlider(options=salaire_de_base_arr)\n",
    "    slider.observe(update_plot, 'value')\n",
    "\n",
    "    waterfall = go.Waterfall(textposition=\"inside\")\n",
    "    layout = go.Layout(title=f\"Décomposition du revenu disponible ({period})\")\n",
    "    fig = go.FigureWidget(data=[waterfall], layout=layout)\n",
    "    update_plot()\n",
    "\n",
    "    return widgets.VBox([\n",
    "        widgets.HBox([widgets.Label('Salaire de base'), slider]),\n",
    "        widgets.HBox([include_subtotals, include_zero]),\n",
    "        fig,\n",
    "    ])"
   ]
  },
  {
   "cell_type": "code",
   "execution_count": 24,
   "metadata": {},
   "outputs": [],
   "source": [
    "def build_test_case(salaire_min, salaire_max, salaire_count, period):\n",
    "    return {\n",
    "    \"individus\": {\n",
    "        \"Michel\": {\n",
    "            'date_naissance': {'ETERNITY': '1980-01-01'},\n",
    "        },\n",
    "    },\n",
    "    \"familles\": {\n",
    "        \"famille_1\": {\n",
    "            \"parents\": [\"Michel\"]\n",
    "        }\n",
    "    },\n",
    "    \"foyers_fiscaux\": {\n",
    "        \"foyer_fiscal_1\": {\n",
    "            \"declarants\": [\"Michel\"],\n",
    "        },\n",
    "    },\n",
    "    \"menages\": {\n",
    "        \"menage_1\": {\n",
    "            \"personne_de_reference\": [\"Michel\"],\n",
    "        }},\n",
    "    \"axes\": [[\n",
    "        {\n",
    "            \"name\": 'salaire_de_base',\n",
    "            \"count\": salaire_count,\n",
    "            \"min\": salaire_min,\n",
    "            \"max\": salaire_max,\n",
    "            \"period\": period,\n",
    "        },\n",
    "    ]],\n",
    "}"
   ]
  },
  {
   "cell_type": "markdown",
   "metadata": {},
   "source": [
    "Situation : un célibataire né le 1er janvier 1980 dont le salaire de base varie entre deux bornes.\n",
    "\n",
    "- choisir la période de simulation et les bornes du salaire de base\n",
    "- cliquer sur \"Calculer\" pour générer un [diagramme en cascade](https://fr.wikipedia.org/wiki/Diagramme_en_cascade) de la décomposition du revenu disponible\n",
    "- il est possible de faire varier le salaire de base avec un \"slider\"\n",
    "\n",
    "Il est possible de générer plusieurs diagrammes depuis des paramètres différents."
   ]
  },
  {
   "cell_type": "code",
   "execution_count": 27,
   "metadata": {},
   "outputs": [
    {
     "data": {
      "application/vnd.jupyter.widget-view+json": {
       "model_id": "f13560e2e8324ef2807020c698516cf9",
       "version_major": 2,
       "version_minor": 0
      },
      "text/plain": [
       "Output()"
      ]
     },
     "metadata": {},
     "output_type": "display_data"
    }
   ],
   "source": [
    "output = widgets.Output()\n",
    "\n",
    "period = widgets.IntText(description=\"Période\", value=2019)\n",
    "salaire_min = widgets.IntText(description=\"Minimum\", value=0)\n",
    "salaire_max = widgets.IntText(description=\"Maximum\", value=100_000)\n",
    "salaire_count = widgets.IntText(description=\"Nombre d'échantillons\", value=101)\n",
    "\n",
    "button = widgets.Button(description=\"Calculer\")\n",
    "\n",
    "@output.capture()\n",
    "def on_button_clicked(b):\n",
    "    test_case = build_test_case(salaire_min=salaire_min.value, salaire_max=salaire_max.value, salaire_count=salaire_count.value, period=period.value)\n",
    "    simulation_builder = SimulationBuilder()\n",
    "    simulation = simulation_builder.build_from_entities(tax_benefit_system, test_case)\n",
    "    salaire_de_base_arr = simulation.calculate_add(\"salaire_de_base\", period=period.value)\n",
    "    results = calculate_bars(bars, simulation, period=period.value)\n",
    "    display(create_waterfall(bars, results, salaire_de_base_arr, period=period.value))\n",
    "\n",
    "button.on_click(on_button_clicked)\n",
    "\n",
    "with output:\n",
    "    display(widgets.VBox([\n",
    "        period,\n",
    "        widgets.HBox([widgets.Label(\"Salaire\"), salaire_min, salaire_max, salaire_count]),\n",
    "        button,\n",
    "    ]))\n",
    "\n",
    "output"
   ]
  },
  {
   "cell_type": "code",
   "execution_count": null,
   "metadata": {},
   "outputs": [],
   "source": []
  }
 ],
 "metadata": {
  "kernelspec": {
   "display_name": "Python 3",
   "language": "python",
   "name": "python3"
  },
  "language_info": {
   "codemirror_mode": {
    "name": "ipython",
    "version": 3
   },
   "file_extension": ".py",
   "mimetype": "text/x-python",
   "name": "python",
   "nbconvert_exporter": "python",
   "pygments_lexer": "ipython3",
   "version": "3.7.3"
  }
 },
 "nbformat": 4,
 "nbformat_minor": 4
}
