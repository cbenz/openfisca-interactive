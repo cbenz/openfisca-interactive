{
 "cells": [
  {
   "cell_type": "code",
   "execution_count": 1,
   "metadata": {},
   "outputs": [],
   "source": [
    "%load_ext autoreload\n",
    "%autoreload 2"
   ]
  },
  {
   "cell_type": "code",
   "execution_count": 2,
   "metadata": {},
   "outputs": [],
   "source": [
    "from pathlib import Path\n",
    "\n",
    "from IPython.display import display, JSON\n",
    "import plotly.graph_objects as go\n",
    "\n",
    "from openfisca_core.simulation_builder import SimulationBuilder\n",
    "from openfisca_france import FranceTaxBenefitSystem\n",
    "import openfisca_interactive"
   ]
  },
  {
   "cell_type": "code",
   "execution_count": 3,
   "metadata": {},
   "outputs": [],
   "source": [
    "tax_benefit_system = FranceTaxBenefitSystem()\n",
    "decomposition = tax_benefit_system.load_decomposition()\n",
    "tax_benefit_system.add_variables_from_decomposition_tree(decomposition, update=True)"
   ]
  },
  {
   "cell_type": "code",
   "execution_count": 4,
   "metadata": {},
   "outputs": [],
   "source": [
    "bars = openfisca_interactive.get_bars(decomposition)"
   ]
  },
  {
   "cell_type": "code",
   "execution_count": 5,
   "metadata": {},
   "outputs": [],
   "source": [
    "def build_test_case(salaire_min, salaire_max, salaire_count, period):\n",
    "    return {\n",
    "    \"individus\": {\n",
    "        \"Michel\": {\n",
    "            'date_naissance': {'ETERNITY': '1980-01-01'},\n",
    "        },\n",
    "    },\n",
    "    \"familles\": {\n",
    "        \"famille_1\": {\n",
    "            \"parents\": [\"Michel\"]\n",
    "        }\n",
    "    },\n",
    "    \"foyers_fiscaux\": {\n",
    "        \"foyer_fiscal_1\": {\n",
    "            \"declarants\": [\"Michel\"],\n",
    "        },\n",
    "    },\n",
    "    \"menages\": {\n",
    "        \"menage_1\": {\n",
    "            \"personne_de_reference\": [\"Michel\"],\n",
    "        }},\n",
    "    \"axes\": [[\n",
    "        {\n",
    "            \"name\": 'salaire_de_base',\n",
    "            \"count\": salaire_count,\n",
    "            \"min\": salaire_min,\n",
    "            \"max\": salaire_max,\n",
    "            \"period\": period,\n",
    "        },\n",
    "    ]],\n",
    "}"
   ]
  },
  {
   "cell_type": "code",
   "execution_count": 11,
   "metadata": {},
   "outputs": [],
   "source": [
    "period = 2019\n",
    "salaire_min = value=0\n",
    "salaire_max = 100_000\n",
    "salaire_count = 101\n",
    "salaire_index = 20\n",
    "\n",
    "test_case = build_test_case(salaire_min=salaire_min, salaire_max=salaire_max, salaire_count=salaire_count, period=period)\n",
    "simulation_builder = SimulationBuilder()\n",
    "simulation = simulation_builder.build_from_entities(tax_benefit_system, test_case)\n",
    "salaire_de_base_arr = simulation.calculate_add(\"salaire_de_base\", period=period)\n",
    "results = openfisca_interactive.calculate_bars(bars, simulation, period=period)"
   ]
  },
  {
   "cell_type": "code",
   "execution_count": 12,
   "metadata": {},
   "outputs": [],
   "source": [
    "displayed_bars = list(openfisca_interactive.iter_displayed_bars(\n",
    "    bars, results, x_variable_arr=salaire_de_base_arr, x_variable=salaire_de_base_arr[salaire_index],\n",
    "    include_subtotals=False, include_zero=False))"
   ]
  },
  {
   "cell_type": "code",
   "execution_count": 13,
   "metadata": {},
   "outputs": [
    {
     "data": {
      "application/vnd.jupyter.widget-view+json": {
       "model_id": "d18d4d34b8e44a5b84fcfbafa1e5606e",
       "version_major": 2,
       "version_minor": 0
      },
      "text/plain": [
       "FigureWidget({\n",
       "    'data': [{'measure': [relative, relative, relative, relative, relative,\n",
       "                   …"
      ]
     },
     "metadata": {},
     "output_type": "display_data"
    }
   ],
   "source": [
    "BarType = openfisca_interactive.BarType\n",
    "\n",
    "waterfall = go.Waterfall()\n",
    "waterfall.x = [bar.short_name or bar.variable_name for bar in displayed_bars]\n",
    "waterfall.y = [\n",
    "    bar.value if bar.type == BarType.VALUE else 0\n",
    "    for bar in displayed_bars\n",
    "]\n",
    "waterfall.measure = [\n",
    "    \"relative\" if bar.type == BarType.VALUE else \"total\"\n",
    "    for bar in displayed_bars\n",
    "]\n",
    "waterfall.text = [\n",
    "    (\"{:+.0f}\" if bar.type == BarType.VALUE else \"{:.0f}\").format(bar.value)\n",
    "    for bar in displayed_bars\n",
    "]\n",
    "\n",
    "layout = go.Layout(title=f\"Décomposition du revenu disponible ({period})\")\n",
    "go.FigureWidget(data=[waterfall], layout=layout)"
   ]
  },
  {
   "cell_type": "code",
   "execution_count": null,
   "metadata": {},
   "outputs": [],
   "source": []
  }
 ],
 "metadata": {
  "kernelspec": {
   "display_name": "Python 3",
   "language": "python",
   "name": "python3"
  },
  "language_info": {
   "codemirror_mode": {
    "name": "ipython",
    "version": 3
   },
   "file_extension": ".py",
   "mimetype": "text/x-python",
   "name": "python",
   "nbconvert_exporter": "python",
   "pygments_lexer": "ipython3",
   "version": "3.7.4"
  }
 },
 "nbformat": 4,
 "nbformat_minor": 2
}
