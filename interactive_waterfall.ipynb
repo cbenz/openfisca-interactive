{
 "cells": [
  {
   "cell_type": "code",
   "execution_count": 1,
   "metadata": {},
   "outputs": [],
   "source": [
    "%load_ext autoreload\n",
    "%autoreload 2"
   ]
  },
  {
   "cell_type": "code",
   "execution_count": 2,
   "metadata": {},
   "outputs": [],
   "source": [
    "from pathlib import Path\n",
    "\n",
    "from IPython.display import display, JSON\n",
    "import ipywidgets as widgets\n",
    "import plotly.graph_objects as go\n",
    "\n",
    "from openfisca_core.simulation_builder import SimulationBuilder\n",
    "from openfisca_france import FranceTaxBenefitSystem\n",
    "import openfisca_interactive"
   ]
  },
  {
   "cell_type": "code",
   "execution_count": 3,
   "metadata": {},
   "outputs": [],
   "source": [
    "tax_benefit_system = FranceTaxBenefitSystem()\n",
    "decomposition = tax_benefit_system.load_decomposition()\n",
    "tax_benefit_system.add_variables_from_decomposition_tree(decomposition, update=True)"
   ]
  },
  {
   "cell_type": "code",
   "execution_count": 4,
   "metadata": {},
   "outputs": [],
   "source": [
    "bars = openfisca_interactive.get_bars(decomposition)"
   ]
  },
  {
   "cell_type": "code",
   "execution_count": 5,
   "metadata": {},
   "outputs": [],
   "source": [
    "BarType = openfisca_interactive.BarType\n",
    "\n",
    "def create_waterfall(bars, results, salaire_de_base_arr, period):\n",
    "    def update_plot(*args):\n",
    "        displayed_bars = list(openfisca_interactive.iter_displayed_bars(\n",
    "            bars, results, x_variable_arr=salaire_de_base_arr, x_variable=slider.value,\n",
    "            include_subtotals=include_subtotals.value, include_zero=include_zero.value))\n",
    "        with fig.batch_update():\n",
    "            waterfall = fig.data[0]\n",
    "            waterfall.x = [bar.short_name or bar.variable_name for bar in displayed_bars]\n",
    "            waterfall.y = [\n",
    "                bar.value if bar.type == BarType.VALUE else 0\n",
    "                for bar in displayed_bars\n",
    "            ]\n",
    "            waterfall.measure = [\n",
    "                \"relative\" if bar.type == BarType.VALUE else \"total\"\n",
    "                for bar in displayed_bars\n",
    "            ]\n",
    "            waterfall.text = [\n",
    "                (\"{:+.0f}\" if bar.type == BarType.VALUE else \"{:.0f}\").format(bar.value)\n",
    "                for bar in displayed_bars\n",
    "            ]\n",
    "\n",
    "    include_subtotals = widgets.Checkbox(description=\"Afficher les sous-totaux\")\n",
    "    include_subtotals.observe(update_plot, 'value')\n",
    "\n",
    "    include_zero = widgets.Checkbox(description=\"Afficher les valeurs 0\")\n",
    "    include_zero.observe(update_plot, 'value')\n",
    "\n",
    "    slider = widgets.SelectionSlider(options=salaire_de_base_arr)\n",
    "    slider.observe(update_plot, 'value')\n",
    "\n",
    "    waterfall = go.Waterfall(textposition=\"inside\")\n",
    "    layout = go.Layout(title=f\"Décomposition du revenu disponible ({period})\")\n",
    "    fig = go.FigureWidget(data=[waterfall], layout=layout)\n",
    "    update_plot()\n",
    "\n",
    "    return widgets.VBox([\n",
    "        widgets.HBox([widgets.Label('Salaire de base'), slider]),\n",
    "        widgets.HBox([include_subtotals, include_zero]),\n",
    "        fig,\n",
    "    ])"
   ]
  },
  {
   "cell_type": "code",
   "execution_count": 6,
   "metadata": {},
   "outputs": [],
   "source": [
    "def build_test_case(salaire_min, salaire_max, salaire_count, period):\n",
    "    return {\n",
    "    \"individus\": {\n",
    "        \"Michel\": {\n",
    "            'date_naissance': {'ETERNITY': '1980-01-01'},\n",
    "        },\n",
    "    },\n",
    "    \"familles\": {\n",
    "        \"famille_1\": {\n",
    "            \"parents\": [\"Michel\"]\n",
    "        }\n",
    "    },\n",
    "    \"foyers_fiscaux\": {\n",
    "        \"foyer_fiscal_1\": {\n",
    "            \"declarants\": [\"Michel\"],\n",
    "        },\n",
    "    },\n",
    "    \"menages\": {\n",
    "        \"menage_1\": {\n",
    "            \"personne_de_reference\": [\"Michel\"],\n",
    "        }},\n",
    "    \"axes\": [[\n",
    "        {\n",
    "            \"name\": 'salaire_de_base',\n",
    "            \"count\": salaire_count,\n",
    "            \"min\": salaire_min,\n",
    "            \"max\": salaire_max,\n",
    "            \"period\": period,\n",
    "        },\n",
    "    ]],\n",
    "}"
   ]
  },
  {
   "cell_type": "markdown",
   "metadata": {},
   "source": [
    "Situation : un célibataire né le 1er janvier 1980 dont le salaire de base varie entre deux bornes.\n",
    "\n",
    "- choisir la période de simulation et les bornes du salaire de base\n",
    "- cliquer sur \"Calculer\" pour générer un [diagramme en cascade](https://fr.wikipedia.org/wiki/Diagramme_en_cascade) de la décomposition du revenu disponible\n",
    "- il est possible de faire varier le salaire de base avec un \"slider\"\n",
    "\n",
    "Il est possible de générer plusieurs diagrammes depuis des paramètres différents."
   ]
  },
  {
   "cell_type": "code",
   "execution_count": 7,
   "metadata": {},
   "outputs": [
    {
     "data": {
      "application/vnd.jupyter.widget-view+json": {
       "model_id": "77886896b78a4fc0a0b5e3668f7cf5e2",
       "version_major": 2,
       "version_minor": 0
      },
      "text/plain": [
       "Output()"
      ]
     },
     "metadata": {},
     "output_type": "display_data"
    }
   ],
   "source": [
    "output = widgets.Output()\n",
    "\n",
    "period = widgets.IntText(description=\"Période\", value=2019)\n",
    "salaire_min = widgets.IntText(description=\"Minimum\", value=0)\n",
    "salaire_max = widgets.IntText(description=\"Maximum\", value=100_000)\n",
    "salaire_count = widgets.IntText(description=\"Nombre d'échantillons\", value=101)\n",
    "\n",
    "button = widgets.Button(description=\"Calculer\")\n",
    "\n",
    "@output.capture()\n",
    "def on_button_clicked(b):\n",
    "    test_case = build_test_case(salaire_min=salaire_min.value, salaire_max=salaire_max.value, salaire_count=salaire_count.value, period=period.value)\n",
    "    simulation_builder = SimulationBuilder()\n",
    "    simulation = simulation_builder.build_from_entities(tax_benefit_system, test_case)\n",
    "    salaire_de_base_arr = simulation.calculate_add(\"salaire_de_base\", period=period.value)\n",
    "    results = openfisca_interactive.calculate_bars(bars, simulation, period=period.value)\n",
    "    display(create_waterfall(bars, results, salaire_de_base_arr, period=period.value))\n",
    "\n",
    "button.on_click(on_button_clicked)\n",
    "\n",
    "with output:\n",
    "    display(widgets.VBox([\n",
    "        period,\n",
    "        widgets.HBox([widgets.Label(\"Salaire\"), salaire_min, salaire_max, salaire_count]),\n",
    "        button,\n",
    "    ]))\n",
    "\n",
    "output"
   ]
  },
  {
   "cell_type": "code",
   "execution_count": null,
   "metadata": {},
   "outputs": [],
   "source": []
  }
 ],
 "metadata": {
  "kernelspec": {
   "display_name": "Python 3",
   "language": "python",
   "name": "python3"
  },
  "language_info": {
   "codemirror_mode": {
    "name": "ipython",
    "version": 3
   },
   "file_extension": ".py",
   "mimetype": "text/x-python",
   "name": "python",
   "nbconvert_exporter": "python",
   "pygments_lexer": "ipython3",
   "version": "3.7.4"
  }
 },
 "nbformat": 4,
 "nbformat_minor": 4
}
