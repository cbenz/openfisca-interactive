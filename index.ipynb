{
 "cells": [
  {
   "cell_type": "code",
   "execution_count": 124,
   "metadata": {},
   "outputs": [],
   "source": [
    "import dataclasses\n",
    "from dataclasses import dataclass\n",
    "from enum import Enum\n",
    "from pathlib import Path\n",
    "from typing import List\n",
    "\n",
    "from IPython.display import display, JSON\n",
    "from ipytree import Tree, Node\n",
    "import ipywidgets as widgets\n",
    "import plotly.graph_objects as go\n",
    "from ruamel.yaml import YAML\n",
    "from traitlets import Unicode\n",
    "\n",
    "from openfisca_core.simulation_builder import SimulationBuilder\n",
    "from openfisca_france import FranceTaxBenefitSystem"
   ]
  },
  {
   "cell_type": "code",
   "execution_count": 39,
   "metadata": {},
   "outputs": [],
   "source": [
    "# Initialize tax and benefit system of France\n",
    "tax_benefit_system = FranceTaxBenefitSystem()"
   ]
  },
  {
   "cell_type": "code",
   "execution_count": 40,
   "metadata": {},
   "outputs": [],
   "source": [
    "PERIOD = \"2019\""
   ]
  },
  {
   "cell_type": "code",
   "execution_count": 41,
   "metadata": {},
   "outputs": [],
   "source": [
    "test_case = {\n",
    "    \"individus\": {\n",
    "        \"Michel\": {\n",
    "            'date_naissance': {'ETERNITY': '1980-01-01'},\n",
    "        },\n",
    "    },\n",
    "    \"familles\": {\n",
    "        \"famille_1\": {\n",
    "            \"parents\": [\"Michel\"]\n",
    "        }\n",
    "    },\n",
    "    \"foyers_fiscaux\": {\n",
    "        \"foyer_fiscal_1\": {\n",
    "            \"declarants\": [\"Michel\"],\n",
    "        },\n",
    "    },\n",
    "    \"menages\": {\n",
    "        \"menage_1\": {\n",
    "            \"personne_de_reference\": [\"Michel\"],\n",
    "        }},\n",
    "    \"axes\": [[\n",
    "        {\n",
    "            \"name\": 'salaire_de_base',\n",
    "            \"count\": 101,\n",
    "            \"min\": 0,\n",
    "            \"max\": 100000,\n",
    "            \"period\": PERIOD,\n",
    "        },\n",
    "    ]],\n",
    "}\n"
   ]
  },
  {
   "cell_type": "code",
   "execution_count": 42,
   "metadata": {},
   "outputs": [],
   "source": [
    "simulation_builder = SimulationBuilder()\n",
    "simulation = simulation_builder.build_from_entities(tax_benefit_system, test_case)"
   ]
  },
  {
   "cell_type": "code",
   "execution_count": 43,
   "metadata": {},
   "outputs": [
    {
     "data": {
      "text/plain": [
       "array([     0.     ,    999.99994,   1999.9999 ,   3000.     ,\n",
       "         3999.9998 ,   5000.     ,   6000.     ,   7000.0005 ,\n",
       "         7999.9995 ,   9000.     ,  10000.     ,  11000.001  ,\n",
       "        12000.     ,  12999.999  ,  14000.001  ,  15000.     ,\n",
       "        15999.999  ,  17000.002  ,  18000.     ,  19000.     ,\n",
       "        20000.     ,  21000.     ,  22000.002  ,  22999.998  ,\n",
       "        24000.     ,  25000.002  ,  25999.998  ,  27000.     ,\n",
       "        28000.002  ,  28999.998  ,  30000.     ,  31000.002  ,\n",
       "        31999.998  ,  33000.     ,  34000.004  ,  34999.996  ,\n",
       "        36000.     ,  37000.     ,  38000.     ,  39000.     ,\n",
       "        40000.     ,  41000.     ,  42000.     ,  43000.     ,\n",
       "        44000.004  ,  45000.     ,  45999.996  ,  47000.004  ,\n",
       "        48000.     ,  48999.996  ,  50000.004  ,  51000.     ,\n",
       "        51999.996  ,  53000.004  ,  54000.     ,  54999.996  ,\n",
       "        56000.004  ,  57000.     ,  57999.996  ,  59000.004  ,\n",
       "        60000.     ,  60999.996  ,  62000.004  ,  63000.     ,\n",
       "        63999.996  ,  65000.004  ,  66000.     ,  66999.99   ,\n",
       "        68000.01   ,  69000.     ,  69999.99   ,  71000.01   ,\n",
       "        72000.     ,  73000.     ,  74000.     ,  75000.     ,\n",
       "        76000.     ,  77000.     ,  78000.     ,  79000.     ,\n",
       "        80000.     ,  81000.     ,  82000.     ,  83000.     ,\n",
       "        84000.     ,  85000.     ,  86000.     ,  87000.     ,\n",
       "        88000.01   ,  88999.99   ,  90000.     ,  91000.01   ,\n",
       "        91999.99   ,  93000.     ,  94000.01   ,  94999.99   ,\n",
       "        96000.     ,  97000.01   ,  97999.99   ,  99000.     ,\n",
       "       100000.01   ], dtype=float32)"
      ]
     },
     "metadata": {},
     "output_type": "display_data"
    }
   ],
   "source": [
    "salaire_de_base_arr = simulation.calculate_add(\"salaire_de_base\", PERIOD)\n",
    "display(salaire_de_base_arr)"
   ]
  },
  {
   "cell_type": "code",
   "execution_count": 44,
   "metadata": {},
   "outputs": [
    {
     "data": {
      "text/plain": [
       "array([ 6842.9014,  7362.618 ,  7908.988 ,  8442.072 ,  8975.147 ,\n",
       "        9508.152 , 10041.235 , 10574.318 , 11107.323 , 11532.662 ,\n",
       "       12175.397 , 12818.047 , 13460.794 , 14125.117 , 14811.8   ,\n",
       "       15498.586 , 16185.369 , 16872.047 , 17558.836 , 18111.191 ,\n",
       "       18625.477 , 19007.844 , 19377.207 , 19746.492 , 20115.86  ,\n",
       "       20484.785 , 20839.098 , 21133.148 , 21513.95  , 22085.568 ,\n",
       "       22775.309 , 23464.043 , 24153.668 , 24842.402 , 25532.129 ,\n",
       "       26220.754 , 26910.488 , 27600.23  , 28199.229 , 28771.46  ,\n",
       "       29347.09  , 29930.705 , 30514.447 , 31099.186 , 31682.81  ,\n",
       "       32267.537 , 32851.266 , 33435.895 , 34019.625 , 34604.367 ,\n",
       "       35187.99  , 35771.727 , 36356.457 , 36940.07  , 37524.816 ,\n",
       "       38108.562 , 38692.176 , 39276.914 , 39860.645 , 40445.254 ,\n",
       "       41028.996 , 41613.742 , 42197.35  , 42781.098 , 43365.816 ,\n",
       "       43949.445 , 44534.176 , 45117.918 , 45701.535 , 46286.273 ,\n",
       "       46870.016 , 47454.63  , 48038.375 , 48623.117 , 49206.734 ,\n",
       "       49790.457 , 50375.19  , 50958.805 , 51543.555 , 52127.297 ,\n",
       "       52710.91  , 53295.656 , 53879.38  , 54463.99  , 55047.73  ,\n",
       "       55632.48  , 56216.098 , 56800.832 , 57384.574 , 57968.184 ,\n",
       "       58552.934 , 59136.66  , 59720.27  , 60305.01  , 60888.754 ,\n",
       "       61473.37  , 62057.105 , 62641.848 , 63225.473 , 63771.215 ,\n",
       "       64271.94  ], dtype=float32)"
      ]
     },
     "metadata": {},
     "output_type": "display_data"
    }
   ],
   "source": [
    "revenu_disponible_arr = simulation.calculate(\"revenu_disponible\", PERIOD)\n",
    "display(revenu_disponible_arr)"
   ]
  },
  {
   "cell_type": "markdown",
   "metadata": {},
   "source": [
    "## Display \"Revenu disponible\" interactively"
   ]
  },
  {
   "cell_type": "code",
   "execution_count": 45,
   "metadata": {},
   "outputs": [
    {
     "data": {
      "application/vnd.jupyter.widget-view+json": {
       "model_id": "32ed959980c240da9b15c0cddf51918c",
       "version_major": 2,
       "version_minor": 0
      },
      "text/plain": [
       "interactive(children=(SelectionSlider(description='salaire_de_base', options=(0.0, 999.99994, 1999.9999, 3000.…"
      ]
     },
     "metadata": {},
     "output_type": "display_data"
    }
   ],
   "source": [
    "@widgets.interact(salaire_de_base=widgets.SelectionSlider(options=salaire_de_base_arr))\n",
    "def render(salaire_de_base):\n",
    "    revenu_disponible = dict(zip(salaire_de_base_arr, revenu_disponible_arr))[salaire_de_base]\n",
    "    return widgets.HBox([widgets.Label(f\"Revenu disponible : {revenu_disponible:.2f}\")])"
   ]
  },
  {
   "cell_type": "markdown",
   "metadata": {},
   "source": [
    "## Plot \"Revenu disponible\""
   ]
  },
  {
   "cell_type": "code",
   "execution_count": 46,
   "metadata": {},
   "outputs": [
    {
     "data": {
      "application/vnd.plotly.v1+json": {
       "config": {
        "plotlyServerURL": "https://plot.ly"
       },
       "data": [
        {
         "type": "scatter",
         "x": [
          0,
          999.9999389648438,
          1999.9998779296875,
          3000,
          3999.999755859375,
          5000,
          6000,
          7000.00048828125,
          7999.99951171875,
          9000,
          10000,
          11000.0009765625,
          12000,
          12999.9990234375,
          14000.0009765625,
          15000,
          15999.9990234375,
          17000.001953125,
          18000,
          19000,
          20000,
          21000,
          22000.001953125,
          22999.998046875,
          24000,
          25000.001953125,
          25999.998046875,
          27000,
          28000.001953125,
          28999.998046875,
          30000,
          31000.001953125,
          31999.998046875,
          33000,
          34000.00390625,
          34999.99609375,
          36000,
          37000,
          38000,
          39000,
          40000,
          41000,
          42000,
          43000,
          44000.00390625,
          45000,
          45999.99609375,
          47000.00390625,
          48000,
          48999.99609375,
          50000.00390625,
          51000,
          51999.99609375,
          53000.00390625,
          54000,
          54999.99609375,
          56000.00390625,
          57000,
          57999.99609375,
          59000.00390625,
          60000,
          60999.99609375,
          62000.00390625,
          63000,
          63999.99609375,
          65000.00390625,
          66000,
          66999.9921875,
          68000.0078125,
          69000,
          69999.9921875,
          71000.0078125,
          72000,
          73000,
          74000,
          75000,
          76000,
          77000,
          78000,
          79000,
          80000,
          81000,
          82000,
          83000,
          84000,
          85000,
          86000,
          87000,
          88000.0078125,
          88999.9921875,
          90000,
          91000.0078125,
          91999.9921875,
          93000,
          94000.0078125,
          94999.9921875,
          96000,
          97000.0078125,
          97999.9921875,
          99000,
          100000.0078125
         ],
         "y": [
          6842.9013671875,
          7362.6181640625,
          7908.98779296875,
          8442.072265625,
          8975.1474609375,
          9508.15234375,
          10041.2353515625,
          10574.318359375,
          11107.3232421875,
          11532.662109375,
          12175.3974609375,
          12818.046875,
          13460.7939453125,
          14125.1171875,
          14811.7998046875,
          15498.5859375,
          16185.369140625,
          16872.046875,
          17558.8359375,
          18111.19140625,
          18625.4765625,
          19007.84375,
          19377.20703125,
          19746.4921875,
          20115.859375,
          20484.78515625,
          20839.09765625,
          21133.1484375,
          21513.94921875,
          22085.568359375,
          22775.30859375,
          23464.04296875,
          24153.66796875,
          24842.40234375,
          25532.12890625,
          26220.75390625,
          26910.48828125,
          27600.23046875,
          28199.228515625,
          28771.4609375,
          29347.08984375,
          29930.705078125,
          30514.447265625,
          31099.185546875,
          31682.810546875,
          32267.537109375,
          32851.265625,
          33435.89453125,
          34019.625,
          34604.3671875,
          35187.98828125,
          35771.7265625,
          36356.45703125,
          36940.0703125,
          37524.81640625,
          38108.5625,
          38692.17578125,
          39276.9140625,
          39860.64453125,
          40445.25390625,
          41028.99609375,
          41613.7421875,
          42197.3515625,
          42781.09765625,
          43365.81640625,
          43949.4453125,
          44534.17578125,
          45117.91796875,
          45701.53515625,
          46286.2734375,
          46870.015625,
          47454.62890625,
          48038.375,
          48623.1171875,
          49206.734375,
          49790.45703125,
          50375.19140625,
          50958.8046875,
          51543.5546875,
          52127.296875,
          52710.91015625,
          53295.65625,
          53879.37890625,
          54463.98828125,
          55047.73046875,
          55632.48046875,
          56216.09765625,
          56800.83203125,
          57384.57421875,
          57968.18359375,
          58552.93359375,
          59136.66015625,
          59720.26953125,
          60305.01171875,
          60888.75390625,
          61473.37109375,
          62057.10546875,
          62641.84765625,
          63225.47265625,
          63771.21484375,
          64271.94140625
         ]
        }
       ],
       "layout": {
        "autosize": true,
        "template": {
         "data": {
          "bar": [
           {
            "error_x": {
             "color": "#2a3f5f"
            },
            "error_y": {
             "color": "#2a3f5f"
            },
            "marker": {
             "line": {
              "color": "#E5ECF6",
              "width": 0.5
             }
            },
            "type": "bar"
           }
          ],
          "barpolar": [
           {
            "marker": {
             "line": {
              "color": "#E5ECF6",
              "width": 0.5
             }
            },
            "type": "barpolar"
           }
          ],
          "carpet": [
           {
            "aaxis": {
             "endlinecolor": "#2a3f5f",
             "gridcolor": "white",
             "linecolor": "white",
             "minorgridcolor": "white",
             "startlinecolor": "#2a3f5f"
            },
            "baxis": {
             "endlinecolor": "#2a3f5f",
             "gridcolor": "white",
             "linecolor": "white",
             "minorgridcolor": "white",
             "startlinecolor": "#2a3f5f"
            },
            "type": "carpet"
           }
          ],
          "choropleth": [
           {
            "colorbar": {
             "outlinewidth": 0,
             "ticks": ""
            },
            "type": "choropleth"
           }
          ],
          "contour": [
           {
            "colorbar": {
             "outlinewidth": 0,
             "ticks": ""
            },
            "colorscale": [
             [
              0,
              "#0d0887"
             ],
             [
              0.1111111111111111,
              "#46039f"
             ],
             [
              0.2222222222222222,
              "#7201a8"
             ],
             [
              0.3333333333333333,
              "#9c179e"
             ],
             [
              0.4444444444444444,
              "#bd3786"
             ],
             [
              0.5555555555555556,
              "#d8576b"
             ],
             [
              0.6666666666666666,
              "#ed7953"
             ],
             [
              0.7777777777777778,
              "#fb9f3a"
             ],
             [
              0.8888888888888888,
              "#fdca26"
             ],
             [
              1,
              "#f0f921"
             ]
            ],
            "type": "contour"
           }
          ],
          "contourcarpet": [
           {
            "colorbar": {
             "outlinewidth": 0,
             "ticks": ""
            },
            "type": "contourcarpet"
           }
          ],
          "heatmap": [
           {
            "colorbar": {
             "outlinewidth": 0,
             "ticks": ""
            },
            "colorscale": [
             [
              0,
              "#0d0887"
             ],
             [
              0.1111111111111111,
              "#46039f"
             ],
             [
              0.2222222222222222,
              "#7201a8"
             ],
             [
              0.3333333333333333,
              "#9c179e"
             ],
             [
              0.4444444444444444,
              "#bd3786"
             ],
             [
              0.5555555555555556,
              "#d8576b"
             ],
             [
              0.6666666666666666,
              "#ed7953"
             ],
             [
              0.7777777777777778,
              "#fb9f3a"
             ],
             [
              0.8888888888888888,
              "#fdca26"
             ],
             [
              1,
              "#f0f921"
             ]
            ],
            "type": "heatmap"
           }
          ],
          "heatmapgl": [
           {
            "colorbar": {
             "outlinewidth": 0,
             "ticks": ""
            },
            "colorscale": [
             [
              0,
              "#0d0887"
             ],
             [
              0.1111111111111111,
              "#46039f"
             ],
             [
              0.2222222222222222,
              "#7201a8"
             ],
             [
              0.3333333333333333,
              "#9c179e"
             ],
             [
              0.4444444444444444,
              "#bd3786"
             ],
             [
              0.5555555555555556,
              "#d8576b"
             ],
             [
              0.6666666666666666,
              "#ed7953"
             ],
             [
              0.7777777777777778,
              "#fb9f3a"
             ],
             [
              0.8888888888888888,
              "#fdca26"
             ],
             [
              1,
              "#f0f921"
             ]
            ],
            "type": "heatmapgl"
           }
          ],
          "histogram": [
           {
            "marker": {
             "colorbar": {
              "outlinewidth": 0,
              "ticks": ""
             }
            },
            "type": "histogram"
           }
          ],
          "histogram2d": [
           {
            "colorbar": {
             "outlinewidth": 0,
             "ticks": ""
            },
            "colorscale": [
             [
              0,
              "#0d0887"
             ],
             [
              0.1111111111111111,
              "#46039f"
             ],
             [
              0.2222222222222222,
              "#7201a8"
             ],
             [
              0.3333333333333333,
              "#9c179e"
             ],
             [
              0.4444444444444444,
              "#bd3786"
             ],
             [
              0.5555555555555556,
              "#d8576b"
             ],
             [
              0.6666666666666666,
              "#ed7953"
             ],
             [
              0.7777777777777778,
              "#fb9f3a"
             ],
             [
              0.8888888888888888,
              "#fdca26"
             ],
             [
              1,
              "#f0f921"
             ]
            ],
            "type": "histogram2d"
           }
          ],
          "histogram2dcontour": [
           {
            "colorbar": {
             "outlinewidth": 0,
             "ticks": ""
            },
            "colorscale": [
             [
              0,
              "#0d0887"
             ],
             [
              0.1111111111111111,
              "#46039f"
             ],
             [
              0.2222222222222222,
              "#7201a8"
             ],
             [
              0.3333333333333333,
              "#9c179e"
             ],
             [
              0.4444444444444444,
              "#bd3786"
             ],
             [
              0.5555555555555556,
              "#d8576b"
             ],
             [
              0.6666666666666666,
              "#ed7953"
             ],
             [
              0.7777777777777778,
              "#fb9f3a"
             ],
             [
              0.8888888888888888,
              "#fdca26"
             ],
             [
              1,
              "#f0f921"
             ]
            ],
            "type": "histogram2dcontour"
           }
          ],
          "mesh3d": [
           {
            "colorbar": {
             "outlinewidth": 0,
             "ticks": ""
            },
            "type": "mesh3d"
           }
          ],
          "parcoords": [
           {
            "line": {
             "colorbar": {
              "outlinewidth": 0,
              "ticks": ""
             }
            },
            "type": "parcoords"
           }
          ],
          "scatter": [
           {
            "marker": {
             "colorbar": {
              "outlinewidth": 0,
              "ticks": ""
             }
            },
            "type": "scatter"
           }
          ],
          "scatter3d": [
           {
            "line": {
             "colorbar": {
              "outlinewidth": 0,
              "ticks": ""
             }
            },
            "marker": {
             "colorbar": {
              "outlinewidth": 0,
              "ticks": ""
             }
            },
            "type": "scatter3d"
           }
          ],
          "scattercarpet": [
           {
            "marker": {
             "colorbar": {
              "outlinewidth": 0,
              "ticks": ""
             }
            },
            "type": "scattercarpet"
           }
          ],
          "scattergeo": [
           {
            "marker": {
             "colorbar": {
              "outlinewidth": 0,
              "ticks": ""
             }
            },
            "type": "scattergeo"
           }
          ],
          "scattergl": [
           {
            "marker": {
             "colorbar": {
              "outlinewidth": 0,
              "ticks": ""
             }
            },
            "type": "scattergl"
           }
          ],
          "scattermapbox": [
           {
            "marker": {
             "colorbar": {
              "outlinewidth": 0,
              "ticks": ""
             }
            },
            "type": "scattermapbox"
           }
          ],
          "scatterpolar": [
           {
            "marker": {
             "colorbar": {
              "outlinewidth": 0,
              "ticks": ""
             }
            },
            "type": "scatterpolar"
           }
          ],
          "scatterpolargl": [
           {
            "marker": {
             "colorbar": {
              "outlinewidth": 0,
              "ticks": ""
             }
            },
            "type": "scatterpolargl"
           }
          ],
          "scatterternary": [
           {
            "marker": {
             "colorbar": {
              "outlinewidth": 0,
              "ticks": ""
             }
            },
            "type": "scatterternary"
           }
          ],
          "surface": [
           {
            "colorbar": {
             "outlinewidth": 0,
             "ticks": ""
            },
            "colorscale": [
             [
              0,
              "#0d0887"
             ],
             [
              0.1111111111111111,
              "#46039f"
             ],
             [
              0.2222222222222222,
              "#7201a8"
             ],
             [
              0.3333333333333333,
              "#9c179e"
             ],
             [
              0.4444444444444444,
              "#bd3786"
             ],
             [
              0.5555555555555556,
              "#d8576b"
             ],
             [
              0.6666666666666666,
              "#ed7953"
             ],
             [
              0.7777777777777778,
              "#fb9f3a"
             ],
             [
              0.8888888888888888,
              "#fdca26"
             ],
             [
              1,
              "#f0f921"
             ]
            ],
            "type": "surface"
           }
          ],
          "table": [
           {
            "cells": {
             "fill": {
              "color": "#EBF0F8"
             },
             "line": {
              "color": "white"
             }
            },
            "header": {
             "fill": {
              "color": "#C8D4E3"
             },
             "line": {
              "color": "white"
             }
            },
            "type": "table"
           }
          ]
         },
         "layout": {
          "annotationdefaults": {
           "arrowcolor": "#2a3f5f",
           "arrowhead": 0,
           "arrowwidth": 1
          },
          "colorscale": {
           "diverging": [
            [
             0,
             "#8e0152"
            ],
            [
             0.1,
             "#c51b7d"
            ],
            [
             0.2,
             "#de77ae"
            ],
            [
             0.3,
             "#f1b6da"
            ],
            [
             0.4,
             "#fde0ef"
            ],
            [
             0.5,
             "#f7f7f7"
            ],
            [
             0.6,
             "#e6f5d0"
            ],
            [
             0.7,
             "#b8e186"
            ],
            [
             0.8,
             "#7fbc41"
            ],
            [
             0.9,
             "#4d9221"
            ],
            [
             1,
             "#276419"
            ]
           ],
           "sequential": [
            [
             0,
             "#0d0887"
            ],
            [
             0.1111111111111111,
             "#46039f"
            ],
            [
             0.2222222222222222,
             "#7201a8"
            ],
            [
             0.3333333333333333,
             "#9c179e"
            ],
            [
             0.4444444444444444,
             "#bd3786"
            ],
            [
             0.5555555555555556,
             "#d8576b"
            ],
            [
             0.6666666666666666,
             "#ed7953"
            ],
            [
             0.7777777777777778,
             "#fb9f3a"
            ],
            [
             0.8888888888888888,
             "#fdca26"
            ],
            [
             1,
             "#f0f921"
            ]
           ],
           "sequentialminus": [
            [
             0,
             "#0d0887"
            ],
            [
             0.1111111111111111,
             "#46039f"
            ],
            [
             0.2222222222222222,
             "#7201a8"
            ],
            [
             0.3333333333333333,
             "#9c179e"
            ],
            [
             0.4444444444444444,
             "#bd3786"
            ],
            [
             0.5555555555555556,
             "#d8576b"
            ],
            [
             0.6666666666666666,
             "#ed7953"
            ],
            [
             0.7777777777777778,
             "#fb9f3a"
            ],
            [
             0.8888888888888888,
             "#fdca26"
            ],
            [
             1,
             "#f0f921"
            ]
           ]
          },
          "colorway": [
           "#636efa",
           "#EF553B",
           "#00cc96",
           "#ab63fa",
           "#FFA15A",
           "#19d3f3",
           "#FF6692",
           "#B6E880",
           "#FF97FF",
           "#FECB52"
          ],
          "font": {
           "color": "#2a3f5f"
          },
          "geo": {
           "bgcolor": "white",
           "lakecolor": "white",
           "landcolor": "#E5ECF6",
           "showlakes": true,
           "showland": true,
           "subunitcolor": "white"
          },
          "hoverlabel": {
           "align": "left"
          },
          "hovermode": "closest",
          "mapbox": {
           "style": "light"
          },
          "paper_bgcolor": "white",
          "plot_bgcolor": "#E5ECF6",
          "polar": {
           "angularaxis": {
            "gridcolor": "white",
            "linecolor": "white",
            "ticks": ""
           },
           "bgcolor": "#E5ECF6",
           "radialaxis": {
            "gridcolor": "white",
            "linecolor": "white",
            "ticks": ""
           }
          },
          "scene": {
           "xaxis": {
            "backgroundcolor": "#E5ECF6",
            "gridcolor": "white",
            "gridwidth": 2,
            "linecolor": "white",
            "showbackground": true,
            "ticks": "",
            "zerolinecolor": "white"
           },
           "yaxis": {
            "backgroundcolor": "#E5ECF6",
            "gridcolor": "white",
            "gridwidth": 2,
            "linecolor": "white",
            "showbackground": true,
            "ticks": "",
            "zerolinecolor": "white"
           },
           "zaxis": {
            "backgroundcolor": "#E5ECF6",
            "gridcolor": "white",
            "gridwidth": 2,
            "linecolor": "white",
            "showbackground": true,
            "ticks": "",
            "zerolinecolor": "white"
           }
          },
          "shapedefaults": {
           "line": {
            "color": "#2a3f5f"
           }
          },
          "ternary": {
           "aaxis": {
            "gridcolor": "white",
            "linecolor": "white",
            "ticks": ""
           },
           "baxis": {
            "gridcolor": "white",
            "linecolor": "white",
            "ticks": ""
           },
           "bgcolor": "#E5ECF6",
           "caxis": {
            "gridcolor": "white",
            "linecolor": "white",
            "ticks": ""
           }
          },
          "title": {
           "x": 0.05
          },
          "xaxis": {
           "automargin": true,
           "gridcolor": "white",
           "linecolor": "white",
           "ticks": "",
           "zerolinecolor": "white",
           "zerolinewidth": 2
          },
          "yaxis": {
           "automargin": true,
           "gridcolor": "white",
           "linecolor": "white",
           "ticks": "",
           "zerolinecolor": "white",
           "zerolinewidth": 2
          }
         }
        },
        "xaxis": {
         "autorange": true,
         "range": [
          0,
          100000.0078125
         ],
         "title": {
          "text": "Salaire de Base"
         },
         "type": "linear"
        },
        "yaxis": {
         "autorange": true,
         "range": [
          3652.399142795139,
          67462.44363064236
         ],
         "title": {
          "text": "Revenu disponible"
         },
         "type": "linear"
        }
       }
      },
      "image/png": "[encoded data removed]",
      "text/html": [
       "<div>\n",
       "        \n",
       "        \n",
       "            <div id=\"95493aa6-b17e-42ca-b184-23f8b357a7c9\" class=\"plotly-graph-div\" style=\"height:525px; width:100%;\"></div>\n",
       "            <script type=\"text/javascript\">\n",
       "                require([\"plotly\"], function(Plotly) {\n",
       "                    window.PLOTLYENV=window.PLOTLYENV || {};\n",
       "                    \n",
       "                if (document.getElementById(\"95493aa6-b17e-42ca-b184-23f8b357a7c9\")) {\n",
       "                    Plotly.newPlot(\n",
       "                        '95493aa6-b17e-42ca-b184-23f8b357a7c9',\n",
       "                        [{\"type\": \"scatter\", \"x\": [0.0, 999.9999389648438, 1999.9998779296875, 3000.0, 3999.999755859375, 5000.0, 6000.0, 7000.00048828125, 7999.99951171875, 9000.0, 10000.0, 11000.0009765625, 12000.0, 12999.9990234375, 14000.0009765625, 15000.0, 15999.9990234375, 17000.001953125, 18000.0, 19000.0, 20000.0, 21000.0, 22000.001953125, 22999.998046875, 24000.0, 25000.001953125, 25999.998046875, 27000.0, 28000.001953125, 28999.998046875, 30000.0, 31000.001953125, 31999.998046875, 33000.0, 34000.00390625, 34999.99609375, 36000.0, 37000.0, 38000.0, 39000.0, 40000.0, 41000.0, 42000.0, 43000.0, 44000.00390625, 45000.0, 45999.99609375, 47000.00390625, 48000.0, 48999.99609375, 50000.00390625, 51000.0, 51999.99609375, 53000.00390625, 54000.0, 54999.99609375, 56000.00390625, 57000.0, 57999.99609375, 59000.00390625, 60000.0, 60999.99609375, 62000.00390625, 63000.0, 63999.99609375, 65000.00390625, 66000.0, 66999.9921875, 68000.0078125, 69000.0, 69999.9921875, 71000.0078125, 72000.0, 73000.0, 74000.0, 75000.0, 76000.0, 77000.0, 78000.0, 79000.0, 80000.0, 81000.0, 82000.0, 83000.0, 84000.0, 85000.0, 86000.0, 87000.0, 88000.0078125, 88999.9921875, 90000.0, 91000.0078125, 91999.9921875, 93000.0, 94000.0078125, 94999.9921875, 96000.0, 97000.0078125, 97999.9921875, 99000.0, 100000.0078125], \"y\": [6842.9013671875, 7362.6181640625, 7908.98779296875, 8442.072265625, 8975.1474609375, 9508.15234375, 10041.2353515625, 10574.318359375, 11107.3232421875, 11532.662109375, 12175.3974609375, 12818.046875, 13460.7939453125, 14125.1171875, 14811.7998046875, 15498.5859375, 16185.369140625, 16872.046875, 17558.8359375, 18111.19140625, 18625.4765625, 19007.84375, 19377.20703125, 19746.4921875, 20115.859375, 20484.78515625, 20839.09765625, 21133.1484375, 21513.94921875, 22085.568359375, 22775.30859375, 23464.04296875, 24153.66796875, 24842.40234375, 25532.12890625, 26220.75390625, 26910.48828125, 27600.23046875, 28199.228515625, 28771.4609375, 29347.08984375, 29930.705078125, 30514.447265625, 31099.185546875, 31682.810546875, 32267.537109375, 32851.265625, 33435.89453125, 34019.625, 34604.3671875, 35187.98828125, 35771.7265625, 36356.45703125, 36940.0703125, 37524.81640625, 38108.5625, 38692.17578125, 39276.9140625, 39860.64453125, 40445.25390625, 41028.99609375, 41613.7421875, 42197.3515625, 42781.09765625, 43365.81640625, 43949.4453125, 44534.17578125, 45117.91796875, 45701.53515625, 46286.2734375, 46870.015625, 47454.62890625, 48038.375, 48623.1171875, 49206.734375, 49790.45703125, 50375.19140625, 50958.8046875, 51543.5546875, 52127.296875, 52710.91015625, 53295.65625, 53879.37890625, 54463.98828125, 55047.73046875, 55632.48046875, 56216.09765625, 56800.83203125, 57384.57421875, 57968.18359375, 58552.93359375, 59136.66015625, 59720.26953125, 60305.01171875, 60888.75390625, 61473.37109375, 62057.10546875, 62641.84765625, 63225.47265625, 63771.21484375, 64271.94140625]}],\n",
       "                        {\"template\": {\"data\": {\"bar\": [{\"error_x\": {\"color\": \"#2a3f5f\"}, \"error_y\": {\"color\": \"#2a3f5f\"}, \"marker\": {\"line\": {\"color\": \"#E5ECF6\", \"width\": 0.5}}, \"type\": \"bar\"}], \"barpolar\": [{\"marker\": {\"line\": {\"color\": \"#E5ECF6\", \"width\": 0.5}}, \"type\": \"barpolar\"}], \"carpet\": [{\"aaxis\": {\"endlinecolor\": \"#2a3f5f\", \"gridcolor\": \"white\", \"linecolor\": \"white\", \"minorgridcolor\": \"white\", \"startlinecolor\": \"#2a3f5f\"}, \"baxis\": {\"endlinecolor\": \"#2a3f5f\", \"gridcolor\": \"white\", \"linecolor\": \"white\", \"minorgridcolor\": \"white\", \"startlinecolor\": \"#2a3f5f\"}, \"type\": \"carpet\"}], \"choropleth\": [{\"colorbar\": {\"outlinewidth\": 0, \"ticks\": \"\"}, \"type\": \"choropleth\"}], \"contour\": [{\"colorbar\": {\"outlinewidth\": 0, \"ticks\": \"\"}, \"colorscale\": [[0.0, \"#0d0887\"], [0.1111111111111111, \"#46039f\"], [0.2222222222222222, \"#7201a8\"], [0.3333333333333333, \"#9c179e\"], [0.4444444444444444, \"#bd3786\"], [0.5555555555555556, \"#d8576b\"], [0.6666666666666666, \"#ed7953\"], [0.7777777777777778, \"#fb9f3a\"], [0.8888888888888888, \"#fdca26\"], [1.0, \"#f0f921\"]], \"type\": \"contour\"}], \"contourcarpet\": [{\"colorbar\": {\"outlinewidth\": 0, \"ticks\": \"\"}, \"type\": \"contourcarpet\"}], \"heatmap\": [{\"colorbar\": {\"outlinewidth\": 0, \"ticks\": \"\"}, \"colorscale\": [[0.0, \"#0d0887\"], [0.1111111111111111, \"#46039f\"], [0.2222222222222222, \"#7201a8\"], [0.3333333333333333, \"#9c179e\"], [0.4444444444444444, \"#bd3786\"], [0.5555555555555556, \"#d8576b\"], [0.6666666666666666, \"#ed7953\"], [0.7777777777777778, \"#fb9f3a\"], [0.8888888888888888, \"#fdca26\"], [1.0, \"#f0f921\"]], \"type\": \"heatmap\"}], \"heatmapgl\": [{\"colorbar\": {\"outlinewidth\": 0, \"ticks\": \"\"}, \"colorscale\": [[0.0, \"#0d0887\"], [0.1111111111111111, \"#46039f\"], [0.2222222222222222, \"#7201a8\"], [0.3333333333333333, \"#9c179e\"], [0.4444444444444444, \"#bd3786\"], [0.5555555555555556, \"#d8576b\"], [0.6666666666666666, \"#ed7953\"], [0.7777777777777778, \"#fb9f3a\"], [0.8888888888888888, \"#fdca26\"], [1.0, \"#f0f921\"]], \"type\": \"heatmapgl\"}], \"histogram\": [{\"marker\": {\"colorbar\": {\"outlinewidth\": 0, \"ticks\": \"\"}}, \"type\": \"histogram\"}], \"histogram2d\": [{\"colorbar\": {\"outlinewidth\": 0, \"ticks\": \"\"}, \"colorscale\": [[0.0, \"#0d0887\"], [0.1111111111111111, \"#46039f\"], [0.2222222222222222, \"#7201a8\"], [0.3333333333333333, \"#9c179e\"], [0.4444444444444444, \"#bd3786\"], [0.5555555555555556, \"#d8576b\"], [0.6666666666666666, \"#ed7953\"], [0.7777777777777778, \"#fb9f3a\"], [0.8888888888888888, \"#fdca26\"], [1.0, \"#f0f921\"]], \"type\": \"histogram2d\"}], \"histogram2dcontour\": [{\"colorbar\": {\"outlinewidth\": 0, \"ticks\": \"\"}, \"colorscale\": [[0.0, \"#0d0887\"], [0.1111111111111111, \"#46039f\"], [0.2222222222222222, \"#7201a8\"], [0.3333333333333333, \"#9c179e\"], [0.4444444444444444, \"#bd3786\"], [0.5555555555555556, \"#d8576b\"], [0.6666666666666666, \"#ed7953\"], [0.7777777777777778, \"#fb9f3a\"], [0.8888888888888888, \"#fdca26\"], [1.0, \"#f0f921\"]], \"type\": \"histogram2dcontour\"}], \"mesh3d\": [{\"colorbar\": {\"outlinewidth\": 0, \"ticks\": \"\"}, \"type\": \"mesh3d\"}], \"parcoords\": [{\"line\": {\"colorbar\": {\"outlinewidth\": 0, \"ticks\": \"\"}}, \"type\": \"parcoords\"}], \"scatter\": [{\"marker\": {\"colorbar\": {\"outlinewidth\": 0, \"ticks\": \"\"}}, \"type\": \"scatter\"}], \"scatter3d\": [{\"line\": {\"colorbar\": {\"outlinewidth\": 0, \"ticks\": \"\"}}, \"marker\": {\"colorbar\": {\"outlinewidth\": 0, \"ticks\": \"\"}}, \"type\": \"scatter3d\"}], \"scattercarpet\": [{\"marker\": {\"colorbar\": {\"outlinewidth\": 0, \"ticks\": \"\"}}, \"type\": \"scattercarpet\"}], \"scattergeo\": [{\"marker\": {\"colorbar\": {\"outlinewidth\": 0, \"ticks\": \"\"}}, \"type\": \"scattergeo\"}], \"scattergl\": [{\"marker\": {\"colorbar\": {\"outlinewidth\": 0, \"ticks\": \"\"}}, \"type\": \"scattergl\"}], \"scattermapbox\": [{\"marker\": {\"colorbar\": {\"outlinewidth\": 0, \"ticks\": \"\"}}, \"type\": \"scattermapbox\"}], \"scatterpolar\": [{\"marker\": {\"colorbar\": {\"outlinewidth\": 0, \"ticks\": \"\"}}, \"type\": \"scatterpolar\"}], \"scatterpolargl\": [{\"marker\": {\"colorbar\": {\"outlinewidth\": 0, \"ticks\": \"\"}}, \"type\": \"scatterpolargl\"}], \"scatterternary\": [{\"marker\": {\"colorbar\": {\"outlinewidth\": 0, \"ticks\": \"\"}}, \"type\": \"scatterternary\"}], \"surface\": [{\"colorbar\": {\"outlinewidth\": 0, \"ticks\": \"\"}, \"colorscale\": [[0.0, \"#0d0887\"], [0.1111111111111111, \"#46039f\"], [0.2222222222222222, \"#7201a8\"], [0.3333333333333333, \"#9c179e\"], [0.4444444444444444, \"#bd3786\"], [0.5555555555555556, \"#d8576b\"], [0.6666666666666666, \"#ed7953\"], [0.7777777777777778, \"#fb9f3a\"], [0.8888888888888888, \"#fdca26\"], [1.0, \"#f0f921\"]], \"type\": \"surface\"}], \"table\": [{\"cells\": {\"fill\": {\"color\": \"#EBF0F8\"}, \"line\": {\"color\": \"white\"}}, \"header\": {\"fill\": {\"color\": \"#C8D4E3\"}, \"line\": {\"color\": \"white\"}}, \"type\": \"table\"}]}, \"layout\": {\"annotationdefaults\": {\"arrowcolor\": \"#2a3f5f\", \"arrowhead\": 0, \"arrowwidth\": 1}, \"colorscale\": {\"diverging\": [[0, \"#8e0152\"], [0.1, \"#c51b7d\"], [0.2, \"#de77ae\"], [0.3, \"#f1b6da\"], [0.4, \"#fde0ef\"], [0.5, \"#f7f7f7\"], [0.6, \"#e6f5d0\"], [0.7, \"#b8e186\"], [0.8, \"#7fbc41\"], [0.9, \"#4d9221\"], [1, \"#276419\"]], \"sequential\": [[0.0, \"#0d0887\"], [0.1111111111111111, \"#46039f\"], [0.2222222222222222, \"#7201a8\"], [0.3333333333333333, \"#9c179e\"], [0.4444444444444444, \"#bd3786\"], [0.5555555555555556, \"#d8576b\"], [0.6666666666666666, \"#ed7953\"], [0.7777777777777778, \"#fb9f3a\"], [0.8888888888888888, \"#fdca26\"], [1.0, \"#f0f921\"]], \"sequentialminus\": [[0.0, \"#0d0887\"], [0.1111111111111111, \"#46039f\"], [0.2222222222222222, \"#7201a8\"], [0.3333333333333333, \"#9c179e\"], [0.4444444444444444, \"#bd3786\"], [0.5555555555555556, \"#d8576b\"], [0.6666666666666666, \"#ed7953\"], [0.7777777777777778, \"#fb9f3a\"], [0.8888888888888888, \"#fdca26\"], [1.0, \"#f0f921\"]]}, \"colorway\": [\"#636efa\", \"#EF553B\", \"#00cc96\", \"#ab63fa\", \"#FFA15A\", \"#19d3f3\", \"#FF6692\", \"#B6E880\", \"#FF97FF\", \"#FECB52\"], \"font\": {\"color\": \"#2a3f5f\"}, \"geo\": {\"bgcolor\": \"white\", \"lakecolor\": \"white\", \"landcolor\": \"#E5ECF6\", \"showlakes\": true, \"showland\": true, \"subunitcolor\": \"white\"}, \"hoverlabel\": {\"align\": \"left\"}, \"hovermode\": \"closest\", \"mapbox\": {\"style\": \"light\"}, \"paper_bgcolor\": \"white\", \"plot_bgcolor\": \"#E5ECF6\", \"polar\": {\"angularaxis\": {\"gridcolor\": \"white\", \"linecolor\": \"white\", \"ticks\": \"\"}, \"bgcolor\": \"#E5ECF6\", \"radialaxis\": {\"gridcolor\": \"white\", \"linecolor\": \"white\", \"ticks\": \"\"}}, \"scene\": {\"xaxis\": {\"backgroundcolor\": \"#E5ECF6\", \"gridcolor\": \"white\", \"gridwidth\": 2, \"linecolor\": \"white\", \"showbackground\": true, \"ticks\": \"\", \"zerolinecolor\": \"white\"}, \"yaxis\": {\"backgroundcolor\": \"#E5ECF6\", \"gridcolor\": \"white\", \"gridwidth\": 2, \"linecolor\": \"white\", \"showbackground\": true, \"ticks\": \"\", \"zerolinecolor\": \"white\"}, \"zaxis\": {\"backgroundcolor\": \"#E5ECF6\", \"gridcolor\": \"white\", \"gridwidth\": 2, \"linecolor\": \"white\", \"showbackground\": true, \"ticks\": \"\", \"zerolinecolor\": \"white\"}}, \"shapedefaults\": {\"line\": {\"color\": \"#2a3f5f\"}}, \"ternary\": {\"aaxis\": {\"gridcolor\": \"white\", \"linecolor\": \"white\", \"ticks\": \"\"}, \"baxis\": {\"gridcolor\": \"white\", \"linecolor\": \"white\", \"ticks\": \"\"}, \"bgcolor\": \"#E5ECF6\", \"caxis\": {\"gridcolor\": \"white\", \"linecolor\": \"white\", \"ticks\": \"\"}}, \"title\": {\"x\": 0.05}, \"xaxis\": {\"automargin\": true, \"gridcolor\": \"white\", \"linecolor\": \"white\", \"ticks\": \"\", \"zerolinecolor\": \"white\", \"zerolinewidth\": 2}, \"yaxis\": {\"automargin\": true, \"gridcolor\": \"white\", \"linecolor\": \"white\", \"ticks\": \"\", \"zerolinecolor\": \"white\", \"zerolinewidth\": 2}}}, \"xaxis\": {\"title\": {\"text\": \"Salaire de Base\"}}, \"yaxis\": {\"title\": {\"text\": \"Revenu disponible\"}}},\n",
       "                        {\"responsive\": true}\n",
       "                    ).then(function(){\n",
       "                            \n",
       "var gd = document.getElementById('95493aa6-b17e-42ca-b184-23f8b357a7c9');\n",
       "var x = new MutationObserver(function (mutations, observer) {{\n",
       "        var display = window.getComputedStyle(gd).display;\n",
       "        if (!display || display === 'none') {{\n",
       "            console.log([gd, 'removed!']);\n",
       "            Plotly.purge(gd);\n",
       "            observer.disconnect();\n",
       "        }}\n",
       "}});\n",
       "\n",
       "// Listen for the removal of the full notebook cells\n",
       "var notebookContainer = gd.closest('#notebook-container');\n",
       "if (notebookContainer) {{\n",
       "    x.observe(notebookContainer, {childList: true});\n",
       "}}\n",
       "\n",
       "// Listen for the clearing of the current output cell\n",
       "var outputEl = gd.closest('.output');\n",
       "if (outputEl) {{\n",
       "    x.observe(outputEl, {childList: true});\n",
       "}}\n",
       "\n",
       "                        })\n",
       "                };\n",
       "                });\n",
       "            </script>\n",
       "        </div>"
      ]
     },
     "metadata": {},
     "output_type": "display_data"
    }
   ],
   "source": [
    "fig = go.Figure(\n",
    "    data=go.Scatter(x=salaire_de_base_arr, y=revenu_disponible_arr),\n",
    "    layout=go.Layout(xaxis_title=\"Salaire de Base\", yaxis_title='Revenu disponible'),\n",
    ")\n",
    "fig.show()"
   ]
  },
  {
   "cell_type": "markdown",
   "metadata": {},
   "source": [
    "## Display interactive waterfall"
   ]
  },
  {
   "cell_type": "code",
   "execution_count": 47,
   "metadata": {},
   "outputs": [
    {
     "data": {
      "application/json": {
       "children": [
        {
         "children": [
          {
           "children": [
            {
             "children": [
              {
               "children": [
                {
                 "children": [
                  {
                   "children": [
                    {
                     "code": "cout_du_travail",
                     "short_name": "Coût du travail"
                    },
                    {
                     "code": "credit_impot_competitivite_emploi",
                     "short_name": "CICE"
                    },
                    {
                     "code": "aide_premier_salarie",
                     "short_name": "Aide premier salarié"
                    },
                    {
                     "code": "aide_embauche_pme",
                     "short_name": "Aide PME"
                    },
                    {
                     "code": "tehr",
                     "short_name": "Taxe exceptionnelle"
                    }
                   ],
                   "code": "salaire_super_brut",
                   "short_name": "Salaire super brut"
                  },
                  {
                   "code": "allegement_fillon",
                   "short_name": "Fillon"
                  }
                 ],
                 "code": "salaire_super_brut_hors_allegements",
                 "short_name": "Salaire super brut HA"
                },
                {
                 "code": "cotisations_employeur",
                 "short_name": "Cotisations employeur"
                }
               ],
               "code": "salaire_de_base",
               "short_name": "Salaire brut"
              },
              {
               "code": "cotisations_salariales",
               "short_name": "Cotisations salariales"
              },
              {
               "code": "csg_deductible_salaire",
               "short_name": "CSG déductible"
              }
             ],
             "code": "salaire_imposable",
             "short_name": "Salaire imposable"
            },
            {
             "code": "csg_imposable_salaire",
             "short_name": "CSG imposable"
            },
            {
             "code": "crds_salaire",
             "short_name": "CRDS"
            }
           ],
           "code": "salaire_net",
           "short_name": "Salaire net"
          }
         ],
         "code": "revenus_nets_du_travail",
         "short_name": "Revenus nets"
        },
        {
         "children": [
          {
           "children": [
            {
             "code": "rsa",
             "short_name": "RSA"
            },
            {
             "code": "ppa",
             "short_name": "PPA"
            }
           ],
           "code": "minima_sociaux",
           "short_name": "Minima sociaux"
          }
         ],
         "code": "prestations_sociales",
         "short_name": "Prestations sociales"
        },
        {
         "code": "ppe",
         "short_name": "PPE"
        },
        {
         "children": [
          {
           "code": "irpp",
           "short_name": "Impôt sur le revenu"
          }
         ],
         "code": "impots_directs",
         "short_name": "Impôts directs"
        }
       ],
       "code": "revenu_disponible",
       "short_name": "Revenu disponible"
      },
      "text/plain": [
       "<IPython.core.display.JSON object>"
      ]
     },
     "execution_count": 47,
     "metadata": {
      "application/json": {
       "expanded": false,
       "root": "root"
      }
     },
     "output_type": "execute_result"
    }
   ],
   "source": [
    "yaml = YAML(typ='safe')\n",
    "decomposition = yaml.load(Path(\"./decomposition.yaml\"))\n",
    "JSON(decomposition)"
   ]
  },
  {
   "cell_type": "code",
   "execution_count": 48,
   "metadata": {},
   "outputs": [],
   "source": [
    "class BarType(Enum):\n",
    "    VALUE = 1\n",
    "    SUB_TOTAL = 2\n",
    "    TOTAL = 3"
   ]
  },
  {
   "cell_type": "code",
   "execution_count": 49,
   "metadata": {},
   "outputs": [],
   "source": [
    "@dataclass\n",
    "class Bar:\n",
    "    code: str\n",
    "    type: BarType\n",
    "    short_name: str = None\n",
    "    value: float = None"
   ]
  },
  {
   "cell_type": "code",
   "execution_count": 50,
   "metadata": {},
   "outputs": [],
   "source": [
    "def get_bars(decomposition: dict) -> List[Bar]:\n",
    "    def visit(node):\n",
    "        children = node.get(\"children\")\n",
    "        if children:\n",
    "            for child in children:\n",
    "                yield from visit(child)\n",
    "            type_ = BarType.TOTAL if node[\"code\"] == decomposition[\"code\"] else BarType.SUB_TOTAL\n",
    "            yield Bar(code=node[\"code\"], short_name=node.get(\"short_name\"), type=type_)\n",
    "        else:\n",
    "            yield Bar(code=node[\"code\"], short_name=node.get(\"short_name\"), type=BarType.VALUE)\n",
    "\n",
    "    return list(visit(decomposition))"
   ]
  },
  {
   "cell_type": "code",
   "execution_count": 51,
   "metadata": {},
   "outputs": [
    {
     "data": {
      "text/plain": [
       "[Bar(code='cout_du_travail', type=<BarType.VALUE: 1>, short_name='Coût du travail', value=None),\n",
       " Bar(code='credit_impot_competitivite_emploi', type=<BarType.VALUE: 1>, short_name='CICE', value=None),\n",
       " Bar(code='aide_premier_salarie', type=<BarType.VALUE: 1>, short_name='Aide premier salarié', value=None),\n",
       " Bar(code='aide_embauche_pme', type=<BarType.VALUE: 1>, short_name='Aide PME', value=None),\n",
       " Bar(code='tehr', type=<BarType.VALUE: 1>, short_name='Taxe exceptionnelle', value=None),\n",
       " Bar(code='salaire_super_brut', type=<BarType.SUB_TOTAL: 2>, short_name='Salaire super brut', value=None),\n",
       " Bar(code='allegement_fillon', type=<BarType.VALUE: 1>, short_name='Fillon', value=None),\n",
       " Bar(code='salaire_super_brut_hors_allegements', type=<BarType.SUB_TOTAL: 2>, short_name='Salaire super brut HA', value=None),\n",
       " Bar(code='cotisations_employeur', type=<BarType.VALUE: 1>, short_name='Cotisations employeur', value=None),\n",
       " Bar(code='salaire_de_base', type=<BarType.SUB_TOTAL: 2>, short_name='Salaire brut', value=None),\n",
       " Bar(code='cotisations_salariales', type=<BarType.VALUE: 1>, short_name='Cotisations salariales', value=None),\n",
       " Bar(code='csg_deductible_salaire', type=<BarType.VALUE: 1>, short_name='CSG déductible', value=None),\n",
       " Bar(code='salaire_imposable', type=<BarType.SUB_TOTAL: 2>, short_name='Salaire imposable', value=None),\n",
       " Bar(code='csg_imposable_salaire', type=<BarType.VALUE: 1>, short_name='CSG imposable', value=None),\n",
       " Bar(code='crds_salaire', type=<BarType.VALUE: 1>, short_name='CRDS', value=None),\n",
       " Bar(code='salaire_net', type=<BarType.SUB_TOTAL: 2>, short_name='Salaire net', value=None),\n",
       " Bar(code='revenus_nets_du_travail', type=<BarType.SUB_TOTAL: 2>, short_name='Revenus nets', value=None),\n",
       " Bar(code='rsa', type=<BarType.VALUE: 1>, short_name='RSA', value=None),\n",
       " Bar(code='ppa', type=<BarType.VALUE: 1>, short_name='PPA', value=None),\n",
       " Bar(code='minima_sociaux', type=<BarType.SUB_TOTAL: 2>, short_name='Minima sociaux', value=None),\n",
       " Bar(code='prestations_sociales', type=<BarType.SUB_TOTAL: 2>, short_name='Prestations sociales', value=None),\n",
       " Bar(code='ppe', type=<BarType.VALUE: 1>, short_name='PPE', value=None),\n",
       " Bar(code='irpp', type=<BarType.VALUE: 1>, short_name='Impôt sur le revenu', value=None),\n",
       " Bar(code='impots_directs', type=<BarType.SUB_TOTAL: 2>, short_name='Impôts directs', value=None),\n",
       " Bar(code='revenu_disponible', type=<BarType.TOTAL: 3>, short_name='Revenu disponible', value=None)]"
      ]
     },
     "metadata": {},
     "output_type": "display_data"
    }
   ],
   "source": [
    "bars = get_bars(decomposition)\n",
    "display(bars)"
   ]
  },
  {
   "cell_type": "code",
   "execution_count": 52,
   "metadata": {},
   "outputs": [],
   "source": [
    "results = {\n",
    "    bar.code: simulation.calculate_add(bar.code, period=PERIOD)\n",
    "    for bar in bars\n",
    "}"
   ]
  },
  {
   "cell_type": "code",
   "execution_count": 53,
   "metadata": {},
   "outputs": [],
   "source": [
    "def iter_displayed_bars(bars: List[Bar], results: dict, salaire_de_base: float, include_subtotals: bool, include_zero: bool):\n",
    "    for bar in bars:\n",
    "        if bar.type == BarType.SUB_TOTAL and not include_subtotals:\n",
    "            continue\n",
    "        value = dict(zip(salaire_de_base_arr, results[bar.code]))[salaire_de_base]\n",
    "        if include_zero or value != 0:\n",
    "            yield dataclasses.replace(bar, value=value)  "
   ]
  },
  {
   "cell_type": "code",
   "execution_count": 125,
   "metadata": {},
   "outputs": [],
   "source": [
    "class BarNode(Node):\n",
    "    code = Unicode()"
   ]
  },
  {
   "cell_type": "code",
   "execution_count": 184,
   "metadata": {},
   "outputs": [],
   "source": [
    "def get_root_node(decomposition: dict, results: dict, salaire_de_base: float, include_subtotals: bool, include_zero: bool) -> Node:\n",
    "    def visit(node):\n",
    "        children = node.get(\"children\")\n",
    "        value = dict(zip(salaire_de_base_arr, results[node[\"code\"]]))[salaire_de_base]\n",
    "        if value == 0 and not include_zero:\n",
    "            return\n",
    "        # Cf https://fontawesome.com/icons?d=gallery&m=free\n",
    "        icon = \"folder\" if children else \"arrow-down\" if value < 0 else \"arrow-up\"\n",
    "        text_value = (\"{:.0f}\" if children else \"{:+.0f}\").format(value)\n",
    "        name = node.get(\"short_name\") or node[\"code\"]\n",
    "        node = BarNode(f\"{name} ({text_value})\", code=node[\"code\"], icon=icon)\n",
    "        if children:\n",
    "            node.nodes = list(filter(None, (visit(child) for child in children)))\n",
    "        return node\n",
    "\n",
    "    return visit(decomposition)"
   ]
  },
  {
   "cell_type": "code",
   "execution_count": 185,
   "metadata": {},
   "outputs": [],
   "source": [
    "def update_plot(*args):\n",
    "    tree.nodes = [get_root_node(decomposition, results, salaire_de_base=slider.value,\n",
    "                                include_subtotals=include_subtotals.value, include_zero=include_zero.value)]\n",
    "    displayed_bars = list(iter_displayed_bars(bars, results, salaire_de_base=slider.value,\n",
    "                                              include_subtotals=include_subtotals.value, include_zero=include_zero.value))\n",
    "    with fig.batch_update():\n",
    "        waterfall = fig.data[0]\n",
    "        waterfall.x = [bar.short_name or bar.code for bar in displayed_bars]\n",
    "        waterfall.y = [\n",
    "            bar.value if bar.type == BarType.VALUE else 0\n",
    "            for bar in displayed_bars\n",
    "        ]\n",
    "        waterfall.measure = [\n",
    "            \"relative\" if bar.type == BarType.VALUE else \"total\"\n",
    "            for bar in displayed_bars\n",
    "        ]\n",
    "#         waterfall.selectedpoints = [1, 3]\n",
    "        waterfall.customdata = [{\"code\": bar.code} for bar in displayed_bars]\n",
    "        waterfall.text = [\n",
    "            (\"{:+.0f}\" if bar.type == BarType.VALUE else \"{:.0f}\").format(bar.value)\n",
    "            for bar in displayed_bars\n",
    "        ]"
   ]
  },
  {
   "cell_type": "code",
   "execution_count": 186,
   "metadata": {},
   "outputs": [
    {
     "data": {
      "application/vnd.jupyter.widget-view+json": {
       "model_id": "cef87965d5244cebabe5262bac81b94b",
       "version_major": 2,
       "version_minor": 0
      },
      "text/plain": [
       "VBox(children=(Output(), HBox(children=(Label(value='Salaire de base'), SelectionSlider(options=(0.0, 999.9999…"
      ]
     },
     "metadata": {},
     "output_type": "display_data"
    }
   ],
   "source": [
    "include_subtotals = widgets.Checkbox(description=\"Afficher les sous-totaux\")\n",
    "include_subtotals.observe(update_plot, 'value')\n",
    "\n",
    "include_zero = widgets.Checkbox(description=\"Afficher les valeurs 0\")\n",
    "include_zero.observe(update_plot, 'value')\n",
    "\n",
    "slider = widgets.SelectionSlider(options=salaire_de_base_arr)\n",
    "slider.observe(update_plot, 'value')\n",
    "\n",
    "waterfall = go.Waterfall(textposition=\"inside\")\n",
    "\n",
    "output = widgets.Output()\n",
    "\n",
    "def select_tree_node(tree, code):\n",
    "    def visit(node):\n",
    "        for child in node.nodes:\n",
    "            child.selected = child.code == code\n",
    "            if child.nodes:\n",
    "                select_tree_node(child, code)\n",
    "\n",
    "    visit(tree)\n",
    "        \n",
    "@output.capture()\n",
    "def on_hover(trace, points, selector):\n",
    "    code = trace.customdata[points.point_inds[0]][\"code\"]\n",
    "    select_tree_node(tree, code)\n",
    "\n",
    "layout = go.Layout()\n",
    "fig = go.FigureWidget(data=[waterfall], layout=layout)\n",
    "fig.data[0].on_hover(on_hover)\n",
    "\n",
    "tree = Tree()\n",
    "\n",
    "update_plot()\n",
    "\n",
    "widgets.VBox([\n",
    "    output,\n",
    "    widgets.HBox([widgets.Label('Salaire de base'), slider]),\n",
    "    widgets.HBox([include_subtotals, include_zero]),\n",
    "    widgets.HBox([tree, fig]),\n",
    "])"
   ]
  },
  {
   "cell_type": "markdown",
   "metadata": {},
   "source": [
    "## Display bareme"
   ]
  },
  {
   "cell_type": "code",
   "execution_count": 20,
   "metadata": {},
   "outputs": [
    {
     "data": {
      "application/vnd.plotly.v1+json": {
       "config": {
        "plotlyServerURL": "https://plot.ly"
       },
       "data": [
        {
         "fill": "tozeroy",
         "hoverinfo": "text+x+y",
         "hoveron": "points+fills",
         "name": "Coût du travail",
         "stackgroup": "one",
         "text": "Coût du travail",
         "type": "scatter",
         "x": [
          0,
          999.9999389648438,
          1999.9998779296875,
          3000,
          3999.999755859375,
          5000,
          6000,
          7000.00048828125,
          7999.99951171875,
          9000,
          10000,
          11000.0009765625,
          12000,
          12999.9990234375,
          14000.0009765625,
          15000,
          15999.9990234375,
          17000.001953125,
          18000,
          19000,
          20000,
          21000,
          22000.001953125,
          22999.998046875,
          24000,
          25000.001953125,
          25999.998046875,
          27000,
          28000.001953125,
          28999.998046875,
          30000,
          31000.001953125,
          31999.998046875,
          33000,
          34000.00390625,
          34999.99609375,
          36000,
          37000,
          38000,
          39000,
          40000,
          41000,
          42000,
          43000,
          44000.00390625,
          45000,
          45999.99609375,
          47000.00390625,
          48000,
          48999.99609375,
          50000.00390625,
          51000,
          51999.99609375,
          53000.00390625,
          54000,
          54999.99609375,
          56000.00390625,
          57000,
          57999.99609375,
          59000.00390625,
          60000,
          60999.99609375,
          62000.00390625,
          63000,
          63999.99609375,
          65000.00390625,
          66000,
          66999.9921875,
          68000.0078125,
          69000,
          69999.9921875,
          71000.0078125,
          72000,
          73000,
          74000,
          75000,
          76000,
          77000,
          78000,
          79000,
          80000,
          81000,
          82000,
          83000,
          84000,
          85000,
          86000,
          87000,
          88000.0078125,
          88999.9921875,
          90000,
          91000.0078125,
          91999.9921875,
          93000,
          94000.0078125,
          94999.9921875,
          96000,
          97000.0078125,
          97999.9921875,
          99000,
          100000.0078125
         ],
         "y": [
          0,
          1049.6400146484375,
          2100.240234375,
          3150.119384765625,
          4200.1201171875,
          5250.72021484375,
          6300.35986328125,
          7349.9990234375,
          8400.6005859375,
          9450.599609375,
          10500.48046875,
          11551.080078125,
          12600.7197265625,
          13650.359375,
          14700.958984375,
          15750.841796875,
          16800.8359375,
          17851.435546875,
          18901.076171875,
          20509.314453125,
          22311.314453125,
          24111.423828125,
          25912.80078125,
          27712.19921875,
          29511.83984375,
          31313.578125,
          33112.6796875,
          34915.2578125,
          36715.16015625,
          38514.16015625,
          39943.796875,
          41274.83984375,
          42606.83984375,
          43938.36328125,
          45269.52734375,
          46601.52734375,
          47932.55078125,
          49263.60546875,
          50594.796875,
          51925.21875,
          53253.0859375,
          54574.40625,
          55895.13671875,
          57215.84765625,
          58537.05859375,
          59858.13671875,
          63938.84765625,
          65320.16015625,
          66700.8984375,
          68081.609375,
          69462.796875,
          70843.765625,
          72224.609375,
          73605.9296875,
          74986.640625,
          76367.375,
          77748.5703125,
          79129.640625,
          80510.375,
          81891.6875,
          83272.4140625,
          84653.1328125,
          86034.3203125,
          87415.28125,
          89948.125,
          91347.4375,
          92746.1640625,
          94144.8984375,
          95544.09375,
          96943.1640625,
          98341.8984375,
          99741.21875,
          101139.90625,
          102538.640625,
          103937.84375,
          105336.796875,
          106735.6328125,
          108134.953125,
          109533.6875,
          110932.4296875,
          112331.59375,
          113730.6875,
          115129.4296875,
          116528.7421875,
          117927.46875,
          119326.1640625,
          120725.375,
          122124.3203125,
          123523.1640625,
          124922.4765625,
          126321.21875,
          127719.9453125,
          129119.109375,
          130518.21875,
          131916.90625,
          133316.265625,
          134714.953125,
          136113.6875,
          137512.90625,
          138911.84375,
          140310.6875
         ]
        },
        {
         "fill": "tozeroy",
         "hoverinfo": "text+x+y",
         "hoveron": "points+fills",
         "name": "CICE",
         "stackgroup": "one",
         "text": "CICE",
         "type": "scatter",
         "x": [
          0,
          999.9999389648438,
          1999.9998779296875,
          3000,
          3999.999755859375,
          5000,
          6000,
          7000.00048828125,
          7999.99951171875,
          9000,
          10000,
          11000.0009765625,
          12000,
          12999.9990234375,
          14000.0009765625,
          15000,
          15999.9990234375,
          17000.001953125,
          18000,
          19000,
          20000,
          21000,
          22000.001953125,
          22999.998046875,
          24000,
          25000.001953125,
          25999.998046875,
          27000,
          28000.001953125,
          28999.998046875,
          30000,
          31000.001953125,
          31999.998046875,
          33000,
          34000.00390625,
          34999.99609375,
          36000,
          37000,
          38000,
          39000,
          40000,
          41000,
          42000,
          43000,
          44000.00390625,
          45000,
          45999.99609375,
          47000.00390625,
          48000,
          48999.99609375,
          50000.00390625,
          51000,
          51999.99609375,
          53000.00390625,
          54000,
          54999.99609375,
          56000.00390625,
          57000,
          57999.99609375,
          59000.00390625,
          60000,
          60999.99609375,
          62000.00390625,
          63000,
          63999.99609375,
          65000.00390625,
          66000,
          66999.9921875,
          68000.0078125,
          69000,
          69999.9921875,
          71000.0078125,
          72000,
          73000,
          74000,
          75000,
          76000,
          77000,
          78000,
          79000,
          80000,
          81000,
          82000,
          83000,
          84000,
          85000,
          86000,
          87000,
          88000.0078125,
          88999.9921875,
          90000,
          91000.0078125,
          91999.9921875,
          93000,
          94000.0078125,
          94999.9921875,
          96000,
          97000.0078125,
          97999.9921875,
          99000,
          100000.0078125
         ],
         "y": [
          0,
          60,
          120,
          180,
          240,
          300,
          360,
          420,
          480,
          540,
          600,
          660,
          720,
          780,
          840,
          900,
          960,
          1020,
          1080,
          1140,
          1200,
          1260,
          1320,
          1380,
          1440,
          1499.9998779296875,
          1560,
          1620,
          1680,
          1740,
          1800,
          1860,
          1920,
          1980,
          2040,
          2100,
          2160,
          2220,
          2280,
          2340,
          2400,
          2460,
          2520,
          2580,
          2640,
          2700,
          0,
          0,
          0,
          0,
          0,
          0,
          0,
          0,
          0,
          0,
          0,
          0,
          0,
          0,
          0,
          0,
          0,
          0,
          0,
          0,
          0,
          0,
          0,
          0,
          0,
          0,
          0,
          0,
          0,
          0,
          0,
          0,
          0,
          0,
          0,
          0,
          0,
          0,
          0,
          0,
          0,
          0,
          0,
          0,
          0,
          0,
          0,
          0,
          0,
          0,
          0,
          0,
          0,
          0,
          0
         ]
        },
        {
         "fill": "tozeroy",
         "hoverinfo": "text+x+y",
         "hoveron": "points+fills",
         "name": "Fillon",
         "stackgroup": "one",
         "text": "Fillon",
         "type": "scatter",
         "x": [
          0,
          999.9999389648438,
          1999.9998779296875,
          3000,
          3999.999755859375,
          5000,
          6000,
          7000.00048828125,
          7999.99951171875,
          9000,
          10000,
          11000.0009765625,
          12000,
          12999.9990234375,
          14000.0009765625,
          15000,
          15999.9990234375,
          17000.001953125,
          18000,
          19000,
          20000,
          21000,
          22000.001953125,
          22999.998046875,
          24000,
          25000.001953125,
          25999.998046875,
          27000,
          28000.001953125,
          28999.998046875,
          30000,
          31000.001953125,
          31999.998046875,
          33000,
          34000.00390625,
          34999.99609375,
          36000,
          37000,
          38000,
          39000,
          40000,
          41000,
          42000,
          43000,
          44000.00390625,
          45000,
          45999.99609375,
          47000.00390625,
          48000,
          48999.99609375,
          50000.00390625,
          51000,
          51999.99609375,
          53000.00390625,
          54000,
          54999.99609375,
          56000.00390625,
          57000,
          57999.99609375,
          59000.00390625,
          60000,
          60999.99609375,
          62000.00390625,
          63000,
          63999.99609375,
          65000.00390625,
          66000,
          66999.9921875,
          68000.0078125,
          69000,
          69999.9921875,
          71000.0078125,
          72000,
          73000,
          74000,
          75000,
          76000,
          77000,
          78000,
          79000,
          80000,
          81000,
          82000,
          83000,
          84000,
          85000,
          86000,
          87000,
          88000.0078125,
          88999.9921875,
          90000,
          91000.0078125,
          91999.9921875,
          93000,
          94000.0078125,
          94999.9921875,
          96000,
          97000.0078125,
          97999.9921875,
          99000,
          100000.0078125
         ],
         "y": [
          0,
          281.3999938964844,
          562.7999877929688,
          844.2000122070312,
          1125.5999755859375,
          1407,
          1688.4000244140625,
          1969.8001708984375,
          2251.199951171875,
          2532.60009765625,
          2814,
          3095.400390625,
          3376.800048828125,
          3658.19970703125,
          3939.600341796875,
          4221,
          4502.39990234375,
          4783.80078125,
          5065.2001953125,
          4788,
          4318,
          3849.300048828125,
          3379.2001953125,
          2911.7998046875,
          2443.199951171875,
          1972.5001220703125,
          1505.39990234375,
          1034.0999755859375,
          565.6000366210938,
          98.59999084472656,
          0,
          0,
          0,
          0,
          0,
          0,
          0,
          0,
          0,
          0,
          0,
          0,
          0,
          0,
          0,
          0,
          0,
          0,
          0,
          0,
          0,
          0,
          0,
          0,
          0,
          0,
          0,
          0,
          0,
          0,
          0,
          0,
          0,
          0,
          0,
          0,
          0,
          0,
          0,
          0,
          0,
          0,
          0,
          0,
          0,
          0,
          0,
          0,
          0,
          0,
          0,
          0,
          0,
          0,
          0,
          0,
          0,
          0,
          0,
          0,
          0,
          0,
          0,
          0,
          0,
          0,
          0,
          0,
          0,
          0,
          0
         ]
        },
        {
         "fill": "tozeroy",
         "hoverinfo": "text+x+y",
         "hoveron": "points+fills",
         "name": "Cotisations employeur",
         "stackgroup": "one",
         "text": "Cotisations employeur",
         "type": "scatter",
         "x": [
          0,
          999.9999389648438,
          1999.9998779296875,
          3000,
          3999.999755859375,
          5000,
          6000,
          7000.00048828125,
          7999.99951171875,
          9000,
          10000,
          11000.0009765625,
          12000,
          12999.9990234375,
          14000.0009765625,
          15000,
          15999.9990234375,
          17000.001953125,
          18000,
          19000,
          20000,
          21000,
          22000.001953125,
          22999.998046875,
          24000,
          25000.001953125,
          25999.998046875,
          27000,
          28000.001953125,
          28999.998046875,
          30000,
          31000.001953125,
          31999.998046875,
          33000,
          34000.00390625,
          34999.99609375,
          36000,
          37000,
          38000,
          39000,
          40000,
          41000,
          42000,
          43000,
          44000.00390625,
          45000,
          45999.99609375,
          47000.00390625,
          48000,
          48999.99609375,
          50000.00390625,
          51000,
          51999.99609375,
          53000.00390625,
          54000,
          54999.99609375,
          56000.00390625,
          57000,
          57999.99609375,
          59000.00390625,
          60000,
          60999.99609375,
          62000.00390625,
          63000,
          63999.99609375,
          65000.00390625,
          66000,
          66999.9921875,
          68000.0078125,
          69000,
          69999.9921875,
          71000.0078125,
          72000,
          73000,
          74000,
          75000,
          76000,
          77000,
          78000,
          79000,
          80000,
          81000,
          82000,
          83000,
          84000,
          85000,
          86000,
          87000,
          88000.0078125,
          88999.9921875,
          90000,
          91000.0078125,
          91999.9921875,
          93000,
          94000.0078125,
          94999.9921875,
          96000,
          97000.0078125,
          97999.9921875,
          99000,
          100000.0078125
         ],
         "y": [
          0,
          -409.0400085449219,
          -819.0401000976562,
          -1228.3199462890625,
          -1637.7200927734375,
          -2047.7198486328125,
          -2456.760009765625,
          -2865.800048828125,
          -3275.800537109375,
          -3685.200439453125,
          -4094.4794921875,
          -4504.47998046875,
          -4913.52001953125,
          -5322.560546875,
          -5732.56005859375,
          -6141.83984375,
          -6551.23876953125,
          -6961.24169921875,
          -7370.27978515625,
          -7779.318359375,
          -8189.3203125,
          -8598.7197265625,
          -9008,
          -9418.0009765625,
          -9827.0400390625,
          -10236.0810546875,
          -10646.080078125,
          -11055.3603515625,
          -11464.7587890625,
          -11874.7607421875,
          -12283.80078125,
          -12692.8388671875,
          -13102.83984375,
          -13512.3623046875,
          -13921.5224609375,
          -14331.5185546875,
          -14740.5595703125,
          -15149.6005859375,
          -15558.787109375,
          -15967.2119140625,
          -16373.091796875,
          -16772.412109375,
          -17171.130859375,
          -17569.849609375,
          -17969.05078125,
          -18368.12890625,
          -18766.8515625,
          -19166.169921875,
          -19564.888671875,
          -19963.607421875,
          -20362.8125,
          -20761.76953125,
          -21160.607421875,
          -21559.931640625,
          -21958.650390625,
          -22357.369140625,
          -22756.572265625,
          -23155.650390625,
          -23554.369140625,
          -23953.689453125,
          -24352.41015625,
          -24751.1328125,
          -25150.326171875,
          -25549.29296875,
          -25948.1328125,
          -26347.447265625,
          -26746.16796875,
          -27144.88671875,
          -27544.08984375,
          -27943.16796875,
          -28341.8828125,
          -28741.20703125,
          -29139.92578125,
          -29538.646484375,
          -29937.8515625,
          -30336.80859375,
          -30735.64453125,
          -31134.970703125,
          -31533.689453125,
          -31932.408203125,
          -32331.60546875,
          -32730.69140625,
          -33129.41015625,
          -33528.73046875,
          -33927.453125,
          -34326.171875,
          -34725.36328125,
          -35124.33203125,
          -35523.171875,
          -35922.48828125,
          -36321.21484375,
          -36719.93359375,
          -37119.12890625,
          -37518.21484375,
          -37916.93359375,
          -38316.25,
          -38714.96875,
          -39113.69140625,
          -39512.890625,
          -39911.84765625,
          -40310.6875
         ]
        },
        {
         "fill": "tozeroy",
         "hoverinfo": "text+x+y",
         "hoveron": "points+fills",
         "name": "Cotisations salariales",
         "stackgroup": "one",
         "text": "Cotisations salariales",
         "type": "scatter",
         "x": [
          0,
          999.9999389648438,
          1999.9998779296875,
          3000,
          3999.999755859375,
          5000,
          6000,
          7000.00048828125,
          7999.99951171875,
          9000,
          10000,
          11000.0009765625,
          12000,
          12999.9990234375,
          14000.0009765625,
          15000,
          15999.9990234375,
          17000.001953125,
          18000,
          19000,
          20000,
          21000,
          22000.001953125,
          22999.998046875,
          24000,
          25000.001953125,
          25999.998046875,
          27000,
          28000.001953125,
          28999.998046875,
          30000,
          31000.001953125,
          31999.998046875,
          33000,
          34000.00390625,
          34999.99609375,
          36000,
          37000,
          38000,
          39000,
          40000,
          41000,
          42000,
          43000,
          44000.00390625,
          45000,
          45999.99609375,
          47000.00390625,
          48000,
          48999.99609375,
          50000.00390625,
          51000,
          51999.99609375,
          53000.00390625,
          54000,
          54999.99609375,
          56000.00390625,
          57000,
          57999.99609375,
          59000.00390625,
          60000,
          60999.99609375,
          62000.00390625,
          63000,
          63999.99609375,
          65000.00390625,
          66000,
          66999.9921875,
          68000.0078125,
          69000,
          69999.9921875,
          71000.0078125,
          72000,
          73000,
          74000,
          75000,
          76000,
          77000,
          78000,
          79000,
          80000,
          81000,
          82000,
          83000,
          84000,
          85000,
          86000,
          87000,
          88000.0078125,
          88999.9921875,
          90000,
          91000.0078125,
          91999.9921875,
          93000,
          94000.0078125,
          94999.9921875,
          96000,
          97000.0078125,
          97999.9921875,
          99000,
          100000.0078125
         ],
         "y": [
          0,
          -111.96001434326172,
          -224.0399932861328,
          -336,
          -447.9600830078125,
          -560.0399169921875,
          -672,
          -783.9601440429688,
          -896.0398559570312,
          -1008,
          -1119.9600830078125,
          -1232.0400390625,
          -1344,
          -1455.9599609375,
          -1568.0401611328125,
          -1680,
          -1791.9598388671875,
          -1904.0401611328125,
          -2016,
          -2127.959716796875,
          -2240.0400390625,
          -2352,
          -2463.9599609375,
          -2576.0400390625,
          -2688,
          -2799.960205078125,
          -2912.039794921875,
          -3024,
          -3135.960693359375,
          -3248.039306640625,
          -3360,
          -3471.960693359375,
          -3584.039306640625,
          -3696,
          -3807.960693359375,
          -3920.039306640625,
          -4032,
          -4143.96044921875,
          -4254.66943359375,
          -4365.1298828125,
          -4471.18994140625,
          -4565.27001953125,
          -4659.23046875,
          -4753.18994140625,
          -4847.27001953125,
          -4941.23046875,
          -5035.18994140625,
          -5129.2705078125,
          -5223.23046875,
          -5317.18994140625,
          -5411.2705078125,
          -5505.23046875,
          -5599.1904296875,
          -5693.27001953125,
          -5787.23046875,
          -5881.1904296875,
          -5975.27001953125,
          -6069.23046875,
          -6163.1904296875,
          -6257.2705078125,
          -6351.23046875,
          -6445.1904296875,
          -6539.2705078125,
          -6633.23095703125,
          -6727.1904296875,
          -6821.2705078125,
          -6915.23095703125,
          -7009.1904296875,
          -7103.27001953125,
          -7197.23095703125,
          -7291.1904296875,
          -7385.27001953125,
          -7479.23095703125,
          -7573.1904296875,
          -7667.27001953125,
          -7761.23095703125,
          -7855.1904296875,
          -7949.27001953125,
          -8043.23095703125,
          -8137.1904296875,
          -8231.2705078125,
          -8325.23046875,
          -8419.1904296875,
          -8513.2705078125,
          -8607.23046875,
          -8701.1904296875,
          -8795.2705078125,
          -8889.23046875,
          -8983.1904296875,
          -9077.26953125,
          -9171.23046875,
          -9265.19140625,
          -9359.26953125,
          -9453.23046875,
          -9547.19140625,
          -9641.26953125,
          -9735.23046875,
          -9829.19140625,
          -9923.26953125,
          -10017.2294921875,
          -10111.1904296875
         ]
        },
        {
         "fill": "tozeroy",
         "hoverinfo": "text+x+y",
         "hoveron": "points+fills",
         "name": "CSG déductible",
         "stackgroup": "one",
         "text": "CSG déductible",
         "type": "scatter",
         "x": [
          0,
          999.9999389648438,
          1999.9998779296875,
          3000,
          3999.999755859375,
          5000,
          6000,
          7000.00048828125,
          7999.99951171875,
          9000,
          10000,
          11000.0009765625,
          12000,
          12999.9990234375,
          14000.0009765625,
          15000,
          15999.9990234375,
          17000.001953125,
          18000,
          19000,
          20000,
          21000,
          22000.001953125,
          22999.998046875,
          24000,
          25000.001953125,
          25999.998046875,
          27000,
          28000.001953125,
          28999.998046875,
          30000,
          31000.001953125,
          31999.998046875,
          33000,
          34000.00390625,
          34999.99609375,
          36000,
          37000,
          38000,
          39000,
          40000,
          41000,
          42000,
          43000,
          44000.00390625,
          45000,
          45999.99609375,
          47000.00390625,
          48000,
          48999.99609375,
          50000.00390625,
          51000,
          51999.99609375,
          53000.00390625,
          54000,
          54999.99609375,
          56000.00390625,
          57000,
          57999.99609375,
          59000.00390625,
          60000,
          60999.99609375,
          62000.00390625,
          63000,
          63999.99609375,
          65000.00390625,
          66000,
          66999.9921875,
          68000.0078125,
          69000,
          69999.9921875,
          71000.0078125,
          72000,
          73000,
          74000,
          75000,
          76000,
          77000,
          78000,
          79000,
          80000,
          81000,
          82000,
          83000,
          84000,
          85000,
          86000,
          87000,
          88000.0078125,
          88999.9921875,
          90000,
          91000.0078125,
          91999.9921875,
          93000,
          94000.0078125,
          94999.9921875,
          96000,
          97000.0078125,
          97999.9921875,
          99000,
          100000.0078125
         ],
         "y": [
          0,
          -66.80863952636719,
          -133.61727905273438,
          -200.4259490966797,
          -267.2427673339844,
          -334.0513610839844,
          -400.8599853515625,
          -467.6686096191406,
          -534.4772338867188,
          -601.285888671875,
          -668.1027221679688,
          -734.911376953125,
          -801.719970703125,
          -868.5286254882812,
          -935.3372192382812,
          -1002.1458129882812,
          -1068.962646484375,
          -1135.771240234375,
          -1202.579833984375,
          -1269.388671875,
          -1336.197265625,
          -1403.005859375,
          -1469.82275390625,
          -1536.63134765625,
          -1603.43994140625,
          -1670.24853515625,
          -1737.0572509765625,
          -1803.8658447265625,
          -1870.6829833984375,
          -1937.4915771484375,
          -2004.3001708984375,
          -2071.108642578125,
          -2137.917236328125,
          -2204.725830078125,
          -2271.54248046875,
          -2338.3515625,
          -2405.15966796875,
          -2471.968017578125,
          -2538.77734375,
          -2605.5859375,
          -2672.402587890625,
          -2739.211181640625,
          -2806.019775390625,
          -2872.828369140625,
          -2939.636962890625,
          -3006.4541015625,
          -3073.2626953125,
          -3140.0712890625,
          -3206.8798828125,
          -3273.6884765625,
          -3340.4970703125,
          -3407.305908203125,
          -3474.122802734375,
          -3540.931396484375,
          -3607.739990234375,
          -3674.548828125,
          -3741.357177734375,
          -3808.166015625,
          -3874.983154296875,
          -3941.791748046875,
          -4008.600341796875,
          -4075.408935546875,
          -4142.21728515625,
          -4209.02587890625,
          -4275.84326171875,
          -4342.65185546875,
          -4409.46044921875,
          -4476.26904296875,
          -4543.07763671875,
          -4609.88623046875,
          -4676.703125,
          -4743.5107421875,
          -4810.3193359375,
          -4877.12890625,
          -4943.93603515625,
          -5010.74609375,
          -5077.56396484375,
          -5144.37109375,
          -5211.18115234375,
          -5277.98974609375,
          -5344.796875,
          -5411.60693359375,
          -5478.42236328125,
          -5545.23095703125,
          -5612.03955078125,
          -5678.84814453125,
          -5745.65673828125,
          -5812.46533203125,
          -5879.283203125,
          -5946.091796875,
          -6012.900390625,
          -6079.708984375,
          -6146.51806640625,
          -6213.333984375,
          -6280.142578125,
          -6346.951171875,
          -6413.759765625,
          -6480.56884765625,
          -6547.376953125,
          -6614.18603515625,
          -6681.00146484375
         ]
        },
        {
         "fill": "tozeroy",
         "hoverinfo": "text+x+y",
         "hoveron": "points+fills",
         "name": "CSG imposable",
         "stackgroup": "one",
         "text": "CSG imposable",
         "type": "scatter",
         "x": [
          0,
          999.9999389648438,
          1999.9998779296875,
          3000,
          3999.999755859375,
          5000,
          6000,
          7000.00048828125,
          7999.99951171875,
          9000,
          10000,
          11000.0009765625,
          12000,
          12999.9990234375,
          14000.0009765625,
          15000,
          15999.9990234375,
          17000.001953125,
          18000,
          19000,
          20000,
          21000,
          22000.001953125,
          22999.998046875,
          24000,
          25000.001953125,
          25999.998046875,
          27000,
          28000.001953125,
          28999.998046875,
          30000,
          31000.001953125,
          31999.998046875,
          33000,
          34000.00390625,
          34999.99609375,
          36000,
          37000,
          38000,
          39000,
          40000,
          41000,
          42000,
          43000,
          44000.00390625,
          45000,
          45999.99609375,
          47000.00390625,
          48000,
          48999.99609375,
          50000.00390625,
          51000,
          51999.99609375,
          53000.00390625,
          54000,
          54999.99609375,
          56000.00390625,
          57000,
          57999.99609375,
          59000.00390625,
          60000,
          60999.99609375,
          62000.00390625,
          63000,
          63999.99609375,
          65000.00390625,
          66000,
          66999.9921875,
          68000.0078125,
          69000,
          69999.9921875,
          71000.0078125,
          72000,
          73000,
          74000,
          75000,
          76000,
          77000,
          78000,
          79000,
          80000,
          81000,
          82000,
          83000,
          84000,
          85000,
          86000,
          87000,
          88000.0078125,
          88999.9921875,
          90000,
          91000.0078125,
          91999.9921875,
          93000,
          94000.0078125,
          94999.9921875,
          96000,
          97000.0078125,
          97999.9921875,
          99000,
          100000.0078125
         ],
         "y": [
          0,
          -23.57952117919922,
          -47.15904235839844,
          -70.73855590820312,
          -94.32095336914062,
          -117.9004898071289,
          -141.47999572753906,
          -165.05950927734375,
          -188.63905334472656,
          -212.21852111816406,
          -235.8009796142578,
          -259.3804626464844,
          -282.9599914550781,
          -306.53955078125,
          -330.1190185546875,
          -353.6985778808594,
          -377.281005859375,
          -400.8604431152344,
          -424.4399719238281,
          -448.01953125,
          -471.5990905761719,
          -495.1786193847656,
          -518.7609252929688,
          -542.3404541015625,
          -565.9199829101562,
          -589.49951171875,
          -613.0791015625,
          -636.6585083007812,
          -660.2409057617188,
          -683.8204956054688,
          -707.4000854492188,
          -730.9795532226562,
          -754.55908203125,
          -778.138427734375,
          -801.7208862304688,
          -825.3003540039062,
          -848.8799438476562,
          -872.45947265625,
          -896.0390625,
          -919.6185913085938,
          -943.2009887695312,
          -966.7805786132812,
          -990.360107421875,
          -1013.9393920898438,
          -1037.5189208984375,
          -1061.1014404296875,
          -1084.680908203125,
          -1108.260498046875,
          -1131.8399658203125,
          -1155.4195556640625,
          -1178.9990234375,
          -1202.57861328125,
          -1226.160888671875,
          -1249.7403564453125,
          -1273.3199462890625,
          -1296.8995361328125,
          -1320.47900390625,
          -1344.05859375,
          -1367.6409912109375,
          -1391.2205810546875,
          -1414.8001708984375,
          -1438.3797607421875,
          -1461.9591064453125,
          -1485.5386962890625,
          -1509.12109375,
          -1532.70068359375,
          -1556.27978515625,
          -1579.85986328125,
          -1603.4388427734375,
          -1627.0184326171875,
          -1650.6007080078125,
          -1674.1802978515625,
          -1697.7598876953125,
          -1721.3394775390625,
          -1744.9189453125,
          -1768.49853515625,
          -1792.0810546875,
          -1815.6605224609375,
          -1839.2401123046875,
          -1862.8197021484375,
          -1886.3992919921875,
          -1909.9788818359375,
          -1933.5611572265625,
          -1957.14013671875,
          -1980.72021484375,
          -2004.29931640625,
          -2027.8787841796875,
          -2051.458251953125,
          -2075.040771484375,
          -2098.620361328125,
          -2122.199951171875,
          -2145.779541015625,
          -2169.359130859375,
          -2192.94140625,
          -2216.52099609375,
          -2240.100341796875,
          -2263.679931640625,
          -2287.259521484375,
          -2310.839111328125,
          -2334.418701171875,
          -2358.0009765625
         ]
        },
        {
         "fill": "tozeroy",
         "hoverinfo": "text+x+y",
         "hoveron": "points+fills",
         "name": "CRDS",
         "stackgroup": "one",
         "text": "CRDS",
         "type": "scatter",
         "x": [
          0,
          999.9999389648438,
          1999.9998779296875,
          3000,
          3999.999755859375,
          5000,
          6000,
          7000.00048828125,
          7999.99951171875,
          9000,
          10000,
          11000.0009765625,
          12000,
          12999.9990234375,
          14000.0009765625,
          15000,
          15999.9990234375,
          17000.001953125,
          18000,
          19000,
          20000,
          21000,
          22000.001953125,
          22999.998046875,
          24000,
          25000.001953125,
          25999.998046875,
          27000,
          28000.001953125,
          28999.998046875,
          30000,
          31000.001953125,
          31999.998046875,
          33000,
          34000.00390625,
          34999.99609375,
          36000,
          37000,
          38000,
          39000,
          40000,
          41000,
          42000,
          43000,
          44000.00390625,
          45000,
          45999.99609375,
          47000.00390625,
          48000,
          48999.99609375,
          50000.00390625,
          51000,
          51999.99609375,
          53000.00390625,
          54000,
          54999.99609375,
          56000.00390625,
          57000,
          57999.99609375,
          59000.00390625,
          60000,
          60999.99609375,
          62000.00390625,
          63000,
          63999.99609375,
          65000.00390625,
          66000,
          66999.9921875,
          68000.0078125,
          69000,
          69999.9921875,
          71000.0078125,
          72000,
          73000,
          74000,
          75000,
          76000,
          77000,
          78000,
          79000,
          80000,
          81000,
          82000,
          83000,
          84000,
          85000,
          86000,
          87000,
          88000.0078125,
          88999.9921875,
          90000,
          91000.0078125,
          91999.9921875,
          93000,
          94000.0078125,
          94999.9921875,
          96000,
          97000.0078125,
          97999.9921875,
          99000,
          100000.0078125
         ],
         "y": [
          0,
          -4.912399768829346,
          -9.824799537658691,
          -14.737198829650879,
          -19.65019989013672,
          -24.562597274780273,
          -29.47499656677246,
          -34.387393951416016,
          -39.2997932434082,
          -44.21219253540039,
          -49.12519454956055,
          -54.037593841552734,
          -58.94999313354492,
          -63.86241149902344,
          -68.77478790283203,
          -73.68721008300781,
          -78.60021209716797,
          -83.51258087158203,
          -88.42501068115234,
          -93.33739471435547,
          -98.24980926513672,
          -103.16219329833984,
          -108.07518768310547,
          -112.98760223388672,
          -117.89998626708984,
          -122.8124008178711,
          -127.72482299804688,
          -132.63719177246094,
          -137.55018615722656,
          -142.46261596679688,
          -147.375,
          -152.28738403320312,
          -157.1998291015625,
          -162.1122283935547,
          -167.02516174316406,
          -171.9376220703125,
          -176.8500213623047,
          -181.76239013671875,
          -186.67478942871094,
          -191.58721923828125,
          -196.5001983642578,
          -201.41258239746094,
          -206.3250274658203,
          -211.23741149902344,
          -216.14979553222656,
          -221.0628204345703,
          -225.97520446777344,
          -230.88758850097656,
          -235.7999725341797,
          -240.71241760253906,
          -245.6248016357422,
          -250.5371856689453,
          -255.4502410888672,
          -260.3625793457031,
          -265.2749938964844,
          -270.18743896484375,
          -275.0998229980469,
          -280.01220703125,
          -284.92523193359375,
          -289.8376159667969,
          -294.75,
          -299.6623840332031,
          -304.57476806640625,
          -309.4871826171875,
          -314.4001770019531,
          -319.3125305175781,
          -324.2249755859375,
          -329.137451171875,
          -334.0498046875,
          -338.9622497558594,
          -343.875244140625,
          -348.78759765625,
          -353.7000427246094,
          -358.6123962402344,
          -363.5247802734375,
          -368.4371643066406,
          -373.3502197265625,
          -378.2626037597656,
          -383.1749572753906,
          -388.0873718261719,
          -392.9997253417969,
          -397.9122619628906,
          -402.8251647949219,
          -407.7376708984375,
          -412.6500549316406,
          -417.5624694824219,
          -422.4748229980469,
          -427.38720703125,
          -432.3002624511719,
          -437.2126159667969,
          -442.125,
          -447.0373840332031,
          -451.9497375488281,
          -456.86279296875,
          -461.7751770019531,
          -466.6875305175781,
          -471.5999450683594,
          -476.5123291015625,
          -481.4248352050781,
          -486.3372497558594,
          -491.2501220703125
         ]
        },
        {
         "fill": "tozeroy",
         "hoverinfo": "text+x+y",
         "hoveron": "points+fills",
         "name": "RSA",
         "stackgroup": "one",
         "text": "RSA",
         "type": "scatter",
         "x": [
          0,
          999.9999389648438,
          1999.9998779296875,
          3000,
          3999.999755859375,
          5000,
          6000,
          7000.00048828125,
          7999.99951171875,
          9000,
          10000,
          11000.0009765625,
          12000,
          12999.9990234375,
          14000.0009765625,
          15000,
          15999.9990234375,
          17000.001953125,
          18000,
          19000,
          20000,
          21000,
          22000.001953125,
          22999.998046875,
          24000,
          25000.001953125,
          25999.998046875,
          27000,
          28000.001953125,
          28999.998046875,
          30000,
          31000.001953125,
          31999.998046875,
          33000,
          34000.00390625,
          34999.99609375,
          36000,
          37000,
          38000,
          39000,
          40000,
          41000,
          42000,
          43000,
          44000.00390625,
          45000,
          45999.99609375,
          47000.00390625,
          48000,
          48999.99609375,
          50000.00390625,
          51000,
          51999.99609375,
          53000.00390625,
          54000,
          54999.99609375,
          56000.00390625,
          57000,
          57999.99609375,
          59000.00390625,
          60000,
          60999.99609375,
          62000.00390625,
          63000,
          63999.99609375,
          65000.00390625,
          66000,
          66999.9921875,
          68000.0078125,
          69000,
          69999.9921875,
          71000.0078125,
          72000,
          73000,
          74000,
          75000,
          76000,
          77000,
          78000,
          79000,
          80000,
          81000,
          82000,
          83000,
          84000,
          85000,
          86000,
          87000,
          88000.0078125,
          88999.9921875,
          90000,
          91000.0078125,
          91999.9921875,
          93000,
          94000.0078125,
          94999.9921875,
          96000,
          97000.0078125,
          97999.9921875,
          99000,
          100000.0078125
         ],
         "y": [
          6690.451171875,
          6029.83349609375,
          5369.31787109375,
          4708.70166015625,
          4048.09423828125,
          3387.578857421875,
          2726.9619140625,
          2066.34716796875,
          1405.82958984375,
          1058.266357421875,
          992.2056884765625,
          926.154052734375,
          860.0924072265625,
          815.60693359375,
          793.5897216796875,
          771.5692138671875,
          749.5489501953125,
          727.53173828125,
          705.51123046875,
          683.4906005859375,
          661.4735107421875,
          639.452880859375,
          617.4327392578125,
          595.41552734375,
          573.3949584960938,
          550.9299926757812,
          550.9299926757812,
          550.9299926757812,
          550.9299926757812,
          550.9299926757812,
          550.9299926757812,
          550.9299926757812,
          550.9299926757812,
          550.9299926757812,
          550.9299926757812,
          550.9299926757812,
          550.9299926757812,
          550.9299926757812,
          550.9299926757812,
          550.9299926757812,
          550.9299926757812,
          550.9299926757812,
          550.9299926757812,
          550.9299926757812,
          550.9299926757812,
          550.9299926757812,
          550.9299926757812,
          550.9299926757812,
          550.9299926757812,
          550.9299926757812,
          550.9299926757812,
          550.9299926757812,
          550.9299926757812,
          550.9299926757812,
          550.9299926757812,
          550.9299926757812,
          550.9299926757812,
          550.9299926757812,
          550.9299926757812,
          550.9299926757812,
          550.9299926757812,
          550.9299926757812,
          550.9299926757812,
          550.9299926757812,
          550.9299926757812,
          550.9299926757812,
          550.9299926757812,
          550.9299926757812,
          550.9299926757812,
          550.9299926757812,
          550.9299926757812,
          550.9299926757812,
          550.9299926757812,
          550.9299926757812,
          550.9299926757812,
          550.9299926757812,
          550.9299926757812,
          550.9299926757812,
          550.9299926757812,
          550.9299926757812,
          550.9299926757812,
          550.9299926757812,
          550.9299926757812,
          550.9299926757812,
          550.9299926757812,
          550.9299926757812,
          550.9299926757812,
          550.9299926757812,
          550.9299926757812,
          550.9299926757812,
          550.9299926757812,
          550.9299926757812,
          550.9299926757812,
          550.9299926757812,
          550.9299926757812,
          550.9299926757812,
          550.9299926757812,
          550.9299926757812,
          550.9299926757812,
          550.9299926757812,
          550.9299926757812
         ]
        },
        {
         "fill": "tozeroy",
         "hoverinfo": "text+x+y",
         "hoveron": "points+fills",
         "name": "PPA",
         "stackgroup": "one",
         "text": "PPA",
         "type": "scatter",
         "x": [
          0,
          999.9999389648438,
          1999.9998779296875,
          3000,
          3999.999755859375,
          5000,
          6000,
          7000.00048828125,
          7999.99951171875,
          9000,
          10000,
          11000.0009765625,
          12000,
          12999.9990234375,
          14000.0009765625,
          15000,
          15999.9990234375,
          17000.001953125,
          18000,
          19000,
          20000,
          21000,
          22000.001953125,
          22999.998046875,
          24000,
          25000.001953125,
          25999.998046875,
          27000,
          28000.001953125,
          28999.998046875,
          30000,
          31000.001953125,
          31999.998046875,
          33000,
          34000.00390625,
          34999.99609375,
          36000,
          37000,
          38000,
          39000,
          40000,
          41000,
          42000,
          43000,
          44000.00390625,
          45000,
          45999.99609375,
          47000.00390625,
          48000,
          48999.99609375,
          50000.00390625,
          51000,
          51999.99609375,
          53000.00390625,
          54000,
          54999.99609375,
          56000.00390625,
          57000,
          57999.99609375,
          59000.00390625,
          60000,
          60999.99609375,
          62000.00390625,
          63000,
          63999.99609375,
          65000.00390625,
          66000,
          66999.9921875,
          68000.0078125,
          69000,
          69999.9921875,
          71000.0078125,
          72000,
          73000,
          74000,
          75000,
          76000,
          77000,
          78000,
          79000,
          80000,
          81000,
          82000,
          83000,
          84000,
          85000,
          86000,
          87000,
          88000.0078125,
          88999.9921875,
          90000,
          91000.0078125,
          91999.9921875,
          93000,
          94000.0078125,
          94999.9921875,
          96000,
          97000.0078125,
          97999.9921875,
          99000,
          100000.0078125
         ],
         "y": [
          0,
          389.54327392578125,
          805.8905639648438,
          1208.8668212890625,
          1611.83642578125,
          2014.75146484375,
          2417.727294921875,
          2820.702880859375,
          3223.618408203125,
          3203.681396484375,
          3119.328857421875,
          3034.988525390625,
          2950.635498046875,
          2866.281982421875,
          2781.9423828125,
          2697.5888671875,
          2613.237060546875,
          2528.896728515625,
          2444.543701171875,
          2225.0791015625,
          1967.47900390625,
          1709.8377685546875,
          1452.2010498046875,
          1194.6009521484375,
          936.9599609375,
          679.3195190429688,
          407.660400390625,
          147.67066955566406,
          0,
          0,
          0,
          0,
          0,
          0,
          0,
          0,
          0,
          0,
          0,
          0,
          0,
          0,
          0,
          0,
          0,
          0,
          0,
          0,
          0,
          0,
          0,
          0,
          0,
          0,
          0,
          0,
          0,
          0,
          0,
          0,
          0,
          0,
          0,
          0,
          0,
          0,
          0,
          0,
          0,
          0,
          0,
          0,
          0,
          0,
          0,
          0,
          0,
          0,
          0,
          0,
          0,
          0,
          0,
          0,
          0,
          0,
          0,
          0,
          0,
          0,
          0,
          0,
          0,
          0,
          0,
          0,
          0,
          0,
          0,
          0,
          0
         ]
        },
        {
         "fill": "tozeroy",
         "hoverinfo": "text+x+y",
         "hoveron": "points+fills",
         "name": "Impôt sur le revenu",
         "stackgroup": "one",
         "text": "Impôt sur le revenu",
         "type": "scatter",
         "x": [
          0,
          999.9999389648438,
          1999.9998779296875,
          3000,
          3999.999755859375,
          5000,
          6000,
          7000.00048828125,
          7999.99951171875,
          9000,
          10000,
          11000.0009765625,
          12000,
          12999.9990234375,
          14000.0009765625,
          15000,
          15999.9990234375,
          17000.001953125,
          18000,
          19000,
          20000,
          21000,
          22000.001953125,
          22999.998046875,
          24000,
          25000.001953125,
          25999.998046875,
          27000,
          28000.001953125,
          28999.998046875,
          30000,
          31000.001953125,
          31999.998046875,
          33000,
          34000.00390625,
          34999.99609375,
          36000,
          37000,
          38000,
          39000,
          40000,
          41000,
          42000,
          43000,
          44000.00390625,
          45000,
          45999.99609375,
          47000.00390625,
          48000,
          48999.99609375,
          50000.00390625,
          51000,
          51999.99609375,
          53000.00390625,
          54000,
          54999.99609375,
          56000.00390625,
          57000,
          57999.99609375,
          59000.00390625,
          60000,
          60999.99609375,
          62000.00390625,
          63000,
          63999.99609375,
          65000.00390625,
          66000,
          66999.9921875,
          68000.0078125,
          69000,
          69999.9921875,
          71000.0078125,
          72000,
          73000,
          74000,
          75000,
          76000,
          77000,
          78000,
          79000,
          80000,
          81000,
          82000,
          83000,
          84000,
          85000,
          86000,
          87000,
          88000.0078125,
          88999.9921875,
          90000,
          91000.0078125,
          91999.9921875,
          93000,
          94000.0078125,
          94999.9921875,
          96000,
          97000.0078125,
          97999.9921875,
          99000,
          100000.0078125
         ],
         "y": [
          0,
          0,
          0,
          0,
          0,
          0,
          0,
          0,
          0,
          0,
          0,
          0,
          0,
          0,
          0,
          0,
          0,
          0,
          0,
          0,
          0,
          -132,
          -277,
          -422,
          -567,
          -712,
          -880,
          -1120,
          -1385,
          -1606,
          -1709,
          -1813,
          -1916,
          -2020,
          -2123,
          -2227,
          -2330,
          -2433,
          -2628,
          -2850,
          -3073,
          -3300,
          -3527,
          -3753,
          -3980,
          -4206,
          -4433,
          -4659,
          -4886,
          -5112,
          -5339,
          -5566,
          -5792,
          -6019,
          -6245,
          -6472,
          -6699,
          -6925,
          -7152,
          -7378,
          -7605,
          -7831,
          -8058,
          -8285,
          -8511,
          -8738,
          -8964,
          -9191,
          -9418,
          -9644,
          -9871,
          -10097,
          -10324,
          -10550,
          -10777,
          -11004,
          -11230,
          -11457,
          -11683,
          -11910,
          -12137,
          -12363,
          -12590,
          -12816,
          -13043,
          -13269,
          -13496,
          -13722,
          -13949,
          -14176,
          -14402,
          -14629,
          -14856,
          -15082,
          -15309,
          -15535,
          -15762,
          -15988,
          -16215,
          -16480,
          -16790
         ]
        },
        {
         "hoverinfo": "text+x+y",
         "name": "Revenu disponible",
         "text": "Revenu disponible",
         "type": "scatter",
         "x": [
          0,
          999.9999389648438,
          1999.9998779296875,
          3000,
          3999.999755859375,
          5000,
          6000,
          7000.00048828125,
          7999.99951171875,
          9000,
          10000,
          11000.0009765625,
          12000,
          12999.9990234375,
          14000.0009765625,
          15000,
          15999.9990234375,
          17000.001953125,
          18000,
          19000,
          20000,
          21000,
          22000.001953125,
          22999.998046875,
          24000,
          25000.001953125,
          25999.998046875,
          27000,
          28000.001953125,
          28999.998046875,
          30000,
          31000.001953125,
          31999.998046875,
          33000,
          34000.00390625,
          34999.99609375,
          36000,
          37000,
          38000,
          39000,
          40000,
          41000,
          42000,
          43000,
          44000.00390625,
          45000,
          45999.99609375,
          47000.00390625,
          48000,
          48999.99609375,
          50000.00390625,
          51000,
          51999.99609375,
          53000.00390625,
          54000,
          54999.99609375,
          56000.00390625,
          57000,
          57999.99609375,
          59000.00390625,
          60000,
          60999.99609375,
          62000.00390625,
          63000,
          63999.99609375,
          65000.00390625,
          66000,
          66999.9921875,
          68000.0078125,
          69000,
          69999.9921875,
          71000.0078125,
          72000,
          73000,
          74000,
          75000,
          76000,
          77000,
          78000,
          79000,
          80000,
          81000,
          82000,
          83000,
          84000,
          85000,
          86000,
          87000,
          88000.0078125,
          88999.9921875,
          90000,
          91000.0078125,
          91999.9921875,
          93000,
          94000.0078125,
          94999.9921875,
          96000,
          97000.0078125,
          97999.9921875,
          99000,
          100000.0078125
         ],
         "y": [
          6842.9013671875,
          7362.6181640625,
          7908.98779296875,
          8442.072265625,
          8975.1474609375,
          9508.15234375,
          10041.2353515625,
          10574.318359375,
          11107.3232421875,
          11532.662109375,
          12175.3974609375,
          12818.046875,
          13460.7939453125,
          14125.1171875,
          14811.7998046875,
          15498.5859375,
          16185.369140625,
          16872.046875,
          17558.8359375,
          18111.19140625,
          18625.4765625,
          19007.84375,
          19377.20703125,
          19746.4921875,
          20115.859375,
          20484.78515625,
          20839.09765625,
          21133.1484375,
          21513.94921875,
          22085.568359375,
          22775.30859375,
          23464.04296875,
          24153.66796875,
          24842.40234375,
          25532.12890625,
          26220.75390625,
          26910.48828125,
          27600.23046875,
          28199.228515625,
          28771.4609375,
          29347.08984375,
          29930.705078125,
          30514.447265625,
          31099.185546875,
          31682.810546875,
          32267.537109375,
          32851.265625,
          33435.89453125,
          34019.625,
          34604.3671875,
          35187.98828125,
          35771.7265625,
          36356.45703125,
          36940.0703125,
          37524.81640625,
          38108.5625,
          38692.17578125,
          39276.9140625,
          39860.64453125,
          40445.25390625,
          41028.99609375,
          41613.7421875,
          42197.3515625,
          42781.09765625,
          43365.81640625,
          43949.4453125,
          44534.17578125,
          45117.91796875,
          45701.53515625,
          46286.2734375,
          46870.015625,
          47454.62890625,
          48038.375,
          48623.1171875,
          49206.734375,
          49790.45703125,
          50375.19140625,
          50958.8046875,
          51543.5546875,
          52127.296875,
          52710.91015625,
          53295.65625,
          53879.37890625,
          54463.98828125,
          55047.73046875,
          55632.48046875,
          56216.09765625,
          56800.83203125,
          57384.57421875,
          57968.18359375,
          58552.93359375,
          59136.66015625,
          59720.26953125,
          60305.01171875,
          60888.75390625,
          61473.37109375,
          62057.10546875,
          62641.84765625,
          63225.47265625,
          63771.21484375,
          64271.94140625
         ]
        }
       ],
       "layout": {
        "autosize": true,
        "template": {
         "data": {
          "bar": [
           {
            "error_x": {
             "color": "#2a3f5f"
            },
            "error_y": {
             "color": "#2a3f5f"
            },
            "marker": {
             "line": {
              "color": "#E5ECF6",
              "width": 0.5
             }
            },
            "type": "bar"
           }
          ],
          "barpolar": [
           {
            "marker": {
             "line": {
              "color": "#E5ECF6",
              "width": 0.5
             }
            },
            "type": "barpolar"
           }
          ],
          "carpet": [
           {
            "aaxis": {
             "endlinecolor": "#2a3f5f",
             "gridcolor": "white",
             "linecolor": "white",
             "minorgridcolor": "white",
             "startlinecolor": "#2a3f5f"
            },
            "baxis": {
             "endlinecolor": "#2a3f5f",
             "gridcolor": "white",
             "linecolor": "white",
             "minorgridcolor": "white",
             "startlinecolor": "#2a3f5f"
            },
            "type": "carpet"
           }
          ],
          "choropleth": [
           {
            "colorbar": {
             "outlinewidth": 0,
             "ticks": ""
            },
            "type": "choropleth"
           }
          ],
          "contour": [
           {
            "colorbar": {
             "outlinewidth": 0,
             "ticks": ""
            },
            "colorscale": [
             [
              0,
              "#0d0887"
             ],
             [
              0.1111111111111111,
              "#46039f"
             ],
             [
              0.2222222222222222,
              "#7201a8"
             ],
             [
              0.3333333333333333,
              "#9c179e"
             ],
             [
              0.4444444444444444,
              "#bd3786"
             ],
             [
              0.5555555555555556,
              "#d8576b"
             ],
             [
              0.6666666666666666,
              "#ed7953"
             ],
             [
              0.7777777777777778,
              "#fb9f3a"
             ],
             [
              0.8888888888888888,
              "#fdca26"
             ],
             [
              1,
              "#f0f921"
             ]
            ],
            "type": "contour"
           }
          ],
          "contourcarpet": [
           {
            "colorbar": {
             "outlinewidth": 0,
             "ticks": ""
            },
            "type": "contourcarpet"
           }
          ],
          "heatmap": [
           {
            "colorbar": {
             "outlinewidth": 0,
             "ticks": ""
            },
            "colorscale": [
             [
              0,
              "#0d0887"
             ],
             [
              0.1111111111111111,
              "#46039f"
             ],
             [
              0.2222222222222222,
              "#7201a8"
             ],
             [
              0.3333333333333333,
              "#9c179e"
             ],
             [
              0.4444444444444444,
              "#bd3786"
             ],
             [
              0.5555555555555556,
              "#d8576b"
             ],
             [
              0.6666666666666666,
              "#ed7953"
             ],
             [
              0.7777777777777778,
              "#fb9f3a"
             ],
             [
              0.8888888888888888,
              "#fdca26"
             ],
             [
              1,
              "#f0f921"
             ]
            ],
            "type": "heatmap"
           }
          ],
          "heatmapgl": [
           {
            "colorbar": {
             "outlinewidth": 0,
             "ticks": ""
            },
            "colorscale": [
             [
              0,
              "#0d0887"
             ],
             [
              0.1111111111111111,
              "#46039f"
             ],
             [
              0.2222222222222222,
              "#7201a8"
             ],
             [
              0.3333333333333333,
              "#9c179e"
             ],
             [
              0.4444444444444444,
              "#bd3786"
             ],
             [
              0.5555555555555556,
              "#d8576b"
             ],
             [
              0.6666666666666666,
              "#ed7953"
             ],
             [
              0.7777777777777778,
              "#fb9f3a"
             ],
             [
              0.8888888888888888,
              "#fdca26"
             ],
             [
              1,
              "#f0f921"
             ]
            ],
            "type": "heatmapgl"
           }
          ],
          "histogram": [
           {
            "marker": {
             "colorbar": {
              "outlinewidth": 0,
              "ticks": ""
             }
            },
            "type": "histogram"
           }
          ],
          "histogram2d": [
           {
            "colorbar": {
             "outlinewidth": 0,
             "ticks": ""
            },
            "colorscale": [
             [
              0,
              "#0d0887"
             ],
             [
              0.1111111111111111,
              "#46039f"
             ],
             [
              0.2222222222222222,
              "#7201a8"
             ],
             [
              0.3333333333333333,
              "#9c179e"
             ],
             [
              0.4444444444444444,
              "#bd3786"
             ],
             [
              0.5555555555555556,
              "#d8576b"
             ],
             [
              0.6666666666666666,
              "#ed7953"
             ],
             [
              0.7777777777777778,
              "#fb9f3a"
             ],
             [
              0.8888888888888888,
              "#fdca26"
             ],
             [
              1,
              "#f0f921"
             ]
            ],
            "type": "histogram2d"
           }
          ],
          "histogram2dcontour": [
           {
            "colorbar": {
             "outlinewidth": 0,
             "ticks": ""
            },
            "colorscale": [
             [
              0,
              "#0d0887"
             ],
             [
              0.1111111111111111,
              "#46039f"
             ],
             [
              0.2222222222222222,
              "#7201a8"
             ],
             [
              0.3333333333333333,
              "#9c179e"
             ],
             [
              0.4444444444444444,
              "#bd3786"
             ],
             [
              0.5555555555555556,
              "#d8576b"
             ],
             [
              0.6666666666666666,
              "#ed7953"
             ],
             [
              0.7777777777777778,
              "#fb9f3a"
             ],
             [
              0.8888888888888888,
              "#fdca26"
             ],
             [
              1,
              "#f0f921"
             ]
            ],
            "type": "histogram2dcontour"
           }
          ],
          "mesh3d": [
           {
            "colorbar": {
             "outlinewidth": 0,
             "ticks": ""
            },
            "type": "mesh3d"
           }
          ],
          "parcoords": [
           {
            "line": {
             "colorbar": {
              "outlinewidth": 0,
              "ticks": ""
             }
            },
            "type": "parcoords"
           }
          ],
          "scatter": [
           {
            "marker": {
             "colorbar": {
              "outlinewidth": 0,
              "ticks": ""
             }
            },
            "type": "scatter"
           }
          ],
          "scatter3d": [
           {
            "line": {
             "colorbar": {
              "outlinewidth": 0,
              "ticks": ""
             }
            },
            "marker": {
             "colorbar": {
              "outlinewidth": 0,
              "ticks": ""
             }
            },
            "type": "scatter3d"
           }
          ],
          "scattercarpet": [
           {
            "marker": {
             "colorbar": {
              "outlinewidth": 0,
              "ticks": ""
             }
            },
            "type": "scattercarpet"
           }
          ],
          "scattergeo": [
           {
            "marker": {
             "colorbar": {
              "outlinewidth": 0,
              "ticks": ""
             }
            },
            "type": "scattergeo"
           }
          ],
          "scattergl": [
           {
            "marker": {
             "colorbar": {
              "outlinewidth": 0,
              "ticks": ""
             }
            },
            "type": "scattergl"
           }
          ],
          "scattermapbox": [
           {
            "marker": {
             "colorbar": {
              "outlinewidth": 0,
              "ticks": ""
             }
            },
            "type": "scattermapbox"
           }
          ],
          "scatterpolar": [
           {
            "marker": {
             "colorbar": {
              "outlinewidth": 0,
              "ticks": ""
             }
            },
            "type": "scatterpolar"
           }
          ],
          "scatterpolargl": [
           {
            "marker": {
             "colorbar": {
              "outlinewidth": 0,
              "ticks": ""
             }
            },
            "type": "scatterpolargl"
           }
          ],
          "scatterternary": [
           {
            "marker": {
             "colorbar": {
              "outlinewidth": 0,
              "ticks": ""
             }
            },
            "type": "scatterternary"
           }
          ],
          "surface": [
           {
            "colorbar": {
             "outlinewidth": 0,
             "ticks": ""
            },
            "colorscale": [
             [
              0,
              "#0d0887"
             ],
             [
              0.1111111111111111,
              "#46039f"
             ],
             [
              0.2222222222222222,
              "#7201a8"
             ],
             [
              0.3333333333333333,
              "#9c179e"
             ],
             [
              0.4444444444444444,
              "#bd3786"
             ],
             [
              0.5555555555555556,
              "#d8576b"
             ],
             [
              0.6666666666666666,
              "#ed7953"
             ],
             [
              0.7777777777777778,
              "#fb9f3a"
             ],
             [
              0.8888888888888888,
              "#fdca26"
             ],
             [
              1,
              "#f0f921"
             ]
            ],
            "type": "surface"
           }
          ],
          "table": [
           {
            "cells": {
             "fill": {
              "color": "#EBF0F8"
             },
             "line": {
              "color": "white"
             }
            },
            "header": {
             "fill": {
              "color": "#C8D4E3"
             },
             "line": {
              "color": "white"
             }
            },
            "type": "table"
           }
          ]
         },
         "layout": {
          "annotationdefaults": {
           "arrowcolor": "#2a3f5f",
           "arrowhead": 0,
           "arrowwidth": 1
          },
          "colorscale": {
           "diverging": [
            [
             0,
             "#8e0152"
            ],
            [
             0.1,
             "#c51b7d"
            ],
            [
             0.2,
             "#de77ae"
            ],
            [
             0.3,
             "#f1b6da"
            ],
            [
             0.4,
             "#fde0ef"
            ],
            [
             0.5,
             "#f7f7f7"
            ],
            [
             0.6,
             "#e6f5d0"
            ],
            [
             0.7,
             "#b8e186"
            ],
            [
             0.8,
             "#7fbc41"
            ],
            [
             0.9,
             "#4d9221"
            ],
            [
             1,
             "#276419"
            ]
           ],
           "sequential": [
            [
             0,
             "#0d0887"
            ],
            [
             0.1111111111111111,
             "#46039f"
            ],
            [
             0.2222222222222222,
             "#7201a8"
            ],
            [
             0.3333333333333333,
             "#9c179e"
            ],
            [
             0.4444444444444444,
             "#bd3786"
            ],
            [
             0.5555555555555556,
             "#d8576b"
            ],
            [
             0.6666666666666666,
             "#ed7953"
            ],
            [
             0.7777777777777778,
             "#fb9f3a"
            ],
            [
             0.8888888888888888,
             "#fdca26"
            ],
            [
             1,
             "#f0f921"
            ]
           ],
           "sequentialminus": [
            [
             0,
             "#0d0887"
            ],
            [
             0.1111111111111111,
             "#46039f"
            ],
            [
             0.2222222222222222,
             "#7201a8"
            ],
            [
             0.3333333333333333,
             "#9c179e"
            ],
            [
             0.4444444444444444,
             "#bd3786"
            ],
            [
             0.5555555555555556,
             "#d8576b"
            ],
            [
             0.6666666666666666,
             "#ed7953"
            ],
            [
             0.7777777777777778,
             "#fb9f3a"
            ],
            [
             0.8888888888888888,
             "#fdca26"
            ],
            [
             1,
             "#f0f921"
            ]
           ]
          },
          "colorway": [
           "#636efa",
           "#EF553B",
           "#00cc96",
           "#ab63fa",
           "#FFA15A",
           "#19d3f3",
           "#FF6692",
           "#B6E880",
           "#FF97FF",
           "#FECB52"
          ],
          "font": {
           "color": "#2a3f5f"
          },
          "geo": {
           "bgcolor": "white",
           "lakecolor": "white",
           "landcolor": "#E5ECF6",
           "showlakes": true,
           "showland": true,
           "subunitcolor": "white"
          },
          "hoverlabel": {
           "align": "left"
          },
          "hovermode": "closest",
          "mapbox": {
           "style": "light"
          },
          "paper_bgcolor": "white",
          "plot_bgcolor": "#E5ECF6",
          "polar": {
           "angularaxis": {
            "gridcolor": "white",
            "linecolor": "white",
            "ticks": ""
           },
           "bgcolor": "#E5ECF6",
           "radialaxis": {
            "gridcolor": "white",
            "linecolor": "white",
            "ticks": ""
           }
          },
          "scene": {
           "xaxis": {
            "backgroundcolor": "#E5ECF6",
            "gridcolor": "white",
            "gridwidth": 2,
            "linecolor": "white",
            "showbackground": true,
            "ticks": "",
            "zerolinecolor": "white"
           },
           "yaxis": {
            "backgroundcolor": "#E5ECF6",
            "gridcolor": "white",
            "gridwidth": 2,
            "linecolor": "white",
            "showbackground": true,
            "ticks": "",
            "zerolinecolor": "white"
           },
           "zaxis": {
            "backgroundcolor": "#E5ECF6",
            "gridcolor": "white",
            "gridwidth": 2,
            "linecolor": "white",
            "showbackground": true,
            "ticks": "",
            "zerolinecolor": "white"
           }
          },
          "shapedefaults": {
           "line": {
            "color": "#2a3f5f"
           }
          },
          "ternary": {
           "aaxis": {
            "gridcolor": "white",
            "linecolor": "white",
            "ticks": ""
           },
           "baxis": {
            "gridcolor": "white",
            "linecolor": "white",
            "ticks": ""
           },
           "bgcolor": "#E5ECF6",
           "caxis": {
            "gridcolor": "white",
            "linecolor": "white",
            "ticks": ""
           }
          },
          "title": {
           "x": 0.05
          },
          "xaxis": {
           "automargin": true,
           "gridcolor": "white",
           "linecolor": "white",
           "ticks": "",
           "zerolinecolor": "white",
           "zerolinewidth": 2
          },
          "yaxis": {
           "automargin": true,
           "gridcolor": "white",
           "linecolor": "white",
           "ticks": "",
           "zerolinecolor": "white",
           "zerolinewidth": 2
          }
         }
        },
        "xaxis": {
         "autorange": true,
         "range": [
          0,
          100000.0078125
         ],
         "type": "linear"
        },
        "yaxis": {
         "autorange": true,
         "range": [
          -571.9756401909726,
          147725.56450737847
         ],
         "type": "linear"
        }
       }
      },
      "image/png": "[encoded data removed]",
      "text/html": [
       "<div>\n",
       "        \n",
       "        \n",
       "            <div id=\"e146dfd5-587c-4f7e-9e85-e04aff4c233b\" class=\"plotly-graph-div\" style=\"height:525px; width:100%;\"></div>\n",
       "            <script type=\"text/javascript\">\n",
       "                require([\"plotly\"], function(Plotly) {\n",
       "                    window.PLOTLYENV=window.PLOTLYENV || {};\n",
       "                    \n",
       "                if (document.getElementById(\"e146dfd5-587c-4f7e-9e85-e04aff4c233b\")) {\n",
       "                    Plotly.newPlot(\n",
       "                        'e146dfd5-587c-4f7e-9e85-e04aff4c233b',\n",
       "                        [{\"fill\": \"tozeroy\", \"hoverinfo\": \"text+x+y\", \"hoveron\": \"points+fills\", \"name\": \"Co\\u00fbt du travail\", \"stackgroup\": \"one\", \"text\": \"Co\\u00fbt du travail\", \"type\": \"scatter\", \"x\": [0.0, 999.9999389648438, 1999.9998779296875, 3000.0, 3999.999755859375, 5000.0, 6000.0, 7000.00048828125, 7999.99951171875, 9000.0, 10000.0, 11000.0009765625, 12000.0, 12999.9990234375, 14000.0009765625, 15000.0, 15999.9990234375, 17000.001953125, 18000.0, 19000.0, 20000.0, 21000.0, 22000.001953125, 22999.998046875, 24000.0, 25000.001953125, 25999.998046875, 27000.0, 28000.001953125, 28999.998046875, 30000.0, 31000.001953125, 31999.998046875, 33000.0, 34000.00390625, 34999.99609375, 36000.0, 37000.0, 38000.0, 39000.0, 40000.0, 41000.0, 42000.0, 43000.0, 44000.00390625, 45000.0, 45999.99609375, 47000.00390625, 48000.0, 48999.99609375, 50000.00390625, 51000.0, 51999.99609375, 53000.00390625, 54000.0, 54999.99609375, 56000.00390625, 57000.0, 57999.99609375, 59000.00390625, 60000.0, 60999.99609375, 62000.00390625, 63000.0, 63999.99609375, 65000.00390625, 66000.0, 66999.9921875, 68000.0078125, 69000.0, 69999.9921875, 71000.0078125, 72000.0, 73000.0, 74000.0, 75000.0, 76000.0, 77000.0, 78000.0, 79000.0, 80000.0, 81000.0, 82000.0, 83000.0, 84000.0, 85000.0, 86000.0, 87000.0, 88000.0078125, 88999.9921875, 90000.0, 91000.0078125, 91999.9921875, 93000.0, 94000.0078125, 94999.9921875, 96000.0, 97000.0078125, 97999.9921875, 99000.0, 100000.0078125], \"y\": [0.0, 1049.6400146484375, 2100.240234375, 3150.119384765625, 4200.1201171875, 5250.72021484375, 6300.35986328125, 7349.9990234375, 8400.6005859375, 9450.599609375, 10500.48046875, 11551.080078125, 12600.7197265625, 13650.359375, 14700.958984375, 15750.841796875, 16800.8359375, 17851.435546875, 18901.076171875, 20509.314453125, 22311.314453125, 24111.423828125, 25912.80078125, 27712.19921875, 29511.83984375, 31313.578125, 33112.6796875, 34915.2578125, 36715.16015625, 38514.16015625, 39943.796875, 41274.83984375, 42606.83984375, 43938.36328125, 45269.52734375, 46601.52734375, 47932.55078125, 49263.60546875, 50594.796875, 51925.21875, 53253.0859375, 54574.40625, 55895.13671875, 57215.84765625, 58537.05859375, 59858.13671875, 63938.84765625, 65320.16015625, 66700.8984375, 68081.609375, 69462.796875, 70843.765625, 72224.609375, 73605.9296875, 74986.640625, 76367.375, 77748.5703125, 79129.640625, 80510.375, 81891.6875, 83272.4140625, 84653.1328125, 86034.3203125, 87415.28125, 89948.125, 91347.4375, 92746.1640625, 94144.8984375, 95544.09375, 96943.1640625, 98341.8984375, 99741.21875, 101139.90625, 102538.640625, 103937.84375, 105336.796875, 106735.6328125, 108134.953125, 109533.6875, 110932.4296875, 112331.59375, 113730.6875, 115129.4296875, 116528.7421875, 117927.46875, 119326.1640625, 120725.375, 122124.3203125, 123523.1640625, 124922.4765625, 126321.21875, 127719.9453125, 129119.109375, 130518.21875, 131916.90625, 133316.265625, 134714.953125, 136113.6875, 137512.90625, 138911.84375, 140310.6875]}, {\"fill\": \"tozeroy\", \"hoverinfo\": \"text+x+y\", \"hoveron\": \"points+fills\", \"name\": \"CICE\", \"stackgroup\": \"one\", \"text\": \"CICE\", \"type\": \"scatter\", \"x\": [0.0, 999.9999389648438, 1999.9998779296875, 3000.0, 3999.999755859375, 5000.0, 6000.0, 7000.00048828125, 7999.99951171875, 9000.0, 10000.0, 11000.0009765625, 12000.0, 12999.9990234375, 14000.0009765625, 15000.0, 15999.9990234375, 17000.001953125, 18000.0, 19000.0, 20000.0, 21000.0, 22000.001953125, 22999.998046875, 24000.0, 25000.001953125, 25999.998046875, 27000.0, 28000.001953125, 28999.998046875, 30000.0, 31000.001953125, 31999.998046875, 33000.0, 34000.00390625, 34999.99609375, 36000.0, 37000.0, 38000.0, 39000.0, 40000.0, 41000.0, 42000.0, 43000.0, 44000.00390625, 45000.0, 45999.99609375, 47000.00390625, 48000.0, 48999.99609375, 50000.00390625, 51000.0, 51999.99609375, 53000.00390625, 54000.0, 54999.99609375, 56000.00390625, 57000.0, 57999.99609375, 59000.00390625, 60000.0, 60999.99609375, 62000.00390625, 63000.0, 63999.99609375, 65000.00390625, 66000.0, 66999.9921875, 68000.0078125, 69000.0, 69999.9921875, 71000.0078125, 72000.0, 73000.0, 74000.0, 75000.0, 76000.0, 77000.0, 78000.0, 79000.0, 80000.0, 81000.0, 82000.0, 83000.0, 84000.0, 85000.0, 86000.0, 87000.0, 88000.0078125, 88999.9921875, 90000.0, 91000.0078125, 91999.9921875, 93000.0, 94000.0078125, 94999.9921875, 96000.0, 97000.0078125, 97999.9921875, 99000.0, 100000.0078125], \"y\": [0.0, 60.0, 120.0, 180.0, 240.0, 300.0, 360.0, 420.0, 480.0, 540.0, 600.0, 660.0, 720.0, 780.0, 840.0, 900.0, 960.0, 1020.0, 1080.0, 1140.0, 1200.0, 1260.0, 1320.0, 1380.0, 1440.0, 1499.9998779296875, 1560.0, 1620.0, 1680.0, 1740.0, 1800.0, 1860.0, 1920.0, 1980.0, 2040.0, 2100.0, 2160.0, 2220.0, 2280.0, 2340.0, 2400.0, 2460.0, 2520.0, 2580.0, 2640.0, 2700.0, 0.0, 0.0, 0.0, 0.0, 0.0, 0.0, 0.0, 0.0, 0.0, 0.0, 0.0, 0.0, 0.0, 0.0, 0.0, 0.0, 0.0, 0.0, 0.0, 0.0, 0.0, 0.0, 0.0, 0.0, 0.0, 0.0, 0.0, 0.0, 0.0, 0.0, 0.0, 0.0, 0.0, 0.0, 0.0, 0.0, 0.0, 0.0, 0.0, 0.0, 0.0, 0.0, 0.0, 0.0, 0.0, 0.0, 0.0, 0.0, 0.0, 0.0, 0.0, 0.0, 0.0, 0.0, 0.0]}, {\"fill\": \"tozeroy\", \"hoverinfo\": \"text+x+y\", \"hoveron\": \"points+fills\", \"name\": \"Fillon\", \"stackgroup\": \"one\", \"text\": \"Fillon\", \"type\": \"scatter\", \"x\": [0.0, 999.9999389648438, 1999.9998779296875, 3000.0, 3999.999755859375, 5000.0, 6000.0, 7000.00048828125, 7999.99951171875, 9000.0, 10000.0, 11000.0009765625, 12000.0, 12999.9990234375, 14000.0009765625, 15000.0, 15999.9990234375, 17000.001953125, 18000.0, 19000.0, 20000.0, 21000.0, 22000.001953125, 22999.998046875, 24000.0, 25000.001953125, 25999.998046875, 27000.0, 28000.001953125, 28999.998046875, 30000.0, 31000.001953125, 31999.998046875, 33000.0, 34000.00390625, 34999.99609375, 36000.0, 37000.0, 38000.0, 39000.0, 40000.0, 41000.0, 42000.0, 43000.0, 44000.00390625, 45000.0, 45999.99609375, 47000.00390625, 48000.0, 48999.99609375, 50000.00390625, 51000.0, 51999.99609375, 53000.00390625, 54000.0, 54999.99609375, 56000.00390625, 57000.0, 57999.99609375, 59000.00390625, 60000.0, 60999.99609375, 62000.00390625, 63000.0, 63999.99609375, 65000.00390625, 66000.0, 66999.9921875, 68000.0078125, 69000.0, 69999.9921875, 71000.0078125, 72000.0, 73000.0, 74000.0, 75000.0, 76000.0, 77000.0, 78000.0, 79000.0, 80000.0, 81000.0, 82000.0, 83000.0, 84000.0, 85000.0, 86000.0, 87000.0, 88000.0078125, 88999.9921875, 90000.0, 91000.0078125, 91999.9921875, 93000.0, 94000.0078125, 94999.9921875, 96000.0, 97000.0078125, 97999.9921875, 99000.0, 100000.0078125], \"y\": [0.0, 281.3999938964844, 562.7999877929688, 844.2000122070312, 1125.5999755859375, 1407.0, 1688.4000244140625, 1969.8001708984375, 2251.199951171875, 2532.60009765625, 2814.0, 3095.400390625, 3376.800048828125, 3658.19970703125, 3939.600341796875, 4221.0, 4502.39990234375, 4783.80078125, 5065.2001953125, 4788.0, 4318.0, 3849.300048828125, 3379.2001953125, 2911.7998046875, 2443.199951171875, 1972.5001220703125, 1505.39990234375, 1034.0999755859375, 565.6000366210938, 98.59999084472656, 0.0, 0.0, 0.0, 0.0, 0.0, 0.0, 0.0, 0.0, 0.0, 0.0, 0.0, 0.0, 0.0, 0.0, 0.0, 0.0, 0.0, 0.0, 0.0, 0.0, 0.0, 0.0, 0.0, 0.0, 0.0, 0.0, 0.0, 0.0, 0.0, 0.0, 0.0, 0.0, 0.0, 0.0, 0.0, 0.0, 0.0, 0.0, 0.0, 0.0, 0.0, 0.0, 0.0, 0.0, 0.0, 0.0, 0.0, 0.0, 0.0, 0.0, 0.0, 0.0, 0.0, 0.0, 0.0, 0.0, 0.0, 0.0, 0.0, 0.0, 0.0, 0.0, 0.0, 0.0, 0.0, 0.0, 0.0, 0.0, 0.0, 0.0, 0.0]}, {\"fill\": \"tozeroy\", \"hoverinfo\": \"text+x+y\", \"hoveron\": \"points+fills\", \"name\": \"Cotisations employeur\", \"stackgroup\": \"one\", \"text\": \"Cotisations employeur\", \"type\": \"scatter\", \"x\": [0.0, 999.9999389648438, 1999.9998779296875, 3000.0, 3999.999755859375, 5000.0, 6000.0, 7000.00048828125, 7999.99951171875, 9000.0, 10000.0, 11000.0009765625, 12000.0, 12999.9990234375, 14000.0009765625, 15000.0, 15999.9990234375, 17000.001953125, 18000.0, 19000.0, 20000.0, 21000.0, 22000.001953125, 22999.998046875, 24000.0, 25000.001953125, 25999.998046875, 27000.0, 28000.001953125, 28999.998046875, 30000.0, 31000.001953125, 31999.998046875, 33000.0, 34000.00390625, 34999.99609375, 36000.0, 37000.0, 38000.0, 39000.0, 40000.0, 41000.0, 42000.0, 43000.0, 44000.00390625, 45000.0, 45999.99609375, 47000.00390625, 48000.0, 48999.99609375, 50000.00390625, 51000.0, 51999.99609375, 53000.00390625, 54000.0, 54999.99609375, 56000.00390625, 57000.0, 57999.99609375, 59000.00390625, 60000.0, 60999.99609375, 62000.00390625, 63000.0, 63999.99609375, 65000.00390625, 66000.0, 66999.9921875, 68000.0078125, 69000.0, 69999.9921875, 71000.0078125, 72000.0, 73000.0, 74000.0, 75000.0, 76000.0, 77000.0, 78000.0, 79000.0, 80000.0, 81000.0, 82000.0, 83000.0, 84000.0, 85000.0, 86000.0, 87000.0, 88000.0078125, 88999.9921875, 90000.0, 91000.0078125, 91999.9921875, 93000.0, 94000.0078125, 94999.9921875, 96000.0, 97000.0078125, 97999.9921875, 99000.0, 100000.0078125], \"y\": [0.0, -409.0400085449219, -819.0401000976562, -1228.3199462890625, -1637.7200927734375, -2047.7198486328125, -2456.760009765625, -2865.800048828125, -3275.800537109375, -3685.200439453125, -4094.4794921875, -4504.47998046875, -4913.52001953125, -5322.560546875, -5732.56005859375, -6141.83984375, -6551.23876953125, -6961.24169921875, -7370.27978515625, -7779.318359375, -8189.3203125, -8598.7197265625, -9008.0, -9418.0009765625, -9827.0400390625, -10236.0810546875, -10646.080078125, -11055.3603515625, -11464.7587890625, -11874.7607421875, -12283.80078125, -12692.8388671875, -13102.83984375, -13512.3623046875, -13921.5224609375, -14331.5185546875, -14740.5595703125, -15149.6005859375, -15558.787109375, -15967.2119140625, -16373.091796875, -16772.412109375, -17171.130859375, -17569.849609375, -17969.05078125, -18368.12890625, -18766.8515625, -19166.169921875, -19564.888671875, -19963.607421875, -20362.8125, -20761.76953125, -21160.607421875, -21559.931640625, -21958.650390625, -22357.369140625, -22756.572265625, -23155.650390625, -23554.369140625, -23953.689453125, -24352.41015625, -24751.1328125, -25150.326171875, -25549.29296875, -25948.1328125, -26347.447265625, -26746.16796875, -27144.88671875, -27544.08984375, -27943.16796875, -28341.8828125, -28741.20703125, -29139.92578125, -29538.646484375, -29937.8515625, -30336.80859375, -30735.64453125, -31134.970703125, -31533.689453125, -31932.408203125, -32331.60546875, -32730.69140625, -33129.41015625, -33528.73046875, -33927.453125, -34326.171875, -34725.36328125, -35124.33203125, -35523.171875, -35922.48828125, -36321.21484375, -36719.93359375, -37119.12890625, -37518.21484375, -37916.93359375, -38316.25, -38714.96875, -39113.69140625, -39512.890625, -39911.84765625, -40310.6875]}, {\"fill\": \"tozeroy\", \"hoverinfo\": \"text+x+y\", \"hoveron\": \"points+fills\", \"name\": \"Cotisations salariales\", \"stackgroup\": \"one\", \"text\": \"Cotisations salariales\", \"type\": \"scatter\", \"x\": [0.0, 999.9999389648438, 1999.9998779296875, 3000.0, 3999.999755859375, 5000.0, 6000.0, 7000.00048828125, 7999.99951171875, 9000.0, 10000.0, 11000.0009765625, 12000.0, 12999.9990234375, 14000.0009765625, 15000.0, 15999.9990234375, 17000.001953125, 18000.0, 19000.0, 20000.0, 21000.0, 22000.001953125, 22999.998046875, 24000.0, 25000.001953125, 25999.998046875, 27000.0, 28000.001953125, 28999.998046875, 30000.0, 31000.001953125, 31999.998046875, 33000.0, 34000.00390625, 34999.99609375, 36000.0, 37000.0, 38000.0, 39000.0, 40000.0, 41000.0, 42000.0, 43000.0, 44000.00390625, 45000.0, 45999.99609375, 47000.00390625, 48000.0, 48999.99609375, 50000.00390625, 51000.0, 51999.99609375, 53000.00390625, 54000.0, 54999.99609375, 56000.00390625, 57000.0, 57999.99609375, 59000.00390625, 60000.0, 60999.99609375, 62000.00390625, 63000.0, 63999.99609375, 65000.00390625, 66000.0, 66999.9921875, 68000.0078125, 69000.0, 69999.9921875, 71000.0078125, 72000.0, 73000.0, 74000.0, 75000.0, 76000.0, 77000.0, 78000.0, 79000.0, 80000.0, 81000.0, 82000.0, 83000.0, 84000.0, 85000.0, 86000.0, 87000.0, 88000.0078125, 88999.9921875, 90000.0, 91000.0078125, 91999.9921875, 93000.0, 94000.0078125, 94999.9921875, 96000.0, 97000.0078125, 97999.9921875, 99000.0, 100000.0078125], \"y\": [0.0, -111.96001434326172, -224.0399932861328, -336.0, -447.9600830078125, -560.0399169921875, -672.0, -783.9601440429688, -896.0398559570312, -1008.0, -1119.9600830078125, -1232.0400390625, -1344.0, -1455.9599609375, -1568.0401611328125, -1680.0, -1791.9598388671875, -1904.0401611328125, -2016.0, -2127.959716796875, -2240.0400390625, -2352.0, -2463.9599609375, -2576.0400390625, -2688.0, -2799.960205078125, -2912.039794921875, -3024.0, -3135.960693359375, -3248.039306640625, -3360.0, -3471.960693359375, -3584.039306640625, -3696.0, -3807.960693359375, -3920.039306640625, -4032.0, -4143.96044921875, -4254.66943359375, -4365.1298828125, -4471.18994140625, -4565.27001953125, -4659.23046875, -4753.18994140625, -4847.27001953125, -4941.23046875, -5035.18994140625, -5129.2705078125, -5223.23046875, -5317.18994140625, -5411.2705078125, -5505.23046875, -5599.1904296875, -5693.27001953125, -5787.23046875, -5881.1904296875, -5975.27001953125, -6069.23046875, -6163.1904296875, -6257.2705078125, -6351.23046875, -6445.1904296875, -6539.2705078125, -6633.23095703125, -6727.1904296875, -6821.2705078125, -6915.23095703125, -7009.1904296875, -7103.27001953125, -7197.23095703125, -7291.1904296875, -7385.27001953125, -7479.23095703125, -7573.1904296875, -7667.27001953125, -7761.23095703125, -7855.1904296875, -7949.27001953125, -8043.23095703125, -8137.1904296875, -8231.2705078125, -8325.23046875, -8419.1904296875, -8513.2705078125, -8607.23046875, -8701.1904296875, -8795.2705078125, -8889.23046875, -8983.1904296875, -9077.26953125, -9171.23046875, -9265.19140625, -9359.26953125, -9453.23046875, -9547.19140625, -9641.26953125, -9735.23046875, -9829.19140625, -9923.26953125, -10017.2294921875, -10111.1904296875]}, {\"fill\": \"tozeroy\", \"hoverinfo\": \"text+x+y\", \"hoveron\": \"points+fills\", \"name\": \"CSG d\\u00e9ductible\", \"stackgroup\": \"one\", \"text\": \"CSG d\\u00e9ductible\", \"type\": \"scatter\", \"x\": [0.0, 999.9999389648438, 1999.9998779296875, 3000.0, 3999.999755859375, 5000.0, 6000.0, 7000.00048828125, 7999.99951171875, 9000.0, 10000.0, 11000.0009765625, 12000.0, 12999.9990234375, 14000.0009765625, 15000.0, 15999.9990234375, 17000.001953125, 18000.0, 19000.0, 20000.0, 21000.0, 22000.001953125, 22999.998046875, 24000.0, 25000.001953125, 25999.998046875, 27000.0, 28000.001953125, 28999.998046875, 30000.0, 31000.001953125, 31999.998046875, 33000.0, 34000.00390625, 34999.99609375, 36000.0, 37000.0, 38000.0, 39000.0, 40000.0, 41000.0, 42000.0, 43000.0, 44000.00390625, 45000.0, 45999.99609375, 47000.00390625, 48000.0, 48999.99609375, 50000.00390625, 51000.0, 51999.99609375, 53000.00390625, 54000.0, 54999.99609375, 56000.00390625, 57000.0, 57999.99609375, 59000.00390625, 60000.0, 60999.99609375, 62000.00390625, 63000.0, 63999.99609375, 65000.00390625, 66000.0, 66999.9921875, 68000.0078125, 69000.0, 69999.9921875, 71000.0078125, 72000.0, 73000.0, 74000.0, 75000.0, 76000.0, 77000.0, 78000.0, 79000.0, 80000.0, 81000.0, 82000.0, 83000.0, 84000.0, 85000.0, 86000.0, 87000.0, 88000.0078125, 88999.9921875, 90000.0, 91000.0078125, 91999.9921875, 93000.0, 94000.0078125, 94999.9921875, 96000.0, 97000.0078125, 97999.9921875, 99000.0, 100000.0078125], \"y\": [0.0, -66.80863952636719, -133.61727905273438, -200.4259490966797, -267.2427673339844, -334.0513610839844, -400.8599853515625, -467.6686096191406, -534.4772338867188, -601.285888671875, -668.1027221679688, -734.911376953125, -801.719970703125, -868.5286254882812, -935.3372192382812, -1002.1458129882812, -1068.962646484375, -1135.771240234375, -1202.579833984375, -1269.388671875, -1336.197265625, -1403.005859375, -1469.82275390625, -1536.63134765625, -1603.43994140625, -1670.24853515625, -1737.0572509765625, -1803.8658447265625, -1870.6829833984375, -1937.4915771484375, -2004.3001708984375, -2071.108642578125, -2137.917236328125, -2204.725830078125, -2271.54248046875, -2338.3515625, -2405.15966796875, -2471.968017578125, -2538.77734375, -2605.5859375, -2672.402587890625, -2739.211181640625, -2806.019775390625, -2872.828369140625, -2939.636962890625, -3006.4541015625, -3073.2626953125, -3140.0712890625, -3206.8798828125, -3273.6884765625, -3340.4970703125, -3407.305908203125, -3474.122802734375, -3540.931396484375, -3607.739990234375, -3674.548828125, -3741.357177734375, -3808.166015625, -3874.983154296875, -3941.791748046875, -4008.600341796875, -4075.408935546875, -4142.21728515625, -4209.02587890625, -4275.84326171875, -4342.65185546875, -4409.46044921875, -4476.26904296875, -4543.07763671875, -4609.88623046875, -4676.703125, -4743.5107421875, -4810.3193359375, -4877.12890625, -4943.93603515625, -5010.74609375, -5077.56396484375, -5144.37109375, -5211.18115234375, -5277.98974609375, -5344.796875, -5411.60693359375, -5478.42236328125, -5545.23095703125, -5612.03955078125, -5678.84814453125, -5745.65673828125, -5812.46533203125, -5879.283203125, -5946.091796875, -6012.900390625, -6079.708984375, -6146.51806640625, -6213.333984375, -6280.142578125, -6346.951171875, -6413.759765625, -6480.56884765625, -6547.376953125, -6614.18603515625, -6681.00146484375]}, {\"fill\": \"tozeroy\", \"hoverinfo\": \"text+x+y\", \"hoveron\": \"points+fills\", \"name\": \"CSG imposable\", \"stackgroup\": \"one\", \"text\": \"CSG imposable\", \"type\": \"scatter\", \"x\": [0.0, 999.9999389648438, 1999.9998779296875, 3000.0, 3999.999755859375, 5000.0, 6000.0, 7000.00048828125, 7999.99951171875, 9000.0, 10000.0, 11000.0009765625, 12000.0, 12999.9990234375, 14000.0009765625, 15000.0, 15999.9990234375, 17000.001953125, 18000.0, 19000.0, 20000.0, 21000.0, 22000.001953125, 22999.998046875, 24000.0, 25000.001953125, 25999.998046875, 27000.0, 28000.001953125, 28999.998046875, 30000.0, 31000.001953125, 31999.998046875, 33000.0, 34000.00390625, 34999.99609375, 36000.0, 37000.0, 38000.0, 39000.0, 40000.0, 41000.0, 42000.0, 43000.0, 44000.00390625, 45000.0, 45999.99609375, 47000.00390625, 48000.0, 48999.99609375, 50000.00390625, 51000.0, 51999.99609375, 53000.00390625, 54000.0, 54999.99609375, 56000.00390625, 57000.0, 57999.99609375, 59000.00390625, 60000.0, 60999.99609375, 62000.00390625, 63000.0, 63999.99609375, 65000.00390625, 66000.0, 66999.9921875, 68000.0078125, 69000.0, 69999.9921875, 71000.0078125, 72000.0, 73000.0, 74000.0, 75000.0, 76000.0, 77000.0, 78000.0, 79000.0, 80000.0, 81000.0, 82000.0, 83000.0, 84000.0, 85000.0, 86000.0, 87000.0, 88000.0078125, 88999.9921875, 90000.0, 91000.0078125, 91999.9921875, 93000.0, 94000.0078125, 94999.9921875, 96000.0, 97000.0078125, 97999.9921875, 99000.0, 100000.0078125], \"y\": [0.0, -23.57952117919922, -47.15904235839844, -70.73855590820312, -94.32095336914062, -117.9004898071289, -141.47999572753906, -165.05950927734375, -188.63905334472656, -212.21852111816406, -235.8009796142578, -259.3804626464844, -282.9599914550781, -306.53955078125, -330.1190185546875, -353.6985778808594, -377.281005859375, -400.8604431152344, -424.4399719238281, -448.01953125, -471.5990905761719, -495.1786193847656, -518.7609252929688, -542.3404541015625, -565.9199829101562, -589.49951171875, -613.0791015625, -636.6585083007812, -660.2409057617188, -683.8204956054688, -707.4000854492188, -730.9795532226562, -754.55908203125, -778.138427734375, -801.7208862304688, -825.3003540039062, -848.8799438476562, -872.45947265625, -896.0390625, -919.6185913085938, -943.2009887695312, -966.7805786132812, -990.360107421875, -1013.9393920898438, -1037.5189208984375, -1061.1014404296875, -1084.680908203125, -1108.260498046875, -1131.8399658203125, -1155.4195556640625, -1178.9990234375, -1202.57861328125, -1226.160888671875, -1249.7403564453125, -1273.3199462890625, -1296.8995361328125, -1320.47900390625, -1344.05859375, -1367.6409912109375, -1391.2205810546875, -1414.8001708984375, -1438.3797607421875, -1461.9591064453125, -1485.5386962890625, -1509.12109375, -1532.70068359375, -1556.27978515625, -1579.85986328125, -1603.4388427734375, -1627.0184326171875, -1650.6007080078125, -1674.1802978515625, -1697.7598876953125, -1721.3394775390625, -1744.9189453125, -1768.49853515625, -1792.0810546875, -1815.6605224609375, -1839.2401123046875, -1862.8197021484375, -1886.3992919921875, -1909.9788818359375, -1933.5611572265625, -1957.14013671875, -1980.72021484375, -2004.29931640625, -2027.8787841796875, -2051.458251953125, -2075.040771484375, -2098.620361328125, -2122.199951171875, -2145.779541015625, -2169.359130859375, -2192.94140625, -2216.52099609375, -2240.100341796875, -2263.679931640625, -2287.259521484375, -2310.839111328125, -2334.418701171875, -2358.0009765625]}, {\"fill\": \"tozeroy\", \"hoverinfo\": \"text+x+y\", \"hoveron\": \"points+fills\", \"name\": \"CRDS\", \"stackgroup\": \"one\", \"text\": \"CRDS\", \"type\": \"scatter\", \"x\": [0.0, 999.9999389648438, 1999.9998779296875, 3000.0, 3999.999755859375, 5000.0, 6000.0, 7000.00048828125, 7999.99951171875, 9000.0, 10000.0, 11000.0009765625, 12000.0, 12999.9990234375, 14000.0009765625, 15000.0, 15999.9990234375, 17000.001953125, 18000.0, 19000.0, 20000.0, 21000.0, 22000.001953125, 22999.998046875, 24000.0, 25000.001953125, 25999.998046875, 27000.0, 28000.001953125, 28999.998046875, 30000.0, 31000.001953125, 31999.998046875, 33000.0, 34000.00390625, 34999.99609375, 36000.0, 37000.0, 38000.0, 39000.0, 40000.0, 41000.0, 42000.0, 43000.0, 44000.00390625, 45000.0, 45999.99609375, 47000.00390625, 48000.0, 48999.99609375, 50000.00390625, 51000.0, 51999.99609375, 53000.00390625, 54000.0, 54999.99609375, 56000.00390625, 57000.0, 57999.99609375, 59000.00390625, 60000.0, 60999.99609375, 62000.00390625, 63000.0, 63999.99609375, 65000.00390625, 66000.0, 66999.9921875, 68000.0078125, 69000.0, 69999.9921875, 71000.0078125, 72000.0, 73000.0, 74000.0, 75000.0, 76000.0, 77000.0, 78000.0, 79000.0, 80000.0, 81000.0, 82000.0, 83000.0, 84000.0, 85000.0, 86000.0, 87000.0, 88000.0078125, 88999.9921875, 90000.0, 91000.0078125, 91999.9921875, 93000.0, 94000.0078125, 94999.9921875, 96000.0, 97000.0078125, 97999.9921875, 99000.0, 100000.0078125], \"y\": [0.0, -4.912399768829346, -9.824799537658691, -14.737198829650879, -19.65019989013672, -24.562597274780273, -29.47499656677246, -34.387393951416016, -39.2997932434082, -44.21219253540039, -49.12519454956055, -54.037593841552734, -58.94999313354492, -63.86241149902344, -68.77478790283203, -73.68721008300781, -78.60021209716797, -83.51258087158203, -88.42501068115234, -93.33739471435547, -98.24980926513672, -103.16219329833984, -108.07518768310547, -112.98760223388672, -117.89998626708984, -122.8124008178711, -127.72482299804688, -132.63719177246094, -137.55018615722656, -142.46261596679688, -147.375, -152.28738403320312, -157.1998291015625, -162.1122283935547, -167.02516174316406, -171.9376220703125, -176.8500213623047, -181.76239013671875, -186.67478942871094, -191.58721923828125, -196.5001983642578, -201.41258239746094, -206.3250274658203, -211.23741149902344, -216.14979553222656, -221.0628204345703, -225.97520446777344, -230.88758850097656, -235.7999725341797, -240.71241760253906, -245.6248016357422, -250.5371856689453, -255.4502410888672, -260.3625793457031, -265.2749938964844, -270.18743896484375, -275.0998229980469, -280.01220703125, -284.92523193359375, -289.8376159667969, -294.75, -299.6623840332031, -304.57476806640625, -309.4871826171875, -314.4001770019531, -319.3125305175781, -324.2249755859375, -329.137451171875, -334.0498046875, -338.9622497558594, -343.875244140625, -348.78759765625, -353.7000427246094, -358.6123962402344, -363.5247802734375, -368.4371643066406, -373.3502197265625, -378.2626037597656, -383.1749572753906, -388.0873718261719, -392.9997253417969, -397.9122619628906, -402.8251647949219, -407.7376708984375, -412.6500549316406, -417.5624694824219, -422.4748229980469, -427.38720703125, -432.3002624511719, -437.2126159667969, -442.125, -447.0373840332031, -451.9497375488281, -456.86279296875, -461.7751770019531, -466.6875305175781, -471.5999450683594, -476.5123291015625, -481.4248352050781, -486.3372497558594, -491.2501220703125]}, {\"fill\": \"tozeroy\", \"hoverinfo\": \"text+x+y\", \"hoveron\": \"points+fills\", \"name\": \"RSA\", \"stackgroup\": \"one\", \"text\": \"RSA\", \"type\": \"scatter\", \"x\": [0.0, 999.9999389648438, 1999.9998779296875, 3000.0, 3999.999755859375, 5000.0, 6000.0, 7000.00048828125, 7999.99951171875, 9000.0, 10000.0, 11000.0009765625, 12000.0, 12999.9990234375, 14000.0009765625, 15000.0, 15999.9990234375, 17000.001953125, 18000.0, 19000.0, 20000.0, 21000.0, 22000.001953125, 22999.998046875, 24000.0, 25000.001953125, 25999.998046875, 27000.0, 28000.001953125, 28999.998046875, 30000.0, 31000.001953125, 31999.998046875, 33000.0, 34000.00390625, 34999.99609375, 36000.0, 37000.0, 38000.0, 39000.0, 40000.0, 41000.0, 42000.0, 43000.0, 44000.00390625, 45000.0, 45999.99609375, 47000.00390625, 48000.0, 48999.99609375, 50000.00390625, 51000.0, 51999.99609375, 53000.00390625, 54000.0, 54999.99609375, 56000.00390625, 57000.0, 57999.99609375, 59000.00390625, 60000.0, 60999.99609375, 62000.00390625, 63000.0, 63999.99609375, 65000.00390625, 66000.0, 66999.9921875, 68000.0078125, 69000.0, 69999.9921875, 71000.0078125, 72000.0, 73000.0, 74000.0, 75000.0, 76000.0, 77000.0, 78000.0, 79000.0, 80000.0, 81000.0, 82000.0, 83000.0, 84000.0, 85000.0, 86000.0, 87000.0, 88000.0078125, 88999.9921875, 90000.0, 91000.0078125, 91999.9921875, 93000.0, 94000.0078125, 94999.9921875, 96000.0, 97000.0078125, 97999.9921875, 99000.0, 100000.0078125], \"y\": [6690.451171875, 6029.83349609375, 5369.31787109375, 4708.70166015625, 4048.09423828125, 3387.578857421875, 2726.9619140625, 2066.34716796875, 1405.82958984375, 1058.266357421875, 992.2056884765625, 926.154052734375, 860.0924072265625, 815.60693359375, 793.5897216796875, 771.5692138671875, 749.5489501953125, 727.53173828125, 705.51123046875, 683.4906005859375, 661.4735107421875, 639.452880859375, 617.4327392578125, 595.41552734375, 573.3949584960938, 550.9299926757812, 550.9299926757812, 550.9299926757812, 550.9299926757812, 550.9299926757812, 550.9299926757812, 550.9299926757812, 550.9299926757812, 550.9299926757812, 550.9299926757812, 550.9299926757812, 550.9299926757812, 550.9299926757812, 550.9299926757812, 550.9299926757812, 550.9299926757812, 550.9299926757812, 550.9299926757812, 550.9299926757812, 550.9299926757812, 550.9299926757812, 550.9299926757812, 550.9299926757812, 550.9299926757812, 550.9299926757812, 550.9299926757812, 550.9299926757812, 550.9299926757812, 550.9299926757812, 550.9299926757812, 550.9299926757812, 550.9299926757812, 550.9299926757812, 550.9299926757812, 550.9299926757812, 550.9299926757812, 550.9299926757812, 550.9299926757812, 550.9299926757812, 550.9299926757812, 550.9299926757812, 550.9299926757812, 550.9299926757812, 550.9299926757812, 550.9299926757812, 550.9299926757812, 550.9299926757812, 550.9299926757812, 550.9299926757812, 550.9299926757812, 550.9299926757812, 550.9299926757812, 550.9299926757812, 550.9299926757812, 550.9299926757812, 550.9299926757812, 550.9299926757812, 550.9299926757812, 550.9299926757812, 550.9299926757812, 550.9299926757812, 550.9299926757812, 550.9299926757812, 550.9299926757812, 550.9299926757812, 550.9299926757812, 550.9299926757812, 550.9299926757812, 550.9299926757812, 550.9299926757812, 550.9299926757812, 550.9299926757812, 550.9299926757812, 550.9299926757812, 550.9299926757812, 550.9299926757812]}, {\"fill\": \"tozeroy\", \"hoverinfo\": \"text+x+y\", \"hoveron\": \"points+fills\", \"name\": \"PPA\", \"stackgroup\": \"one\", \"text\": \"PPA\", \"type\": \"scatter\", \"x\": [0.0, 999.9999389648438, 1999.9998779296875, 3000.0, 3999.999755859375, 5000.0, 6000.0, 7000.00048828125, 7999.99951171875, 9000.0, 10000.0, 11000.0009765625, 12000.0, 12999.9990234375, 14000.0009765625, 15000.0, 15999.9990234375, 17000.001953125, 18000.0, 19000.0, 20000.0, 21000.0, 22000.001953125, 22999.998046875, 24000.0, 25000.001953125, 25999.998046875, 27000.0, 28000.001953125, 28999.998046875, 30000.0, 31000.001953125, 31999.998046875, 33000.0, 34000.00390625, 34999.99609375, 36000.0, 37000.0, 38000.0, 39000.0, 40000.0, 41000.0, 42000.0, 43000.0, 44000.00390625, 45000.0, 45999.99609375, 47000.00390625, 48000.0, 48999.99609375, 50000.00390625, 51000.0, 51999.99609375, 53000.00390625, 54000.0, 54999.99609375, 56000.00390625, 57000.0, 57999.99609375, 59000.00390625, 60000.0, 60999.99609375, 62000.00390625, 63000.0, 63999.99609375, 65000.00390625, 66000.0, 66999.9921875, 68000.0078125, 69000.0, 69999.9921875, 71000.0078125, 72000.0, 73000.0, 74000.0, 75000.0, 76000.0, 77000.0, 78000.0, 79000.0, 80000.0, 81000.0, 82000.0, 83000.0, 84000.0, 85000.0, 86000.0, 87000.0, 88000.0078125, 88999.9921875, 90000.0, 91000.0078125, 91999.9921875, 93000.0, 94000.0078125, 94999.9921875, 96000.0, 97000.0078125, 97999.9921875, 99000.0, 100000.0078125], \"y\": [0.0, 389.54327392578125, 805.8905639648438, 1208.8668212890625, 1611.83642578125, 2014.75146484375, 2417.727294921875, 2820.702880859375, 3223.618408203125, 3203.681396484375, 3119.328857421875, 3034.988525390625, 2950.635498046875, 2866.281982421875, 2781.9423828125, 2697.5888671875, 2613.237060546875, 2528.896728515625, 2444.543701171875, 2225.0791015625, 1967.47900390625, 1709.8377685546875, 1452.2010498046875, 1194.6009521484375, 936.9599609375, 679.3195190429688, 407.660400390625, 147.67066955566406, 0.0, 0.0, 0.0, 0.0, 0.0, 0.0, 0.0, 0.0, 0.0, 0.0, 0.0, 0.0, 0.0, 0.0, 0.0, 0.0, 0.0, 0.0, 0.0, 0.0, 0.0, 0.0, 0.0, 0.0, 0.0, 0.0, 0.0, 0.0, 0.0, 0.0, 0.0, 0.0, 0.0, 0.0, 0.0, 0.0, 0.0, 0.0, 0.0, 0.0, 0.0, 0.0, 0.0, 0.0, 0.0, 0.0, 0.0, 0.0, 0.0, 0.0, 0.0, 0.0, 0.0, 0.0, 0.0, 0.0, 0.0, 0.0, 0.0, 0.0, 0.0, 0.0, 0.0, 0.0, 0.0, 0.0, 0.0, 0.0, 0.0, 0.0, 0.0, 0.0, 0.0]}, {\"fill\": \"tozeroy\", \"hoverinfo\": \"text+x+y\", \"hoveron\": \"points+fills\", \"name\": \"Imp\\u00f4t sur le revenu\", \"stackgroup\": \"one\", \"text\": \"Imp\\u00f4t sur le revenu\", \"type\": \"scatter\", \"x\": [0.0, 999.9999389648438, 1999.9998779296875, 3000.0, 3999.999755859375, 5000.0, 6000.0, 7000.00048828125, 7999.99951171875, 9000.0, 10000.0, 11000.0009765625, 12000.0, 12999.9990234375, 14000.0009765625, 15000.0, 15999.9990234375, 17000.001953125, 18000.0, 19000.0, 20000.0, 21000.0, 22000.001953125, 22999.998046875, 24000.0, 25000.001953125, 25999.998046875, 27000.0, 28000.001953125, 28999.998046875, 30000.0, 31000.001953125, 31999.998046875, 33000.0, 34000.00390625, 34999.99609375, 36000.0, 37000.0, 38000.0, 39000.0, 40000.0, 41000.0, 42000.0, 43000.0, 44000.00390625, 45000.0, 45999.99609375, 47000.00390625, 48000.0, 48999.99609375, 50000.00390625, 51000.0, 51999.99609375, 53000.00390625, 54000.0, 54999.99609375, 56000.00390625, 57000.0, 57999.99609375, 59000.00390625, 60000.0, 60999.99609375, 62000.00390625, 63000.0, 63999.99609375, 65000.00390625, 66000.0, 66999.9921875, 68000.0078125, 69000.0, 69999.9921875, 71000.0078125, 72000.0, 73000.0, 74000.0, 75000.0, 76000.0, 77000.0, 78000.0, 79000.0, 80000.0, 81000.0, 82000.0, 83000.0, 84000.0, 85000.0, 86000.0, 87000.0, 88000.0078125, 88999.9921875, 90000.0, 91000.0078125, 91999.9921875, 93000.0, 94000.0078125, 94999.9921875, 96000.0, 97000.0078125, 97999.9921875, 99000.0, 100000.0078125], \"y\": [0.0, 0.0, 0.0, 0.0, 0.0, 0.0, 0.0, 0.0, 0.0, 0.0, 0.0, 0.0, 0.0, 0.0, 0.0, 0.0, 0.0, 0.0, 0.0, 0.0, 0.0, -132.0, -277.0, -422.0, -567.0, -712.0, -880.0, -1120.0, -1385.0, -1606.0, -1709.0, -1813.0, -1916.0, -2020.0, -2123.0, -2227.0, -2330.0, -2433.0, -2628.0, -2850.0, -3073.0, -3300.0, -3527.0, -3753.0, -3980.0, -4206.0, -4433.0, -4659.0, -4886.0, -5112.0, -5339.0, -5566.0, -5792.0, -6019.0, -6245.0, -6472.0, -6699.0, -6925.0, -7152.0, -7378.0, -7605.0, -7831.0, -8058.0, -8285.0, -8511.0, -8738.0, -8964.0, -9191.0, -9418.0, -9644.0, -9871.0, -10097.0, -10324.0, -10550.0, -10777.0, -11004.0, -11230.0, -11457.0, -11683.0, -11910.0, -12137.0, -12363.0, -12590.0, -12816.0, -13043.0, -13269.0, -13496.0, -13722.0, -13949.0, -14176.0, -14402.0, -14629.0, -14856.0, -15082.0, -15309.0, -15535.0, -15762.0, -15988.0, -16215.0, -16480.0, -16790.0]}, {\"hoverinfo\": \"text+x+y\", \"name\": \"Revenu disponible\", \"text\": \"Revenu disponible\", \"type\": \"scatter\", \"x\": [0.0, 999.9999389648438, 1999.9998779296875, 3000.0, 3999.999755859375, 5000.0, 6000.0, 7000.00048828125, 7999.99951171875, 9000.0, 10000.0, 11000.0009765625, 12000.0, 12999.9990234375, 14000.0009765625, 15000.0, 15999.9990234375, 17000.001953125, 18000.0, 19000.0, 20000.0, 21000.0, 22000.001953125, 22999.998046875, 24000.0, 25000.001953125, 25999.998046875, 27000.0, 28000.001953125, 28999.998046875, 30000.0, 31000.001953125, 31999.998046875, 33000.0, 34000.00390625, 34999.99609375, 36000.0, 37000.0, 38000.0, 39000.0, 40000.0, 41000.0, 42000.0, 43000.0, 44000.00390625, 45000.0, 45999.99609375, 47000.00390625, 48000.0, 48999.99609375, 50000.00390625, 51000.0, 51999.99609375, 53000.00390625, 54000.0, 54999.99609375, 56000.00390625, 57000.0, 57999.99609375, 59000.00390625, 60000.0, 60999.99609375, 62000.00390625, 63000.0, 63999.99609375, 65000.00390625, 66000.0, 66999.9921875, 68000.0078125, 69000.0, 69999.9921875, 71000.0078125, 72000.0, 73000.0, 74000.0, 75000.0, 76000.0, 77000.0, 78000.0, 79000.0, 80000.0, 81000.0, 82000.0, 83000.0, 84000.0, 85000.0, 86000.0, 87000.0, 88000.0078125, 88999.9921875, 90000.0, 91000.0078125, 91999.9921875, 93000.0, 94000.0078125, 94999.9921875, 96000.0, 97000.0078125, 97999.9921875, 99000.0, 100000.0078125], \"y\": [6842.9013671875, 7362.6181640625, 7908.98779296875, 8442.072265625, 8975.1474609375, 9508.15234375, 10041.2353515625, 10574.318359375, 11107.3232421875, 11532.662109375, 12175.3974609375, 12818.046875, 13460.7939453125, 14125.1171875, 14811.7998046875, 15498.5859375, 16185.369140625, 16872.046875, 17558.8359375, 18111.19140625, 18625.4765625, 19007.84375, 19377.20703125, 19746.4921875, 20115.859375, 20484.78515625, 20839.09765625, 21133.1484375, 21513.94921875, 22085.568359375, 22775.30859375, 23464.04296875, 24153.66796875, 24842.40234375, 25532.12890625, 26220.75390625, 26910.48828125, 27600.23046875, 28199.228515625, 28771.4609375, 29347.08984375, 29930.705078125, 30514.447265625, 31099.185546875, 31682.810546875, 32267.537109375, 32851.265625, 33435.89453125, 34019.625, 34604.3671875, 35187.98828125, 35771.7265625, 36356.45703125, 36940.0703125, 37524.81640625, 38108.5625, 38692.17578125, 39276.9140625, 39860.64453125, 40445.25390625, 41028.99609375, 41613.7421875, 42197.3515625, 42781.09765625, 43365.81640625, 43949.4453125, 44534.17578125, 45117.91796875, 45701.53515625, 46286.2734375, 46870.015625, 47454.62890625, 48038.375, 48623.1171875, 49206.734375, 49790.45703125, 50375.19140625, 50958.8046875, 51543.5546875, 52127.296875, 52710.91015625, 53295.65625, 53879.37890625, 54463.98828125, 55047.73046875, 55632.48046875, 56216.09765625, 56800.83203125, 57384.57421875, 57968.18359375, 58552.93359375, 59136.66015625, 59720.26953125, 60305.01171875, 60888.75390625, 61473.37109375, 62057.10546875, 62641.84765625, 63225.47265625, 63771.21484375, 64271.94140625]}],\n",
       "                        {\"template\": {\"data\": {\"bar\": [{\"error_x\": {\"color\": \"#2a3f5f\"}, \"error_y\": {\"color\": \"#2a3f5f\"}, \"marker\": {\"line\": {\"color\": \"#E5ECF6\", \"width\": 0.5}}, \"type\": \"bar\"}], \"barpolar\": [{\"marker\": {\"line\": {\"color\": \"#E5ECF6\", \"width\": 0.5}}, \"type\": \"barpolar\"}], \"carpet\": [{\"aaxis\": {\"endlinecolor\": \"#2a3f5f\", \"gridcolor\": \"white\", \"linecolor\": \"white\", \"minorgridcolor\": \"white\", \"startlinecolor\": \"#2a3f5f\"}, \"baxis\": {\"endlinecolor\": \"#2a3f5f\", \"gridcolor\": \"white\", \"linecolor\": \"white\", \"minorgridcolor\": \"white\", \"startlinecolor\": \"#2a3f5f\"}, \"type\": \"carpet\"}], \"choropleth\": [{\"colorbar\": {\"outlinewidth\": 0, \"ticks\": \"\"}, \"type\": \"choropleth\"}], \"contour\": [{\"colorbar\": {\"outlinewidth\": 0, \"ticks\": \"\"}, \"colorscale\": [[0.0, \"#0d0887\"], [0.1111111111111111, \"#46039f\"], [0.2222222222222222, \"#7201a8\"], [0.3333333333333333, \"#9c179e\"], [0.4444444444444444, \"#bd3786\"], [0.5555555555555556, \"#d8576b\"], [0.6666666666666666, \"#ed7953\"], [0.7777777777777778, \"#fb9f3a\"], [0.8888888888888888, \"#fdca26\"], [1.0, \"#f0f921\"]], \"type\": \"contour\"}], \"contourcarpet\": [{\"colorbar\": {\"outlinewidth\": 0, \"ticks\": \"\"}, \"type\": \"contourcarpet\"}], \"heatmap\": [{\"colorbar\": {\"outlinewidth\": 0, \"ticks\": \"\"}, \"colorscale\": [[0.0, \"#0d0887\"], [0.1111111111111111, \"#46039f\"], [0.2222222222222222, \"#7201a8\"], [0.3333333333333333, \"#9c179e\"], [0.4444444444444444, \"#bd3786\"], [0.5555555555555556, \"#d8576b\"], [0.6666666666666666, \"#ed7953\"], [0.7777777777777778, \"#fb9f3a\"], [0.8888888888888888, \"#fdca26\"], [1.0, \"#f0f921\"]], \"type\": \"heatmap\"}], \"heatmapgl\": [{\"colorbar\": {\"outlinewidth\": 0, \"ticks\": \"\"}, \"colorscale\": [[0.0, \"#0d0887\"], [0.1111111111111111, \"#46039f\"], [0.2222222222222222, \"#7201a8\"], [0.3333333333333333, \"#9c179e\"], [0.4444444444444444, \"#bd3786\"], [0.5555555555555556, \"#d8576b\"], [0.6666666666666666, \"#ed7953\"], [0.7777777777777778, \"#fb9f3a\"], [0.8888888888888888, \"#fdca26\"], [1.0, \"#f0f921\"]], \"type\": \"heatmapgl\"}], \"histogram\": [{\"marker\": {\"colorbar\": {\"outlinewidth\": 0, \"ticks\": \"\"}}, \"type\": \"histogram\"}], \"histogram2d\": [{\"colorbar\": {\"outlinewidth\": 0, \"ticks\": \"\"}, \"colorscale\": [[0.0, \"#0d0887\"], [0.1111111111111111, \"#46039f\"], [0.2222222222222222, \"#7201a8\"], [0.3333333333333333, \"#9c179e\"], [0.4444444444444444, \"#bd3786\"], [0.5555555555555556, \"#d8576b\"], [0.6666666666666666, \"#ed7953\"], [0.7777777777777778, \"#fb9f3a\"], [0.8888888888888888, \"#fdca26\"], [1.0, \"#f0f921\"]], \"type\": \"histogram2d\"}], \"histogram2dcontour\": [{\"colorbar\": {\"outlinewidth\": 0, \"ticks\": \"\"}, \"colorscale\": [[0.0, \"#0d0887\"], [0.1111111111111111, \"#46039f\"], [0.2222222222222222, \"#7201a8\"], [0.3333333333333333, \"#9c179e\"], [0.4444444444444444, \"#bd3786\"], [0.5555555555555556, \"#d8576b\"], [0.6666666666666666, \"#ed7953\"], [0.7777777777777778, \"#fb9f3a\"], [0.8888888888888888, \"#fdca26\"], [1.0, \"#f0f921\"]], \"type\": \"histogram2dcontour\"}], \"mesh3d\": [{\"colorbar\": {\"outlinewidth\": 0, \"ticks\": \"\"}, \"type\": \"mesh3d\"}], \"parcoords\": [{\"line\": {\"colorbar\": {\"outlinewidth\": 0, \"ticks\": \"\"}}, \"type\": \"parcoords\"}], \"scatter\": [{\"marker\": {\"colorbar\": {\"outlinewidth\": 0, \"ticks\": \"\"}}, \"type\": \"scatter\"}], \"scatter3d\": [{\"line\": {\"colorbar\": {\"outlinewidth\": 0, \"ticks\": \"\"}}, \"marker\": {\"colorbar\": {\"outlinewidth\": 0, \"ticks\": \"\"}}, \"type\": \"scatter3d\"}], \"scattercarpet\": [{\"marker\": {\"colorbar\": {\"outlinewidth\": 0, \"ticks\": \"\"}}, \"type\": \"scattercarpet\"}], \"scattergeo\": [{\"marker\": {\"colorbar\": {\"outlinewidth\": 0, \"ticks\": \"\"}}, \"type\": \"scattergeo\"}], \"scattergl\": [{\"marker\": {\"colorbar\": {\"outlinewidth\": 0, \"ticks\": \"\"}}, \"type\": \"scattergl\"}], \"scattermapbox\": [{\"marker\": {\"colorbar\": {\"outlinewidth\": 0, \"ticks\": \"\"}}, \"type\": \"scattermapbox\"}], \"scatterpolar\": [{\"marker\": {\"colorbar\": {\"outlinewidth\": 0, \"ticks\": \"\"}}, \"type\": \"scatterpolar\"}], \"scatterpolargl\": [{\"marker\": {\"colorbar\": {\"outlinewidth\": 0, \"ticks\": \"\"}}, \"type\": \"scatterpolargl\"}], \"scatterternary\": [{\"marker\": {\"colorbar\": {\"outlinewidth\": 0, \"ticks\": \"\"}}, \"type\": \"scatterternary\"}], \"surface\": [{\"colorbar\": {\"outlinewidth\": 0, \"ticks\": \"\"}, \"colorscale\": [[0.0, \"#0d0887\"], [0.1111111111111111, \"#46039f\"], [0.2222222222222222, \"#7201a8\"], [0.3333333333333333, \"#9c179e\"], [0.4444444444444444, \"#bd3786\"], [0.5555555555555556, \"#d8576b\"], [0.6666666666666666, \"#ed7953\"], [0.7777777777777778, \"#fb9f3a\"], [0.8888888888888888, \"#fdca26\"], [1.0, \"#f0f921\"]], \"type\": \"surface\"}], \"table\": [{\"cells\": {\"fill\": {\"color\": \"#EBF0F8\"}, \"line\": {\"color\": \"white\"}}, \"header\": {\"fill\": {\"color\": \"#C8D4E3\"}, \"line\": {\"color\": \"white\"}}, \"type\": \"table\"}]}, \"layout\": {\"annotationdefaults\": {\"arrowcolor\": \"#2a3f5f\", \"arrowhead\": 0, \"arrowwidth\": 1}, \"colorscale\": {\"diverging\": [[0, \"#8e0152\"], [0.1, \"#c51b7d\"], [0.2, \"#de77ae\"], [0.3, \"#f1b6da\"], [0.4, \"#fde0ef\"], [0.5, \"#f7f7f7\"], [0.6, \"#e6f5d0\"], [0.7, \"#b8e186\"], [0.8, \"#7fbc41\"], [0.9, \"#4d9221\"], [1, \"#276419\"]], \"sequential\": [[0.0, \"#0d0887\"], [0.1111111111111111, \"#46039f\"], [0.2222222222222222, \"#7201a8\"], [0.3333333333333333, \"#9c179e\"], [0.4444444444444444, \"#bd3786\"], [0.5555555555555556, \"#d8576b\"], [0.6666666666666666, \"#ed7953\"], [0.7777777777777778, \"#fb9f3a\"], [0.8888888888888888, \"#fdca26\"], [1.0, \"#f0f921\"]], \"sequentialminus\": [[0.0, \"#0d0887\"], [0.1111111111111111, \"#46039f\"], [0.2222222222222222, \"#7201a8\"], [0.3333333333333333, \"#9c179e\"], [0.4444444444444444, \"#bd3786\"], [0.5555555555555556, \"#d8576b\"], [0.6666666666666666, \"#ed7953\"], [0.7777777777777778, \"#fb9f3a\"], [0.8888888888888888, \"#fdca26\"], [1.0, \"#f0f921\"]]}, \"colorway\": [\"#636efa\", \"#EF553B\", \"#00cc96\", \"#ab63fa\", \"#FFA15A\", \"#19d3f3\", \"#FF6692\", \"#B6E880\", \"#FF97FF\", \"#FECB52\"], \"font\": {\"color\": \"#2a3f5f\"}, \"geo\": {\"bgcolor\": \"white\", \"lakecolor\": \"white\", \"landcolor\": \"#E5ECF6\", \"showlakes\": true, \"showland\": true, \"subunitcolor\": \"white\"}, \"hoverlabel\": {\"align\": \"left\"}, \"hovermode\": \"closest\", \"mapbox\": {\"style\": \"light\"}, \"paper_bgcolor\": \"white\", \"plot_bgcolor\": \"#E5ECF6\", \"polar\": {\"angularaxis\": {\"gridcolor\": \"white\", \"linecolor\": \"white\", \"ticks\": \"\"}, \"bgcolor\": \"#E5ECF6\", \"radialaxis\": {\"gridcolor\": \"white\", \"linecolor\": \"white\", \"ticks\": \"\"}}, \"scene\": {\"xaxis\": {\"backgroundcolor\": \"#E5ECF6\", \"gridcolor\": \"white\", \"gridwidth\": 2, \"linecolor\": \"white\", \"showbackground\": true, \"ticks\": \"\", \"zerolinecolor\": \"white\"}, \"yaxis\": {\"backgroundcolor\": \"#E5ECF6\", \"gridcolor\": \"white\", \"gridwidth\": 2, \"linecolor\": \"white\", \"showbackground\": true, \"ticks\": \"\", \"zerolinecolor\": \"white\"}, \"zaxis\": {\"backgroundcolor\": \"#E5ECF6\", \"gridcolor\": \"white\", \"gridwidth\": 2, \"linecolor\": \"white\", \"showbackground\": true, \"ticks\": \"\", \"zerolinecolor\": \"white\"}}, \"shapedefaults\": {\"line\": {\"color\": \"#2a3f5f\"}}, \"ternary\": {\"aaxis\": {\"gridcolor\": \"white\", \"linecolor\": \"white\", \"ticks\": \"\"}, \"baxis\": {\"gridcolor\": \"white\", \"linecolor\": \"white\", \"ticks\": \"\"}, \"bgcolor\": \"#E5ECF6\", \"caxis\": {\"gridcolor\": \"white\", \"linecolor\": \"white\", \"ticks\": \"\"}}, \"title\": {\"x\": 0.05}, \"xaxis\": {\"automargin\": true, \"gridcolor\": \"white\", \"linecolor\": \"white\", \"ticks\": \"\", \"zerolinecolor\": \"white\", \"zerolinewidth\": 2}, \"yaxis\": {\"automargin\": true, \"gridcolor\": \"white\", \"linecolor\": \"white\", \"ticks\": \"\", \"zerolinecolor\": \"white\", \"zerolinewidth\": 2}}}},\n",
       "                        {\"responsive\": true}\n",
       "                    ).then(function(){\n",
       "                            \n",
       "var gd = document.getElementById('e146dfd5-587c-4f7e-9e85-e04aff4c233b');\n",
       "var x = new MutationObserver(function (mutations, observer) {{\n",
       "        var display = window.getComputedStyle(gd).display;\n",
       "        if (!display || display === 'none') {{\n",
       "            console.log([gd, 'removed!']);\n",
       "            Plotly.purge(gd);\n",
       "            observer.disconnect();\n",
       "        }}\n",
       "}});\n",
       "\n",
       "// Listen for the removal of the full notebook cells\n",
       "var notebookContainer = gd.closest('#notebook-container');\n",
       "if (notebookContainer) {{\n",
       "    x.observe(notebookContainer, {childList: true});\n",
       "}}\n",
       "\n",
       "// Listen for the clearing of the current output cell\n",
       "var outputEl = gd.closest('.output');\n",
       "if (outputEl) {{\n",
       "    x.observe(outputEl, {childList: true});\n",
       "}}\n",
       "\n",
       "                        })\n",
       "                };\n",
       "                });\n",
       "            </script>\n",
       "        </div>"
      ]
     },
     "metadata": {},
     "output_type": "display_data"
    }
   ],
   "source": [
    "areas = [\n",
    "    go.Scatter(\n",
    "        x=salaire_de_base_arr,\n",
    "        y=results[bar.code],\n",
    "        name=bar.short_name or bar.code,\n",
    "        text=bar.short_name or bar.code,\n",
    "        stackgroup='one',\n",
    "        fill='tozeroy',\n",
    "    #     fillcolor='darkviolet',\n",
    "        hoveron = 'points+fills', # select where hover is active\n",
    "        hoverinfo = 'text+x+y',\n",
    "    )\n",
    "    for bar in bars\n",
    "    if bar.type == BarType.VALUE and (results[bar.code] != 0).any()\n",
    "]\n",
    "lines = [\n",
    "    go.Scatter(\n",
    "        x=salaire_de_base_arr,\n",
    "        y=results[bar.code],\n",
    "        name=bar.short_name or bar.code,\n",
    "        text=bar.short_name or bar.code,\n",
    "        hoverinfo = 'text+x+y',\n",
    "    )\n",
    "    for bar in bars\n",
    "    if bar.type == BarType.TOTAL\n",
    "]\n",
    "fig = go.Figure(data=areas + lines)\n",
    "fig.show()"
   ]
  },
  {
   "cell_type": "code",
   "execution_count": null,
   "metadata": {},
   "outputs": [],
   "source": []
  }
 ],
 "metadata": {
  "kernelspec": {
   "display_name": "Python 3",
   "language": "python",
   "name": "python3"
  },
  "language_info": {
   "codemirror_mode": {
    "name": "ipython",
    "version": 3
   },
   "file_extension": ".py",
   "mimetype": "text/x-python",
   "name": "python",
   "nbconvert_exporter": "python",
   "pygments_lexer": "ipython3",
   "version": "3.7.3"
  }
 },
 "nbformat": 4,
 "nbformat_minor": 4
}
