{
 "cells": [
  {
   "cell_type": "code",
   "execution_count": 6,
   "metadata": {},
   "outputs": [],
   "source": [
    "from IPython.display import JSON\n",
    "\n",
    "import altair as alt\n",
    "# Uncomment/run this line to enable Altair in JupyterLab/nteract:\n",
    "alt.enable_mime_rendering()\n",
    "\n",
    "import ipywidgets as widgets\n",
    "from ipywidgets import fixed, interact\n",
    "\n",
    "from openfisca_core import decompositions, periods\n",
    "from openfisca_france import FranceTaxBenefitSystem\n",
    "from openfisca_matplotlib import graphs\n",
    "\n",
    "%matplotlib inline"
   ]
  },
  {
   "cell_type": "code",
   "execution_count": 7,
   "metadata": {},
   "outputs": [],
   "source": [
    "tbs = FranceTaxBenefitSystem()"
   ]
  },
  {
   "cell_type": "markdown",
   "metadata": {},
   "source": [
    "## Display \"Revenu disponible\" interactively"
   ]
  },
  {
   "cell_type": "code",
   "execution_count": 18,
   "metadata": {},
   "outputs": [],
   "source": [
    "def calculate_revenu_disponible(age, salaire_de_base, period):\n",
    "    scenario_params = {\n",
    "        \"period\": period,\n",
    "        \"parent1\": {\n",
    "            \"age\": age,\n",
    "            \"salaire_de_base\": salaire_de_base, # Annual basis\n",
    "        },\n",
    "    }\n",
    "    scenario = tbs.new_scenario().init_single_entity(**scenario_params)\n",
    "    simulation = scenario.new_simulation()\n",
    "    revenu_disponible = simulation.calculate(\"revenu_disponible\", period)\n",
    "    return revenu_disponible"
   ]
  },
  {
   "cell_type": "markdown",
   "metadata": {},
   "source": [
    "Try with an input text:"
   ]
  },
  {
   "cell_type": "code",
   "execution_count": 19,
   "metadata": {},
   "outputs": [
    {
     "data": {
      "application/vnd.jupyter.widget-view+json": {
       "model_id": "1a1005960306476d9c22fdf21904f64c",
       "version_major": 2,
       "version_minor": 0
      },
      "text/html": [
       "<p>Failed to display Jupyter Widget of type <code>interactive</code>.</p>\n",
       "<p>\n",
       "  If you're reading this message in the Jupyter Notebook or JupyterLab Notebook, it may mean\n",
       "  that the widgets JavaScript is still loading. If this message persists, it\n",
       "  likely means that the widgets JavaScript library is either not installed or\n",
       "  not enabled. See the <a href=\"https://ipywidgets.readthedocs.io/en/stable/user_install.html\">Jupyter\n",
       "  Widgets Documentation</a> for setup instructions.\n",
       "</p>\n",
       "<p>\n",
       "  If you're reading this message in another frontend (for example, a static\n",
       "  rendering on GitHub or <a href=\"https://nbviewer.jupyter.org/\">NBViewer</a>),\n",
       "  it may mean that your frontend doesn't currently support widgets.\n",
       "</p>\n"
      ],
      "text/plain": [
       "interactive(children=(BoundedFloatText(value=15000.0, description=u'Salaire de base', max=150000.0, step=100.0), Output()), _dom_classes=('widget-interact',))"
      ]
     },
     "metadata": {},
     "output_type": "display_data"
    }
   ],
   "source": [
    "interact(\n",
    "    calculate_revenu_disponible,\n",
    "    salaire_de_base=widgets.BoundedFloatText(min=0, max=150000, step=100, value=15000, description=\"Salaire de base\"),\n",
    "    age=fixed(30),\n",
    "    period=fixed(periods.period(\"2015\")),\n",
    ")\n",
    "None  # Hide strange output"
   ]
  },
  {
   "cell_type": "markdown",
   "metadata": {},
   "source": [
    "Note: press Enter after you type a new value to recompute.\n",
    "\n",
    "Try with two sliders, for \"age\" and \"salaire_de_base\":"
   ]
  },
  {
   "cell_type": "code",
   "execution_count": 20,
   "metadata": {},
   "outputs": [
    {
     "data": {
      "application/vnd.jupyter.widget-view+json": {
       "model_id": "7cf668b3e5a94c87a912e70b97e8d562",
       "version_major": 2,
       "version_minor": 0
      },
      "text/html": [
       "<p>Failed to display Jupyter Widget of type <code>interactive</code>.</p>\n",
       "<p>\n",
       "  If you're reading this message in the Jupyter Notebook or JupyterLab Notebook, it may mean\n",
       "  that the widgets JavaScript is still loading. If this message persists, it\n",
       "  likely means that the widgets JavaScript library is either not installed or\n",
       "  not enabled. See the <a href=\"https://ipywidgets.readthedocs.io/en/stable/user_install.html\">Jupyter\n",
       "  Widgets Documentation</a> for setup instructions.\n",
       "</p>\n",
       "<p>\n",
       "  If you're reading this message in another frontend (for example, a static\n",
       "  rendering on GitHub or <a href=\"https://nbviewer.jupyter.org/\">NBViewer</a>),\n",
       "  it may mean that your frontend doesn't currently support widgets.\n",
       "</p>\n"
      ],
      "text/plain": [
       "interactive(children=(IntSlider(value=30, continuous_update=False, description=u'age', max=130), FloatSlider(value=15000.0, continuous_update=False, description=u'salaire_de_base', max=150000.0, step=100.0), Output()), _dom_classes=('widget-interact',))"
      ]
     },
     "metadata": {},
     "output_type": "display_data"
    }
   ],
   "source": [
    "interact(\n",
    "    calculate_revenu_disponible,\n",
    "    age=widgets.IntSlider(min=0, max=130, step=1, value=30, continuous_update=False),\n",
    "    salaire_de_base=widgets.FloatSlider(min=0, max=150000, step=100, value=15000, continuous_update=False),\n",
    "    period=fixed(periods.period(\"2015\")),\n",
    ")\n",
    "None  # Hide strange output"
   ]
  },
  {
   "cell_type": "markdown",
   "metadata": {},
   "source": [
    "Note: you can edit the number at the right of the slider. Press Enter after you type a new value to recompute.\n",
    "\n",
    "This is quite slow to recompute and redraw if we don't use `continuous_update=False`.\n",
    "This is mainly because we create a new simulation each time, in `calculate_revenu_disponible`. I did not find how to update a variable of an existing simulation, I'm not sure it is possible with OpenFisca."
   ]
  },
  {
   "cell_type": "markdown",
   "metadata": {},
   "source": [
    "## Display waterfall"
   ]
  },
  {
   "cell_type": "code",
   "execution_count": 22,
   "metadata": {},
   "outputs": [],
   "source": [
    "def display_waterfall(age, salaire_de_base, period):\n",
    "    scenario_params = {\n",
    "        \"period\": period,\n",
    "        \"parent1\": {\n",
    "            \"age\": age,\n",
    "            \"salaire_de_base\": salaire_de_base, # Annual basis\n",
    "        },\n",
    "    }\n",
    "    scenario = tbs.new_scenario().init_single_entity(**scenario_params)\n",
    "    simulation = scenario.new_simulation()\n",
    "    graphs.draw_waterfall(simulation)"
   ]
  },
  {
   "cell_type": "code",
   "execution_count": 23,
   "metadata": {},
   "outputs": [
    {
     "data": {
      "application/vnd.jupyter.widget-view+json": {
       "model_id": "c894bf8b3c504fee83bf1dea925799f4",
       "version_major": 2,
       "version_minor": 0
      },
      "text/html": [
       "<p>Failed to display Jupyter Widget of type <code>interactive</code>.</p>\n",
       "<p>\n",
       "  If you're reading this message in the Jupyter Notebook or JupyterLab Notebook, it may mean\n",
       "  that the widgets JavaScript is still loading. If this message persists, it\n",
       "  likely means that the widgets JavaScript library is either not installed or\n",
       "  not enabled. See the <a href=\"https://ipywidgets.readthedocs.io/en/stable/user_install.html\">Jupyter\n",
       "  Widgets Documentation</a> for setup instructions.\n",
       "</p>\n",
       "<p>\n",
       "  If you're reading this message in another frontend (for example, a static\n",
       "  rendering on GitHub or <a href=\"https://nbviewer.jupyter.org/\">NBViewer</a>),\n",
       "  it may mean that your frontend doesn't currently support widgets.\n",
       "</p>\n"
      ],
      "text/plain": [
       "interactive(children=(IntSlider(value=30, continuous_update=False, description=u'age', max=130), FloatSlider(value=15000.0, continuous_update=False, description=u'salaire_de_base', max=150000.0, step=100.0), Output()), _dom_classes=('widget-interact',))"
      ]
     },
     "metadata": {},
     "output_type": "display_data"
    }
   ],
   "source": [
    "interact(\n",
    "    display_waterfall,\n",
    "    age=widgets.IntSlider(min=0, max=130, step=1, value=30, continuous_update=False),\n",
    "    salaire_de_base=widgets.FloatSlider(min=0, max=150000, step=100, value=15000, continuous_update=False),\n",
    "    period=fixed(periods.period(\"2015\")),\n",
    ")\n",
    "None  # Hide strange output"
   ]
  },
  {
   "cell_type": "markdown",
   "metadata": {},
   "source": [
    "## Vary \"Salaire\" and create a \"bareme\""
   ]
  },
  {
   "cell_type": "code",
   "execution_count": 24,
   "metadata": {},
   "outputs": [],
   "source": [
    "def display_bareme(age, period):\n",
    "    scenario_params = {\n",
    "        \"period\": period,\n",
    "        \"parent1\": {\n",
    "            \"age\": age,\n",
    "        },\n",
    "        \"axes\": [\n",
    "            dict(\n",
    "                count = 10,\n",
    "                min = 0,\n",
    "                max = 50000,\n",
    "                name = 'salaire_de_base',\n",
    "            ),\n",
    "        ],\n",
    "    }\n",
    "    scenario = tbs.new_scenario().init_single_entity(**scenario_params)\n",
    "    simulation = scenario.new_simulation()\n",
    "    graphs.draw_bareme(\n",
    "        simulation = simulation,\n",
    "        x_axis = \"salaire_imposable\",\n",
    "        legend_position = 2,\n",
    "    )"
   ]
  },
  {
   "cell_type": "code",
   "execution_count": 25,
   "metadata": {},
   "outputs": [
    {
     "data": {
      "application/vnd.jupyter.widget-view+json": {
       "model_id": "d209cc118ba843d48febc5cc8abd5e7e",
       "version_major": 2,
       "version_minor": 0
      },
      "text/html": [
       "<p>Failed to display Jupyter Widget of type <code>interactive</code>.</p>\n",
       "<p>\n",
       "  If you're reading this message in the Jupyter Notebook or JupyterLab Notebook, it may mean\n",
       "  that the widgets JavaScript is still loading. If this message persists, it\n",
       "  likely means that the widgets JavaScript library is either not installed or\n",
       "  not enabled. See the <a href=\"https://ipywidgets.readthedocs.io/en/stable/user_install.html\">Jupyter\n",
       "  Widgets Documentation</a> for setup instructions.\n",
       "</p>\n",
       "<p>\n",
       "  If you're reading this message in another frontend (for example, a static\n",
       "  rendering on GitHub or <a href=\"https://nbviewer.jupyter.org/\">NBViewer</a>),\n",
       "  it may mean that your frontend doesn't currently support widgets.\n",
       "</p>\n"
      ],
      "text/plain": [
       "interactive(children=(IntSlider(value=30, continuous_update=False, description=u'age', max=130), Output()), _dom_classes=('widget-interact',))"
      ]
     },
     "metadata": {},
     "output_type": "display_data"
    }
   ],
   "source": [
    "interact(\n",
    "    display_bareme,\n",
    "    age=widgets.IntSlider(min=0, max=130, step=1, value=30, continuous_update=False),\n",
    "    period=fixed(periods.period(\"2015\")),\n",
    ")\n",
    "None  # Hide strange output"
   ]
  },
  {
   "cell_type": "code",
   "execution_count": null,
   "metadata": {},
   "outputs": [],
   "source": []
  }
 ],
 "metadata": {
  "kernelspec": {
   "display_name": "Python 2",
   "language": "python",
   "name": "python2"
  },
  "language_info": {
   "codemirror_mode": {
    "name": "ipython",
    "version": 2
   },
   "file_extension": ".py",
   "mimetype": "text/x-python",
   "name": "python",
   "nbconvert_exporter": "python",
   "pygments_lexer": "ipython2",
   "version": "2.7.14"
  }
 },
 "nbformat": 4,
 "nbformat_minor": 2
}
