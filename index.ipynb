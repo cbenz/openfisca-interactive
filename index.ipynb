{
 "cells": [
  {
   "cell_type": "code",
   "execution_count": 1,
   "metadata": {},
   "outputs": [],
   "source": [
    "from IPython.display import JSON\n",
    "\n",
    "import altair as alt\n",
    "# Uncomment/run this line to enable Altair in JupyterLab/nteract:\n",
    "alt.enable_mime_rendering()\n",
    "\n",
    "import ipywidgets as widgets\n",
    "from ipywidgets import fixed, interact\n",
    "\n",
    "from openfisca_core import decompositions, periods\n",
    "from openfisca_france import FranceTaxBenefitSystem\n",
    "from openfisca_matplotlib import graphs, utils\n",
    "\n",
    "import matplotlib.pyplot as plt\n",
    "%matplotlib inline"
   ]
  },
  {
   "cell_type": "code",
   "execution_count": 2,
   "metadata": {},
   "outputs": [],
   "source": [
    "tbs = FranceTaxBenefitSystem()"
   ]
  },
  {
   "cell_type": "markdown",
   "metadata": {},
   "source": [
    "## Display \"Revenu disponible\" interactively"
   ]
  },
  {
   "cell_type": "code",
   "execution_count": 3,
   "metadata": {},
   "outputs": [],
   "source": [
    "def calculate_revenu_disponible(age, salaire_de_base, period):\n",
    "    scenario_params = {\n",
    "        \"period\": period,\n",
    "        \"parent1\": {\n",
    "            \"age\": age,\n",
    "            \"salaire_de_base\": salaire_de_base, # Annual basis\n",
    "        },\n",
    "    }\n",
    "    scenario = tbs.new_scenario().init_single_entity(**scenario_params)\n",
    "    simulation = scenario.new_simulation()\n",
    "    revenu_disponible = simulation.calculate(\"revenu_disponible\", period)\n",
    "    return revenu_disponible"
   ]
  },
  {
   "cell_type": "markdown",
   "metadata": {},
   "source": [
    "Try with an input text:"
   ]
  },
  {
   "cell_type": "code",
   "execution_count": 4,
   "metadata": {},
   "outputs": [
    {
     "data": {
      "application/vnd.jupyter.widget-view+json": {
       "model_id": "9216de057ec1487384ff53c4405b655e",
       "version_major": 2,
       "version_minor": 0
      },
      "text/html": [
       "<p>Failed to display Jupyter Widget of type <code>interactive</code>.</p>\n",
       "<p>\n",
       "  If you're reading this message in the Jupyter Notebook or JupyterLab Notebook, it may mean\n",
       "  that the widgets JavaScript is still loading. If this message persists, it\n",
       "  likely means that the widgets JavaScript library is either not installed or\n",
       "  not enabled. See the <a href=\"https://ipywidgets.readthedocs.io/en/stable/user_install.html\">Jupyter\n",
       "  Widgets Documentation</a> for setup instructions.\n",
       "</p>\n",
       "<p>\n",
       "  If you're reading this message in another frontend (for example, a static\n",
       "  rendering on GitHub or <a href=\"https://nbviewer.jupyter.org/\">NBViewer</a>),\n",
       "  it may mean that your frontend doesn't currently support widgets.\n",
       "</p>\n"
      ],
      "text/plain": [
       "interactive(children=(BoundedFloatText(value=15000.0, description=u'Salaire de base', max=150000.0, step=100.0), Output()), _dom_classes=('widget-interact',))"
      ]
     },
     "metadata": {},
     "output_type": "display_data"
    }
   ],
   "source": [
    "interact(\n",
    "    calculate_revenu_disponible,\n",
    "    salaire_de_base=widgets.BoundedFloatText(min=0, max=150000, step=100, value=15000, description=\"Salaire de base\"),\n",
    "    age=fixed(30),\n",
    "    period=fixed(periods.period(\"2015\")),\n",
    ")\n",
    "None  # Hide strange output"
   ]
  },
  {
   "cell_type": "markdown",
   "metadata": {},
   "source": [
    "Note: press Enter after you type a new value to recompute.\n",
    "\n",
    "Try with two sliders, for \"age\" and \"salaire_de_base\":"
   ]
  },
  {
   "cell_type": "code",
   "execution_count": 5,
   "metadata": {},
   "outputs": [
    {
     "data": {
      "application/vnd.jupyter.widget-view+json": {
       "model_id": "1f7b3c940b164b239361b4a4757981d5",
       "version_major": 2,
       "version_minor": 0
      },
      "text/html": [
       "<p>Failed to display Jupyter Widget of type <code>interactive</code>.</p>\n",
       "<p>\n",
       "  If you're reading this message in the Jupyter Notebook or JupyterLab Notebook, it may mean\n",
       "  that the widgets JavaScript is still loading. If this message persists, it\n",
       "  likely means that the widgets JavaScript library is either not installed or\n",
       "  not enabled. See the <a href=\"https://ipywidgets.readthedocs.io/en/stable/user_install.html\">Jupyter\n",
       "  Widgets Documentation</a> for setup instructions.\n",
       "</p>\n",
       "<p>\n",
       "  If you're reading this message in another frontend (for example, a static\n",
       "  rendering on GitHub or <a href=\"https://nbviewer.jupyter.org/\">NBViewer</a>),\n",
       "  it may mean that your frontend doesn't currently support widgets.\n",
       "</p>\n"
      ],
      "text/plain": [
       "interactive(children=(IntSlider(value=30, continuous_update=False, description=u'age', max=130), FloatSlider(value=15000.0, continuous_update=False, description=u'salaire_de_base', max=150000.0, step=100.0), Output()), _dom_classes=('widget-interact',))"
      ]
     },
     "metadata": {},
     "output_type": "display_data"
    }
   ],
   "source": [
    "interact(\n",
    "    calculate_revenu_disponible,\n",
    "    age=widgets.IntSlider(min=0, max=130, step=1, value=30, continuous_update=False),\n",
    "    salaire_de_base=widgets.FloatSlider(min=0, max=150000, step=100, value=15000, continuous_update=False),\n",
    "    period=fixed(periods.period(\"2015\")),\n",
    ")\n",
    "None  # Hide strange output"
   ]
  },
  {
   "cell_type": "markdown",
   "metadata": {},
   "source": [
    "Note: you can edit the number at the right of the slider. Press Enter after you type a new value to recompute.\n",
    "\n",
    "This is quite slow to recompute and redraw if we don't use `continuous_update=False`.\n",
    "This is mainly because we create a new simulation each time, in `calculate_revenu_disponible`. I did not find how to update a variable of an existing simulation, I'm not sure it is possible with OpenFisca."
   ]
  },
  {
   "cell_type": "markdown",
   "metadata": {},
   "source": [
    "Another approach would be to pre-calculate all the values for a range of \"Salaires\", with a step."
   ]
  },
  {
   "cell_type": "code",
   "execution_count": 6,
   "metadata": {},
   "outputs": [],
   "source": [
    "def precalculate_revenu_disponible(period, min, max, count):\n",
    "    scenario_params = {\n",
    "        \"period\": period,\n",
    "        \"parent1\": {\n",
    "            \"age\": 30,\n",
    "        },\n",
    "        \"axes\": [\n",
    "            dict(\n",
    "                count = count,\n",
    "                min = min,\n",
    "                max = max,\n",
    "                name = 'salaire_de_base',\n",
    "            ),\n",
    "        ],\n",
    "    }\n",
    "    scenario = tbs.new_scenario().init_single_entity(**scenario_params)\n",
    "    simulation = scenario.new_simulation()\n",
    "    revenu_disponible = simulation.calculate(\"revenu_disponible\", period)\n",
    "    return revenu_disponible"
   ]
  },
  {
   "cell_type": "code",
   "execution_count": 7,
   "metadata": {},
   "outputs": [],
   "source": [
    "def count_to_step(min, max, count):\n",
    "    \"\"\"Examples:\n",
    "    >>> count_to_step(0, 80, 5)\n",
    "    20\n",
    "    \"\"\"\n",
    "    return (max - min) / (count - 1)\n",
    "\n",
    "def value_to_index(min, step, value):\n",
    "    \"\"\"Examples:\n",
    "    >>> value_to_index(0, 10, 0)\n",
    "    0\n",
    "    >>> value_to_index(0, 10, 40)\n",
    "    4\n",
    "    >>> value_to_index(3, 1, 6)\n",
    "    3\n",
    "    \"\"\"\n",
    "    return int((value / step) - min)"
   ]
  },
  {
   "cell_type": "code",
   "execution_count": 8,
   "metadata": {},
   "outputs": [],
   "source": [
    "count = 12\n",
    "min = 0\n",
    "max = 50000\n",
    "step = count_to_step(min, max, count)\n",
    "initial_value = 3 * step"
   ]
  },
  {
   "cell_type": "code",
   "execution_count": 9,
   "metadata": {},
   "outputs": [
    {
     "data": {
      "text/plain": [
       "array([  4791.49023438,   7324.55273438,   9857.53808594,  12390.6328125 ,\n",
       "        14923.69726562,  17176.4609375 ,  19909.40234375,  22918.22851562,\n",
       "        25998.22070312,  28644.80078125,  31254.34179688,  33863.57421875], dtype=float32)"
      ]
     },
     "execution_count": 9,
     "metadata": {},
     "output_type": "execute_result"
    }
   ],
   "source": [
    "revenu_disponible = precalculate_revenu_disponible(periods.period(\"2015\"), min, max, count)\n",
    "revenu_disponible"
   ]
  },
  {
   "cell_type": "code",
   "execution_count": 10,
   "metadata": {},
   "outputs": [],
   "source": [
    "def display_revenu_disponible(salaire_de_base, revenu_disponible, min, step):\n",
    "    index = value_to_index(min, step, salaire_de_base)\n",
    "    return revenu_disponible[index]"
   ]
  },
  {
   "cell_type": "code",
   "execution_count": 11,
   "metadata": {},
   "outputs": [
    {
     "name": "stderr",
     "output_type": "stream",
     "text": [
      "/home/cbenz/.virtualenvs/openfisca-interactive-TZbnw1I8/lib/python2.7/site-packages/traitlets/traitlets.py:567: FutureWarning: comparison to `None` will result in an elementwise object comparison in the future.\n",
      "  silent = bool(old_value == new_value)\n"
     ]
    },
    {
     "data": {
      "application/vnd.jupyter.widget-view+json": {
       "model_id": "79d9553b3b864259a519e4ee7d42ef0e",
       "version_major": 2,
       "version_minor": 0
      },
      "text/html": [
       "<p>Failed to display Jupyter Widget of type <code>interactive</code>.</p>\n",
       "<p>\n",
       "  If you're reading this message in the Jupyter Notebook or JupyterLab Notebook, it may mean\n",
       "  that the widgets JavaScript is still loading. If this message persists, it\n",
       "  likely means that the widgets JavaScript library is either not installed or\n",
       "  not enabled. See the <a href=\"https://ipywidgets.readthedocs.io/en/stable/user_install.html\">Jupyter\n",
       "  Widgets Documentation</a> for setup instructions.\n",
       "</p>\n",
       "<p>\n",
       "  If you're reading this message in another frontend (for example, a static\n",
       "  rendering on GitHub or <a href=\"https://nbviewer.jupyter.org/\">NBViewer</a>),\n",
       "  it may mean that your frontend doesn't currently support widgets.\n",
       "</p>\n"
      ],
      "text/plain": [
       "interactive(children=(FloatSlider(value=13635.0, description=u'salaire_de_base', max=50000.0, step=4545.0), Output()), _dom_classes=('widget-interact',))"
      ]
     },
     "metadata": {},
     "output_type": "display_data"
    }
   ],
   "source": [
    "interact(\n",
    "    display_revenu_disponible,\n",
    "    salaire_de_base=widgets.FloatSlider(min=min, max=max, step=step, value=initial_value),\n",
    "    revenu_disponible=fixed(revenu_disponible),\n",
    "    min=fixed(min),\n",
    "    step=fixed(step),\n",
    ")\n",
    "None  # Hide strange output"
   ]
  },
  {
   "cell_type": "markdown",
   "metadata": {},
   "source": [
    "## Display waterfall"
   ]
  },
  {
   "cell_type": "code",
   "execution_count": 12,
   "metadata": {},
   "outputs": [],
   "source": [
    "def display_waterfall(age, salaire_de_base, period):\n",
    "    scenario_params = {\n",
    "        \"period\": period,\n",
    "        \"parent1\": {\n",
    "            \"age\": age,\n",
    "            \"salaire_de_base\": salaire_de_base, # Annual basis\n",
    "        },\n",
    "    }\n",
    "    scenario = tbs.new_scenario().init_single_entity(**scenario_params)\n",
    "    simulation = scenario.new_simulation()\n",
    "    graphs.draw_waterfall(simulation)"
   ]
  },
  {
   "cell_type": "code",
   "execution_count": 13,
   "metadata": {},
   "outputs": [
    {
     "data": {
      "application/vnd.jupyter.widget-view+json": {
       "model_id": "9937b3e63a4e4a07b57b03bae911ccc8",
       "version_major": 2,
       "version_minor": 0
      },
      "text/html": [
       "<p>Failed to display Jupyter Widget of type <code>interactive</code>.</p>\n",
       "<p>\n",
       "  If you're reading this message in the Jupyter Notebook or JupyterLab Notebook, it may mean\n",
       "  that the widgets JavaScript is still loading. If this message persists, it\n",
       "  likely means that the widgets JavaScript library is either not installed or\n",
       "  not enabled. See the <a href=\"https://ipywidgets.readthedocs.io/en/stable/user_install.html\">Jupyter\n",
       "  Widgets Documentation</a> for setup instructions.\n",
       "</p>\n",
       "<p>\n",
       "  If you're reading this message in another frontend (for example, a static\n",
       "  rendering on GitHub or <a href=\"https://nbviewer.jupyter.org/\">NBViewer</a>),\n",
       "  it may mean that your frontend doesn't currently support widgets.\n",
       "</p>\n"
      ],
      "text/plain": [
       "interactive(children=(IntSlider(value=30, continuous_update=False, description=u'age', max=130), FloatSlider(value=13635.0, continuous_update=False, description=u'salaire_de_base', max=50000.0, step=4545.0), Output()), _dom_classes=('widget-interact',))"
      ]
     },
     "metadata": {},
     "output_type": "display_data"
    }
   ],
   "source": [
    "interact(\n",
    "    display_waterfall,\n",
    "    age=widgets.IntSlider(min=0, max=130, step=1, value=30, continuous_update=False),\n",
    "    salaire_de_base=widgets.FloatSlider(min=min, max=max, step=step, value=initial_value, continuous_update=False),\n",
    "    period=fixed(periods.period(\"2015\")),\n",
    ")\n",
    "None  # Hide strange output"
   ]
  },
  {
   "cell_type": "markdown",
   "metadata": {},
   "source": [
    "Here again, another approach is to pre-calculate results."
   ]
  },
  {
   "cell_type": "code",
   "execution_count": 14,
   "metadata": {},
   "outputs": [],
   "source": [
    "def precalculate_waterfall(min, max, count, period):\n",
    "    scenario_params = {\n",
    "        \"period\": period,\n",
    "        \"parent1\": {\n",
    "            \"age\": 30,\n",
    "        },\n",
    "        \"axes\": [\n",
    "            dict(\n",
    "                count = count,\n",
    "                min = min,\n",
    "                max = max,\n",
    "                name = 'salaire_de_base',\n",
    "            ),\n",
    "        ],\n",
    "    }\n",
    "    scenario = tbs.new_scenario().init_single_entity(**scenario_params)\n",
    "    simulation = scenario.new_simulation()\n",
    "    decomposition_json = decompositions.get_decomposition_json(tbs)\n",
    "    decomposition_json_precalculated = decompositions.calculate([simulation], decomposition_json)\n",
    "    return decomposition_json_precalculated"
   ]
  },
  {
   "cell_type": "code",
   "execution_count": 15,
   "metadata": {},
   "outputs": [
    {
     "data": {
      "application/json": {
       "@context": "https://openfisca.fr/contexts/decomposition.jsonld",
       "@type": "Node",
       "children": [
        {
         "@type": "Node",
         "children": [
          {
           "@type": "Node",
           "children": [
            {
             "@type": "Node",
             "children": [
              {
               "@type": "Node",
               "children": [
                {
                 "@type": "Node",
                 "children": [
                  {
                   "@type": "Node",
                   "children": [
                    {
                     "@type": "Node",
                     "children": [
                      {
                       "@type": "Node",
                       "code": "cout_du_travail",
                       "color": [
                        0,
                        66,
                        92
                       ],
                       "name": "Coût du travail",
                       "short_name": "Coût trav.",
                       "values": [
                        0,
                        4770.34423828125,
                        9540.5400390625,
                        14310.853515625,
                        19597.43359375,
                        27753.6796875,
                        35911.59765625,
                        42857.84375,
                        48980.39453125,
                        55072.12890625,
                        63876.41796875,
                        70226.328125
                       ]
                      },
                      {
                       "@type": "Node",
                       "code": "credit_impot_competitivite_emploi",
                       "name": "Crédit d'impôt compétitivité-emploi",
                       "short_name": "CICE",
                       "values": [
                        0,
                        272.72723388671875,
                        545.4544677734375,
                        818.1818237304688,
                        1090.908935546875,
                        1363.6363525390625,
                        1636.3636474609375,
                        1909.0911865234375,
                        2181.81787109375,
                        2454.545166015625,
                        0,
                        0
                       ]
                      },
                      {
                       "@type": "Node",
                       "code": "aide_premier_salarie",
                       "name": "Aide à l'embauche d'un premier salarié",
                       "short_name": "Aide 1er sal.",
                       "values": [
                        0,
                        0,
                        0,
                        0,
                        0,
                        0,
                        0,
                        0,
                        0,
                        0,
                        0,
                        0
                       ]
                      },
                      {
                       "@type": "Node",
                       "code": "aide_embauche_pme",
                       "name": "Aide PME à l'embauche d'un salarié",
                       "short_name": "Aide PME",
                       "values": [
                        0,
                        0,
                        0,
                        0,
                        0,
                        0,
                        0,
                        0,
                        0,
                        0,
                        0,
                        0
                       ]
                      },
                      {
                       "@type": "Node",
                       "code": "tehr",
                       "name": "Taxe exceptionnelle sur les hauts revenus",
                       "short_name": "TEHR",
                       "values": [
                        0,
                        0,
                        0,
                        0,
                        0,
                        0,
                        0,
                        0,
                        0,
                        0,
                        0,
                        0
                       ]
                      }
                     ],
                     "code": "salaire_super_brut",
                     "color": [
                      0,
                      66,
                      92
                     ],
                     "name": "Salaires super bruts",
                     "short_name": "Sal. Sup. brut",
                     "values": [
                      0,
                      5043.071472167969,
                      10085.994506835938,
                      15129.035339355469,
                      20688.342529296875,
                      29117.316040039062,
                      37547.96130371094,
                      44766.93493652344,
                      51162.21240234375,
                      57526.674072265625,
                      63876.41796875,
                      70226.328125
                     ]
                    },
                    {
                     "@type": "Node",
                     "code": "allegement_fillon",
                     "color": [
                      0,
                      171,
                      208
                     ],
                     "name": "Allègement sur les bas salaires (Fillon)",
                     "short_name": "Allèg. sal.",
                     "values": [
                      0,
                      1270.45458984375,
                      2540.9091796875,
                      3811.36328125,
                      4565.45458984375,
                      2450,
                      332.72723388671875,
                      0,
                      0,
                      0,
                      0,
                      0
                     ]
                    }
                   ],
                   "code": "salaire_super_brut_hors_allegements",
                   "color": [
                    0,
                    66,
                    92
                   ],
                   "name": "Salaires super bruts hors allègements",
                   "short_name": "Sal. sup. brut hors allèg.",
                   "values": [
                    0,
                    6313.526062011719,
                    12626.903686523438,
                    18940.39862060547,
                    25253.797119140625,
                    31567.316040039062,
                    37880.688537597656,
                    44766.93493652344,
                    51162.21240234375,
                    57526.674072265625,
                    63876.41796875,
                    70226.328125
                   ]
                  },
                  {
                   "@type": "Node",
                   "code": "cotisations_employeur",
                   "color": [
                    249,
                    208,
                    211
                   ],
                   "name": "Cotisations sociales employeur",
                   "short_name": "Cotsoc pat",
                   "values": [
                    0,
                    -1849.8900146484375,
                    -3699.63037109375,
                    -5549.490234375,
                    -7399.25,
                    -9249.12890625,
                    -11098.87109375,
                    -12948.7509765625,
                    -14798.5791015625,
                    -16617.578125,
                    -18421.8671875,
                    -20226.318359375
                   ]
                  }
                 ],
                 "code": "salaire_brut",
                 "color": [
                  0,
                  99,
                  143
                 ],
                 "name": "Salaires bruts",
                 "short_name": "Sal. bruts",
                 "values": [
                  0,
                  4463.636047363281,
                  8927.273315429688,
                  13390.908386230469,
                  17854.547119140625,
                  22318.187133789062,
                  26781.817443847656,
                  31818.183959960938,
                  36363.63330078125,
                  40909.095947265625,
                  45454.55078125,
                  50000.009765625
                 ]
                },
                {
                 "@type": "Node",
                 "code": "cotisations_salariales",
                 "color": [
                  243,
                  166,
                  171
                 ],
                 "name": "Cotisations sociales salariées",
                 "short_name": "Cotsoc sal",
                 "values": [
                  0,
                  -645.4500122070312,
                  -1290.91015625,
                  -1936.360107421875,
                  -2581.81005859375,
                  -3227.27001953125,
                  -3872.72998046875,
                  -4518.18994140625,
                  -5163.640625,
                  -5755.18017578125,
                  -6321.08984375,
                  -6887.00048828125
                 ]
                },
                {
                 "@type": "Node",
                 "code": "csg_deductible_salaire",
                 "color": [
                  235,
                  114,
                  118
                 ],
                 "name": "CSG déductible (salaires)",
                 "short_name": "CSG deduc",
                 "values": [
                  0,
                  -227.76063537597656,
                  -455.5212707519531,
                  -683.281982421875,
                  -911.0425415039062,
                  -1138.8092041015625,
                  -1366.5699462890625,
                  -1594.3302001953125,
                  -1822.0911865234375,
                  -2049.851318359375,
                  -2277.612548828125,
                  -2505.372314453125
                 ]
                },
                {
                 "@type": "Node",
                 "code": "mhsup",
                 "color": [
                  0,
                  115,
                  170
                 ],
                 "name": "Heures supplémentaires éxonérées",
                 "short_name": "Heures sup",
                 "values": [
                  0,
                  0,
                  0,
                  0,
                  0,
                  0,
                  0,
                  0,
                  0,
                  0,
                  0,
                  0
                 ]
                }
               ],
               "code": "salaire_imposable",
               "color": [
                0,
                115,
                170
               ],
               "name": "Salaires imposables",
               "short_name": "Sal. impos.",
               "values": [
                0,
                3590.4253997802734,
                7180.841888427734,
                10771.266296386719,
                14361.694519042969,
                17952.10791015625,
                21542.517517089844,
                25705.663818359375,
                29377.901489257812,
                33104.064453125,
                36855.848388671875,
                40607.636962890625
               ]
              },
              {
               "@type": "Node",
               "code": "csg_imposable_salaire",
               "color": [
                235,
                114,
                118
               ],
               "name": "CSG non déductible (salaires)",
               "short_name": "CSG imp. sal.",
               "values": [
                0,
                -107.18148803710938,
                -214.36297607421875,
                -321.54443359375,
                -428.7259521484375,
                -535.9102172851562,
                -643.091796875,
                -750.2731323242188,
                -857.4545288085938,
                -964.6361694335938,
                -1071.8175048828125,
                -1178.9990234375
               ]
              },
              {
               "@type": "Node",
               "code": "crds_salaire",
               "color": [
                229,
                48,
                56
               ],
               "name": "CRDS (salaires)",
               "short_name": "CRDS sal.",
               "values": [
                0,
                -22.32947540283203,
                -44.65895080566406,
                -66.98841094970703,
                -89.31790161132812,
                -111.64797973632812,
                -133.97743225097656,
                -156.30690002441406,
                -178.6363983154297,
                -200.96588134765625,
                -223.29530334472656,
                -245.6248016357422
               ]
              },
              {
               "@type": "Node",
               "code": "forfait_social",
               "color": [
                235,
                114,
                118
               ],
               "name": "Forfait social",
               "short_name": "Forfait social",
               "values": [
                0,
                0,
                0,
                0,
                0,
                0,
                0,
                0,
                0,
                0,
                0,
                0
               ]
              },
              {
               "@type": "Node",
               "code": "hsup",
               "color": [
                0,
                115,
                170
               ],
               "name": "Heures supplémentaires",
               "short_name": "Heures sup",
               "values": [
                0,
                0,
                0,
                0,
                0,
                0,
                0,
                0,
                0,
                0,
                0,
                0
               ]
              }
             ],
             "code": "salaire_net",
             "color": [
              0,
              138,
              201
             ],
             "name": "Salaires nets",
             "short_name": "Sal. nets",
             "values": [
              0,
              3460.914436340332,
              6921.819961547852,
              10382.733451843262,
              13843.650665283203,
              17304.549713134766,
              20765.448287963867,
              24799.083786010742,
              28341.81056213379,
              31938.46240234375,
              35560.735580444336,
              39183.01313781738
             ]
            },
            {
             "@type": "Node",
             "code": "rag",
             "name": "Revenus agricoles",
             "short_name": "Rev. agric.",
             "values": [
              0,
              0,
              0,
              0,
              0,
              0,
              0,
              0,
              0,
              0,
              0,
              0
             ]
            },
            {
             "@type": "Node",
             "code": "ric",
             "name": "Revenus industriels et commerciaux",
             "short_name": "R. ind. comm.",
             "values": [
              0,
              0,
              0,
              0,
              0,
              0,
              0,
              0,
              0,
              0,
              0,
              0
             ]
            },
            {
             "@type": "Node",
             "code": "rnc",
             "name": "Revenus non commerciaux",
             "short_name": "R. non comm.",
             "values": [
              0,
              0,
              0,
              0,
              0,
              0,
              0,
              0,
              0,
              0,
              0,
              0
             ]
            }
           ],
           "code": "revenus_du_travail",
           "color": [
            0,
            155,
            204
           ],
           "name": "Revenu du travail",
           "short_name": "Rev. travail",
           "values": [
            0,
            3460.914436340332,
            6921.819961547852,
            10382.733451843262,
            13843.650665283203,
            17304.549713134766,
            20765.448287963867,
            24799.083786010742,
            28341.81056213379,
            31938.46240234375,
            35560.735580444336,
            39183.01313781738
           ]
          },
          {
           "@type": "Node",
           "children": [
            {
             "@type": "Node",
             "children": [
              {
               "@type": "Node",
               "children": [
                {
                 "@type": "Node",
                 "code": "chomage_brut",
                 "name": "Chômage brut",
                 "short_name": "Chômage brut",
                 "values": [
                  0,
                  0,
                  0,
                  0,
                  0,
                  0,
                  0,
                  0,
                  0,
                  0,
                  0,
                  0
                 ]
                },
                {
                 "@type": "Node",
                 "code": "csg_deductible_chomage",
                 "color": [
                  235,
                  114,
                  118
                 ],
                 "name": "CSG déductible (chômage)",
                 "short_name": "CSG déd. chôm.",
                 "values": [
                  0,
                  0,
                  0,
                  0,
                  0,
                  0,
                  0,
                  0,
                  0,
                  0,
                  0,
                  0
                 ]
                }
               ],
               "code": "chomage_imposable",
               "name": "Chômage",
               "short_name": "Chômage decl.",
               "values": [
                0,
                0,
                0,
                0,
                0,
                0,
                0,
                0,
                0,
                0,
                0,
                0
               ]
              },
              {
               "@type": "Node",
               "code": "csg_imposable_chomage",
               "color": [
                235,
                114,
                118
               ],
               "name": "CSG non déductible (chômage)",
               "short_name": "CSG imp. chôm.",
               "values": [
                0,
                0,
                0,
                0,
                0,
                0,
                0,
                0,
                0,
                0,
                0,
                0
               ]
              },
              {
               "@type": "Node",
               "code": "crds_chomage",
               "color": [
                229,
                48,
                56
               ],
               "name": "CRDS (chômage)",
               "short_name": "CRDS chôm.",
               "values": [
                0,
                0,
                0,
                0,
                0,
                0,
                0,
                0,
                0,
                0,
                0,
                0
               ]
              }
             ],
             "code": "chomage_net",
             "color": [
              136,
              120,
              178
             ],
             "name": "Chômage net",
             "short_name": "Chômage net",
             "values": [
              0,
              0,
              0,
              0,
              0,
              0,
              0,
              0,
              0,
              0,
              0,
              0
             ]
            },
            {
             "@type": "Node",
             "children": [
              {
               "@type": "Node",
               "children": [
                {
                 "@type": "Node",
                 "code": "retraite_brute",
                 "name": "Retraites brutes",
                 "short_name": "Retr. brutes",
                 "values": [
                  0,
                  0,
                  0,
                  0,
                  0,
                  0,
                  0,
                  0,
                  0,
                  0,
                  0,
                  0
                 ]
                },
                {
                 "@type": "Node",
                 "code": "csg_deductible_retraite",
                 "color": [
                  235,
                  114,
                  118
                 ],
                 "name": "CSG déductible (retraite)",
                 "short_name": "CSG déd. ret.",
                 "values": [
                  0,
                  0,
                  0,
                  0,
                  0,
                  0,
                  0,
                  0,
                  0,
                  0,
                  0,
                  0
                 ]
                }
               ],
               "code": "retraite_imposable",
               "name": "Retraites",
               "short_name": "Retr. décl.",
               "values": [
                0,
                0,
                0,
                0,
                0,
                0,
                0,
                0,
                0,
                0,
                0,
                0
               ]
              },
              {
               "@type": "Node",
               "code": "csg_imposable_retraite",
               "color": [
                235,
                114,
                118
               ],
               "name": "CSG non déductible (pensions)",
               "short_name": "CSG imp. pens.",
               "values": [
                0,
                0,
                0,
                0,
                0,
                0,
                0,
                0,
                0,
                0,
                0,
                0
               ]
              },
              {
               "@type": "Node",
               "code": "crds_retraite",
               "color": [
                229,
                48,
                56
               ],
               "name": "CRDS (pensions)",
               "short_name": "CRDS (pens.)",
               "values": [
                0,
                0,
                0,
                0,
                0,
                0,
                0,
                0,
                0,
                0,
                0,
                0
               ]
              }
             ],
             "code": "retraite_nette",
             "color": [
              87,
              88,
              138
             ],
             "name": "Retraites nettes",
             "short_name": "Retraites nettes",
             "values": [
              0,
              0,
              0,
              0,
              0,
              0,
              0,
              0,
              0,
              0,
              0,
              0
             ]
            },
            {
             "@type": "Node",
             "code": "pensions_alimentaires_percues",
             "color": [
              136,
              120,
              178
             ],
             "name": "Pensions alimentaires reçues",
             "short_name": "P. alim. reç.",
             "values": [
              0,
              0,
              0,
              0,
              0,
              0,
              0,
              0,
              0,
              0,
              0,
              0
             ]
            },
            {
             "@type": "Node",
             "code": "pensions_alimentaires_versees",
             "color": [
              136,
              120,
              178
             ],
             "name": "Pensions alimentaires versée",
             "short_name": "P. alim. vers.",
             "values": [
              0,
              0,
              0,
              0,
              0,
              0,
              0,
              0,
              0,
              0,
              0,
              0
             ]
            },
            {
             "@type": "Node",
             "code": "retraite_titre_onereux",
             "color": [
              125,
              185,
              86
             ],
             "name": "Rentes viagères",
             "short_name": "Rentes viag.",
             "values": [
              0,
              0,
              0,
              0,
              0,
              0,
              0,
              0,
              0,
              0,
              0,
              0
             ]
            }
           ],
           "code": "pensions",
           "color": [
            97,
            75,
            150
           ],
           "name": "Pensions",
           "short_name": "Pensions",
           "values": [
            0,
            0,
            0,
            0,
            0,
            0,
            0,
            0,
            0,
            0,
            0,
            0
           ]
          },
          {
           "@type": "Node",
           "children": [
            {
             "@type": "Node",
             "children": [
              {
               "@type": "Node",
               "code": "fon",
               "color": [
                255,
                245,
                155
               ],
               "name": "Revenus fonciers",
               "short_name": "Rev. fonciers",
               "values": [
                0,
                0,
                0,
                0,
                0,
                0,
                0,
                0,
                0,
                0,
                0,
                0
               ]
              },
              {
               "@type": "Node",
               "code": "f3vg",
               "color": [
                255,
                245,
                155
               ],
               "name": "Plus-values de cessions de valeurs mobilières",
               "short_name": "Plus.-values mo.",
               "values": [
                0,
                0,
                0,
                0,
                0,
                0,
                0,
                0,
                0,
                0,
                0,
                0
               ]
              },
              {
               "@type": "Node",
               "code": "f3vz",
               "color": [
                255,
                245,
                155
               ],
               "name": "Plus-values immobilières",
               "short_name": "Plus.-values immo.",
               "values": [
                0,
                0,
                0,
                0,
                0,
                0,
                0,
                0,
                0,
                0,
                0,
                0
               ]
              },
              {
               "@type": "Node",
               "code": "rev_cap_bar",
               "color": [
                255,
                239,
                103
               ],
               "name": "Revenus du capital soumis au barème",
               "short_name": "Rev cap bar",
               "values": [
                0,
                0,
                0,
                0,
                0,
                0,
                0,
                0,
                0,
                0,
                0,
                0
               ]
              },
              {
               "@type": "Node",
               "code": "rev_cap_lib",
               "color": [
                255,
                233,
                28
               ],
               "name": "Revenus du capital soumis au prélèvement libératoire",
               "short_name": "Rev cap lib",
               "values": [
                0,
                0,
                0,
                0,
                0,
                0,
                0,
                0,
                0,
                0,
                0,
                0
               ]
              },
              {
               "@type": "Node",
               "code": "rac",
               "color": [
                247,
                221,
                0
               ],
               "name": "Revenus accessoires",
               "short_name": "Rev. accesoires",
               "values": [
                0,
                0,
                0,
                0,
                0,
                0,
                0,
                0,
                0,
                0,
                0,
                0
               ]
              }
             ],
             "code": "rev_cap_brut",
             "color": [
              255,
              222,
              48
             ],
             "name": "Revenus du capital brut",
             "short_name": "Rev. cap. brut",
             "values": [
              0,
              0,
              0,
              0,
              0,
              0,
              0,
              0,
              0,
              0,
              0,
              0
             ]
            },
            {
             "@type": "Node",
             "children": [
              {
               "@type": "Node",
               "children": [
                {
                 "@type": "Node",
                 "code": "prelsoc_fon",
                 "color": [
                  243,
                  166,
                  171
                 ],
                 "name": "Prélèvement social sur les revenus fonciers",
                 "short_name": "Pr. s. foncier",
                 "values": [
                  0,
                  0,
                  0,
                  0,
                  0,
                  0,
                  0,
                  0,
                  0,
                  0,
                  0,
                  0
                 ]
                },
                {
                 "@type": "Node",
                 "code": "prelsoc_pv_mo",
                 "color": [
                  243,
                  166,
                  171
                 ],
                 "name": "Prélèvement social sur les plus-values de cessions de valeurs mobilières",
                 "short_name": "Prel. soc. p.-v. mo.",
                 "values": [
                  0,
                  0,
                  0,
                  0,
                  0,
                  0,
                  0,
                  0,
                  0,
                  0,
                  0,
                  0
                 ]
                },
                {
                 "@type": "Node",
                 "code": "prelsoc_pv_immo",
                 "color": [
                  243,
                  166,
                  171
                 ],
                 "name": "Prélèvement social sur les plus-values immobilières",
                 "short_name": "Prel. soc. p.-v.",
                 "values": [
                  0,
                  0,
                  0,
                  0,
                  0,
                  0,
                  0,
                  0,
                  0,
                  0,
                  0,
                  0
                 ]
                },
                {
                 "@type": "Node",
                 "code": "prelsoc_cap_bar",
                 "color": [
                  243,
                  166,
                  171
                 ],
                 "name": "Prélèvement social sur les revenus du capital soumis au barème",
                 "short_name": "Pr. s. cap. bar.",
                 "values": [
                  0,
                  0,
                  0,
                  0,
                  0,
                  0,
                  0,
                  0,
                  0,
                  0,
                  0,
                  0
                 ]
                },
                {
                 "@type": "Node",
                 "code": "prelsoc_cap_lib",
                 "color": [
                  243,
                  166,
                  171
                 ],
                 "name": "Prélèvement social sur les revenus du capital soumis au prélèvement libératoire",
                 "short_name": "Prel. soc. lib.",
                 "values": [
                  0,
                  0,
                  0,
                  0,
                  0,
                  0,
                  0,
                  0,
                  0,
                  0,
                  0,
                  0
                 ]
                }
               ],
               "code": "prelsoc_cap",
               "color": [
                243,
                166,
                171
               ],
               "name": "Prélèvement social sur les revenus du capital",
               "short_name": "Pr. s. cap.",
               "values": [
                0,
                0,
                0,
                0,
                0,
                0,
                0,
                0,
                0,
                0,
                0,
                0
               ]
              },
              {
               "@type": "Node",
               "children": [
                {
                 "@type": "Node",
                 "code": "csg_fon",
                 "color": [
                  235,
                  114,
                  118
                 ],
                 "name": "CSG (revenus fonciers)",
                 "short_name": "CSG foncier",
                 "values": [
                  0,
                  0,
                  0,
                  0,
                  0,
                  0,
                  0,
                  0,
                  0,
                  0,
                  0,
                  0
                 ]
                },
                {
                 "@type": "Node",
                 "code": "csg_pv_mo",
                 "color": [
                  235,
                  114,
                  118
                 ],
                 "name": "CSG (plus-values de cessions de valeurs mobilières)",
                 "short_name": "CSG p.-v. mo.",
                 "values": [
                  0,
                  0,
                  0,
                  0,
                  0,
                  0,
                  0,
                  0,
                  0,
                  0,
                  0,
                  0
                 ]
                },
                {
                 "@type": "Node",
                 "code": "csg_pv_immo",
                 "color": [
                  235,
                  114,
                  118
                 ],
                 "name": "CSG (plus-values immobilières)",
                 "short_name": "CSG p.-v. immo.",
                 "values": [
                  0,
                  0,
                  0,
                  0,
                  0,
                  0,
                  0,
                  0,
                  0,
                  0,
                  0,
                  0
                 ]
                },
                {
                 "@type": "Node",
                 "code": "csg_cap_bar",
                 "color": [
                  235,
                  114,
                  118
                 ],
                 "name": "CSG (revenus du capital au barème)",
                 "short_name": "CSG cap. bar.",
                 "values": [
                  0,
                  0,
                  0,
                  0,
                  0,
                  0,
                  0,
                  0,
                  0,
                  0,
                  0,
                  0
                 ]
                },
                {
                 "@type": "Node",
                 "code": "csg_cap_lib",
                 "color": [
                  235,
                  114,
                  118
                 ],
                 "name": "CSG (revenus du capital soumis au prélèvement libératoire)",
                 "short_name": "CSG cap. lib.",
                 "values": [
                  0,
                  0,
                  0,
                  0,
                  0,
                  0,
                  0,
                  0,
                  0,
                  0,
                  0,
                  0
                 ]
                }
               ],
               "code": "csg_cap",
               "color": [
                235,
                114,
                118
               ],
               "name": "CSG des revenus du capital",
               "short_name": "CSG cap.",
               "values": [
                0,
                0,
                0,
                0,
                0,
                0,
                0,
                0,
                0,
                0,
                0,
                0
               ]
              },
              {
               "@type": "Node",
               "children": [
                {
                 "@type": "Node",
                 "code": "crds_fon",
                 "color": [
                  229,
                  48,
                  56
                 ],
                 "name": "CRDS (revenus fonciers)",
                 "short_name": "CRDS foncier",
                 "values": [
                  0,
                  0,
                  0,
                  0,
                  0,
                  0,
                  0,
                  0,
                  0,
                  0,
                  0,
                  0
                 ]
                },
                {
                 "@type": "Node",
                 "code": "crds_pv_mo",
                 "color": [
                  229,
                  48,
                  56
                 ],
                 "name": "CRDS (plus-values de cessions de valeurs mobilières)",
                 "short_name": "CRDS p.-v. mo.",
                 "values": [
                  0,
                  0,
                  0,
                  0,
                  0,
                  0,
                  0,
                  0,
                  0,
                  0,
                  0,
                  0
                 ]
                },
                {
                 "@type": "Node",
                 "code": "crds_pv_immo",
                 "color": [
                  229,
                  48,
                  56
                 ],
                 "name": "CRDS (plus-values immobilières)",
                 "short_name": "CRDS p.-v. immo.",
                 "values": [
                  0,
                  0,
                  0,
                  0,
                  0,
                  0,
                  0,
                  0,
                  0,
                  0,
                  0,
                  0
                 ]
                },
                {
                 "@type": "Node",
                 "code": "crds_cap_bar",
                 "color": [
                  229,
                  48,
                  56
                 ],
                 "name": "CRDS (revenus du capital au barème)",
                 "short_name": "CRDS cap. bar.",
                 "values": [
                  0,
                  0,
                  0,
                  0,
                  0,
                  0,
                  0,
                  0,
                  0,
                  0,
                  0,
                  0
                 ]
                },
                {
                 "@type": "Node",
                 "code": "crds_cap_lib",
                 "color": [
                  229,
                  48,
                  56
                 ],
                 "name": "CRDS (revenus du capital soumis au prélèvement libératoire)",
                 "short_name": "CRDS cap. lib.",
                 "values": [
                  0,
                  0,
                  0,
                  0,
                  0,
                  0,
                  0,
                  0,
                  0,
                  0,
                  0,
                  0
                 ]
                }
               ],
               "code": "crds_cap",
               "color": [
                229,
                48,
                56
               ],
               "name": "CRDS",
               "short_name": "CRDS cap.",
               "values": [
                0,
                0,
                0,
                0,
                0,
                0,
                0,
                0,
                0,
                0,
                0,
                0
               ]
              }
             ],
             "code": "cotsoc_cap",
             "color": [
              243,
              166,
              171
             ],
             "name": "Cotisations sociales sur les revenus du capital",
             "short_name": "Cotsoc. capital",
             "values": [
              0,
              0,
              0,
              0,
              0,
              0,
              0,
              0,
              0,
              0,
              0,
              0
             ]
            },
            {
             "@type": "Node",
             "code": "imp_lib",
             "color": [
              232,
              79,
              95
             ],
             "name": "Prélèvement libératoire sur les revenus du patrimoine",
             "short_name": "Prél. libérat.",
             "values": [
              0,
              0,
              0,
              0,
              0,
              0,
              0,
              0,
              0,
              0,
              0,
              0
             ]
            }
           ],
           "code": "rev_cap_net",
           "color": [
            255,
            222,
            48
           ],
           "name": "Revenus du capital net",
           "short_name": "Rev. cap. net",
           "values": [
            0,
            0,
            0,
            0,
            0,
            0,
            0,
            0,
            0,
            0,
            0,
            0
           ]
          }
         ],
         "code": "rev_net",
         "color": [
          0,
          155,
          204
         ],
         "name": "Revenus nets",
         "short_name": "Rev. nets",
         "values": [
          0,
          3460.914436340332,
          6921.819961547852,
          10382.733451843262,
          13843.650665283203,
          17304.549713134766,
          20765.448287963867,
          24799.083786010742,
          28341.81056213379,
          31938.46240234375,
          35560.735580444336,
          39183.01313781738
         ]
        },
        {
         "@type": "Node",
         "children": [
          {
           "@type": "Node",
           "children": [
            {
             "@type": "Node",
             "code": "af",
             "color": [
              181,
              213,
              154
             ],
             "name": "Allocations familiales",
             "short_name": "Alloc. fam.",
             "values": [
              0,
              0,
              0,
              0,
              0,
              0,
              0,
              0,
              0,
              0,
              0,
              0
             ]
            },
            {
             "@type": "Node",
             "code": "cf",
             "color": [
              125,
              185,
              86
             ],
             "name": "Complément familial",
             "short_name": "Compl. fam.",
             "values": [
              0,
              0,
              0,
              0,
              0,
              0,
              0,
              0,
              0,
              0,
              0,
              0
             ]
            },
            {
             "@type": "Node",
             "code": "ars",
             "color": [
              91,
              172,
              38
             ],
             "name": "Allocation de rentrée scolaire",
             "short_name": "ARS",
             "values": [
              0,
              0,
              0,
              0,
              0,
              0,
              0,
              0,
              0,
              0,
              0,
              0
             ]
            },
            {
             "@type": "Node",
             "code": "aeeh",
             "color": [
              80,
              160,
              38
             ],
             "name": "Allocation d'éducation de l'enfant handicapé",
             "short_name": "AEEH",
             "values": [
              0,
              0,
              0,
              0,
              0,
              0,
              0,
              0,
              0,
              0,
              0,
              0
             ]
            },
            {
             "@type": "Node",
             "children": [
              {
               "@type": "Node",
               "code": "paje_base",
               "name": "Paje - Allocation de base",
               "short_name": "PAJE",
               "values": [
                0,
                0,
                0,
                0,
                0,
                0,
                0,
                0,
                0,
                0,
                0,
                0
               ]
              },
              {
               "@type": "Node",
               "code": "paje_naissance",
               "name": "Paje - Prime de naissance",
               "short_name": "Prime naiss.",
               "values": [
                0,
                0,
                0,
                0,
                0,
                0,
                0,
                0,
                0,
                0,
                0,
                0
               ]
              },
              {
               "@type": "Node",
               "code": "paje_clca",
               "name": "Paje - Complément de libre choix d'activité",
               "short_name": "CLCA",
               "values": [
                0,
                0,
                0,
                0,
                0,
                0,
                0,
                0,
                0,
                0,
                0,
                0
               ]
              },
              {
               "@type": "Node",
               "code": "paje_colca",
               "name": "Paje - Complément optionnel de libre choix d'activité",
               "short_name": "COLCA",
               "values": [
                0,
                0,
                0,
                0,
                0,
                0,
                0,
                0,
                0,
                0,
                0,
                0
               ]
              },
              {
               "@type": "Node",
               "code": "paje_cmg",
               "name": "Paje - Complément de libre choix du mode de garde",
               "short_name": "CLCMG",
               "values": [
                0,
                0,
                0,
                0,
                0,
                0,
                0,
                0,
                0,
                0,
                0,
                0
               ]
              }
             ],
             "code": "paje",
             "color": [
              77,
              144,
              34
             ],
             "name": "Prestation d'accueil du jeune enfant",
             "short_name": "PAJE",
             "values": [
              0,
              0,
              0,
              0,
              0,
              0,
              0,
              0,
              0,
              0,
              0,
              0
             ]
            },
            {
             "@type": "Node",
             "code": "asf",
             "color": [
              77,
              144,
              34
             ],
             "name": "Allocation de soutien familial",
             "short_name": "ASF",
             "values": [
              0,
              0,
              0,
              0,
              0,
              0,
              0,
              0,
              0,
              0,
              0,
              0
             ]
            },
            {
             "@type": "Node",
             "code": "crds_pfam",
             "color": [
              229,
              48,
              56
             ],
             "name": "CRDS (prestations familiales)",
             "short_name": "CRDS fam.",
             "values": [
              0,
              0,
              0,
              0,
              0,
              0,
              0,
              0,
              0,
              0,
              0,
              0
             ]
            }
           ],
           "code": "prestations_familiales",
           "color": [
            83,
            170,
            49
           ],
           "name": "Prestations familiales",
           "short_name": "Prest. fam.",
           "values": [
            0,
            0,
            0,
            0,
            0,
            0,
            0,
            0,
            0,
            0,
            0,
            0
           ]
          },
          {
           "@type": "Node",
           "children": [
            {
             "@type": "Node",
             "code": "aspa",
             "color": [
              249,
              193,
              148
             ],
             "name": "Allocation de solidarité aux personnes agées",
             "short_name": "ASPA",
             "values": [
              0,
              0,
              0,
              0,
              0,
              0,
              0,
              0,
              0,
              0,
              0,
              0
             ]
            },
            {
             "@type": "Node",
             "code": "aah",
             "color": [
              244,
              160,
              80
             ],
             "name": "Allocation adulte handicapé",
             "short_name": "AAH",
             "values": [
              0,
              0,
              0,
              0,
              0,
              0,
              0,
              0,
              0,
              0,
              0,
              0
             ]
            },
            {
             "@type": "Node",
             "code": "caah",
             "color": [
              244,
              160,
              80
             ],
             "name": "Complément de l'allocation adulte handicapé",
             "short_name": "CAAH",
             "values": [
              0,
              0,
              0,
              0,
              0,
              0,
              0,
              0,
              0,
              0,
              0,
              0
             ]
            },
            {
             "@type": "Node",
             "code": "asi",
             "color": [
              244,
              160,
              80
             ],
             "name": "Allocation supplémentaire d'invalidité",
             "short_name": "ASI",
             "values": [
              0,
              0,
              0,
              0,
              0,
              0,
              0,
              0,
              0,
              0,
              0,
              0
             ]
            },
            {
             "@type": "Node",
             "code": "rsa",
             "color": [
              239,
              130,
              19
             ],
             "name": "Revenu de solidarité active",
             "short_name": "RSA",
             "values": [
              4666.0400390625,
              3656.369384765625,
              2646.631103515625,
              1636.994873046875,
              627.3245239257812,
              0,
              0,
              0,
              0,
              0,
              0,
              0
             ]
            },
            {
             "@type": "Node",
             "code": "psa",
             "color": [
              239,
              130,
              19
             ],
             "name": "Prime de solidarité active",
             "short_name": "PSA",
             "values": [
              0,
              0,
              0,
              0,
              0,
              0,
              0,
              0,
              0,
              0,
              0,
              0
             ]
            },
            {
             "@type": "Node",
             "code": "ppa",
             "color": [
              239,
              130,
              19
             ],
             "name": "Prime pour l'activité",
             "short_name": "PPA",
             "values": [
              0,
              0,
              0,
              0,
              0,
              0,
              0,
              0,
              0,
              0,
              0,
              0
             ]
            },
            {
             "@type": "Node",
             "code": "aefa",
             "color": [
              237,
              119,
              3
             ],
             "name": "Aide exceptionelle de fin d'année",
             "short_name": "AEFA",
             "values": [
              125.44999694824219,
              125.44999694824219,
              125.44999694824219,
              125.44999694824219,
              125.44999694824219,
              0,
              0,
              0,
              0,
              0,
              0,
              0
             ]
            },
            {
             "@type": "Node",
             "code": "api",
             "color": [
              208,
              112,
              4
             ],
             "name": "Allocation parent isolé",
             "short_name": "API",
             "values": [
              0,
              0,
              0,
              0,
              0,
              0,
              0,
              0,
              0,
              0,
              0,
              0
             ]
            }
           ],
           "code": "minima_sociaux",
           "color": [
            240,
            138,
            76
           ],
           "name": "Minima sociaux",
           "short_name": "Min. sociaux",
           "values": [
            4791.490036010742,
            3781.819381713867,
            2772.081100463867,
            1762.4448699951172,
            752.7745208740234,
            0,
            0,
            0,
            0,
            0,
            0,
            0
           ]
          },
          {
           "@type": "Node",
           "children": [
            {
             "@type": "Node",
             "code": "apl",
             "color": [
              255,
              245,
              155
             ],
             "name": "Aide personalisée au logement",
             "short_name": "APL",
             "values": [
              0,
              0,
              0,
              0,
              0,
              0,
              0,
              0,
              0,
              0,
              0,
              0
             ]
            },
            {
             "@type": "Node",
             "code": "als",
             "color": [
              255,
              239,
              103
             ],
             "name": "Allocation logement social",
             "short_name": "ALS",
             "values": [
              0,
              0,
              0,
              0,
              0,
              0,
              0,
              0,
              0,
              0,
              0,
              0
             ]
            },
            {
             "@type": "Node",
             "code": "alf",
             "color": [
              255,
              233,
              28
             ],
             "name": "Allocation de logement familiale",
             "short_name": "ALF",
             "values": [
              0,
              0,
              0,
              0,
              0,
              0,
              0,
              0,
              0,
              0,
              0,
              0
             ]
            },
            {
             "@type": "Node",
             "code": "als_etudiant",
             "color": [
              247,
              221,
              0
             ],
             "name": "Allocation logement étudiant",
             "short_name": "AL étudiant",
             "values": [
              0,
              0,
              0,
              0,
              0,
              0,
              0,
              0,
              0,
              0,
              0,
              0
             ]
            },
            {
             "@type": "Node",
             "code": "crds_logement",
             "color": [
              229,
              48,
              56
             ],
             "name": "CRDS (allocation logement)",
             "short_name": "CRDS log.",
             "values": [
              0,
              0,
              0,
              0,
              0,
              0,
              0,
              0,
              0,
              0,
              0,
              0
             ]
            }
           ],
           "code": "aides_logement",
           "color": [
            255,
            222,
            48
           ],
           "name": "Prestations logement",
           "short_name": "Prest. logement",
           "values": [
            0,
            0,
            0,
            0,
            0,
            0,
            0,
            0,
            0,
            0,
            0,
            0
           ]
          }
         ],
         "code": "prestations_sociales",
         "color": [
          255,
          102,
          63
         ],
         "name": "Prestations sociales",
         "short_name": "Prest. soc.",
         "values": [
          4791.490036010742,
          3781.819381713867,
          2772.081100463867,
          1762.4448699951172,
          752.7745208740234,
          0,
          0,
          0,
          0,
          0,
          0,
          0
         ]
        },
        {
         "@type": "Node",
         "code": "ppe",
         "color": [
          182,
          34,
          131
         ],
         "name": "Prime pour l'emploi",
         "short_name": "PPE",
         "values": [
          0,
          0,
          0,
          0,
          0,
          0,
          0,
          0,
          0,
          0,
          0,
          0
         ]
        },
        {
         "@type": "Node",
         "children": [
          {
           "@type": "Node",
           "code": "irpp",
           "color": [
            232,
            79,
            95
           ],
           "name": "Impôt sur le revenu",
           "short_name": "IRPP",
           "values": [
            0,
            0,
            0,
            0,
            0,
            -537.1728515625,
            -1346.954833984375,
            -1880.85302734375,
            -2343.587158203125,
            -3293.656494140625,
            -4306.39306640625,
            -5319.4287109375
           ]
          },
          {
           "@type": "Node",
           "code": "ir_pv_immo",
           "color": [
            232,
            79,
            95
           ],
           "name": "Impôt sur le revenu afférent à la plus-value immobilière",
           "short_name": "IR immo.",
           "values": [
            0,
            0,
            0,
            0,
            0,
            0,
            0,
            0,
            0,
            0,
            0,
            0
           ]
          },
          {
           "@type": "Node",
           "children": [
            {
             "@type": "Node",
             "code": "isf_tot",
             "color": [
              232,
              79,
              95
             ],
             "name": "Impôt de solidarité sur la fortune",
             "short_name": "ISF",
             "values": [
              0,
              0,
              0,
              0,
              0,
              0,
              0,
              0,
              0,
              0,
              0,
              0
             ]
            },
            {
             "@type": "Node",
             "code": "bouclier_fiscal",
             "color": [
              182,
              34,
              131
             ],
             "name": "Bouclier fiscal",
             "short_name": "Bouclier fiscal",
             "values": [
              0,
              0,
              0,
              0,
              0,
              0,
              0,
              0,
              0,
              0,
              0,
              0
             ]
            }
           ],
           "code": "isf_net",
           "color": [
            182,
            34,
            131
           ],
           "name": "ISF net",
           "short_name": "ISF net",
           "values": [
            0,
            0,
            0,
            0,
            0,
            0,
            0,
            0,
            0,
            0,
            0,
            0
           ]
          },
          {
           "@type": "Node",
           "code": "taxe_habitation",
           "color": [
            232,
            79,
            95
           ],
           "name": "Taxe d'habitation",
           "short_name": "TH",
           "values": [
            0,
            0,
            0,
            0,
            0,
            0,
            0,
            0,
            0,
            0,
            0,
            0
           ]
          }
         ],
         "code": "impo",
         "color": [
          232,
          79,
          95
         ],
         "name": "Impôts directs",
         "short_name": "Impôts directs",
         "values": [
          0,
          0,
          0,
          0,
          0,
          -537.1728515625,
          -1346.954833984375,
          -1880.85302734375,
          -2343.587158203125,
          -3293.656494140625,
          -4306.39306640625,
          -5319.4287109375
         ]
        }
       ],
       "code": "revenu_disponible",
       "color": [
        0,
        0,
        255
       ],
       "name": "Revenu disponible",
       "short_name": "Rev. disp.",
       "type": 2,
       "values": [
        4791.490036010742,
        7242.733818054199,
        9693.901062011719,
        12145.178321838379,
        14596.425186157227,
        16767.376861572266,
        19418.493453979492,
        22918.230758666992,
        25998.223403930664,
        28644.805908203125,
        31254.342514038086,
        33863.58442687988
       ]
      },
      "text/plain": [
       "<IPython.core.display.JSON object>"
      ]
     },
     "execution_count": 15,
     "metadata": {},
     "output_type": "execute_result"
    }
   ],
   "source": [
    "decomposition_json_precalculated = precalculate_waterfall(min, max, count, periods.period(\"2015\"))\n",
    "JSON(decomposition_json_precalculated)"
   ]
  },
  {
   "cell_type": "code",
   "execution_count": 16,
   "metadata": {},
   "outputs": [],
   "source": [
    "def update_key(mapping, key, value):\n",
    "    return {\n",
    "        k: value if k == key else v\n",
    "        for k, v in mapping.iteritems()\n",
    "    }\n",
    "\n",
    "def keep_value_at_index(index, node):\n",
    "    \"\"\"Transform decomposition JSON tree, keeping only the given index for each node[\"values\"].\"\"\"\n",
    "    if \"values\" in node:\n",
    "        node = update_key(node, \"values\", [node[\"values\"][index]])\n",
    "    if \"children\" in node:\n",
    "        new_children = [\n",
    "            keep_value_at_index(index, child_node)\n",
    "            for child_node in node[\"children\"]\n",
    "        ]\n",
    "        node = update_key(node, \"children\", new_children)\n",
    "    return node"
   ]
  },
  {
   "cell_type": "code",
   "execution_count": 17,
   "metadata": {},
   "outputs": [
    {
     "data": {
      "application/json": {
       "@context": "https://openfisca.fr/contexts/decomposition.jsonld",
       "@type": "Node",
       "children": [
        {
         "@type": "Node",
         "children": [
          {
           "@type": "Node",
           "children": [
            {
             "@type": "Node",
             "children": [
              {
               "@type": "Node",
               "children": [
                {
                 "@type": "Node",
                 "children": [
                  {
                   "@type": "Node",
                   "children": [
                    {
                     "@type": "Node",
                     "children": [
                      {
                       "@type": "Node",
                       "code": "cout_du_travail",
                       "color": [
                        0,
                        66,
                        92
                       ],
                       "name": "Coût du travail",
                       "short_name": "Coût trav.",
                       "values": [
                        0
                       ]
                      },
                      {
                       "@type": "Node",
                       "code": "credit_impot_competitivite_emploi",
                       "name": "Crédit d'impôt compétitivité-emploi",
                       "short_name": "CICE",
                       "values": [
                        0
                       ]
                      },
                      {
                       "@type": "Node",
                       "code": "aide_premier_salarie",
                       "name": "Aide à l'embauche d'un premier salarié",
                       "short_name": "Aide 1er sal.",
                       "values": [
                        0
                       ]
                      },
                      {
                       "@type": "Node",
                       "code": "aide_embauche_pme",
                       "name": "Aide PME à l'embauche d'un salarié",
                       "short_name": "Aide PME",
                       "values": [
                        0
                       ]
                      },
                      {
                       "@type": "Node",
                       "code": "tehr",
                       "name": "Taxe exceptionnelle sur les hauts revenus",
                       "short_name": "TEHR",
                       "values": [
                        0
                       ]
                      }
                     ],
                     "code": "salaire_super_brut",
                     "color": [
                      0,
                      66,
                      92
                     ],
                     "name": "Salaires super bruts",
                     "short_name": "Sal. Sup. brut",
                     "values": [
                      0
                     ]
                    },
                    {
                     "@type": "Node",
                     "code": "allegement_fillon",
                     "color": [
                      0,
                      171,
                      208
                     ],
                     "name": "Allègement sur les bas salaires (Fillon)",
                     "short_name": "Allèg. sal.",
                     "values": [
                      0
                     ]
                    }
                   ],
                   "code": "salaire_super_brut_hors_allegements",
                   "color": [
                    0,
                    66,
                    92
                   ],
                   "name": "Salaires super bruts hors allègements",
                   "short_name": "Sal. sup. brut hors allèg.",
                   "values": [
                    0
                   ]
                  },
                  {
                   "@type": "Node",
                   "code": "cotisations_employeur",
                   "color": [
                    249,
                    208,
                    211
                   ],
                   "name": "Cotisations sociales employeur",
                   "short_name": "Cotsoc pat",
                   "values": [
                    0
                   ]
                  }
                 ],
                 "code": "salaire_brut",
                 "color": [
                  0,
                  99,
                  143
                 ],
                 "name": "Salaires bruts",
                 "short_name": "Sal. bruts",
                 "values": [
                  0
                 ]
                },
                {
                 "@type": "Node",
                 "code": "cotisations_salariales",
                 "color": [
                  243,
                  166,
                  171
                 ],
                 "name": "Cotisations sociales salariées",
                 "short_name": "Cotsoc sal",
                 "values": [
                  0
                 ]
                },
                {
                 "@type": "Node",
                 "code": "csg_deductible_salaire",
                 "color": [
                  235,
                  114,
                  118
                 ],
                 "name": "CSG déductible (salaires)",
                 "short_name": "CSG deduc",
                 "values": [
                  0
                 ]
                },
                {
                 "@type": "Node",
                 "code": "mhsup",
                 "color": [
                  0,
                  115,
                  170
                 ],
                 "name": "Heures supplémentaires éxonérées",
                 "short_name": "Heures sup",
                 "values": [
                  0
                 ]
                }
               ],
               "code": "salaire_imposable",
               "color": [
                0,
                115,
                170
               ],
               "name": "Salaires imposables",
               "short_name": "Sal. impos.",
               "values": [
                0
               ]
              },
              {
               "@type": "Node",
               "code": "csg_imposable_salaire",
               "color": [
                235,
                114,
                118
               ],
               "name": "CSG non déductible (salaires)",
               "short_name": "CSG imp. sal.",
               "values": [
                0
               ]
              },
              {
               "@type": "Node",
               "code": "crds_salaire",
               "color": [
                229,
                48,
                56
               ],
               "name": "CRDS (salaires)",
               "short_name": "CRDS sal.",
               "values": [
                0
               ]
              },
              {
               "@type": "Node",
               "code": "forfait_social",
               "color": [
                235,
                114,
                118
               ],
               "name": "Forfait social",
               "short_name": "Forfait social",
               "values": [
                0
               ]
              },
              {
               "@type": "Node",
               "code": "hsup",
               "color": [
                0,
                115,
                170
               ],
               "name": "Heures supplémentaires",
               "short_name": "Heures sup",
               "values": [
                0
               ]
              }
             ],
             "code": "salaire_net",
             "color": [
              0,
              138,
              201
             ],
             "name": "Salaires nets",
             "short_name": "Sal. nets",
             "values": [
              0
             ]
            },
            {
             "@type": "Node",
             "code": "rag",
             "name": "Revenus agricoles",
             "short_name": "Rev. agric.",
             "values": [
              0
             ]
            },
            {
             "@type": "Node",
             "code": "ric",
             "name": "Revenus industriels et commerciaux",
             "short_name": "R. ind. comm.",
             "values": [
              0
             ]
            },
            {
             "@type": "Node",
             "code": "rnc",
             "name": "Revenus non commerciaux",
             "short_name": "R. non comm.",
             "values": [
              0
             ]
            }
           ],
           "code": "revenus_du_travail",
           "color": [
            0,
            155,
            204
           ],
           "name": "Revenu du travail",
           "short_name": "Rev. travail",
           "values": [
            0
           ]
          },
          {
           "@type": "Node",
           "children": [
            {
             "@type": "Node",
             "children": [
              {
               "@type": "Node",
               "children": [
                {
                 "@type": "Node",
                 "code": "chomage_brut",
                 "name": "Chômage brut",
                 "short_name": "Chômage brut",
                 "values": [
                  0
                 ]
                },
                {
                 "@type": "Node",
                 "code": "csg_deductible_chomage",
                 "color": [
                  235,
                  114,
                  118
                 ],
                 "name": "CSG déductible (chômage)",
                 "short_name": "CSG déd. chôm.",
                 "values": [
                  0
                 ]
                }
               ],
               "code": "chomage_imposable",
               "name": "Chômage",
               "short_name": "Chômage decl.",
               "values": [
                0
               ]
              },
              {
               "@type": "Node",
               "code": "csg_imposable_chomage",
               "color": [
                235,
                114,
                118
               ],
               "name": "CSG non déductible (chômage)",
               "short_name": "CSG imp. chôm.",
               "values": [
                0
               ]
              },
              {
               "@type": "Node",
               "code": "crds_chomage",
               "color": [
                229,
                48,
                56
               ],
               "name": "CRDS (chômage)",
               "short_name": "CRDS chôm.",
               "values": [
                0
               ]
              }
             ],
             "code": "chomage_net",
             "color": [
              136,
              120,
              178
             ],
             "name": "Chômage net",
             "short_name": "Chômage net",
             "values": [
              0
             ]
            },
            {
             "@type": "Node",
             "children": [
              {
               "@type": "Node",
               "children": [
                {
                 "@type": "Node",
                 "code": "retraite_brute",
                 "name": "Retraites brutes",
                 "short_name": "Retr. brutes",
                 "values": [
                  0
                 ]
                },
                {
                 "@type": "Node",
                 "code": "csg_deductible_retraite",
                 "color": [
                  235,
                  114,
                  118
                 ],
                 "name": "CSG déductible (retraite)",
                 "short_name": "CSG déd. ret.",
                 "values": [
                  0
                 ]
                }
               ],
               "code": "retraite_imposable",
               "name": "Retraites",
               "short_name": "Retr. décl.",
               "values": [
                0
               ]
              },
              {
               "@type": "Node",
               "code": "csg_imposable_retraite",
               "color": [
                235,
                114,
                118
               ],
               "name": "CSG non déductible (pensions)",
               "short_name": "CSG imp. pens.",
               "values": [
                0
               ]
              },
              {
               "@type": "Node",
               "code": "crds_retraite",
               "color": [
                229,
                48,
                56
               ],
               "name": "CRDS (pensions)",
               "short_name": "CRDS (pens.)",
               "values": [
                0
               ]
              }
             ],
             "code": "retraite_nette",
             "color": [
              87,
              88,
              138
             ],
             "name": "Retraites nettes",
             "short_name": "Retraites nettes",
             "values": [
              0
             ]
            },
            {
             "@type": "Node",
             "code": "pensions_alimentaires_percues",
             "color": [
              136,
              120,
              178
             ],
             "name": "Pensions alimentaires reçues",
             "short_name": "P. alim. reç.",
             "values": [
              0
             ]
            },
            {
             "@type": "Node",
             "code": "pensions_alimentaires_versees",
             "color": [
              136,
              120,
              178
             ],
             "name": "Pensions alimentaires versée",
             "short_name": "P. alim. vers.",
             "values": [
              0
             ]
            },
            {
             "@type": "Node",
             "code": "retraite_titre_onereux",
             "color": [
              125,
              185,
              86
             ],
             "name": "Rentes viagères",
             "short_name": "Rentes viag.",
             "values": [
              0
             ]
            }
           ],
           "code": "pensions",
           "color": [
            97,
            75,
            150
           ],
           "name": "Pensions",
           "short_name": "Pensions",
           "values": [
            0
           ]
          },
          {
           "@type": "Node",
           "children": [
            {
             "@type": "Node",
             "children": [
              {
               "@type": "Node",
               "code": "fon",
               "color": [
                255,
                245,
                155
               ],
               "name": "Revenus fonciers",
               "short_name": "Rev. fonciers",
               "values": [
                0
               ]
              },
              {
               "@type": "Node",
               "code": "f3vg",
               "color": [
                255,
                245,
                155
               ],
               "name": "Plus-values de cessions de valeurs mobilières",
               "short_name": "Plus.-values mo.",
               "values": [
                0
               ]
              },
              {
               "@type": "Node",
               "code": "f3vz",
               "color": [
                255,
                245,
                155
               ],
               "name": "Plus-values immobilières",
               "short_name": "Plus.-values immo.",
               "values": [
                0
               ]
              },
              {
               "@type": "Node",
               "code": "rev_cap_bar",
               "color": [
                255,
                239,
                103
               ],
               "name": "Revenus du capital soumis au barème",
               "short_name": "Rev cap bar",
               "values": [
                0
               ]
              },
              {
               "@type": "Node",
               "code": "rev_cap_lib",
               "color": [
                255,
                233,
                28
               ],
               "name": "Revenus du capital soumis au prélèvement libératoire",
               "short_name": "Rev cap lib",
               "values": [
                0
               ]
              },
              {
               "@type": "Node",
               "code": "rac",
               "color": [
                247,
                221,
                0
               ],
               "name": "Revenus accessoires",
               "short_name": "Rev. accesoires",
               "values": [
                0
               ]
              }
             ],
             "code": "rev_cap_brut",
             "color": [
              255,
              222,
              48
             ],
             "name": "Revenus du capital brut",
             "short_name": "Rev. cap. brut",
             "values": [
              0
             ]
            },
            {
             "@type": "Node",
             "children": [
              {
               "@type": "Node",
               "children": [
                {
                 "@type": "Node",
                 "code": "prelsoc_fon",
                 "color": [
                  243,
                  166,
                  171
                 ],
                 "name": "Prélèvement social sur les revenus fonciers",
                 "short_name": "Pr. s. foncier",
                 "values": [
                  0
                 ]
                },
                {
                 "@type": "Node",
                 "code": "prelsoc_pv_mo",
                 "color": [
                  243,
                  166,
                  171
                 ],
                 "name": "Prélèvement social sur les plus-values de cessions de valeurs mobilières",
                 "short_name": "Prel. soc. p.-v. mo.",
                 "values": [
                  0
                 ]
                },
                {
                 "@type": "Node",
                 "code": "prelsoc_pv_immo",
                 "color": [
                  243,
                  166,
                  171
                 ],
                 "name": "Prélèvement social sur les plus-values immobilières",
                 "short_name": "Prel. soc. p.-v.",
                 "values": [
                  0
                 ]
                },
                {
                 "@type": "Node",
                 "code": "prelsoc_cap_bar",
                 "color": [
                  243,
                  166,
                  171
                 ],
                 "name": "Prélèvement social sur les revenus du capital soumis au barème",
                 "short_name": "Pr. s. cap. bar.",
                 "values": [
                  0
                 ]
                },
                {
                 "@type": "Node",
                 "code": "prelsoc_cap_lib",
                 "color": [
                  243,
                  166,
                  171
                 ],
                 "name": "Prélèvement social sur les revenus du capital soumis au prélèvement libératoire",
                 "short_name": "Prel. soc. lib.",
                 "values": [
                  0
                 ]
                }
               ],
               "code": "prelsoc_cap",
               "color": [
                243,
                166,
                171
               ],
               "name": "Prélèvement social sur les revenus du capital",
               "short_name": "Pr. s. cap.",
               "values": [
                0
               ]
              },
              {
               "@type": "Node",
               "children": [
                {
                 "@type": "Node",
                 "code": "csg_fon",
                 "color": [
                  235,
                  114,
                  118
                 ],
                 "name": "CSG (revenus fonciers)",
                 "short_name": "CSG foncier",
                 "values": [
                  0
                 ]
                },
                {
                 "@type": "Node",
                 "code": "csg_pv_mo",
                 "color": [
                  235,
                  114,
                  118
                 ],
                 "name": "CSG (plus-values de cessions de valeurs mobilières)",
                 "short_name": "CSG p.-v. mo.",
                 "values": [
                  0
                 ]
                },
                {
                 "@type": "Node",
                 "code": "csg_pv_immo",
                 "color": [
                  235,
                  114,
                  118
                 ],
                 "name": "CSG (plus-values immobilières)",
                 "short_name": "CSG p.-v. immo.",
                 "values": [
                  0
                 ]
                },
                {
                 "@type": "Node",
                 "code": "csg_cap_bar",
                 "color": [
                  235,
                  114,
                  118
                 ],
                 "name": "CSG (revenus du capital au barème)",
                 "short_name": "CSG cap. bar.",
                 "values": [
                  0
                 ]
                },
                {
                 "@type": "Node",
                 "code": "csg_cap_lib",
                 "color": [
                  235,
                  114,
                  118
                 ],
                 "name": "CSG (revenus du capital soumis au prélèvement libératoire)",
                 "short_name": "CSG cap. lib.",
                 "values": [
                  0
                 ]
                }
               ],
               "code": "csg_cap",
               "color": [
                235,
                114,
                118
               ],
               "name": "CSG des revenus du capital",
               "short_name": "CSG cap.",
               "values": [
                0
               ]
              },
              {
               "@type": "Node",
               "children": [
                {
                 "@type": "Node",
                 "code": "crds_fon",
                 "color": [
                  229,
                  48,
                  56
                 ],
                 "name": "CRDS (revenus fonciers)",
                 "short_name": "CRDS foncier",
                 "values": [
                  0
                 ]
                },
                {
                 "@type": "Node",
                 "code": "crds_pv_mo",
                 "color": [
                  229,
                  48,
                  56
                 ],
                 "name": "CRDS (plus-values de cessions de valeurs mobilières)",
                 "short_name": "CRDS p.-v. mo.",
                 "values": [
                  0
                 ]
                },
                {
                 "@type": "Node",
                 "code": "crds_pv_immo",
                 "color": [
                  229,
                  48,
                  56
                 ],
                 "name": "CRDS (plus-values immobilières)",
                 "short_name": "CRDS p.-v. immo.",
                 "values": [
                  0
                 ]
                },
                {
                 "@type": "Node",
                 "code": "crds_cap_bar",
                 "color": [
                  229,
                  48,
                  56
                 ],
                 "name": "CRDS (revenus du capital au barème)",
                 "short_name": "CRDS cap. bar.",
                 "values": [
                  0
                 ]
                },
                {
                 "@type": "Node",
                 "code": "crds_cap_lib",
                 "color": [
                  229,
                  48,
                  56
                 ],
                 "name": "CRDS (revenus du capital soumis au prélèvement libératoire)",
                 "short_name": "CRDS cap. lib.",
                 "values": [
                  0
                 ]
                }
               ],
               "code": "crds_cap",
               "color": [
                229,
                48,
                56
               ],
               "name": "CRDS",
               "short_name": "CRDS cap.",
               "values": [
                0
               ]
              }
             ],
             "code": "cotsoc_cap",
             "color": [
              243,
              166,
              171
             ],
             "name": "Cotisations sociales sur les revenus du capital",
             "short_name": "Cotsoc. capital",
             "values": [
              0
             ]
            },
            {
             "@type": "Node",
             "code": "imp_lib",
             "color": [
              232,
              79,
              95
             ],
             "name": "Prélèvement libératoire sur les revenus du patrimoine",
             "short_name": "Prél. libérat.",
             "values": [
              0
             ]
            }
           ],
           "code": "rev_cap_net",
           "color": [
            255,
            222,
            48
           ],
           "name": "Revenus du capital net",
           "short_name": "Rev. cap. net",
           "values": [
            0
           ]
          }
         ],
         "code": "rev_net",
         "color": [
          0,
          155,
          204
         ],
         "name": "Revenus nets",
         "short_name": "Rev. nets",
         "values": [
          0
         ]
        },
        {
         "@type": "Node",
         "children": [
          {
           "@type": "Node",
           "children": [
            {
             "@type": "Node",
             "code": "af",
             "color": [
              181,
              213,
              154
             ],
             "name": "Allocations familiales",
             "short_name": "Alloc. fam.",
             "values": [
              0
             ]
            },
            {
             "@type": "Node",
             "code": "cf",
             "color": [
              125,
              185,
              86
             ],
             "name": "Complément familial",
             "short_name": "Compl. fam.",
             "values": [
              0
             ]
            },
            {
             "@type": "Node",
             "code": "ars",
             "color": [
              91,
              172,
              38
             ],
             "name": "Allocation de rentrée scolaire",
             "short_name": "ARS",
             "values": [
              0
             ]
            },
            {
             "@type": "Node",
             "code": "aeeh",
             "color": [
              80,
              160,
              38
             ],
             "name": "Allocation d'éducation de l'enfant handicapé",
             "short_name": "AEEH",
             "values": [
              0
             ]
            },
            {
             "@type": "Node",
             "children": [
              {
               "@type": "Node",
               "code": "paje_base",
               "name": "Paje - Allocation de base",
               "short_name": "PAJE",
               "values": [
                0
               ]
              },
              {
               "@type": "Node",
               "code": "paje_naissance",
               "name": "Paje - Prime de naissance",
               "short_name": "Prime naiss.",
               "values": [
                0
               ]
              },
              {
               "@type": "Node",
               "code": "paje_clca",
               "name": "Paje - Complément de libre choix d'activité",
               "short_name": "CLCA",
               "values": [
                0
               ]
              },
              {
               "@type": "Node",
               "code": "paje_colca",
               "name": "Paje - Complément optionnel de libre choix d'activité",
               "short_name": "COLCA",
               "values": [
                0
               ]
              },
              {
               "@type": "Node",
               "code": "paje_cmg",
               "name": "Paje - Complément de libre choix du mode de garde",
               "short_name": "CLCMG",
               "values": [
                0
               ]
              }
             ],
             "code": "paje",
             "color": [
              77,
              144,
              34
             ],
             "name": "Prestation d'accueil du jeune enfant",
             "short_name": "PAJE",
             "values": [
              0
             ]
            },
            {
             "@type": "Node",
             "code": "asf",
             "color": [
              77,
              144,
              34
             ],
             "name": "Allocation de soutien familial",
             "short_name": "ASF",
             "values": [
              0
             ]
            },
            {
             "@type": "Node",
             "code": "crds_pfam",
             "color": [
              229,
              48,
              56
             ],
             "name": "CRDS (prestations familiales)",
             "short_name": "CRDS fam.",
             "values": [
              0
             ]
            }
           ],
           "code": "prestations_familiales",
           "color": [
            83,
            170,
            49
           ],
           "name": "Prestations familiales",
           "short_name": "Prest. fam.",
           "values": [
            0
           ]
          },
          {
           "@type": "Node",
           "children": [
            {
             "@type": "Node",
             "code": "aspa",
             "color": [
              249,
              193,
              148
             ],
             "name": "Allocation de solidarité aux personnes agées",
             "short_name": "ASPA",
             "values": [
              0
             ]
            },
            {
             "@type": "Node",
             "code": "aah",
             "color": [
              244,
              160,
              80
             ],
             "name": "Allocation adulte handicapé",
             "short_name": "AAH",
             "values": [
              0
             ]
            },
            {
             "@type": "Node",
             "code": "caah",
             "color": [
              244,
              160,
              80
             ],
             "name": "Complément de l'allocation adulte handicapé",
             "short_name": "CAAH",
             "values": [
              0
             ]
            },
            {
             "@type": "Node",
             "code": "asi",
             "color": [
              244,
              160,
              80
             ],
             "name": "Allocation supplémentaire d'invalidité",
             "short_name": "ASI",
             "values": [
              0
             ]
            },
            {
             "@type": "Node",
             "code": "rsa",
             "color": [
              239,
              130,
              19
             ],
             "name": "Revenu de solidarité active",
             "short_name": "RSA",
             "values": [
              4666.0400390625
             ]
            },
            {
             "@type": "Node",
             "code": "psa",
             "color": [
              239,
              130,
              19
             ],
             "name": "Prime de solidarité active",
             "short_name": "PSA",
             "values": [
              0
             ]
            },
            {
             "@type": "Node",
             "code": "ppa",
             "color": [
              239,
              130,
              19
             ],
             "name": "Prime pour l'activité",
             "short_name": "PPA",
             "values": [
              0
             ]
            },
            {
             "@type": "Node",
             "code": "aefa",
             "color": [
              237,
              119,
              3
             ],
             "name": "Aide exceptionelle de fin d'année",
             "short_name": "AEFA",
             "values": [
              125.44999694824219
             ]
            },
            {
             "@type": "Node",
             "code": "api",
             "color": [
              208,
              112,
              4
             ],
             "name": "Allocation parent isolé",
             "short_name": "API",
             "values": [
              0
             ]
            }
           ],
           "code": "minima_sociaux",
           "color": [
            240,
            138,
            76
           ],
           "name": "Minima sociaux",
           "short_name": "Min. sociaux",
           "values": [
            4791.490036010742
           ]
          },
          {
           "@type": "Node",
           "children": [
            {
             "@type": "Node",
             "code": "apl",
             "color": [
              255,
              245,
              155
             ],
             "name": "Aide personalisée au logement",
             "short_name": "APL",
             "values": [
              0
             ]
            },
            {
             "@type": "Node",
             "code": "als",
             "color": [
              255,
              239,
              103
             ],
             "name": "Allocation logement social",
             "short_name": "ALS",
             "values": [
              0
             ]
            },
            {
             "@type": "Node",
             "code": "alf",
             "color": [
              255,
              233,
              28
             ],
             "name": "Allocation de logement familiale",
             "short_name": "ALF",
             "values": [
              0
             ]
            },
            {
             "@type": "Node",
             "code": "als_etudiant",
             "color": [
              247,
              221,
              0
             ],
             "name": "Allocation logement étudiant",
             "short_name": "AL étudiant",
             "values": [
              0
             ]
            },
            {
             "@type": "Node",
             "code": "crds_logement",
             "color": [
              229,
              48,
              56
             ],
             "name": "CRDS (allocation logement)",
             "short_name": "CRDS log.",
             "values": [
              0
             ]
            }
           ],
           "code": "aides_logement",
           "color": [
            255,
            222,
            48
           ],
           "name": "Prestations logement",
           "short_name": "Prest. logement",
           "values": [
            0
           ]
          }
         ],
         "code": "prestations_sociales",
         "color": [
          255,
          102,
          63
         ],
         "name": "Prestations sociales",
         "short_name": "Prest. soc.",
         "values": [
          4791.490036010742
         ]
        },
        {
         "@type": "Node",
         "code": "ppe",
         "color": [
          182,
          34,
          131
         ],
         "name": "Prime pour l'emploi",
         "short_name": "PPE",
         "values": [
          0
         ]
        },
        {
         "@type": "Node",
         "children": [
          {
           "@type": "Node",
           "code": "irpp",
           "color": [
            232,
            79,
            95
           ],
           "name": "Impôt sur le revenu",
           "short_name": "IRPP",
           "values": [
            0
           ]
          },
          {
           "@type": "Node",
           "code": "ir_pv_immo",
           "color": [
            232,
            79,
            95
           ],
           "name": "Impôt sur le revenu afférent à la plus-value immobilière",
           "short_name": "IR immo.",
           "values": [
            0
           ]
          },
          {
           "@type": "Node",
           "children": [
            {
             "@type": "Node",
             "code": "isf_tot",
             "color": [
              232,
              79,
              95
             ],
             "name": "Impôt de solidarité sur la fortune",
             "short_name": "ISF",
             "values": [
              0
             ]
            },
            {
             "@type": "Node",
             "code": "bouclier_fiscal",
             "color": [
              182,
              34,
              131
             ],
             "name": "Bouclier fiscal",
             "short_name": "Bouclier fiscal",
             "values": [
              0
             ]
            }
           ],
           "code": "isf_net",
           "color": [
            182,
            34,
            131
           ],
           "name": "ISF net",
           "short_name": "ISF net",
           "values": [
            0
           ]
          },
          {
           "@type": "Node",
           "code": "taxe_habitation",
           "color": [
            232,
            79,
            95
           ],
           "name": "Taxe d'habitation",
           "short_name": "TH",
           "values": [
            0
           ]
          }
         ],
         "code": "impo",
         "color": [
          232,
          79,
          95
         ],
         "name": "Impôts directs",
         "short_name": "Impôts directs",
         "values": [
          0
         ]
        }
       ],
       "code": "revenu_disponible",
       "color": [
        0,
        0,
        255
       ],
       "name": "Revenu disponible",
       "short_name": "Rev. disp.",
       "type": 2,
       "values": [
        4791.490036010742
       ]
      },
      "text/plain": [
       "<IPython.core.display.JSON object>"
      ]
     },
     "execution_count": 17,
     "metadata": {},
     "output_type": "execute_result"
    }
   ],
   "source": [
    "JSON(keep_value_at_index(0, decomposition_json_precalculated))"
   ]
  },
  {
   "cell_type": "code",
   "execution_count": 18,
   "metadata": {},
   "outputs": [],
   "source": [
    "def display_precalculated_waterfall(salaire_de_base, min, step):\n",
    "    index = value_to_index(min, step, salaire_de_base)\n",
    "    out_node = utils.OutNode()\n",
    "    utils.convert_to_out_node(out_node, keep_value_at_index(index, decomposition_json_precalculated))\n",
    "    out_node.setLeavesVisible()\n",
    "    fig = plt.figure()\n",
    "    axes = fig.gca()\n",
    "    graphs.draw_waterfall_from_node_data(out_node, axes, tbs.CURRENCY)"
   ]
  },
  {
   "cell_type": "code",
   "execution_count": 19,
   "metadata": {},
   "outputs": [
    {
     "data": {
      "application/vnd.jupyter.widget-view+json": {
       "model_id": "631eda8b6bd749deb529a8d75fe39410",
       "version_major": 2,
       "version_minor": 0
      },
      "text/html": [
       "<p>Failed to display Jupyter Widget of type <code>interactive</code>.</p>\n",
       "<p>\n",
       "  If you're reading this message in the Jupyter Notebook or JupyterLab Notebook, it may mean\n",
       "  that the widgets JavaScript is still loading. If this message persists, it\n",
       "  likely means that the widgets JavaScript library is either not installed or\n",
       "  not enabled. See the <a href=\"https://ipywidgets.readthedocs.io/en/stable/user_install.html\">Jupyter\n",
       "  Widgets Documentation</a> for setup instructions.\n",
       "</p>\n",
       "<p>\n",
       "  If you're reading this message in another frontend (for example, a static\n",
       "  rendering on GitHub or <a href=\"https://nbviewer.jupyter.org/\">NBViewer</a>),\n",
       "  it may mean that your frontend doesn't currently support widgets.\n",
       "</p>\n"
      ],
      "text/plain": [
       "interactive(children=(FloatSlider(value=13635.0, description=u'salaire_de_base', max=50000.0, step=4545.0), Output()), _dom_classes=('widget-interact',))"
      ]
     },
     "metadata": {},
     "output_type": "display_data"
    }
   ],
   "source": [
    "interact(\n",
    "    display_precalculated_waterfall,\n",
    "    salaire_de_base=widgets.FloatSlider(min=min, max=max, step=step, value=initial_value),\n",
    "    min=fixed(min),\n",
    "    step=fixed(step),\n",
    ")\n",
    "None  # Hide strange output"
   ]
  },
  {
   "cell_type": "markdown",
   "metadata": {},
   "source": [
    "## Display bareme"
   ]
  },
  {
   "cell_type": "markdown",
   "metadata": {},
   "source": [
    "Instead of varying the salary with a slider, let's climb on the [ladder of abstraction](http://worrydream.com/LadderOfAbstraction/) to see *all* the possible waterfall charts at a time. This new chart is called a \"bareme\" in French."
   ]
  },
  {
   "cell_type": "code",
   "execution_count": 22,
   "metadata": {},
   "outputs": [],
   "source": [
    "def display_bareme(age, period):\n",
    "    scenario_params = {\n",
    "        \"period\": period,\n",
    "        \"parent1\": {\n",
    "            \"age\": age,\n",
    "        },\n",
    "        \"axes\": [\n",
    "            dict(\n",
    "                count = 10,\n",
    "                min = 0,\n",
    "                max = 50000,\n",
    "                name = 'salaire_de_base',\n",
    "            ),\n",
    "        ],\n",
    "    }\n",
    "    scenario = tbs.new_scenario().init_single_entity(**scenario_params)\n",
    "    simulation = scenario.new_simulation()\n",
    "    graphs.draw_bareme(\n",
    "        simulation = simulation,\n",
    "        x_axis = \"salaire_imposable\",\n",
    "        legend_position = 2,\n",
    "        bbox_to_anchor = (1.05, 1),\n",
    "    )"
   ]
  },
  {
   "cell_type": "code",
   "execution_count": 23,
   "metadata": {},
   "outputs": [
    {
     "data": {
      "application/vnd.jupyter.widget-view+json": {
       "model_id": "1fea8f7729e44835a0036f953c69f01c",
       "version_major": 2,
       "version_minor": 0
      },
      "text/html": [
       "<p>Failed to display Jupyter Widget of type <code>interactive</code>.</p>\n",
       "<p>\n",
       "  If you're reading this message in the Jupyter Notebook or JupyterLab Notebook, it may mean\n",
       "  that the widgets JavaScript is still loading. If this message persists, it\n",
       "  likely means that the widgets JavaScript library is either not installed or\n",
       "  not enabled. See the <a href=\"https://ipywidgets.readthedocs.io/en/stable/user_install.html\">Jupyter\n",
       "  Widgets Documentation</a> for setup instructions.\n",
       "</p>\n",
       "<p>\n",
       "  If you're reading this message in another frontend (for example, a static\n",
       "  rendering on GitHub or <a href=\"https://nbviewer.jupyter.org/\">NBViewer</a>),\n",
       "  it may mean that your frontend doesn't currently support widgets.\n",
       "</p>\n"
      ],
      "text/plain": [
       "interactive(children=(IntSlider(value=30, continuous_update=False, description=u'age', max=130), Output()), _dom_classes=('widget-interact',))"
      ]
     },
     "metadata": {},
     "output_type": "display_data"
    }
   ],
   "source": [
    "interact(\n",
    "    display_bareme,\n",
    "    age=widgets.IntSlider(min=0, max=130, step=1, value=30, continuous_update=False),\n",
    "    period=fixed(periods.period(\"2015\")),\n",
    ")\n",
    "None  # Hide strange output"
   ]
  },
  {
   "cell_type": "code",
   "execution_count": null,
   "metadata": {},
   "outputs": [],
   "source": []
  }
 ],
 "metadata": {
  "kernelspec": {
   "display_name": "Python 2",
   "language": "python",
   "name": "python2"
  },
  "language_info": {
   "codemirror_mode": {
    "name": "ipython",
    "version": 2
   },
   "file_extension": ".py",
   "mimetype": "text/x-python",
   "name": "python",
   "nbconvert_exporter": "python",
   "pygments_lexer": "ipython2",
   "version": "2.7.14"
  }
 },
 "nbformat": 4,
 "nbformat_minor": 2
}
