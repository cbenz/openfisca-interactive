{
 "cells": [
  {
   "cell_type": "code",
   "execution_count": 59,
   "metadata": {},
   "outputs": [],
   "source": [
    "from IPython.display import JSON\n",
    "\n",
    "import pandas as pd\n",
    "\n",
    "import altair as alt\n",
    "# Uncomment/run this line to enable Altair in JupyterLab/nteract:\n",
    "alt.enable_mime_rendering()\n",
    "\n",
    "import ipywidgets as widgets\n",
    "from ipywidgets import fixed, interact\n",
    "\n",
    "from openfisca_core import decompositions, periods\n",
    "from openfisca_france import FranceTaxBenefitSystem\n",
    "from openfisca_matplotlib import graphs"
   ]
  },
  {
   "cell_type": "code",
   "execution_count": 60,
   "metadata": {},
   "outputs": [],
   "source": [
    "tbf = FranceTaxBenefitSystem()"
   ]
  },
  {
   "cell_type": "markdown",
   "metadata": {},
   "source": [
    "## Display \"Revenu disponible\" interactively"
   ]
  },
  {
   "cell_type": "code",
   "execution_count": 61,
   "metadata": {},
   "outputs": [],
   "source": [
    "def calculate_revenu_disponible(salaire_de_base, period):\n",
    "    scenario_params = {\n",
    "        \"period\": period,\n",
    "        \"parent1\": {\n",
    "            \"age\": 30,\n",
    "            \"salaire_de_base\": salaire_de_base, # Annual basis\n",
    "        },\n",
    "    }\n",
    "    scenario = tbs.new_scenario().init_single_entity(**scenario_params)\n",
    "    simulation = scenario.new_simulation()\n",
    "    revenu_disponible = simulation.calculate(\"revenu_disponible\", period)\n",
    "    return revenu_disponible"
   ]
  },
  {
   "cell_type": "markdown",
   "metadata": {},
   "source": [
    "Try with an input text:"
   ]
  },
  {
   "cell_type": "code",
   "execution_count": 62,
   "metadata": {},
   "outputs": [
    {
     "data": {
      "application/vnd.jupyter.widget-view+json": {
       "model_id": "2e1737a37e8e431aaa26558a5b007668",
       "version_major": 2,
       "version_minor": 0
      },
      "text/html": [
       "<p>Failed to display Jupyter Widget of type <code>interactive</code>.</p>\n",
       "<p>\n",
       "  If you're reading this message in the Jupyter Notebook or JupyterLab Notebook, it may mean\n",
       "  that the widgets JavaScript is still loading. If this message persists, it\n",
       "  likely means that the widgets JavaScript library is either not installed or\n",
       "  not enabled. See the <a href=\"https://ipywidgets.readthedocs.io/en/stable/user_install.html\">Jupyter\n",
       "  Widgets Documentation</a> for setup instructions.\n",
       "</p>\n",
       "<p>\n",
       "  If you're reading this message in another frontend (for example, a static\n",
       "  rendering on GitHub or <a href=\"https://nbviewer.jupyter.org/\">NBViewer</a>),\n",
       "  it may mean that your frontend doesn't currently support widgets.\n",
       "</p>\n"
      ],
      "text/plain": [
       "interactive(children=(BoundedFloatText(value=15000.0, description=u'Salaire de base', max=150000.0, step=100.0), Output()), _dom_classes=('widget-interact',))"
      ]
     },
     "metadata": {},
     "output_type": "display_data"
    }
   ],
   "source": [
    "interact(\n",
    "    calculate_revenu_disponible,\n",
    "    salaire_de_base=widgets.BoundedFloatText(min=0, max=150000, step=100, value=15000, description=\"Salaire de base\"),\n",
    "    period=fixed(periods.period(\"2015\")),\n",
    ")\n",
    "None  # Hide strange output"
   ]
  },
  {
   "cell_type": "markdown",
   "metadata": {},
   "source": [
    "Note: press Enter after you type a new value to recompute.\n",
    "\n",
    "Try with a slider:"
   ]
  },
  {
   "cell_type": "code",
   "execution_count": 53,
   "metadata": {},
   "outputs": [
    {
     "data": {
      "application/vnd.jupyter.widget-view+json": {
       "model_id": "fb281760b737439c8dea3110d567f8e4",
       "version_major": 2,
       "version_minor": 0
      },
      "text/html": [
       "<p>Failed to display Jupyter Widget of type <code>interactive</code>.</p>\n",
       "<p>\n",
       "  If you're reading this message in the Jupyter Notebook or JupyterLab Notebook, it may mean\n",
       "  that the widgets JavaScript is still loading. If this message persists, it\n",
       "  likely means that the widgets JavaScript library is either not installed or\n",
       "  not enabled. See the <a href=\"https://ipywidgets.readthedocs.io/en/stable/user_install.html\">Jupyter\n",
       "  Widgets Documentation</a> for setup instructions.\n",
       "</p>\n",
       "<p>\n",
       "  If you're reading this message in another frontend (for example, a static\n",
       "  rendering on GitHub or <a href=\"https://nbviewer.jupyter.org/\">NBViewer</a>),\n",
       "  it may mean that your frontend doesn't currently support widgets.\n",
       "</p>\n"
      ],
      "text/plain": [
       "interactive(children=(FloatSlider(value=15000.0, continuous_update=False, description=u'salaire_de_base', max=150000.0, step=100.0), Output()), _dom_classes=('widget-interact',))"
      ]
     },
     "metadata": {},
     "output_type": "display_data"
    }
   ],
   "source": [
    "interact(\n",
    "    calculate_revenu_disponible,\n",
    "    salaire_de_base=widgets.FloatSlider(min=0, max=150000, step=100, value=15000, continuous_update=False),\n",
    "    period=fixed(periods.period(\"2015\")),\n",
    ")\n",
    "None  # Hide strange output"
   ]
  },
  {
   "cell_type": "markdown",
   "metadata": {},
   "source": [
    "Note: you can edit the number at the right of the slider. Press Enter after you type a new value to recompute.\n",
    "\n",
    "This is quite slow to recompute and redraw if we don't use `continuous_update=False`.\n",
    "This is mainly because we create a new simulation each time, in `calculate_revenu_disponible`. I did not find how to update a variable of an existing simulation, I'm not sure it is possible with OpenFisca."
   ]
  },
  {
   "cell_type": "markdown",
   "metadata": {},
   "source": [
    "## Display waterfall"
   ]
  },
  {
   "cell_type": "code",
   "execution_count": 63,
   "metadata": {},
   "outputs": [],
   "source": [
    "def display_waterfall(salaire_de_base, period):\n",
    "    scenario_params = {\n",
    "        \"period\": period,\n",
    "        \"parent1\": {\n",
    "            \"age\": 30,\n",
    "            \"salaire_de_base\": salaire_de_base, # Annual basis\n",
    "        },\n",
    "    }\n",
    "    scenario = tbs.new_scenario().init_single_entity(**scenario_params)\n",
    "    simulation = scenario.new_simulation()\n",
    "    graphs.draw_waterfall(simulation)"
   ]
  },
  {
   "cell_type": "code",
   "execution_count": 64,
   "metadata": {},
   "outputs": [
    {
     "data": {
      "application/vnd.jupyter.widget-view+json": {
       "model_id": "8a84e3a818754f879a270d4f7b5a8429",
       "version_major": 2,
       "version_minor": 0
      },
      "text/html": [
       "<p>Failed to display Jupyter Widget of type <code>interactive</code>.</p>\n",
       "<p>\n",
       "  If you're reading this message in the Jupyter Notebook or JupyterLab Notebook, it may mean\n",
       "  that the widgets JavaScript is still loading. If this message persists, it\n",
       "  likely means that the widgets JavaScript library is either not installed or\n",
       "  not enabled. See the <a href=\"https://ipywidgets.readthedocs.io/en/stable/user_install.html\">Jupyter\n",
       "  Widgets Documentation</a> for setup instructions.\n",
       "</p>\n",
       "<p>\n",
       "  If you're reading this message in another frontend (for example, a static\n",
       "  rendering on GitHub or <a href=\"https://nbviewer.jupyter.org/\">NBViewer</a>),\n",
       "  it may mean that your frontend doesn't currently support widgets.\n",
       "</p>\n"
      ],
      "text/plain": [
       "interactive(children=(FloatSlider(value=15000.0, continuous_update=False, description=u'salaire_de_base', max=150000.0, step=100.0), Output()), _dom_classes=('widget-interact',))"
      ]
     },
     "metadata": {},
     "output_type": "display_data"
    }
   ],
   "source": [
    "interact(\n",
    "    draw_waterfall,\n",
    "    salaire_de_base=widgets.FloatSlider(min=0, max=150000, step=100, value=15000, continuous_update=False),\n",
    ")\n",
    "None  # Hide strange output"
   ]
  },
  {
   "cell_type": "markdown",
   "metadata": {},
   "source": [
    "Test with Vega"
   ]
  },
  {
   "cell_type": "code",
   "execution_count": 52,
   "metadata": {},
   "outputs": [],
   "source": [
    "decomposition_json = decompositions.get_decomposition_json(simulation.tax_benefit_system)"
   ]
  },
  {
   "cell_type": "code",
   "execution_count": 59,
   "metadata": {},
   "outputs": [
    {
     "data": {
      "application/json": {
       "@context": "https://openfisca.fr/contexts/decomposition.jsonld",
       "@type": "Node",
       "children": [
        {
         "@type": "Node",
         "children": [
          {
           "@type": "Node",
           "children": [
            {
             "@type": "Node",
             "children": [
              {
               "@type": "Node",
               "children": [
                {
                 "@type": "Node",
                 "children": [
                  {
                   "@type": "Node",
                   "children": [
                    {
                     "@type": "Node",
                     "children": [
                      {
                       "@type": "Node",
                       "code": "cout_du_travail",
                       "color": [
                        0,
                        66,
                        92
                       ],
                       "name": "Coût du travail",
                       "short_name": "Coût trav."
                      },
                      {
                       "@type": "Node",
                       "code": "credit_impot_competitivite_emploi",
                       "name": "Crédit d'impôt compétitivité-emploi",
                       "short_name": "CICE"
                      },
                      {
                       "@type": "Node",
                       "code": "aide_premier_salarie",
                       "name": "Aide à l'embauche d'un premier salarié",
                       "short_name": "Aide 1er sal."
                      },
                      {
                       "@type": "Node",
                       "code": "aide_embauche_pme",
                       "name": "Aide PME à l'embauche d'un salarié",
                       "short_name": "Aide PME"
                      },
                      {
                       "@type": "Node",
                       "code": "tehr",
                       "name": "Taxe exceptionnelle sur les hauts revenus",
                       "short_name": "TEHR"
                      }
                     ],
                     "code": "salaire_super_brut",
                     "color": [
                      0,
                      66,
                      92
                     ],
                     "name": "Salaires super bruts",
                     "short_name": "Sal. Sup. brut"
                    },
                    {
                     "@type": "Node",
                     "code": "allegement_fillon",
                     "color": [
                      0,
                      171,
                      208
                     ],
                     "name": "Allègement sur les bas salaires (Fillon)",
                     "short_name": "Allèg. sal."
                    }
                   ],
                   "code": "salaire_super_brut_hors_allegements",
                   "color": [
                    0,
                    66,
                    92
                   ],
                   "name": "Salaires super bruts hors allègements",
                   "short_name": "Sal. sup. brut hors allèg."
                  },
                  {
                   "@type": "Node",
                   "code": "cotisations_employeur",
                   "color": [
                    249,
                    208,
                    211
                   ],
                   "name": "Cotisations sociales employeur",
                   "short_name": "Cotsoc pat"
                  }
                 ],
                 "code": "salaire_brut",
                 "color": [
                  0,
                  99,
                  143
                 ],
                 "name": "Salaires bruts",
                 "short_name": "Sal. bruts"
                },
                {
                 "@type": "Node",
                 "code": "cotisations_salariales",
                 "color": [
                  243,
                  166,
                  171
                 ],
                 "name": "Cotisations sociales salariées",
                 "short_name": "Cotsoc sal"
                },
                {
                 "@type": "Node",
                 "code": "csg_deductible_salaire",
                 "color": [
                  235,
                  114,
                  118
                 ],
                 "name": "CSG déductible (salaires)",
                 "short_name": "CSG deduc"
                },
                {
                 "@type": "Node",
                 "code": "mhsup",
                 "color": [
                  0,
                  115,
                  170
                 ],
                 "name": "Heures supplémentaires éxonérées",
                 "short_name": "Heures sup"
                }
               ],
               "code": "salaire_imposable",
               "color": [
                0,
                115,
                170
               ],
               "name": "Salaires imposables",
               "short_name": "Sal. impos."
              },
              {
               "@type": "Node",
               "code": "csg_imposable_salaire",
               "color": [
                235,
                114,
                118
               ],
               "name": "CSG non déductible (salaires)",
               "short_name": "CSG imp. sal."
              },
              {
               "@type": "Node",
               "code": "crds_salaire",
               "color": [
                229,
                48,
                56
               ],
               "name": "CRDS (salaires)",
               "short_name": "CRDS sal."
              },
              {
               "@type": "Node",
               "code": "forfait_social",
               "color": [
                235,
                114,
                118
               ],
               "name": "Forfait social",
               "short_name": "Forfait social"
              },
              {
               "@type": "Node",
               "code": "hsup",
               "color": [
                0,
                115,
                170
               ],
               "name": "Heures supplémentaires",
               "short_name": "Heures sup"
              }
             ],
             "code": "salaire_net",
             "color": [
              0,
              138,
              201
             ],
             "name": "Salaires nets",
             "short_name": "Sal. nets"
            },
            {
             "@type": "Node",
             "code": "rag",
             "name": "Revenus agricoles",
             "short_name": "Rev. agric."
            },
            {
             "@type": "Node",
             "code": "ric",
             "name": "Revenus industriels et commerciaux",
             "short_name": "R. ind. comm."
            },
            {
             "@type": "Node",
             "code": "rnc",
             "name": "Revenus non commerciaux",
             "short_name": "R. non comm."
            }
           ],
           "code": "revenus_du_travail",
           "color": [
            0,
            155,
            204
           ],
           "name": "Revenu du travail",
           "short_name": "Rev. travail"
          },
          {
           "@type": "Node",
           "children": [
            {
             "@type": "Node",
             "children": [
              {
               "@type": "Node",
               "children": [
                {
                 "@type": "Node",
                 "code": "chomage_brut",
                 "name": "Chômage brut",
                 "short_name": "Chômage brut"
                },
                {
                 "@type": "Node",
                 "code": "csg_deductible_chomage",
                 "color": [
                  235,
                  114,
                  118
                 ],
                 "name": "CSG déductible (chômage)",
                 "short_name": "CSG déd. chôm."
                }
               ],
               "code": "chomage_imposable",
               "name": "Chômage",
               "short_name": "Chômage decl."
              },
              {
               "@type": "Node",
               "code": "csg_imposable_chomage",
               "color": [
                235,
                114,
                118
               ],
               "name": "CSG non déductible (chômage)",
               "short_name": "CSG imp. chôm."
              },
              {
               "@type": "Node",
               "code": "crds_chomage",
               "color": [
                229,
                48,
                56
               ],
               "name": "CRDS (chômage)",
               "short_name": "CRDS chôm."
              }
             ],
             "code": "chomage_net",
             "color": [
              136,
              120,
              178
             ],
             "name": "Chômage net",
             "short_name": "Chômage net"
            },
            {
             "@type": "Node",
             "children": [
              {
               "@type": "Node",
               "children": [
                {
                 "@type": "Node",
                 "code": "retraite_brute",
                 "name": "Retraites brutes",
                 "short_name": "Retr. brutes"
                },
                {
                 "@type": "Node",
                 "code": "csg_deductible_retraite",
                 "color": [
                  235,
                  114,
                  118
                 ],
                 "name": "CSG déductible (retraite)",
                 "short_name": "CSG déd. ret."
                }
               ],
               "code": "retraite_imposable",
               "name": "Retraites",
               "short_name": "Retr. décl."
              },
              {
               "@type": "Node",
               "code": "csg_imposable_retraite",
               "color": [
                235,
                114,
                118
               ],
               "name": "CSG non déductible (pensions)",
               "short_name": "CSG imp. pens."
              },
              {
               "@type": "Node",
               "code": "crds_retraite",
               "color": [
                229,
                48,
                56
               ],
               "name": "CRDS (pensions)",
               "short_name": "CRDS (pens.)"
              }
             ],
             "code": "retraite_nette",
             "color": [
              87,
              88,
              138
             ],
             "name": "Retraites nettes",
             "short_name": "Retraites nettes"
            },
            {
             "@type": "Node",
             "code": "pensions_alimentaires_percues",
             "color": [
              136,
              120,
              178
             ],
             "name": "Pensions alimentaires reçues",
             "short_name": "P. alim. reç."
            },
            {
             "@type": "Node",
             "code": "pensions_alimentaires_versees",
             "color": [
              136,
              120,
              178
             ],
             "name": "Pensions alimentaires versée",
             "short_name": "P. alim. vers."
            },
            {
             "@type": "Node",
             "code": "retraite_titre_onereux",
             "color": [
              125,
              185,
              86
             ],
             "name": "Rentes viagères",
             "short_name": "Rentes viag."
            }
           ],
           "code": "pensions",
           "color": [
            97,
            75,
            150
           ],
           "name": "Pensions",
           "short_name": "Pensions"
          },
          {
           "@type": "Node",
           "children": [
            {
             "@type": "Node",
             "children": [
              {
               "@type": "Node",
               "code": "fon",
               "color": [
                255,
                245,
                155
               ],
               "name": "Revenus fonciers",
               "short_name": "Rev. fonciers"
              },
              {
               "@type": "Node",
               "code": "f3vg",
               "color": [
                255,
                245,
                155
               ],
               "name": "Plus-values de cessions de valeurs mobilières",
               "short_name": "Plus.-values mo."
              },
              {
               "@type": "Node",
               "code": "f3vz",
               "color": [
                255,
                245,
                155
               ],
               "name": "Plus-values immobilières",
               "short_name": "Plus.-values immo."
              },
              {
               "@type": "Node",
               "code": "rev_cap_bar",
               "color": [
                255,
                239,
                103
               ],
               "name": "Revenus du capital soumis au barème",
               "short_name": "Rev cap bar"
              },
              {
               "@type": "Node",
               "code": "rev_cap_lib",
               "color": [
                255,
                233,
                28
               ],
               "name": "Revenus du capital soumis au prélèvement libératoire",
               "short_name": "Rev cap lib"
              },
              {
               "@type": "Node",
               "code": "rac",
               "color": [
                247,
                221,
                0
               ],
               "name": "Revenus accessoires",
               "short_name": "Rev. accesoires"
              }
             ],
             "code": "rev_cap_brut",
             "color": [
              255,
              222,
              48
             ],
             "name": "Revenus du capital brut",
             "short_name": "Rev. cap. brut"
            },
            {
             "@type": "Node",
             "children": [
              {
               "@type": "Node",
               "children": [
                {
                 "@type": "Node",
                 "code": "prelsoc_fon",
                 "color": [
                  243,
                  166,
                  171
                 ],
                 "name": "Prélèvement social sur les revenus fonciers",
                 "short_name": "Pr. s. foncier"
                },
                {
                 "@type": "Node",
                 "code": "prelsoc_pv_mo",
                 "color": [
                  243,
                  166,
                  171
                 ],
                 "name": "Prélèvement social sur les plus-values de cessions de valeurs mobilières",
                 "short_name": "Prel. soc. p.-v. mo."
                },
                {
                 "@type": "Node",
                 "code": "prelsoc_pv_immo",
                 "color": [
                  243,
                  166,
                  171
                 ],
                 "name": "Prélèvement social sur les plus-values immobilières",
                 "short_name": "Prel. soc. p.-v."
                },
                {
                 "@type": "Node",
                 "code": "prelsoc_cap_bar",
                 "color": [
                  243,
                  166,
                  171
                 ],
                 "name": "Prélèvement social sur les revenus du capital soumis au barème",
                 "short_name": "Pr. s. cap. bar."
                },
                {
                 "@type": "Node",
                 "code": "prelsoc_cap_lib",
                 "color": [
                  243,
                  166,
                  171
                 ],
                 "name": "Prélèvement social sur les revenus du capital soumis au prélèvement libératoire",
                 "short_name": "Prel. soc. lib."
                }
               ],
               "code": "prelsoc_cap",
               "color": [
                243,
                166,
                171
               ],
               "name": "Prélèvement social sur les revenus du capital",
               "short_name": "Pr. s. cap."
              },
              {
               "@type": "Node",
               "children": [
                {
                 "@type": "Node",
                 "code": "csg_fon",
                 "color": [
                  235,
                  114,
                  118
                 ],
                 "name": "CSG (revenus fonciers)",
                 "short_name": "CSG foncier"
                },
                {
                 "@type": "Node",
                 "code": "csg_pv_mo",
                 "color": [
                  235,
                  114,
                  118
                 ],
                 "name": "CSG (plus-values de cessions de valeurs mobilières)",
                 "short_name": "CSG p.-v. mo."
                },
                {
                 "@type": "Node",
                 "code": "csg_pv_immo",
                 "color": [
                  235,
                  114,
                  118
                 ],
                 "name": "CSG (plus-values immobilières)",
                 "short_name": "CSG p.-v. immo."
                },
                {
                 "@type": "Node",
                 "code": "csg_cap_bar",
                 "color": [
                  235,
                  114,
                  118
                 ],
                 "name": "CSG (revenus du capital au barème)",
                 "short_name": "CSG cap. bar."
                },
                {
                 "@type": "Node",
                 "code": "csg_cap_lib",
                 "color": [
                  235,
                  114,
                  118
                 ],
                 "name": "CSG (revenus du capital soumis au prélèvement libératoire)",
                 "short_name": "CSG cap. lib."
                }
               ],
               "code": "csg_cap",
               "color": [
                235,
                114,
                118
               ],
               "name": "CSG des revenus du capital",
               "short_name": "CSG cap."
              },
              {
               "@type": "Node",
               "children": [
                {
                 "@type": "Node",
                 "code": "crds_fon",
                 "color": [
                  229,
                  48,
                  56
                 ],
                 "name": "CRDS (revenus fonciers)",
                 "short_name": "CRDS foncier"
                },
                {
                 "@type": "Node",
                 "code": "crds_pv_mo",
                 "color": [
                  229,
                  48,
                  56
                 ],
                 "name": "CRDS (plus-values de cessions de valeurs mobilières)",
                 "short_name": "CRDS p.-v. mo."
                },
                {
                 "@type": "Node",
                 "code": "crds_pv_immo",
                 "color": [
                  229,
                  48,
                  56
                 ],
                 "name": "CRDS (plus-values immobilières)",
                 "short_name": "CRDS p.-v. immo."
                },
                {
                 "@type": "Node",
                 "code": "crds_cap_bar",
                 "color": [
                  229,
                  48,
                  56
                 ],
                 "name": "CRDS (revenus du capital au barème)",
                 "short_name": "CRDS cap. bar."
                },
                {
                 "@type": "Node",
                 "code": "crds_cap_lib",
                 "color": [
                  229,
                  48,
                  56
                 ],
                 "name": "CRDS (revenus du capital soumis au prélèvement libératoire)",
                 "short_name": "CRDS cap. lib."
                }
               ],
               "code": "crds_cap",
               "color": [
                229,
                48,
                56
               ],
               "name": "CRDS",
               "short_name": "CRDS cap."
              }
             ],
             "code": "cotsoc_cap",
             "color": [
              243,
              166,
              171
             ],
             "name": "Cotisations sociales sur les revenus du capital",
             "short_name": "Cotsoc. capital"
            },
            {
             "@type": "Node",
             "code": "imp_lib",
             "color": [
              232,
              79,
              95
             ],
             "name": "Prélèvement libératoire sur les revenus du patrimoine",
             "short_name": "Prél. libérat."
            }
           ],
           "code": "rev_cap_net",
           "color": [
            255,
            222,
            48
           ],
           "name": "Revenus du capital net",
           "short_name": "Rev. cap. net"
          }
         ],
         "code": "rev_net",
         "color": [
          0,
          155,
          204
         ],
         "name": "Revenus nets",
         "short_name": "Rev. nets"
        },
        {
         "@type": "Node",
         "children": [
          {
           "@type": "Node",
           "children": [
            {
             "@type": "Node",
             "code": "af",
             "color": [
              181,
              213,
              154
             ],
             "name": "Allocations familiales",
             "short_name": "Alloc. fam."
            },
            {
             "@type": "Node",
             "code": "cf",
             "color": [
              125,
              185,
              86
             ],
             "name": "Complément familial",
             "short_name": "Compl. fam."
            },
            {
             "@type": "Node",
             "code": "ars",
             "color": [
              91,
              172,
              38
             ],
             "name": "Allocation de rentrée scolaire",
             "short_name": "ARS"
            },
            {
             "@type": "Node",
             "code": "aeeh",
             "color": [
              80,
              160,
              38
             ],
             "name": "Allocation d'éducation de l'enfant handicapé",
             "short_name": "AEEH"
            },
            {
             "@type": "Node",
             "children": [
              {
               "@type": "Node",
               "code": "paje_base",
               "name": "Paje - Allocation de base",
               "short_name": "PAJE"
              },
              {
               "@type": "Node",
               "code": "paje_naissance",
               "name": "Paje - Prime de naissance",
               "short_name": "Prime naiss."
              },
              {
               "@type": "Node",
               "code": "paje_clca",
               "name": "Paje - Complément de libre choix d'activité",
               "short_name": "CLCA"
              },
              {
               "@type": "Node",
               "code": "paje_colca",
               "name": "Paje - Complément optionnel de libre choix d'activité",
               "short_name": "COLCA"
              },
              {
               "@type": "Node",
               "code": "paje_cmg",
               "name": "Paje - Complément de libre choix du mode de garde",
               "short_name": "CLCMG"
              }
             ],
             "code": "paje",
             "color": [
              77,
              144,
              34
             ],
             "name": "Prestation d'accueil du jeune enfant",
             "short_name": "PAJE"
            },
            {
             "@type": "Node",
             "code": "asf",
             "color": [
              77,
              144,
              34
             ],
             "name": "Allocation de soutien familial",
             "short_name": "ASF"
            },
            {
             "@type": "Node",
             "code": "crds_pfam",
             "color": [
              229,
              48,
              56
             ],
             "name": "CRDS (prestations familiales)",
             "short_name": "CRDS fam."
            }
           ],
           "code": "prestations_familiales",
           "color": [
            83,
            170,
            49
           ],
           "name": "Prestations familiales",
           "short_name": "Prest. fam."
          },
          {
           "@type": "Node",
           "children": [
            {
             "@type": "Node",
             "code": "aspa",
             "color": [
              249,
              193,
              148
             ],
             "name": "Allocation de solidarité aux personnes agées",
             "short_name": "ASPA"
            },
            {
             "@type": "Node",
             "code": "aah",
             "color": [
              244,
              160,
              80
             ],
             "name": "Allocation adulte handicapé",
             "short_name": "AAH"
            },
            {
             "@type": "Node",
             "code": "caah",
             "color": [
              244,
              160,
              80
             ],
             "name": "Complément de l'allocation adulte handicapé",
             "short_name": "CAAH"
            },
            {
             "@type": "Node",
             "code": "asi",
             "color": [
              244,
              160,
              80
             ],
             "name": "Allocation supplémentaire d'invalidité",
             "short_name": "ASI"
            },
            {
             "@type": "Node",
             "code": "rsa",
             "color": [
              239,
              130,
              19
             ],
             "name": "Revenu de solidarité active",
             "short_name": "RSA"
            },
            {
             "@type": "Node",
             "code": "psa",
             "color": [
              239,
              130,
              19
             ],
             "name": "Prime de solidarité active",
             "short_name": "PSA"
            },
            {
             "@type": "Node",
             "code": "ppa",
             "color": [
              239,
              130,
              19
             ],
             "name": "Prime pour l'activité",
             "short_name": "PPA"
            },
            {
             "@type": "Node",
             "code": "aefa",
             "color": [
              237,
              119,
              3
             ],
             "name": "Aide exceptionelle de fin d'année",
             "short_name": "AEFA"
            },
            {
             "@type": "Node",
             "code": "api",
             "color": [
              208,
              112,
              4
             ],
             "name": "Allocation parent isolé",
             "short_name": "API"
            }
           ],
           "code": "minima_sociaux",
           "color": [
            240,
            138,
            76
           ],
           "name": "Minima sociaux",
           "short_name": "Min. sociaux"
          },
          {
           "@type": "Node",
           "children": [
            {
             "@type": "Node",
             "code": "apl",
             "color": [
              255,
              245,
              155
             ],
             "name": "Aide personalisée au logement",
             "short_name": "APL"
            },
            {
             "@type": "Node",
             "code": "als",
             "color": [
              255,
              239,
              103
             ],
             "name": "Allocation logement social",
             "short_name": "ALS"
            },
            {
             "@type": "Node",
             "code": "alf",
             "color": [
              255,
              233,
              28
             ],
             "name": "Allocation de logement familiale",
             "short_name": "ALF"
            },
            {
             "@type": "Node",
             "code": "als_etudiant",
             "color": [
              247,
              221,
              0
             ],
             "name": "Allocation logement étudiant",
             "short_name": "AL étudiant"
            },
            {
             "@type": "Node",
             "code": "crds_logement",
             "color": [
              229,
              48,
              56
             ],
             "name": "CRDS (allocation logement)",
             "short_name": "CRDS log."
            }
           ],
           "code": "aides_logement",
           "color": [
            255,
            222,
            48
           ],
           "name": "Prestations logement",
           "short_name": "Prest. logement"
          }
         ],
         "code": "prestations_sociales",
         "color": [
          255,
          102,
          63
         ],
         "name": "Prestations sociales",
         "short_name": "Prest. soc."
        },
        {
         "@type": "Node",
         "code": "ppe",
         "color": [
          182,
          34,
          131
         ],
         "name": "Prime pour l'emploi",
         "short_name": "PPE"
        },
        {
         "@type": "Node",
         "children": [
          {
           "@type": "Node",
           "code": "irpp",
           "color": [
            232,
            79,
            95
           ],
           "name": "Impôt sur le revenu",
           "short_name": "IRPP"
          },
          {
           "@type": "Node",
           "code": "ir_pv_immo",
           "color": [
            232,
            79,
            95
           ],
           "name": "Impôt sur le revenu afférent à la plus-value immobilière",
           "short_name": "IR immo."
          },
          {
           "@type": "Node",
           "children": [
            {
             "@type": "Node",
             "code": "isf_tot",
             "color": [
              232,
              79,
              95
             ],
             "name": "Impôt de solidarité sur la fortune",
             "short_name": "ISF"
            },
            {
             "@type": "Node",
             "code": "bouclier_fiscal",
             "color": [
              182,
              34,
              131
             ],
             "name": "Bouclier fiscal",
             "short_name": "Bouclier fiscal"
            }
           ],
           "code": "isf_net",
           "color": [
            182,
            34,
            131
           ],
           "name": "ISF net",
           "short_name": "ISF net"
          },
          {
           "@type": "Node",
           "code": "taxe_habitation",
           "color": [
            232,
            79,
            95
           ],
           "name": "Taxe d'habitation",
           "short_name": "TH"
          }
         ],
         "code": "impo",
         "color": [
          232,
          79,
          95
         ],
         "name": "Impôts directs",
         "short_name": "Impôts directs"
        }
       ],
       "code": "revenu_disponible",
       "color": [
        0,
        0,
        255
       ],
       "name": "Revenu disponible",
       "short_name": "Rev. disp.",
       "type": 2
      },
      "text/plain": [
       "<IPython.core.display.JSON object>"
      ]
     },
     "execution_count": 59,
     "metadata": {},
     "output_type": "execute_result"
    }
   ],
   "source": [
    "JSON(decomposition_json)"
   ]
  },
  {
   "cell_type": "code",
   "execution_count": 69,
   "metadata": {},
   "outputs": [],
   "source": [
    "def iter_decomposition_leaves(node):\n",
    "    children = node.get(\"children\")\n",
    "    if children:\n",
    "        for child_node in children:\n",
    "            for leave in iter_decomposition_leaves(child_node):\n",
    "                yield leave\n",
    "    else:\n",
    "        yield node"
   ]
  },
  {
   "cell_type": "code",
   "execution_count": 71,
   "metadata": {},
   "outputs": [],
   "source": [
    "decomposition_leaves = list(iter_decomposition_leaves(decomposition_json))"
   ]
  },
  {
   "cell_type": "code",
   "execution_count": 73,
   "metadata": {},
   "outputs": [],
   "source": [
    "scenario_period = periods.period(\"2015\")\n",
    "\n",
    "for decomposition_leave in decomposition_leaves:\n",
    "    variable_name = decomposition_leave[\"code\"]\n",
    "    simulation.calculate_add(variable_name, scenario_period)"
   ]
  },
  {
   "cell_type": "code",
   "execution_count": null,
   "metadata": {},
   "outputs": [],
   "source": [
    "waterfall_df = pd.DataFrame()"
   ]
  },
  {
   "cell_type": "markdown",
   "metadata": {},
   "source": [
    "## Vary \"Salaire\" and create a \"bareme\""
   ]
  },
  {
   "cell_type": "code",
   "execution_count": null,
   "metadata": {},
   "outputs": [],
   "source": []
  }
 ],
 "metadata": {
  "kernelspec": {
   "display_name": "Python 2",
   "language": "python",
   "name": "python2"
  },
  "language_info": {
   "codemirror_mode": {
    "name": "ipython",
    "version": 2
   },
   "file_extension": ".py",
   "mimetype": "text/x-python",
   "name": "python",
   "nbconvert_exporter": "python",
   "pygments_lexer": "ipython2",
   "version": "2.7.14"
  }
 },
 "nbformat": 4,
 "nbformat_minor": 2
}
