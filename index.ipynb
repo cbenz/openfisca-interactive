{
 "cells": [
  {
   "cell_type": "code",
   "execution_count": 49,
   "metadata": {},
   "outputs": [
    {
     "ename": "ModuleNotFoundError",
     "evalue": "No module named 'pandas'",
     "output_type": "error",
     "traceback": [
      "\u001b[0;31m---------------------------------------------------------------------------\u001b[0m",
      "\u001b[0;31mModuleNotFoundError\u001b[0m                       Traceback (most recent call last)",
      "\u001b[0;32m<ipython-input-49-48675a21daa2>\u001b[0m in \u001b[0;36m<module>\u001b[0;34m\u001b[0m\n\u001b[1;32m      7\u001b[0m \u001b[0;32mfrom\u001b[0m \u001b[0mIPython\u001b[0m\u001b[0;34m.\u001b[0m\u001b[0mdisplay\u001b[0m \u001b[0;32mimport\u001b[0m \u001b[0mdisplay\u001b[0m\u001b[0;34m,\u001b[0m \u001b[0mJSON\u001b[0m\u001b[0;34m\u001b[0m\u001b[0;34m\u001b[0m\u001b[0m\n\u001b[1;32m      8\u001b[0m \u001b[0;32mimport\u001b[0m \u001b[0mipywidgets\u001b[0m \u001b[0;32mas\u001b[0m \u001b[0mwidgets\u001b[0m\u001b[0;34m\u001b[0m\u001b[0;34m\u001b[0m\u001b[0m\n\u001b[0;32m----> 9\u001b[0;31m \u001b[0;32mimport\u001b[0m \u001b[0mpandas\u001b[0m \u001b[0;32mas\u001b[0m \u001b[0mpd\u001b[0m\u001b[0;34m\u001b[0m\u001b[0;34m\u001b[0m\u001b[0m\n\u001b[0m\u001b[1;32m     10\u001b[0m \u001b[0;32mimport\u001b[0m \u001b[0mplotly\u001b[0m\u001b[0;34m.\u001b[0m\u001b[0mgraph_objects\u001b[0m \u001b[0;32mas\u001b[0m \u001b[0mgo\u001b[0m\u001b[0;34m\u001b[0m\u001b[0;34m\u001b[0m\u001b[0m\n\u001b[1;32m     11\u001b[0m \u001b[0;32mfrom\u001b[0m \u001b[0mruamel\u001b[0m\u001b[0;34m.\u001b[0m\u001b[0myaml\u001b[0m \u001b[0;32mimport\u001b[0m \u001b[0mYAML\u001b[0m\u001b[0;34m\u001b[0m\u001b[0;34m\u001b[0m\u001b[0m\n",
      "\u001b[0;31mModuleNotFoundError\u001b[0m: No module named 'pandas'"
     ]
    }
   ],
   "source": [
    "import dataclasses\n",
    "from dataclasses import dataclass\n",
    "from enum import Enum\n",
    "from pathlib import Path\n",
    "from typing import List\n",
    "\n",
    "from IPython.display import display, JSON\n",
    "import ipywidgets as widgets\n",
    "import pandas as pd\n",
    "import plotly.graph_objects as go\n",
    "from ruamel.yaml import YAML\n",
    "\n",
    "from openfisca_core.simulation_builder import SimulationBuilder\n",
    "from openfisca_france import FranceTaxBenefitSystem"
   ]
  },
  {
   "cell_type": "markdown",
   "metadata": {},
   "source": [
    "## Initialize tax and benefit system of France"
   ]
  },
  {
   "cell_type": "code",
   "execution_count": 4,
   "metadata": {},
   "outputs": [],
   "source": [
    "tax_benefit_system = FranceTaxBenefitSystem()"
   ]
  },
  {
   "cell_type": "markdown",
   "metadata": {},
   "source": [
    "## Precalculate \"revenu disponible\""
   ]
  },
  {
   "cell_type": "code",
   "execution_count": 5,
   "metadata": {},
   "outputs": [],
   "source": [
    "def count_to_step(min, max, count):\n",
    "    \"\"\"Examples:\n",
    "    >>> count_to_step(0, 80, 5)\n",
    "    20\n",
    "    \"\"\"\n",
    "    return float(max - min) / (count - 1)\n",
    "\n",
    "def value_to_index(min, step, value):\n",
    "    \"\"\"Examples:\n",
    "    >>> value_to_index(0, 10, 0)\n",
    "    0\n",
    "    >>> value_to_index(0, 10, 40)\n",
    "    4\n",
    "    >>> value_to_index(3, 1, 6)\n",
    "    3\n",
    "    \"\"\"\n",
    "    return int((value / step) - min)"
   ]
  },
  {
   "cell_type": "code",
   "execution_count": 6,
   "metadata": {},
   "outputs": [],
   "source": [
    "COUNT = 20\n",
    "MIN = 0\n",
    "MAX = 500000\n",
    "STEP = count_to_step(MIN, MAX, COUNT)\n",
    "INITIAL_VALUE = 0\n",
    "PERIOD = \"2019\""
   ]
  },
  {
   "cell_type": "code",
   "execution_count": 7,
   "metadata": {},
   "outputs": [],
   "source": [
    "test_case = {\n",
    "    \"individus\": {\n",
    "        \"Michel\": {\n",
    "            'date_naissance': {'ETERNITY': '1980-01-01'},\n",
    "        },\n",
    "    },\n",
    "    \"familles\": {\n",
    "        \"famille_1\": {\n",
    "            \"parents\": [\"Michel\"]\n",
    "        }\n",
    "    },\n",
    "    \"foyers_fiscaux\": {\n",
    "        \"foyer_fiscal_1\": {\n",
    "            \"declarants\": [\"Michel\"],\n",
    "        },\n",
    "    },\n",
    "    \"menages\": {\n",
    "        \"menage_1\": {\n",
    "            \"personne_de_reference\": [\"Michel\"],\n",
    "        }},\n",
    "    \"axes\": [[\n",
    "        {\n",
    "            \"name\": 'salaire_de_base',\n",
    "            \"count\": COUNT,\n",
    "            \"min\": MIN,\n",
    "            \"max\": MAX,\n",
    "            \"period\": PERIOD,\n",
    "        },\n",
    "    ]],\n",
    "}\n"
   ]
  },
  {
   "cell_type": "code",
   "execution_count": 8,
   "metadata": {},
   "outputs": [],
   "source": [
    "simulation_builder = SimulationBuilder()\n",
    "simulation = simulation_builder.build_from_entities(tax_benefit_system, test_case)"
   ]
  },
  {
   "cell_type": "code",
   "execution_count": 9,
   "metadata": {},
   "outputs": [
    {
     "data": {
      "text/plain": [
       "array([     0.  ,  26315.79,  52631.58,  78947.35, 105263.16, 131578.95,\n",
       "       157894.7 , 184210.52, 210526.31, 236842.11, 263157.9 , 289473.72,\n",
       "       315789.4 , 342105.25, 368421.03, 394736.9 , 421052.62, 447368.34,\n",
       "       473684.22, 499999.97], dtype=float32)"
      ]
     },
     "metadata": {},
     "output_type": "display_data"
    }
   ],
   "source": [
    "salaire_de_base = simulation.calculate_add(\"salaire_de_base\", PERIOD)\n",
    "display(salaire_de_base)"
   ]
  },
  {
   "cell_type": "code",
   "execution_count": 10,
   "metadata": {},
   "outputs": [
    {
     "data": {
      "text/plain": [
       "array([  6842.9014,  20938.236 ,  36725.566 ,  52096.598 ,  66908.65  ,\n",
       "        80834.96  ,  95010.164 , 108656.71  , 121676.52  , 134345.4   ,\n",
       "       147013.38  , 159682.22  , 171763.5   , 183699.66  , 195634.92  ,\n",
       "       207571.22  , 219506.5   , 231442.7   , 243378.02  , 255314.3   ],\n",
       "      dtype=float32)"
      ]
     },
     "metadata": {},
     "output_type": "display_data"
    }
   ],
   "source": [
    "revenu_disponible = simulation.calculate(\"revenu_disponible\", PERIOD)\n",
    "display(revenu_disponible)"
   ]
  },
  {
   "cell_type": "markdown",
   "metadata": {},
   "source": [
    "## Display \"Revenu disponible\" interactively"
   ]
  },
  {
   "cell_type": "code",
   "execution_count": 11,
   "metadata": {},
   "outputs": [
    {
     "data": {
      "application/vnd.jupyter.widget-view+json": {
       "model_id": "922c4ffd116a4074b114cc1f738f01d9",
       "version_major": 2,
       "version_minor": 0
      },
      "text/plain": [
       "interactive(children=(FloatSlider(value=0.0, description='salaire_de_base', max=500000.0, step=26315.789473684…"
      ]
     },
     "metadata": {},
     "output_type": "display_data"
    }
   ],
   "source": [
    "@widgets.interact(salaire_de_base=widgets.FloatSlider(min=MIN, max=MAX, step=STEP, value=INITIAL_VALUE))\n",
    "def render(salaire_de_base):\n",
    "    index = value_to_index(MIN, STEP, salaire_de_base)\n",
    "    return widgets.HBox([widgets.Label(\"Revenu disponible : {:.2f}\".format(revenu_disponible[index]))])"
   ]
  },
  {
   "cell_type": "markdown",
   "metadata": {},
   "source": [
    "## Plot \"Revenu disponible\""
   ]
  },
  {
   "cell_type": "code",
   "execution_count": 43,
   "metadata": {},
   "outputs": [
    {
     "data": {
      "application/vnd.plotly.v1+json": {
       "config": {
        "plotlyServerURL": "https://plot.ly"
       },
       "data": [
        {
         "mode": "lines+markers",
         "type": "scatter",
         "x": [
          0,
          26315.7890625,
          52631.578125,
          78947.3515625,
          105263.15625,
          131578.953125,
          157894.703125,
          184210.515625,
          210526.3125,
          236842.109375,
          263157.90625,
          289473.71875,
          315789.40625,
          342105.25,
          368421.03125,
          394736.90625,
          421052.625,
          447368.34375,
          473684.21875,
          499999.96875
         ],
         "y": [
          6842.9013671875,
          20938.236328125,
          36725.56640625,
          52096.59765625,
          66908.6484375,
          80834.9609375,
          95010.1640625,
          108656.7109375,
          121676.5234375,
          134345.40625,
          147013.375,
          159682.21875,
          171763.5,
          183699.65625,
          195634.921875,
          207571.21875,
          219506.5,
          231442.703125,
          243378.015625,
          255314.296875
         ]
        }
       ],
       "layout": {
        "autosize": true,
        "template": {
         "data": {
          "bar": [
           {
            "error_x": {
             "color": "#2a3f5f"
            },
            "error_y": {
             "color": "#2a3f5f"
            },
            "marker": {
             "line": {
              "color": "#E5ECF6",
              "width": 0.5
             }
            },
            "type": "bar"
           }
          ],
          "barpolar": [
           {
            "marker": {
             "line": {
              "color": "#E5ECF6",
              "width": 0.5
             }
            },
            "type": "barpolar"
           }
          ],
          "carpet": [
           {
            "aaxis": {
             "endlinecolor": "#2a3f5f",
             "gridcolor": "white",
             "linecolor": "white",
             "minorgridcolor": "white",
             "startlinecolor": "#2a3f5f"
            },
            "baxis": {
             "endlinecolor": "#2a3f5f",
             "gridcolor": "white",
             "linecolor": "white",
             "minorgridcolor": "white",
             "startlinecolor": "#2a3f5f"
            },
            "type": "carpet"
           }
          ],
          "choropleth": [
           {
            "colorbar": {
             "outlinewidth": 0,
             "ticks": ""
            },
            "type": "choropleth"
           }
          ],
          "contour": [
           {
            "colorbar": {
             "outlinewidth": 0,
             "ticks": ""
            },
            "colorscale": [
             [
              0,
              "#0d0887"
             ],
             [
              0.1111111111111111,
              "#46039f"
             ],
             [
              0.2222222222222222,
              "#7201a8"
             ],
             [
              0.3333333333333333,
              "#9c179e"
             ],
             [
              0.4444444444444444,
              "#bd3786"
             ],
             [
              0.5555555555555556,
              "#d8576b"
             ],
             [
              0.6666666666666666,
              "#ed7953"
             ],
             [
              0.7777777777777778,
              "#fb9f3a"
             ],
             [
              0.8888888888888888,
              "#fdca26"
             ],
             [
              1,
              "#f0f921"
             ]
            ],
            "type": "contour"
           }
          ],
          "contourcarpet": [
           {
            "colorbar": {
             "outlinewidth": 0,
             "ticks": ""
            },
            "type": "contourcarpet"
           }
          ],
          "heatmap": [
           {
            "colorbar": {
             "outlinewidth": 0,
             "ticks": ""
            },
            "colorscale": [
             [
              0,
              "#0d0887"
             ],
             [
              0.1111111111111111,
              "#46039f"
             ],
             [
              0.2222222222222222,
              "#7201a8"
             ],
             [
              0.3333333333333333,
              "#9c179e"
             ],
             [
              0.4444444444444444,
              "#bd3786"
             ],
             [
              0.5555555555555556,
              "#d8576b"
             ],
             [
              0.6666666666666666,
              "#ed7953"
             ],
             [
              0.7777777777777778,
              "#fb9f3a"
             ],
             [
              0.8888888888888888,
              "#fdca26"
             ],
             [
              1,
              "#f0f921"
             ]
            ],
            "type": "heatmap"
           }
          ],
          "heatmapgl": [
           {
            "colorbar": {
             "outlinewidth": 0,
             "ticks": ""
            },
            "colorscale": [
             [
              0,
              "#0d0887"
             ],
             [
              0.1111111111111111,
              "#46039f"
             ],
             [
              0.2222222222222222,
              "#7201a8"
             ],
             [
              0.3333333333333333,
              "#9c179e"
             ],
             [
              0.4444444444444444,
              "#bd3786"
             ],
             [
              0.5555555555555556,
              "#d8576b"
             ],
             [
              0.6666666666666666,
              "#ed7953"
             ],
             [
              0.7777777777777778,
              "#fb9f3a"
             ],
             [
              0.8888888888888888,
              "#fdca26"
             ],
             [
              1,
              "#f0f921"
             ]
            ],
            "type": "heatmapgl"
           }
          ],
          "histogram": [
           {
            "marker": {
             "colorbar": {
              "outlinewidth": 0,
              "ticks": ""
             }
            },
            "type": "histogram"
           }
          ],
          "histogram2d": [
           {
            "colorbar": {
             "outlinewidth": 0,
             "ticks": ""
            },
            "colorscale": [
             [
              0,
              "#0d0887"
             ],
             [
              0.1111111111111111,
              "#46039f"
             ],
             [
              0.2222222222222222,
              "#7201a8"
             ],
             [
              0.3333333333333333,
              "#9c179e"
             ],
             [
              0.4444444444444444,
              "#bd3786"
             ],
             [
              0.5555555555555556,
              "#d8576b"
             ],
             [
              0.6666666666666666,
              "#ed7953"
             ],
             [
              0.7777777777777778,
              "#fb9f3a"
             ],
             [
              0.8888888888888888,
              "#fdca26"
             ],
             [
              1,
              "#f0f921"
             ]
            ],
            "type": "histogram2d"
           }
          ],
          "histogram2dcontour": [
           {
            "colorbar": {
             "outlinewidth": 0,
             "ticks": ""
            },
            "colorscale": [
             [
              0,
              "#0d0887"
             ],
             [
              0.1111111111111111,
              "#46039f"
             ],
             [
              0.2222222222222222,
              "#7201a8"
             ],
             [
              0.3333333333333333,
              "#9c179e"
             ],
             [
              0.4444444444444444,
              "#bd3786"
             ],
             [
              0.5555555555555556,
              "#d8576b"
             ],
             [
              0.6666666666666666,
              "#ed7953"
             ],
             [
              0.7777777777777778,
              "#fb9f3a"
             ],
             [
              0.8888888888888888,
              "#fdca26"
             ],
             [
              1,
              "#f0f921"
             ]
            ],
            "type": "histogram2dcontour"
           }
          ],
          "mesh3d": [
           {
            "colorbar": {
             "outlinewidth": 0,
             "ticks": ""
            },
            "type": "mesh3d"
           }
          ],
          "parcoords": [
           {
            "line": {
             "colorbar": {
              "outlinewidth": 0,
              "ticks": ""
             }
            },
            "type": "parcoords"
           }
          ],
          "scatter": [
           {
            "marker": {
             "colorbar": {
              "outlinewidth": 0,
              "ticks": ""
             }
            },
            "type": "scatter"
           }
          ],
          "scatter3d": [
           {
            "line": {
             "colorbar": {
              "outlinewidth": 0,
              "ticks": ""
             }
            },
            "marker": {
             "colorbar": {
              "outlinewidth": 0,
              "ticks": ""
             }
            },
            "type": "scatter3d"
           }
          ],
          "scattercarpet": [
           {
            "marker": {
             "colorbar": {
              "outlinewidth": 0,
              "ticks": ""
             }
            },
            "type": "scattercarpet"
           }
          ],
          "scattergeo": [
           {
            "marker": {
             "colorbar": {
              "outlinewidth": 0,
              "ticks": ""
             }
            },
            "type": "scattergeo"
           }
          ],
          "scattergl": [
           {
            "marker": {
             "colorbar": {
              "outlinewidth": 0,
              "ticks": ""
             }
            },
            "type": "scattergl"
           }
          ],
          "scattermapbox": [
           {
            "marker": {
             "colorbar": {
              "outlinewidth": 0,
              "ticks": ""
             }
            },
            "type": "scattermapbox"
           }
          ],
          "scatterpolar": [
           {
            "marker": {
             "colorbar": {
              "outlinewidth": 0,
              "ticks": ""
             }
            },
            "type": "scatterpolar"
           }
          ],
          "scatterpolargl": [
           {
            "marker": {
             "colorbar": {
              "outlinewidth": 0,
              "ticks": ""
             }
            },
            "type": "scatterpolargl"
           }
          ],
          "scatterternary": [
           {
            "marker": {
             "colorbar": {
              "outlinewidth": 0,
              "ticks": ""
             }
            },
            "type": "scatterternary"
           }
          ],
          "surface": [
           {
            "colorbar": {
             "outlinewidth": 0,
             "ticks": ""
            },
            "colorscale": [
             [
              0,
              "#0d0887"
             ],
             [
              0.1111111111111111,
              "#46039f"
             ],
             [
              0.2222222222222222,
              "#7201a8"
             ],
             [
              0.3333333333333333,
              "#9c179e"
             ],
             [
              0.4444444444444444,
              "#bd3786"
             ],
             [
              0.5555555555555556,
              "#d8576b"
             ],
             [
              0.6666666666666666,
              "#ed7953"
             ],
             [
              0.7777777777777778,
              "#fb9f3a"
             ],
             [
              0.8888888888888888,
              "#fdca26"
             ],
             [
              1,
              "#f0f921"
             ]
            ],
            "type": "surface"
           }
          ],
          "table": [
           {
            "cells": {
             "fill": {
              "color": "#EBF0F8"
             },
             "line": {
              "color": "white"
             }
            },
            "header": {
             "fill": {
              "color": "#C8D4E3"
             },
             "line": {
              "color": "white"
             }
            },
            "type": "table"
           }
          ]
         },
         "layout": {
          "annotationdefaults": {
           "arrowcolor": "#2a3f5f",
           "arrowhead": 0,
           "arrowwidth": 1
          },
          "colorscale": {
           "diverging": [
            [
             0,
             "#8e0152"
            ],
            [
             0.1,
             "#c51b7d"
            ],
            [
             0.2,
             "#de77ae"
            ],
            [
             0.3,
             "#f1b6da"
            ],
            [
             0.4,
             "#fde0ef"
            ],
            [
             0.5,
             "#f7f7f7"
            ],
            [
             0.6,
             "#e6f5d0"
            ],
            [
             0.7,
             "#b8e186"
            ],
            [
             0.8,
             "#7fbc41"
            ],
            [
             0.9,
             "#4d9221"
            ],
            [
             1,
             "#276419"
            ]
           ],
           "sequential": [
            [
             0,
             "#0d0887"
            ],
            [
             0.1111111111111111,
             "#46039f"
            ],
            [
             0.2222222222222222,
             "#7201a8"
            ],
            [
             0.3333333333333333,
             "#9c179e"
            ],
            [
             0.4444444444444444,
             "#bd3786"
            ],
            [
             0.5555555555555556,
             "#d8576b"
            ],
            [
             0.6666666666666666,
             "#ed7953"
            ],
            [
             0.7777777777777778,
             "#fb9f3a"
            ],
            [
             0.8888888888888888,
             "#fdca26"
            ],
            [
             1,
             "#f0f921"
            ]
           ],
           "sequentialminus": [
            [
             0,
             "#0d0887"
            ],
            [
             0.1111111111111111,
             "#46039f"
            ],
            [
             0.2222222222222222,
             "#7201a8"
            ],
            [
             0.3333333333333333,
             "#9c179e"
            ],
            [
             0.4444444444444444,
             "#bd3786"
            ],
            [
             0.5555555555555556,
             "#d8576b"
            ],
            [
             0.6666666666666666,
             "#ed7953"
            ],
            [
             0.7777777777777778,
             "#fb9f3a"
            ],
            [
             0.8888888888888888,
             "#fdca26"
            ],
            [
             1,
             "#f0f921"
            ]
           ]
          },
          "colorway": [
           "#636efa",
           "#EF553B",
           "#00cc96",
           "#ab63fa",
           "#FFA15A",
           "#19d3f3",
           "#FF6692",
           "#B6E880",
           "#FF97FF",
           "#FECB52"
          ],
          "font": {
           "color": "#2a3f5f"
          },
          "geo": {
           "bgcolor": "white",
           "lakecolor": "white",
           "landcolor": "#E5ECF6",
           "showlakes": true,
           "showland": true,
           "subunitcolor": "white"
          },
          "hoverlabel": {
           "align": "left"
          },
          "hovermode": "closest",
          "mapbox": {
           "style": "light"
          },
          "paper_bgcolor": "white",
          "plot_bgcolor": "#E5ECF6",
          "polar": {
           "angularaxis": {
            "gridcolor": "white",
            "linecolor": "white",
            "ticks": ""
           },
           "bgcolor": "#E5ECF6",
           "radialaxis": {
            "gridcolor": "white",
            "linecolor": "white",
            "ticks": ""
           }
          },
          "scene": {
           "xaxis": {
            "backgroundcolor": "#E5ECF6",
            "gridcolor": "white",
            "gridwidth": 2,
            "linecolor": "white",
            "showbackground": true,
            "ticks": "",
            "zerolinecolor": "white"
           },
           "yaxis": {
            "backgroundcolor": "#E5ECF6",
            "gridcolor": "white",
            "gridwidth": 2,
            "linecolor": "white",
            "showbackground": true,
            "ticks": "",
            "zerolinecolor": "white"
           },
           "zaxis": {
            "backgroundcolor": "#E5ECF6",
            "gridcolor": "white",
            "gridwidth": 2,
            "linecolor": "white",
            "showbackground": true,
            "ticks": "",
            "zerolinecolor": "white"
           }
          },
          "shapedefaults": {
           "line": {
            "color": "#2a3f5f"
           }
          },
          "ternary": {
           "aaxis": {
            "gridcolor": "white",
            "linecolor": "white",
            "ticks": ""
           },
           "baxis": {
            "gridcolor": "white",
            "linecolor": "white",
            "ticks": ""
           },
           "bgcolor": "#E5ECF6",
           "caxis": {
            "gridcolor": "white",
            "linecolor": "white",
            "ticks": ""
           }
          },
          "title": {
           "x": 0.05
          },
          "xaxis": {
           "automargin": true,
           "gridcolor": "white",
           "linecolor": "white",
           "ticks": "",
           "zerolinecolor": "white",
           "zerolinewidth": 2
          },
          "yaxis": {
           "automargin": true,
           "gridcolor": "white",
           "linecolor": "white",
           "ticks": "",
           "zerolinecolor": "white",
           "zerolinewidth": 2
          }
         }
        },
        "xaxis": {
         "autorange": true,
         "range": [
          -30215.278326825202,
          530215.2470768252
         ],
         "title": {
          "text": "Salaire de Base"
         },
         "type": "linear"
        },
        "yaxis": {
         "autorange": true,
         "range": [
          -11357.232698671374,
          273514.4309408589
         ],
         "title": {
          "text": "Revenu disponible"
         },
         "type": "linear"
        }
       }
      },
      "image/png": "[encoded data removed]",
      "text/html": [
       "<div>\n",
       "        \n",
       "        \n",
       "            <div id=\"1dd7fba5-5fe2-4dfe-9d38-782ab3ade0b5\" class=\"plotly-graph-div\" style=\"height:525px; width:100%;\"></div>\n",
       "            <script type=\"text/javascript\">\n",
       "                require([\"plotly\"], function(Plotly) {\n",
       "                    window.PLOTLYENV=window.PLOTLYENV || {};\n",
       "                    \n",
       "                if (document.getElementById(\"1dd7fba5-5fe2-4dfe-9d38-782ab3ade0b5\")) {\n",
       "                    Plotly.newPlot(\n",
       "                        '1dd7fba5-5fe2-4dfe-9d38-782ab3ade0b5',\n",
       "                        [{\"mode\": \"lines+markers\", \"type\": \"scatter\", \"x\": [0.0, 26315.7890625, 52631.578125, 78947.3515625, 105263.15625, 131578.953125, 157894.703125, 184210.515625, 210526.3125, 236842.109375, 263157.90625, 289473.71875, 315789.40625, 342105.25, 368421.03125, 394736.90625, 421052.625, 447368.34375, 473684.21875, 499999.96875], \"y\": [6842.9013671875, 20938.236328125, 36725.56640625, 52096.59765625, 66908.6484375, 80834.9609375, 95010.1640625, 108656.7109375, 121676.5234375, 134345.40625, 147013.375, 159682.21875, 171763.5, 183699.65625, 195634.921875, 207571.21875, 219506.5, 231442.703125, 243378.015625, 255314.296875]}],\n",
       "                        {\"template\": {\"data\": {\"bar\": [{\"error_x\": {\"color\": \"#2a3f5f\"}, \"error_y\": {\"color\": \"#2a3f5f\"}, \"marker\": {\"line\": {\"color\": \"#E5ECF6\", \"width\": 0.5}}, \"type\": \"bar\"}], \"barpolar\": [{\"marker\": {\"line\": {\"color\": \"#E5ECF6\", \"width\": 0.5}}, \"type\": \"barpolar\"}], \"carpet\": [{\"aaxis\": {\"endlinecolor\": \"#2a3f5f\", \"gridcolor\": \"white\", \"linecolor\": \"white\", \"minorgridcolor\": \"white\", \"startlinecolor\": \"#2a3f5f\"}, \"baxis\": {\"endlinecolor\": \"#2a3f5f\", \"gridcolor\": \"white\", \"linecolor\": \"white\", \"minorgridcolor\": \"white\", \"startlinecolor\": \"#2a3f5f\"}, \"type\": \"carpet\"}], \"choropleth\": [{\"colorbar\": {\"outlinewidth\": 0, \"ticks\": \"\"}, \"type\": \"choropleth\"}], \"contour\": [{\"colorbar\": {\"outlinewidth\": 0, \"ticks\": \"\"}, \"colorscale\": [[0.0, \"#0d0887\"], [0.1111111111111111, \"#46039f\"], [0.2222222222222222, \"#7201a8\"], [0.3333333333333333, \"#9c179e\"], [0.4444444444444444, \"#bd3786\"], [0.5555555555555556, \"#d8576b\"], [0.6666666666666666, \"#ed7953\"], [0.7777777777777778, \"#fb9f3a\"], [0.8888888888888888, \"#fdca26\"], [1.0, \"#f0f921\"]], \"type\": \"contour\"}], \"contourcarpet\": [{\"colorbar\": {\"outlinewidth\": 0, \"ticks\": \"\"}, \"type\": \"contourcarpet\"}], \"heatmap\": [{\"colorbar\": {\"outlinewidth\": 0, \"ticks\": \"\"}, \"colorscale\": [[0.0, \"#0d0887\"], [0.1111111111111111, \"#46039f\"], [0.2222222222222222, \"#7201a8\"], [0.3333333333333333, \"#9c179e\"], [0.4444444444444444, \"#bd3786\"], [0.5555555555555556, \"#d8576b\"], [0.6666666666666666, \"#ed7953\"], [0.7777777777777778, \"#fb9f3a\"], [0.8888888888888888, \"#fdca26\"], [1.0, \"#f0f921\"]], \"type\": \"heatmap\"}], \"heatmapgl\": [{\"colorbar\": {\"outlinewidth\": 0, \"ticks\": \"\"}, \"colorscale\": [[0.0, \"#0d0887\"], [0.1111111111111111, \"#46039f\"], [0.2222222222222222, \"#7201a8\"], [0.3333333333333333, \"#9c179e\"], [0.4444444444444444, \"#bd3786\"], [0.5555555555555556, \"#d8576b\"], [0.6666666666666666, \"#ed7953\"], [0.7777777777777778, \"#fb9f3a\"], [0.8888888888888888, \"#fdca26\"], [1.0, \"#f0f921\"]], \"type\": \"heatmapgl\"}], \"histogram\": [{\"marker\": {\"colorbar\": {\"outlinewidth\": 0, \"ticks\": \"\"}}, \"type\": \"histogram\"}], \"histogram2d\": [{\"colorbar\": {\"outlinewidth\": 0, \"ticks\": \"\"}, \"colorscale\": [[0.0, \"#0d0887\"], [0.1111111111111111, \"#46039f\"], [0.2222222222222222, \"#7201a8\"], [0.3333333333333333, \"#9c179e\"], [0.4444444444444444, \"#bd3786\"], [0.5555555555555556, \"#d8576b\"], [0.6666666666666666, \"#ed7953\"], [0.7777777777777778, \"#fb9f3a\"], [0.8888888888888888, \"#fdca26\"], [1.0, \"#f0f921\"]], \"type\": \"histogram2d\"}], \"histogram2dcontour\": [{\"colorbar\": {\"outlinewidth\": 0, \"ticks\": \"\"}, \"colorscale\": [[0.0, \"#0d0887\"], [0.1111111111111111, \"#46039f\"], [0.2222222222222222, \"#7201a8\"], [0.3333333333333333, \"#9c179e\"], [0.4444444444444444, \"#bd3786\"], [0.5555555555555556, \"#d8576b\"], [0.6666666666666666, \"#ed7953\"], [0.7777777777777778, \"#fb9f3a\"], [0.8888888888888888, \"#fdca26\"], [1.0, \"#f0f921\"]], \"type\": \"histogram2dcontour\"}], \"mesh3d\": [{\"colorbar\": {\"outlinewidth\": 0, \"ticks\": \"\"}, \"type\": \"mesh3d\"}], \"parcoords\": [{\"line\": {\"colorbar\": {\"outlinewidth\": 0, \"ticks\": \"\"}}, \"type\": \"parcoords\"}], \"scatter\": [{\"marker\": {\"colorbar\": {\"outlinewidth\": 0, \"ticks\": \"\"}}, \"type\": \"scatter\"}], \"scatter3d\": [{\"line\": {\"colorbar\": {\"outlinewidth\": 0, \"ticks\": \"\"}}, \"marker\": {\"colorbar\": {\"outlinewidth\": 0, \"ticks\": \"\"}}, \"type\": \"scatter3d\"}], \"scattercarpet\": [{\"marker\": {\"colorbar\": {\"outlinewidth\": 0, \"ticks\": \"\"}}, \"type\": \"scattercarpet\"}], \"scattergeo\": [{\"marker\": {\"colorbar\": {\"outlinewidth\": 0, \"ticks\": \"\"}}, \"type\": \"scattergeo\"}], \"scattergl\": [{\"marker\": {\"colorbar\": {\"outlinewidth\": 0, \"ticks\": \"\"}}, \"type\": \"scattergl\"}], \"scattermapbox\": [{\"marker\": {\"colorbar\": {\"outlinewidth\": 0, \"ticks\": \"\"}}, \"type\": \"scattermapbox\"}], \"scatterpolar\": [{\"marker\": {\"colorbar\": {\"outlinewidth\": 0, \"ticks\": \"\"}}, \"type\": \"scatterpolar\"}], \"scatterpolargl\": [{\"marker\": {\"colorbar\": {\"outlinewidth\": 0, \"ticks\": \"\"}}, \"type\": \"scatterpolargl\"}], \"scatterternary\": [{\"marker\": {\"colorbar\": {\"outlinewidth\": 0, \"ticks\": \"\"}}, \"type\": \"scatterternary\"}], \"surface\": [{\"colorbar\": {\"outlinewidth\": 0, \"ticks\": \"\"}, \"colorscale\": [[0.0, \"#0d0887\"], [0.1111111111111111, \"#46039f\"], [0.2222222222222222, \"#7201a8\"], [0.3333333333333333, \"#9c179e\"], [0.4444444444444444, \"#bd3786\"], [0.5555555555555556, \"#d8576b\"], [0.6666666666666666, \"#ed7953\"], [0.7777777777777778, \"#fb9f3a\"], [0.8888888888888888, \"#fdca26\"], [1.0, \"#f0f921\"]], \"type\": \"surface\"}], \"table\": [{\"cells\": {\"fill\": {\"color\": \"#EBF0F8\"}, \"line\": {\"color\": \"white\"}}, \"header\": {\"fill\": {\"color\": \"#C8D4E3\"}, \"line\": {\"color\": \"white\"}}, \"type\": \"table\"}]}, \"layout\": {\"annotationdefaults\": {\"arrowcolor\": \"#2a3f5f\", \"arrowhead\": 0, \"arrowwidth\": 1}, \"colorscale\": {\"diverging\": [[0, \"#8e0152\"], [0.1, \"#c51b7d\"], [0.2, \"#de77ae\"], [0.3, \"#f1b6da\"], [0.4, \"#fde0ef\"], [0.5, \"#f7f7f7\"], [0.6, \"#e6f5d0\"], [0.7, \"#b8e186\"], [0.8, \"#7fbc41\"], [0.9, \"#4d9221\"], [1, \"#276419\"]], \"sequential\": [[0.0, \"#0d0887\"], [0.1111111111111111, \"#46039f\"], [0.2222222222222222, \"#7201a8\"], [0.3333333333333333, \"#9c179e\"], [0.4444444444444444, \"#bd3786\"], [0.5555555555555556, \"#d8576b\"], [0.6666666666666666, \"#ed7953\"], [0.7777777777777778, \"#fb9f3a\"], [0.8888888888888888, \"#fdca26\"], [1.0, \"#f0f921\"]], \"sequentialminus\": [[0.0, \"#0d0887\"], [0.1111111111111111, \"#46039f\"], [0.2222222222222222, \"#7201a8\"], [0.3333333333333333, \"#9c179e\"], [0.4444444444444444, \"#bd3786\"], [0.5555555555555556, \"#d8576b\"], [0.6666666666666666, \"#ed7953\"], [0.7777777777777778, \"#fb9f3a\"], [0.8888888888888888, \"#fdca26\"], [1.0, \"#f0f921\"]]}, \"colorway\": [\"#636efa\", \"#EF553B\", \"#00cc96\", \"#ab63fa\", \"#FFA15A\", \"#19d3f3\", \"#FF6692\", \"#B6E880\", \"#FF97FF\", \"#FECB52\"], \"font\": {\"color\": \"#2a3f5f\"}, \"geo\": {\"bgcolor\": \"white\", \"lakecolor\": \"white\", \"landcolor\": \"#E5ECF6\", \"showlakes\": true, \"showland\": true, \"subunitcolor\": \"white\"}, \"hoverlabel\": {\"align\": \"left\"}, \"hovermode\": \"closest\", \"mapbox\": {\"style\": \"light\"}, \"paper_bgcolor\": \"white\", \"plot_bgcolor\": \"#E5ECF6\", \"polar\": {\"angularaxis\": {\"gridcolor\": \"white\", \"linecolor\": \"white\", \"ticks\": \"\"}, \"bgcolor\": \"#E5ECF6\", \"radialaxis\": {\"gridcolor\": \"white\", \"linecolor\": \"white\", \"ticks\": \"\"}}, \"scene\": {\"xaxis\": {\"backgroundcolor\": \"#E5ECF6\", \"gridcolor\": \"white\", \"gridwidth\": 2, \"linecolor\": \"white\", \"showbackground\": true, \"ticks\": \"\", \"zerolinecolor\": \"white\"}, \"yaxis\": {\"backgroundcolor\": \"#E5ECF6\", \"gridcolor\": \"white\", \"gridwidth\": 2, \"linecolor\": \"white\", \"showbackground\": true, \"ticks\": \"\", \"zerolinecolor\": \"white\"}, \"zaxis\": {\"backgroundcolor\": \"#E5ECF6\", \"gridcolor\": \"white\", \"gridwidth\": 2, \"linecolor\": \"white\", \"showbackground\": true, \"ticks\": \"\", \"zerolinecolor\": \"white\"}}, \"shapedefaults\": {\"line\": {\"color\": \"#2a3f5f\"}}, \"ternary\": {\"aaxis\": {\"gridcolor\": \"white\", \"linecolor\": \"white\", \"ticks\": \"\"}, \"baxis\": {\"gridcolor\": \"white\", \"linecolor\": \"white\", \"ticks\": \"\"}, \"bgcolor\": \"#E5ECF6\", \"caxis\": {\"gridcolor\": \"white\", \"linecolor\": \"white\", \"ticks\": \"\"}}, \"title\": {\"x\": 0.05}, \"xaxis\": {\"automargin\": true, \"gridcolor\": \"white\", \"linecolor\": \"white\", \"ticks\": \"\", \"zerolinecolor\": \"white\", \"zerolinewidth\": 2}, \"yaxis\": {\"automargin\": true, \"gridcolor\": \"white\", \"linecolor\": \"white\", \"ticks\": \"\", \"zerolinecolor\": \"white\", \"zerolinewidth\": 2}}}, \"xaxis\": {\"title\": {\"text\": \"Salaire de Base\"}}, \"yaxis\": {\"title\": {\"text\": \"Revenu disponible\"}}},\n",
       "                        {\"responsive\": true}\n",
       "                    ).then(function(){\n",
       "                            \n",
       "var gd = document.getElementById('1dd7fba5-5fe2-4dfe-9d38-782ab3ade0b5');\n",
       "var x = new MutationObserver(function (mutations, observer) {{\n",
       "        var display = window.getComputedStyle(gd).display;\n",
       "        if (!display || display === 'none') {{\n",
       "            console.log([gd, 'removed!']);\n",
       "            Plotly.purge(gd);\n",
       "            observer.disconnect();\n",
       "        }}\n",
       "}});\n",
       "\n",
       "// Listen for the removal of the full notebook cells\n",
       "var notebookContainer = gd.closest('#notebook-container');\n",
       "if (notebookContainer) {{\n",
       "    x.observe(notebookContainer, {childList: true});\n",
       "}}\n",
       "\n",
       "// Listen for the clearing of the current output cell\n",
       "var outputEl = gd.closest('.output');\n",
       "if (outputEl) {{\n",
       "    x.observe(outputEl, {childList: true});\n",
       "}}\n",
       "\n",
       "                        })\n",
       "                };\n",
       "                });\n",
       "            </script>\n",
       "        </div>"
      ]
     },
     "metadata": {},
     "output_type": "display_data"
    }
   ],
   "source": [
    "fig = go.Figure(\n",
    "    data=go.Scatter(x=salaire_de_base, y=revenu_disponible, mode='lines+markers'),\n",
    "    layout=go.Layout(xaxis_title=\"Salaire de Base\", yaxis_title='Revenu disponible'),\n",
    ")\n",
    "fig.show()"
   ]
  },
  {
   "cell_type": "markdown",
   "metadata": {},
   "source": [
    "## Display interactive waterfall"
   ]
  },
  {
   "cell_type": "code",
   "execution_count": 44,
   "metadata": {},
   "outputs": [
    {
     "data": {
      "application/json": {
       "children": [
        {
         "children": [
          {
           "children": [
            {
             "children": [
              {
               "children": [
                {
                 "children": [
                  {
                   "children": [
                    {
                     "code": "cout_du_travail",
                     "name": "Coût du travail"
                    },
                    {
                     "code": "credit_impot_competitivite_emploi",
                     "name": "CICE"
                    },
                    {
                     "code": "aide_premier_salarie",
                     "name": "Aide premier salarié"
                    },
                    {
                     "code": "aide_embauche_pme",
                     "name": "Aide PME"
                    },
                    {
                     "code": "tehr",
                     "name": "Taxe exceptionnelle"
                    }
                   ],
                   "code": "salaire_super_brut",
                   "name": "Salaire super brut"
                  },
                  {
                   "code": "allegement_fillon",
                   "name": "Fillon"
                  }
                 ],
                 "code": "salaire_super_brut_hors_allegements",
                 "name": "Salaire super brut HA"
                },
                {
                 "code": "cotisations_employeur",
                 "name": "Cotisations employeur"
                }
               ],
               "code": "salaire_de_base",
               "name": "Salaire brut"
              },
              {
               "code": "cotisations_salariales",
               "name": "Cotisations salariales"
              },
              {
               "code": "csg_deductible_salaire",
               "name": "CSG déductible"
              }
             ],
             "code": "salaire_imposable",
             "name": "Salaire imposable"
            },
            {
             "code": "csg_imposable_salaire",
             "name": "CSG imposable"
            },
            {
             "code": "crds_salaire",
             "name": "CRDS"
            }
           ],
           "code": "salaire_net",
           "name": "Salaire net"
          }
         ],
         "code": "revenus_nets_du_travail",
         "name": "Revenus nets"
        },
        {
         "children": [
          {
           "children": [
            {
             "code": "rsa",
             "name": "RSA"
            },
            {
             "code": "ppa",
             "name": "PPA"
            }
           ],
           "code": "minima_sociaux",
           "name": "Minima sociaux"
          }
         ],
         "code": "prestations_sociales",
         "name": "Prestations sociales"
        },
        {
         "code": "ppe",
         "name": "PPE"
        },
        {
         "children": [
          {
           "code": "irpp",
           "name": "Impôt sur le revenu"
          }
         ],
         "code": "impots_directs",
         "name": "Impôts directs"
        }
       ],
       "code": "revenu_disponible",
       "name": "Revenu disponible"
      },
      "text/plain": [
       "<IPython.core.display.JSON object>"
      ]
     },
     "execution_count": 44,
     "metadata": {
      "application/json": {
       "expanded": false,
       "root": "root"
      }
     },
     "output_type": "execute_result"
    }
   ],
   "source": [
    "yaml = YAML(typ='safe')\n",
    "decomposition = yaml.load(Path(\"./decomposition.yaml\"))\n",
    "JSON(decomposition)"
   ]
  },
  {
   "cell_type": "code",
   "execution_count": 45,
   "metadata": {},
   "outputs": [],
   "source": [
    "class BarType(Enum):\n",
    "    VALUE = 1\n",
    "    SUB_TOTAL = 2\n",
    "    TOTAL = 3\n",
    "\n",
    "@dataclass\n",
    "class Bar:\n",
    "    code: str\n",
    "    type: BarType\n",
    "    short_name: str = None\n",
    "    value: float = None"
   ]
  },
  {
   "cell_type": "code",
   "execution_count": 47,
   "metadata": {},
   "outputs": [],
   "source": [
    "def get_bars(decomposition: dict) -> List[Bar]:\n",
    "    def visit(node):\n",
    "        children = node.get(\"children\")\n",
    "        if children:\n",
    "            for child in children:\n",
    "                yield from visit(child)\n",
    "            type_ = BarType.TOTAL if node[\"code\"] == decomposition[\"code\"] else BarType.SUB_TOTAL\n",
    "            yield Bar(code=node[\"code\"], short_name=node.get(\"name\"), type=type_)\n",
    "        else:\n",
    "            yield Bar(code=node[\"code\"], short_name=node.get(\"name\"), type=BarType.VALUE)\n",
    "\n",
    "    return list(visit(decomposition))"
   ]
  },
  {
   "cell_type": "code",
   "execution_count": 48,
   "metadata": {},
   "outputs": [
    {
     "data": {
      "text/plain": [
       "[Bar(code='cout_du_travail', type=<BarType.VALUE: 1>, short_name='Coût du travail', value=None),\n",
       " Bar(code='credit_impot_competitivite_emploi', type=<BarType.VALUE: 1>, short_name='CICE', value=None),\n",
       " Bar(code='aide_premier_salarie', type=<BarType.VALUE: 1>, short_name='Aide premier salarié', value=None),\n",
       " Bar(code='aide_embauche_pme', type=<BarType.VALUE: 1>, short_name='Aide PME', value=None),\n",
       " Bar(code='tehr', type=<BarType.VALUE: 1>, short_name='Taxe exceptionnelle', value=None),\n",
       " Bar(code='salaire_super_brut', type=<BarType.SUB_TOTAL: 2>, short_name='Salaire super brut', value=None),\n",
       " Bar(code='allegement_fillon', type=<BarType.VALUE: 1>, short_name='Fillon', value=None),\n",
       " Bar(code='salaire_super_brut_hors_allegements', type=<BarType.SUB_TOTAL: 2>, short_name='Salaire super brut HA', value=None),\n",
       " Bar(code='cotisations_employeur', type=<BarType.VALUE: 1>, short_name='Cotisations employeur', value=None),\n",
       " Bar(code='salaire_de_base', type=<BarType.SUB_TOTAL: 2>, short_name='Salaire brut', value=None),\n",
       " Bar(code='cotisations_salariales', type=<BarType.VALUE: 1>, short_name='Cotisations salariales', value=None),\n",
       " Bar(code='csg_deductible_salaire', type=<BarType.VALUE: 1>, short_name='CSG déductible', value=None),\n",
       " Bar(code='salaire_imposable', type=<BarType.SUB_TOTAL: 2>, short_name='Salaire imposable', value=None),\n",
       " Bar(code='csg_imposable_salaire', type=<BarType.VALUE: 1>, short_name='CSG imposable', value=None),\n",
       " Bar(code='crds_salaire', type=<BarType.VALUE: 1>, short_name='CRDS', value=None),\n",
       " Bar(code='salaire_net', type=<BarType.SUB_TOTAL: 2>, short_name='Salaire net', value=None),\n",
       " Bar(code='revenus_nets_du_travail', type=<BarType.SUB_TOTAL: 2>, short_name='Revenus nets', value=None),\n",
       " Bar(code='rsa', type=<BarType.VALUE: 1>, short_name='RSA', value=None),\n",
       " Bar(code='ppa', type=<BarType.VALUE: 1>, short_name='PPA', value=None),\n",
       " Bar(code='minima_sociaux', type=<BarType.SUB_TOTAL: 2>, short_name='Minima sociaux', value=None),\n",
       " Bar(code='prestations_sociales', type=<BarType.SUB_TOTAL: 2>, short_name='Prestations sociales', value=None),\n",
       " Bar(code='ppe', type=<BarType.VALUE: 1>, short_name='PPE', value=None),\n",
       " Bar(code='irpp', type=<BarType.VALUE: 1>, short_name='Impôt sur le revenu', value=None),\n",
       " Bar(code='impots_directs', type=<BarType.SUB_TOTAL: 2>, short_name='Impôts directs', value=None),\n",
       " Bar(code='revenu_disponible', type=<BarType.TOTAL: 3>, short_name='Revenu disponible', value=None)]"
      ]
     },
     "metadata": {},
     "output_type": "display_data"
    }
   ],
   "source": [
    "bars = get_bars(decomposition)\n",
    "display(bars)"
   ]
  },
  {
   "cell_type": "code",
   "execution_count": 17,
   "metadata": {},
   "outputs": [],
   "source": [
    "def calculate_bars(simulation, period, bars: List[Bar]) -> dict:\n",
    "    return {\n",
    "        bar.code: simulation.calculate_add(bar.code, period)\n",
    "        for bar in bars\n",
    "    }"
   ]
  },
  {
   "cell_type": "code",
   "execution_count": 18,
   "metadata": {
    "collapsed": true,
    "jupyter": {
     "outputs_hidden": true
    }
   },
   "outputs": [
    {
     "data": {
      "text/plain": [
       "{'cout_du_travail': array([     0.   ,  33683.207,  73096.695, 110859.02 , 147673.8  ,\n",
       "        182733.88 , 215975.7  , 248185.61 , 280355.44 , 312525.5  ,\n",
       "        344695.66 , 376865.7  , 409035.53 , 441205.62 , 473375.44 ,\n",
       "        505545.5  , 537715.56 , 569885.4  , 602055.56 , 634225.56 ],\n",
       "       dtype=float32),\n",
       " 'credit_impot_competitivite_emploi': array([   0.    , 1578.9476,    0.    ,    0.    ,    0.    ,    0.    ,\n",
       "           0.    ,    0.    ,    0.    ,    0.    ,    0.    ,    0.    ,\n",
       "           0.    ,    0.    ,    0.    ,    0.    ,    0.    ,    0.    ,\n",
       "           0.    ,    0.    ], dtype=float32),\n",
       " 'aide_premier_salarie': array([0., 0., 0., 0., 0., 0., 0., 0., 0., 0., 0., 0., 0., 0., 0., 0., 0.,\n",
       "        0., 0., 0.], dtype=float32),\n",
       " 'aide_embauche_pme': array([0., 0., 0., 0., 0., 0., 0., 0., 0., 0., 0., 0., 0., 0., 0., 0., 0.,\n",
       "        0., 0., 0.], dtype=float32),\n",
       " 'tehr': array([0., 0., 0., 0., 0., 0., 0., 0., 0., 0., 0., 0., 0., 0., 0., 0., 0.,\n",
       "        0., 0., 0.], dtype=float32),\n",
       " 'salaire_super_brut': array([     0.   ,  35262.156,  73096.695, 110859.02 , 147673.8  ,\n",
       "        182733.88 , 215975.7  , 248185.61 , 280355.44 , 312525.5  ,\n",
       "        344695.66 , 376865.7  , 409035.53 , 441205.62 , 473375.44 ,\n",
       "        505545.5  , 537715.56 , 569885.4  , 602055.56 , 634225.56 ],\n",
       "       dtype=float32),\n",
       " 'allegement_fillon': array([   0.    , 1355.2632,    0.    ,    0.    ,    0.    ,    0.    ,\n",
       "           0.    ,    0.    ,    0.    ,    0.    ,    0.    ,    0.    ,\n",
       "           0.    ,    0.    ,    0.    ,    0.    ,    0.    ,    0.    ,\n",
       "           0.    ,    0.    ], dtype=float32),\n",
       " 'salaire_super_brut_hors_allegements': array([     0.   ,  37091.105,  74044.06 , 110859.02 , 147673.8  ,\n",
       "        182733.88 , 215975.7  , 248185.61 , 280355.44 , 312525.5  ,\n",
       "        344695.66 , 376865.7  , 409035.53 , 441205.62 , 473375.44 ,\n",
       "        505545.5  , 537715.56 , 569885.4  , 602055.56 , 634225.56 ],\n",
       "       dtype=float32),\n",
       " 'cotisations_employeur': array([      0.    ,  -10775.3125,  -21412.479 ,  -31911.658 ,\n",
       "         -42410.625 ,  -51154.902 ,  -58080.996 ,  -63975.055 ,\n",
       "         -69829.15  ,  -75683.4   ,  -81537.75  ,  -87391.97  ,\n",
       "         -93246.09  ,  -99100.34  , -104954.44  , -110808.54  ,\n",
       "        -116662.914 , -122517.04  , -128371.375 , -134225.6   ],\n",
       "       dtype=float32),\n",
       " 'salaire_de_base': array([     0.  ,  26315.79,  52631.58,  78947.35, 105263.16, 131578.95,\n",
       "        157894.7 , 184210.52, 210526.31, 236842.11, 263157.9 , 289473.72,\n",
       "        315789.4 , 342105.25, 368421.03, 394736.9 , 421052.62, 447368.34,\n",
       "        473684.22, 499999.97], dtype=float32),\n",
       " 'cotisations_salariales': array([     0.    ,  -2947.3203,  -5658.4707,  -8132.27  , -10606.05  ,\n",
       "        -11905.579 , -12010.821 , -12116.06  , -12221.42  , -12326.658 ,\n",
       "        -12431.899 , -12537.138 , -12642.381 , -12747.741 , -12852.9795,\n",
       "        -12958.222 , -13063.459 , -13168.697 , -13273.939 , -13379.302 ],\n",
       "       dtype=float32),\n",
       " 'csg_deductible_salaire': array([     0.    ,  -1758.1554,  -3516.3193,  -5274.475 ,  -7032.6313,\n",
       "         -8790.786 , -10549.897 , -12338.245 , -14127.714 , -15917.1875,\n",
       "        -17706.664 , -19496.137 , -21285.607 , -23075.082 , -24864.559 ,\n",
       "        -26654.033 , -28443.51  , -30232.98  , -32022.45  , -33811.92  ],\n",
       "       dtype=float32),\n",
       " 'salaire_imposable': array([     0.   ,  21610.314,  43456.797,  65540.62 ,  87624.47 ,\n",
       "        110882.61 , 135334.03 , 159756.27 , 184177.2  , 208598.22 ,\n",
       "        233019.34 , 257440.4  , 281861.5  , 306282.44 , 330703.53 ,\n",
       "        355124.56 , 379545.66 , 403966.75 , 428387.88 , 452808.75 ],\n",
       "       dtype=float32),\n",
       " 'csg_imposable_salaire': array([     0.     ,   -620.52545,  -1241.0538 ,  -1861.5792 ,\n",
       "         -2482.1047 ,  -3102.6301 ,  -3723.493  ,  -4354.6743 ,\n",
       "         -4986.253  ,  -5617.8315 ,  -6249.4116 ,  -6880.989  ,\n",
       "         -7512.5693 ,  -8144.1465 ,  -8775.728  ,  -9407.305  ,\n",
       "        -10038.885  , -10670.461  , -11302.04   , -11933.621  ],\n",
       "       dtype=float32),\n",
       " 'crds_salaire': array([    0.     ,  -129.27614,  -258.55292,  -387.82907,  -517.10516,\n",
       "         -646.3814 ,  -775.72784,  -907.2237 , -1038.8025 , -1170.3817 ,\n",
       "        -1301.9606 , -1433.5396 , -1565.1182 , -1696.6974 , -1828.2766 ,\n",
       "        -1959.8551 , -2091.4343 , -2223.013  , -2354.592  , -2486.1711 ],\n",
       "       dtype=float32),\n",
       " 'salaire_net': array([     0.   ,  20860.512,  41957.188,  63291.22 ,  84625.266,\n",
       "        107133.58 , 130834.78 , 154494.33 , 178152.14 , 201810.03 ,\n",
       "        225468.   , 249125.84 , 272783.8  , 296441.6  , 320099.5  ,\n",
       "        343757.44 , 367415.34 , 391073.2  , 414731.12 , 438389.03 ],\n",
       "       dtype=float32),\n",
       " 'revenus_nets_du_travail': array([     0.   ,  20860.512,  41957.188,  63291.22 ,  84625.266,\n",
       "        107133.58 , 130834.78 , 154494.33 , 178152.14 , 201810.03 ,\n",
       "        225468.   , 249125.84 , 272783.8  , 296441.6  , 320099.5  ,\n",
       "        343757.44 , 367415.34 , 391073.2  , 414731.12 , 438389.03 ],\n",
       "       dtype=float32),\n",
       " 'rsa': array([6690.451,  550.93 ,  550.93 ,  550.93 ,  550.93 ,  550.93 ,\n",
       "         550.93 ,  550.93 ,  550.93 ,  550.93 ,  550.93 ,  550.93 ,\n",
       "         550.93 ,  550.93 ,  550.93 ,  550.93 ,  550.93 ,  550.93 ,\n",
       "         550.93 ,  550.93 ], dtype=float32),\n",
       " 'ppa': array([  0.    , 328.9901,   0.    ,   0.    ,   0.    ,   0.    ,\n",
       "          0.    ,   0.    ,   0.    ,   0.    ,   0.    ,   0.    ,\n",
       "          0.    ,   0.    ,   0.    ,   0.    ,   0.    ,   0.    ,\n",
       "          0.    ,   0.    ], dtype=float32),\n",
       " 'minima_sociaux': array([6842.9014, 1030.7251,  703.38  ,  703.38  ,  703.38  ,  703.38  ,\n",
       "         703.38  ,  703.38  ,  703.38  ,  703.38  ,  703.38  ,  703.38  ,\n",
       "         703.38  ,  703.38  ,  703.38  ,  703.38  ,  703.38  ,  703.38  ,\n",
       "         703.38  ,  703.38  ], dtype=float32),\n",
       " 'prestations_sociales': array([6842.9014, 1030.7251,  703.38  ,  703.38  ,  703.38  ,  703.38  ,\n",
       "         703.38  ,  703.38  ,  703.38  ,  703.38  ,  703.38  ,  703.38  ,\n",
       "         703.38  ,  703.38  ,  703.38  ,  703.38  ,  703.38  ,  703.38  ,\n",
       "         703.38  ,  703.38  ], dtype=float32),\n",
       " 'ppe': array([0., 0., 0., 0., 0., 0., 0., 0., 0., 0., 0., 0., 0., 0., 0., 0., 0.,\n",
       "        0., 0., 0.], dtype=float32),\n",
       " 'irpp': array([      0.   ,    -953.   ,   -5935.   ,  -11898.   ,  -18420.   ,\n",
       "         -27002.   ,  -36528.   ,  -46541.   ,  -57179.   ,  -68168.   ,\n",
       "         -79158.   ,  -90147.   , -101723.695, -113445.32 , -125167.95 ,\n",
       "        -136889.6  , -148612.22 , -160333.86 , -172056.48 , -183778.11 ],\n",
       "       dtype=float32),\n",
       " 'impots_directs': array([      0.   ,    -953.   ,   -5935.   ,  -11898.   ,  -18420.   ,\n",
       "         -27002.   ,  -36528.   ,  -46541.   ,  -57179.   ,  -68168.   ,\n",
       "         -79158.   ,  -90147.   , -101723.695, -113445.32 , -125167.95 ,\n",
       "        -136889.6  , -148612.22 , -160333.86 , -172056.48 , -183778.11 ],\n",
       "       dtype=float32),\n",
       " 'revenu_disponible': array([  6842.9014,  20938.236 ,  36725.566 ,  52096.598 ,  66908.65  ,\n",
       "         80834.96  ,  95010.164 , 108656.71  , 121676.52  , 134345.4   ,\n",
       "        147013.38  , 159682.22  , 171763.5   , 183699.66  , 195634.92  ,\n",
       "        207571.22  , 219506.5   , 231442.7   , 243378.02  , 255314.3   ],\n",
       "       dtype=float32)}"
      ]
     },
     "metadata": {},
     "output_type": "display_data"
    }
   ],
   "source": [
    "results = calculate_bars(simulation, PERIOD, bars)\n",
    "display(results)"
   ]
  },
  {
   "cell_type": "code",
   "execution_count": 19,
   "metadata": {},
   "outputs": [],
   "source": [
    "def iter_bars_with_value_at_index(bars, results, index, include_zero=False):\n",
    "    for bar in bars:\n",
    "        value = results[bar.code][index]\n",
    "        if include_zero or value != 0:\n",
    "            yield dataclasses.replace(bar, value=value)"
   ]
  },
  {
   "cell_type": "code",
   "execution_count": 20,
   "metadata": {},
   "outputs": [],
   "source": [
    "def iter_displayed_bars(bars: List[Bar], results: dict, index: int, include_subtotals: bool = True):\n",
    "    displayed_bars = filter(lambda bar: include_subtotals or bar.type != BarType.SUB_TOTAL, bars)\n",
    "    displayed_bars = iter_bars_with_value_at_index(displayed_bars, results, index)\n",
    "    yield from displayed_bars"
   ]
  },
  {
   "cell_type": "code",
   "execution_count": 21,
   "metadata": {},
   "outputs": [],
   "source": [
    "def create_waterfall(bars, results, title=\"Waterfall\"):\n",
    "    def update_plot(*args):\n",
    "        index = value_to_index(MIN, STEP, slider.value)\n",
    "        displayed_bars = list(iter_displayed_bars(bars, results, index, include_subtotals.value))\n",
    "        with fig.batch_update():\n",
    "            waterfall = fig.data[0]\n",
    "            waterfall.x = [bar.name or bar.code for bar in displayed_bars]\n",
    "            waterfall.y = [\n",
    "                bar.value if bar.type == BarType.VALUE else 0\n",
    "                for bar in displayed_bars\n",
    "            ]\n",
    "            waterfall.measure = [\n",
    "                \"relative\" if bar.type == BarType.VALUE else \"total\"\n",
    "                for bar in displayed_bars\n",
    "            ]\n",
    "            waterfall.text = [\n",
    "                (\"{:+.0f}\" if bar.type == BarType.VALUE else \"{:.0f}\").format(bar.value)\n",
    "                for bar in displayed_bars\n",
    "            ]\n",
    "\n",
    "    include_subtotals = widgets.Checkbox(description=\"Include subtotals\")\n",
    "    include_subtotals.observe(update_plot, 'value')\n",
    "\n",
    "    slider = widgets.FloatSlider(min=MIN, max=MAX, step=STEP, value=INITIAL_VALUE)\n",
    "    slider.observe(update_plot, 'value')\n",
    "\n",
    "    waterfall = go.Waterfall(textposition=\"inside\")\n",
    "    layout = go.Layout(title=title)\n",
    "    fig = go.FigureWidget(data=[waterfall], layout=layout)\n",
    "    update_plot()\n",
    "\n",
    "    return widgets.VBox([\n",
    "        widgets.HBox([widgets.Label('Salaire de base'), slider]),\n",
    "        include_subtotals,\n",
    "        fig,\n",
    "    ])"
   ]
  },
  {
   "cell_type": "code",
   "execution_count": 22,
   "metadata": {},
   "outputs": [
    {
     "data": {
      "application/vnd.jupyter.widget-view+json": {
       "model_id": "9d2687bd9c984d909aab4fa33a7f555a",
       "version_major": 2,
       "version_minor": 0
      },
      "text/plain": [
       "VBox(children=(HBox(children=(Label(value='Salaire de base'), FloatSlider(value=0.0, max=500000.0, step=26315.…"
      ]
     },
     "metadata": {},
     "output_type": "display_data"
    }
   ],
   "source": [
    "create_waterfall(bars, results)"
   ]
  },
  {
   "cell_type": "markdown",
   "metadata": {},
   "source": [
    "## Display bareme"
   ]
  },
  {
   "cell_type": "code",
   "execution_count": 36,
   "metadata": {},
   "outputs": [
    {
     "data": {
      "text/plain": [
       "array([     0.  ,  26315.79,  52631.58,  78947.35, 105263.16, 131578.95,\n",
       "       157894.7 , 184210.52, 210526.31, 236842.11, 263157.9 , 289473.72,\n",
       "       315789.4 , 342105.25, 368421.03, 394736.9 , 421052.62, 447368.34,\n",
       "       473684.22, 499999.97], dtype=float32)"
      ]
     },
     "execution_count": 36,
     "metadata": {},
     "output_type": "execute_result"
    }
   ],
   "source": [
    "salaire_de_base"
   ]
  },
  {
   "cell_type": "code",
   "execution_count": 37,
   "metadata": {},
   "outputs": [
    {
     "data": {
      "text/plain": [
       "array([  6842.9014,  20938.236 ,  36725.566 ,  52096.598 ,  66908.65  ,\n",
       "        80834.96  ,  95010.164 , 108656.71  , 121676.52  , 134345.4   ,\n",
       "       147013.38  , 159682.22  , 171763.5   , 183699.66  , 195634.92  ,\n",
       "       207571.22  , 219506.5   , 231442.7   , 243378.02  , 255314.3   ],\n",
       "      dtype=float32)"
      ]
     },
     "execution_count": 37,
     "metadata": {},
     "output_type": "execute_result"
    }
   ],
   "source": [
    "revenu_disponible"
   ]
  },
  {
   "cell_type": "code",
   "execution_count": 39,
   "metadata": {},
   "outputs": [
    {
     "data": {
      "text/plain": [
       "array([6690.451,  550.93 ,  550.93 ,  550.93 ,  550.93 ,  550.93 ,\n",
       "        550.93 ,  550.93 ,  550.93 ,  550.93 ,  550.93 ,  550.93 ,\n",
       "        550.93 ,  550.93 ,  550.93 ,  550.93 ,  550.93 ,  550.93 ,\n",
       "        550.93 ,  550.93 ], dtype=float32)"
      ]
     },
     "execution_count": 39,
     "metadata": {},
     "output_type": "execute_result"
    }
   ],
   "source": [
    "results['rsa']"
   ]
  },
  {
   "cell_type": "code",
   "execution_count": 41,
   "metadata": {},
   "outputs": [
    {
     "data": {
      "application/vnd.plotly.v1+json": {
       "config": {
        "plotlyServerURL": "https://plot.ly"
       },
       "data": [
        {
         "fill": "tozeroy",
         "hoverinfo": "text+x+y",
         "hoveron": "points+fills",
         "text": "cout_du_travail",
         "type": "scatter",
         "x": [
          0,
          26315.7890625,
          52631.578125,
          78947.3515625,
          105263.15625,
          131578.953125,
          157894.703125,
          184210.515625,
          210526.3125,
          236842.109375,
          263157.90625,
          289473.71875,
          315789.40625,
          342105.25,
          368421.03125,
          394736.90625,
          421052.625,
          447368.34375,
          473684.21875,
          499999.96875
         ],
         "y": [
          0,
          33683.20703125,
          73096.6953125,
          110859.0234375,
          147673.796875,
          182733.875,
          215975.703125,
          248185.609375,
          280355.4375,
          312525.5,
          344695.65625,
          376865.6875,
          409035.53125,
          441205.625,
          473375.4375,
          505545.5,
          537715.5625,
          569885.375,
          602055.5625,
          634225.5625
         ]
        },
        {
         "fill": "tozeroy",
         "hoverinfo": "text+x+y",
         "hoveron": "points+fills",
         "text": "credit_impot_competitivite_emploi",
         "type": "scatter",
         "x": [
          0,
          26315.7890625,
          52631.578125,
          78947.3515625,
          105263.15625,
          131578.953125,
          157894.703125,
          184210.515625,
          210526.3125,
          236842.109375,
          263157.90625,
          289473.71875,
          315789.40625,
          342105.25,
          368421.03125,
          394736.90625,
          421052.625,
          447368.34375,
          473684.21875,
          499999.96875
         ],
         "y": [
          0,
          1578.9476318359375,
          0,
          0,
          0,
          0,
          0,
          0,
          0,
          0,
          0,
          0,
          0,
          0,
          0,
          0,
          0,
          0,
          0,
          0
         ]
        },
        {
         "fill": "tozeroy",
         "hoverinfo": "text+x+y",
         "hoveron": "points+fills",
         "text": "aide_premier_salarie",
         "type": "scatter",
         "x": [
          0,
          26315.7890625,
          52631.578125,
          78947.3515625,
          105263.15625,
          131578.953125,
          157894.703125,
          184210.515625,
          210526.3125,
          236842.109375,
          263157.90625,
          289473.71875,
          315789.40625,
          342105.25,
          368421.03125,
          394736.90625,
          421052.625,
          447368.34375,
          473684.21875,
          499999.96875
         ],
         "y": [
          0,
          0,
          0,
          0,
          0,
          0,
          0,
          0,
          0,
          0,
          0,
          0,
          0,
          0,
          0,
          0,
          0,
          0,
          0,
          0
         ]
        },
        {
         "fill": "tozeroy",
         "hoverinfo": "text+x+y",
         "hoveron": "points+fills",
         "text": "aide_embauche_pme",
         "type": "scatter",
         "x": [
          0,
          26315.7890625,
          52631.578125,
          78947.3515625,
          105263.15625,
          131578.953125,
          157894.703125,
          184210.515625,
          210526.3125,
          236842.109375,
          263157.90625,
          289473.71875,
          315789.40625,
          342105.25,
          368421.03125,
          394736.90625,
          421052.625,
          447368.34375,
          473684.21875,
          499999.96875
         ],
         "y": [
          0,
          0,
          0,
          0,
          0,
          0,
          0,
          0,
          0,
          0,
          0,
          0,
          0,
          0,
          0,
          0,
          0,
          0,
          0,
          0
         ]
        },
        {
         "fill": "tozeroy",
         "hoverinfo": "text+x+y",
         "hoveron": "points+fills",
         "text": "tehr",
         "type": "scatter",
         "x": [
          0,
          26315.7890625,
          52631.578125,
          78947.3515625,
          105263.15625,
          131578.953125,
          157894.703125,
          184210.515625,
          210526.3125,
          236842.109375,
          263157.90625,
          289473.71875,
          315789.40625,
          342105.25,
          368421.03125,
          394736.90625,
          421052.625,
          447368.34375,
          473684.21875,
          499999.96875
         ],
         "y": [
          0,
          0,
          0,
          0,
          0,
          0,
          0,
          0,
          0,
          0,
          0,
          0,
          0,
          0,
          0,
          0,
          0,
          0,
          0,
          0
         ]
        },
        {
         "fill": "tozeroy",
         "hoverinfo": "text+x+y",
         "hoveron": "points+fills",
         "text": "salaire_super_brut",
         "type": "scatter",
         "x": [
          0,
          26315.7890625,
          52631.578125,
          78947.3515625,
          105263.15625,
          131578.953125,
          157894.703125,
          184210.515625,
          210526.3125,
          236842.109375,
          263157.90625,
          289473.71875,
          315789.40625,
          342105.25,
          368421.03125,
          394736.90625,
          421052.625,
          447368.34375,
          473684.21875,
          499999.96875
         ],
         "y": [
          0,
          35262.15625,
          73096.6953125,
          110859.0234375,
          147673.796875,
          182733.875,
          215975.703125,
          248185.609375,
          280355.4375,
          312525.5,
          344695.65625,
          376865.6875,
          409035.53125,
          441205.625,
          473375.4375,
          505545.5,
          537715.5625,
          569885.375,
          602055.5625,
          634225.5625
         ]
        },
        {
         "fill": "tozeroy",
         "hoverinfo": "text+x+y",
         "hoveron": "points+fills",
         "text": "allegement_fillon",
         "type": "scatter",
         "x": [
          0,
          26315.7890625,
          52631.578125,
          78947.3515625,
          105263.15625,
          131578.953125,
          157894.703125,
          184210.515625,
          210526.3125,
          236842.109375,
          263157.90625,
          289473.71875,
          315789.40625,
          342105.25,
          368421.03125,
          394736.90625,
          421052.625,
          447368.34375,
          473684.21875,
          499999.96875
         ],
         "y": [
          0,
          1355.26318359375,
          0,
          0,
          0,
          0,
          0,
          0,
          0,
          0,
          0,
          0,
          0,
          0,
          0,
          0,
          0,
          0,
          0,
          0
         ]
        },
        {
         "fill": "tozeroy",
         "hoverinfo": "text+x+y",
         "hoveron": "points+fills",
         "text": "salaire_super_brut_hors_allegements",
         "type": "scatter",
         "x": [
          0,
          26315.7890625,
          52631.578125,
          78947.3515625,
          105263.15625,
          131578.953125,
          157894.703125,
          184210.515625,
          210526.3125,
          236842.109375,
          263157.90625,
          289473.71875,
          315789.40625,
          342105.25,
          368421.03125,
          394736.90625,
          421052.625,
          447368.34375,
          473684.21875,
          499999.96875
         ],
         "y": [
          0,
          37091.10546875,
          74044.0625,
          110859.0234375,
          147673.796875,
          182733.875,
          215975.703125,
          248185.609375,
          280355.4375,
          312525.5,
          344695.65625,
          376865.6875,
          409035.53125,
          441205.625,
          473375.4375,
          505545.5,
          537715.5625,
          569885.375,
          602055.5625,
          634225.5625
         ]
        },
        {
         "fill": "tozeroy",
         "hoverinfo": "text+x+y",
         "hoveron": "points+fills",
         "text": "cotisations_employeur",
         "type": "scatter",
         "x": [
          0,
          26315.7890625,
          52631.578125,
          78947.3515625,
          105263.15625,
          131578.953125,
          157894.703125,
          184210.515625,
          210526.3125,
          236842.109375,
          263157.90625,
          289473.71875,
          315789.40625,
          342105.25,
          368421.03125,
          394736.90625,
          421052.625,
          447368.34375,
          473684.21875,
          499999.96875
         ],
         "y": [
          0,
          -10775.3125,
          -21412.478515625,
          -31911.658203125,
          -42410.625,
          -51154.90234375,
          -58080.99609375,
          -63975.0546875,
          -69829.1484375,
          -75683.3984375,
          -81537.75,
          -87391.96875,
          -93246.09375,
          -99100.34375,
          -104954.4375,
          -110808.5390625,
          -116662.9140625,
          -122517.0390625,
          -128371.375,
          -134225.59375
         ]
        },
        {
         "fill": "tozeroy",
         "hoverinfo": "text+x+y",
         "hoveron": "points+fills",
         "text": "salaire_de_base",
         "type": "scatter",
         "x": [
          0,
          26315.7890625,
          52631.578125,
          78947.3515625,
          105263.15625,
          131578.953125,
          157894.703125,
          184210.515625,
          210526.3125,
          236842.109375,
          263157.90625,
          289473.71875,
          315789.40625,
          342105.25,
          368421.03125,
          394736.90625,
          421052.625,
          447368.34375,
          473684.21875,
          499999.96875
         ],
         "y": [
          0,
          26315.7890625,
          52631.578125,
          78947.3515625,
          105263.15625,
          131578.953125,
          157894.703125,
          184210.515625,
          210526.3125,
          236842.109375,
          263157.90625,
          289473.71875,
          315789.40625,
          342105.25,
          368421.03125,
          394736.90625,
          421052.625,
          447368.34375,
          473684.21875,
          499999.96875
         ]
        },
        {
         "fill": "tozeroy",
         "hoverinfo": "text+x+y",
         "hoveron": "points+fills",
         "text": "cotisations_salariales",
         "type": "scatter",
         "x": [
          0,
          26315.7890625,
          52631.578125,
          78947.3515625,
          105263.15625,
          131578.953125,
          157894.703125,
          184210.515625,
          210526.3125,
          236842.109375,
          263157.90625,
          289473.71875,
          315789.40625,
          342105.25,
          368421.03125,
          394736.90625,
          421052.625,
          447368.34375,
          473684.21875,
          499999.96875
         ],
         "y": [
          0,
          -2947.3203125,
          -5658.470703125,
          -8132.27001953125,
          -10606.0498046875,
          -11905.5791015625,
          -12010.8212890625,
          -12116.0595703125,
          -12221.419921875,
          -12326.658203125,
          -12431.8994140625,
          -12537.1376953125,
          -12642.380859375,
          -12747.7412109375,
          -12852.9794921875,
          -12958.2216796875,
          -13063.458984375,
          -13168.697265625,
          -13273.939453125,
          -13379.3017578125
         ]
        },
        {
         "fill": "tozeroy",
         "hoverinfo": "text+x+y",
         "hoveron": "points+fills",
         "text": "csg_deductible_salaire",
         "type": "scatter",
         "x": [
          0,
          26315.7890625,
          52631.578125,
          78947.3515625,
          105263.15625,
          131578.953125,
          157894.703125,
          184210.515625,
          210526.3125,
          236842.109375,
          263157.90625,
          289473.71875,
          315789.40625,
          342105.25,
          368421.03125,
          394736.90625,
          421052.625,
          447368.34375,
          473684.21875,
          499999.96875
         ],
         "y": [
          0,
          -1758.1553955078125,
          -3516.3193359375,
          -5274.47509765625,
          -7032.63134765625,
          -8790.7861328125,
          -10549.8974609375,
          -12338.2451171875,
          -14127.7138671875,
          -15917.1875,
          -17706.6640625,
          -19496.13671875,
          -21285.607421875,
          -23075.08203125,
          -24864.55859375,
          -26654.033203125,
          -28443.509765625,
          -30232.98046875,
          -32022.44921875,
          -33811.921875
         ]
        },
        {
         "fill": "tozeroy",
         "hoverinfo": "text+x+y",
         "hoveron": "points+fills",
         "text": "salaire_imposable",
         "type": "scatter",
         "x": [
          0,
          26315.7890625,
          52631.578125,
          78947.3515625,
          105263.15625,
          131578.953125,
          157894.703125,
          184210.515625,
          210526.3125,
          236842.109375,
          263157.90625,
          289473.71875,
          315789.40625,
          342105.25,
          368421.03125,
          394736.90625,
          421052.625,
          447368.34375,
          473684.21875,
          499999.96875
         ],
         "y": [
          0,
          21610.314453125,
          43456.796875,
          65540.6171875,
          87624.46875,
          110882.609375,
          135334.03125,
          159756.265625,
          184177.203125,
          208598.21875,
          233019.34375,
          257440.40625,
          281861.5,
          306282.4375,
          330703.53125,
          355124.5625,
          379545.65625,
          403966.75,
          428387.875,
          452808.75
         ]
        },
        {
         "fill": "tozeroy",
         "hoverinfo": "text+x+y",
         "hoveron": "points+fills",
         "text": "csg_imposable_salaire",
         "type": "scatter",
         "x": [
          0,
          26315.7890625,
          52631.578125,
          78947.3515625,
          105263.15625,
          131578.953125,
          157894.703125,
          184210.515625,
          210526.3125,
          236842.109375,
          263157.90625,
          289473.71875,
          315789.40625,
          342105.25,
          368421.03125,
          394736.90625,
          421052.625,
          447368.34375,
          473684.21875,
          499999.96875
         ],
         "y": [
          0,
          -620.5254516601562,
          -1241.0538330078125,
          -1861.5792236328125,
          -2482.104736328125,
          -3102.630126953125,
          -3723.492919921875,
          -4354.67431640625,
          -4986.2529296875,
          -5617.83154296875,
          -6249.41162109375,
          -6880.98876953125,
          -7512.5693359375,
          -8144.146484375,
          -8775.7275390625,
          -9407.3046875,
          -10038.884765625,
          -10670.4609375,
          -11302.0400390625,
          -11933.62109375
         ]
        },
        {
         "fill": "tozeroy",
         "hoverinfo": "text+x+y",
         "hoveron": "points+fills",
         "text": "crds_salaire",
         "type": "scatter",
         "x": [
          0,
          26315.7890625,
          52631.578125,
          78947.3515625,
          105263.15625,
          131578.953125,
          157894.703125,
          184210.515625,
          210526.3125,
          236842.109375,
          263157.90625,
          289473.71875,
          315789.40625,
          342105.25,
          368421.03125,
          394736.90625,
          421052.625,
          447368.34375,
          473684.21875,
          499999.96875
         ],
         "y": [
          0,
          -129.27613830566406,
          -258.55291748046875,
          -387.8290710449219,
          -517.1051635742188,
          -646.3814086914062,
          -775.7278442382812,
          -907.2236938476562,
          -1038.802490234375,
          -1170.3817138671875,
          -1301.9605712890625,
          -1433.53955078125,
          -1565.1181640625,
          -1696.6973876953125,
          -1828.276611328125,
          -1959.8551025390625,
          -2091.434326171875,
          -2223.012939453125,
          -2354.592041015625,
          -2486.171142578125
         ]
        },
        {
         "fill": "tozeroy",
         "hoverinfo": "text+x+y",
         "hoveron": "points+fills",
         "text": "salaire_net",
         "type": "scatter",
         "x": [
          0,
          26315.7890625,
          52631.578125,
          78947.3515625,
          105263.15625,
          131578.953125,
          157894.703125,
          184210.515625,
          210526.3125,
          236842.109375,
          263157.90625,
          289473.71875,
          315789.40625,
          342105.25,
          368421.03125,
          394736.90625,
          421052.625,
          447368.34375,
          473684.21875,
          499999.96875
         ],
         "y": [
          0,
          20860.51171875,
          41957.1875,
          63291.21875,
          84625.265625,
          107133.578125,
          130834.78125,
          154494.328125,
          178152.140625,
          201810.03125,
          225468,
          249125.84375,
          272783.8125,
          296441.59375,
          320099.5,
          343757.4375,
          367415.34375,
          391073.1875,
          414731.125,
          438389.03125
         ]
        },
        {
         "fill": "tozeroy",
         "hoverinfo": "text+x+y",
         "hoveron": "points+fills",
         "text": "revenus_nets_du_travail",
         "type": "scatter",
         "x": [
          0,
          26315.7890625,
          52631.578125,
          78947.3515625,
          105263.15625,
          131578.953125,
          157894.703125,
          184210.515625,
          210526.3125,
          236842.109375,
          263157.90625,
          289473.71875,
          315789.40625,
          342105.25,
          368421.03125,
          394736.90625,
          421052.625,
          447368.34375,
          473684.21875,
          499999.96875
         ],
         "y": [
          0,
          20860.51171875,
          41957.1875,
          63291.21875,
          84625.265625,
          107133.578125,
          130834.78125,
          154494.328125,
          178152.140625,
          201810.03125,
          225468,
          249125.84375,
          272783.8125,
          296441.59375,
          320099.5,
          343757.4375,
          367415.34375,
          391073.1875,
          414731.125,
          438389.03125
         ]
        },
        {
         "fill": "tozeroy",
         "hoverinfo": "text+x+y",
         "hoveron": "points+fills",
         "text": "rsa",
         "type": "scatter",
         "x": [
          0,
          26315.7890625,
          52631.578125,
          78947.3515625,
          105263.15625,
          131578.953125,
          157894.703125,
          184210.515625,
          210526.3125,
          236842.109375,
          263157.90625,
          289473.71875,
          315789.40625,
          342105.25,
          368421.03125,
          394736.90625,
          421052.625,
          447368.34375,
          473684.21875,
          499999.96875
         ],
         "y": [
          6690.451171875,
          550.9299926757812,
          550.9299926757812,
          550.9299926757812,
          550.9299926757812,
          550.9299926757812,
          550.9299926757812,
          550.9299926757812,
          550.9299926757812,
          550.9299926757812,
          550.9299926757812,
          550.9299926757812,
          550.9299926757812,
          550.9299926757812,
          550.9299926757812,
          550.9299926757812,
          550.9299926757812,
          550.9299926757812,
          550.9299926757812,
          550.9299926757812
         ]
        },
        {
         "fill": "tozeroy",
         "hoverinfo": "text+x+y",
         "hoveron": "points+fills",
         "text": "ppa",
         "type": "scatter",
         "x": [
          0,
          26315.7890625,
          52631.578125,
          78947.3515625,
          105263.15625,
          131578.953125,
          157894.703125,
          184210.515625,
          210526.3125,
          236842.109375,
          263157.90625,
          289473.71875,
          315789.40625,
          342105.25,
          368421.03125,
          394736.90625,
          421052.625,
          447368.34375,
          473684.21875,
          499999.96875
         ],
         "y": [
          0,
          328.9901123046875,
          0,
          0,
          0,
          0,
          0,
          0,
          0,
          0,
          0,
          0,
          0,
          0,
          0,
          0,
          0,
          0,
          0,
          0
         ]
        },
        {
         "fill": "tozeroy",
         "hoverinfo": "text+x+y",
         "hoveron": "points+fills",
         "text": "minima_sociaux",
         "type": "scatter",
         "x": [
          0,
          26315.7890625,
          52631.578125,
          78947.3515625,
          105263.15625,
          131578.953125,
          157894.703125,
          184210.515625,
          210526.3125,
          236842.109375,
          263157.90625,
          289473.71875,
          315789.40625,
          342105.25,
          368421.03125,
          394736.90625,
          421052.625,
          447368.34375,
          473684.21875,
          499999.96875
         ],
         "y": [
          6842.9013671875,
          1030.72509765625,
          703.3800048828125,
          703.3800048828125,
          703.3800048828125,
          703.3800048828125,
          703.3800048828125,
          703.3800048828125,
          703.3800048828125,
          703.3800048828125,
          703.3800048828125,
          703.3800048828125,
          703.3800048828125,
          703.3800048828125,
          703.3800048828125,
          703.3800048828125,
          703.3800048828125,
          703.3800048828125,
          703.3800048828125,
          703.3800048828125
         ]
        },
        {
         "fill": "tozeroy",
         "hoverinfo": "text+x+y",
         "hoveron": "points+fills",
         "text": "prestations_sociales",
         "type": "scatter",
         "x": [
          0,
          26315.7890625,
          52631.578125,
          78947.3515625,
          105263.15625,
          131578.953125,
          157894.703125,
          184210.515625,
          210526.3125,
          236842.109375,
          263157.90625,
          289473.71875,
          315789.40625,
          342105.25,
          368421.03125,
          394736.90625,
          421052.625,
          447368.34375,
          473684.21875,
          499999.96875
         ],
         "y": [
          6842.9013671875,
          1030.72509765625,
          703.3800048828125,
          703.3800048828125,
          703.3800048828125,
          703.3800048828125,
          703.3800048828125,
          703.3800048828125,
          703.3800048828125,
          703.3800048828125,
          703.3800048828125,
          703.3800048828125,
          703.3800048828125,
          703.3800048828125,
          703.3800048828125,
          703.3800048828125,
          703.3800048828125,
          703.3800048828125,
          703.3800048828125,
          703.3800048828125
         ]
        },
        {
         "fill": "tozeroy",
         "hoverinfo": "text+x+y",
         "hoveron": "points+fills",
         "text": "ppe",
         "type": "scatter",
         "x": [
          0,
          26315.7890625,
          52631.578125,
          78947.3515625,
          105263.15625,
          131578.953125,
          157894.703125,
          184210.515625,
          210526.3125,
          236842.109375,
          263157.90625,
          289473.71875,
          315789.40625,
          342105.25,
          368421.03125,
          394736.90625,
          421052.625,
          447368.34375,
          473684.21875,
          499999.96875
         ],
         "y": [
          0,
          0,
          0,
          0,
          0,
          0,
          0,
          0,
          0,
          0,
          0,
          0,
          0,
          0,
          0,
          0,
          0,
          0,
          0,
          0
         ]
        },
        {
         "fill": "tozeroy",
         "hoverinfo": "text+x+y",
         "hoveron": "points+fills",
         "text": "irpp",
         "type": "scatter",
         "x": [
          0,
          26315.7890625,
          52631.578125,
          78947.3515625,
          105263.15625,
          131578.953125,
          157894.703125,
          184210.515625,
          210526.3125,
          236842.109375,
          263157.90625,
          289473.71875,
          315789.40625,
          342105.25,
          368421.03125,
          394736.90625,
          421052.625,
          447368.34375,
          473684.21875,
          499999.96875
         ],
         "y": [
          0,
          -953,
          -5935,
          -11898,
          -18420,
          -27002,
          -36528,
          -46541,
          -57179,
          -68168,
          -79158,
          -90147,
          -101723.6953125,
          -113445.3203125,
          -125167.953125,
          -136889.59375,
          -148612.21875,
          -160333.859375,
          -172056.484375,
          -183778.109375
         ]
        },
        {
         "fill": "tozeroy",
         "hoverinfo": "text+x+y",
         "hoveron": "points+fills",
         "text": "impots_directs",
         "type": "scatter",
         "x": [
          0,
          26315.7890625,
          52631.578125,
          78947.3515625,
          105263.15625,
          131578.953125,
          157894.703125,
          184210.515625,
          210526.3125,
          236842.109375,
          263157.90625,
          289473.71875,
          315789.40625,
          342105.25,
          368421.03125,
          394736.90625,
          421052.625,
          447368.34375,
          473684.21875,
          499999.96875
         ],
         "y": [
          0,
          -953,
          -5935,
          -11898,
          -18420,
          -27002,
          -36528,
          -46541,
          -57179,
          -68168,
          -79158,
          -90147,
          -101723.6953125,
          -113445.3203125,
          -125167.953125,
          -136889.59375,
          -148612.21875,
          -160333.859375,
          -172056.484375,
          -183778.109375
         ]
        },
        {
         "fill": "tozeroy",
         "hoverinfo": "text+x+y",
         "hoveron": "points+fills",
         "text": "revenu_disponible",
         "type": "scatter",
         "x": [
          0,
          26315.7890625,
          52631.578125,
          78947.3515625,
          105263.15625,
          131578.953125,
          157894.703125,
          184210.515625,
          210526.3125,
          236842.109375,
          263157.90625,
          289473.71875,
          315789.40625,
          342105.25,
          368421.03125,
          394736.90625,
          421052.625,
          447368.34375,
          473684.21875,
          499999.96875
         ],
         "y": [
          6842.9013671875,
          20938.236328125,
          36725.56640625,
          52096.59765625,
          66908.6484375,
          80834.9609375,
          95010.1640625,
          108656.7109375,
          121676.5234375,
          134345.40625,
          147013.375,
          159682.21875,
          171763.5,
          183699.65625,
          195634.921875,
          207571.21875,
          219506.5,
          231442.703125,
          243378.015625,
          255314.296875
         ]
        }
       ],
       "layout": {
        "autosize": true,
        "template": {
         "data": {
          "bar": [
           {
            "error_x": {
             "color": "#2a3f5f"
            },
            "error_y": {
             "color": "#2a3f5f"
            },
            "marker": {
             "line": {
              "color": "#E5ECF6",
              "width": 0.5
             }
            },
            "type": "bar"
           }
          ],
          "barpolar": [
           {
            "marker": {
             "line": {
              "color": "#E5ECF6",
              "width": 0.5
             }
            },
            "type": "barpolar"
           }
          ],
          "carpet": [
           {
            "aaxis": {
             "endlinecolor": "#2a3f5f",
             "gridcolor": "white",
             "linecolor": "white",
             "minorgridcolor": "white",
             "startlinecolor": "#2a3f5f"
            },
            "baxis": {
             "endlinecolor": "#2a3f5f",
             "gridcolor": "white",
             "linecolor": "white",
             "minorgridcolor": "white",
             "startlinecolor": "#2a3f5f"
            },
            "type": "carpet"
           }
          ],
          "choropleth": [
           {
            "colorbar": {
             "outlinewidth": 0,
             "ticks": ""
            },
            "type": "choropleth"
           }
          ],
          "contour": [
           {
            "colorbar": {
             "outlinewidth": 0,
             "ticks": ""
            },
            "colorscale": [
             [
              0,
              "#0d0887"
             ],
             [
              0.1111111111111111,
              "#46039f"
             ],
             [
              0.2222222222222222,
              "#7201a8"
             ],
             [
              0.3333333333333333,
              "#9c179e"
             ],
             [
              0.4444444444444444,
              "#bd3786"
             ],
             [
              0.5555555555555556,
              "#d8576b"
             ],
             [
              0.6666666666666666,
              "#ed7953"
             ],
             [
              0.7777777777777778,
              "#fb9f3a"
             ],
             [
              0.8888888888888888,
              "#fdca26"
             ],
             [
              1,
              "#f0f921"
             ]
            ],
            "type": "contour"
           }
          ],
          "contourcarpet": [
           {
            "colorbar": {
             "outlinewidth": 0,
             "ticks": ""
            },
            "type": "contourcarpet"
           }
          ],
          "heatmap": [
           {
            "colorbar": {
             "outlinewidth": 0,
             "ticks": ""
            },
            "colorscale": [
             [
              0,
              "#0d0887"
             ],
             [
              0.1111111111111111,
              "#46039f"
             ],
             [
              0.2222222222222222,
              "#7201a8"
             ],
             [
              0.3333333333333333,
              "#9c179e"
             ],
             [
              0.4444444444444444,
              "#bd3786"
             ],
             [
              0.5555555555555556,
              "#d8576b"
             ],
             [
              0.6666666666666666,
              "#ed7953"
             ],
             [
              0.7777777777777778,
              "#fb9f3a"
             ],
             [
              0.8888888888888888,
              "#fdca26"
             ],
             [
              1,
              "#f0f921"
             ]
            ],
            "type": "heatmap"
           }
          ],
          "heatmapgl": [
           {
            "colorbar": {
             "outlinewidth": 0,
             "ticks": ""
            },
            "colorscale": [
             [
              0,
              "#0d0887"
             ],
             [
              0.1111111111111111,
              "#46039f"
             ],
             [
              0.2222222222222222,
              "#7201a8"
             ],
             [
              0.3333333333333333,
              "#9c179e"
             ],
             [
              0.4444444444444444,
              "#bd3786"
             ],
             [
              0.5555555555555556,
              "#d8576b"
             ],
             [
              0.6666666666666666,
              "#ed7953"
             ],
             [
              0.7777777777777778,
              "#fb9f3a"
             ],
             [
              0.8888888888888888,
              "#fdca26"
             ],
             [
              1,
              "#f0f921"
             ]
            ],
            "type": "heatmapgl"
           }
          ],
          "histogram": [
           {
            "marker": {
             "colorbar": {
              "outlinewidth": 0,
              "ticks": ""
             }
            },
            "type": "histogram"
           }
          ],
          "histogram2d": [
           {
            "colorbar": {
             "outlinewidth": 0,
             "ticks": ""
            },
            "colorscale": [
             [
              0,
              "#0d0887"
             ],
             [
              0.1111111111111111,
              "#46039f"
             ],
             [
              0.2222222222222222,
              "#7201a8"
             ],
             [
              0.3333333333333333,
              "#9c179e"
             ],
             [
              0.4444444444444444,
              "#bd3786"
             ],
             [
              0.5555555555555556,
              "#d8576b"
             ],
             [
              0.6666666666666666,
              "#ed7953"
             ],
             [
              0.7777777777777778,
              "#fb9f3a"
             ],
             [
              0.8888888888888888,
              "#fdca26"
             ],
             [
              1,
              "#f0f921"
             ]
            ],
            "type": "histogram2d"
           }
          ],
          "histogram2dcontour": [
           {
            "colorbar": {
             "outlinewidth": 0,
             "ticks": ""
            },
            "colorscale": [
             [
              0,
              "#0d0887"
             ],
             [
              0.1111111111111111,
              "#46039f"
             ],
             [
              0.2222222222222222,
              "#7201a8"
             ],
             [
              0.3333333333333333,
              "#9c179e"
             ],
             [
              0.4444444444444444,
              "#bd3786"
             ],
             [
              0.5555555555555556,
              "#d8576b"
             ],
             [
              0.6666666666666666,
              "#ed7953"
             ],
             [
              0.7777777777777778,
              "#fb9f3a"
             ],
             [
              0.8888888888888888,
              "#fdca26"
             ],
             [
              1,
              "#f0f921"
             ]
            ],
            "type": "histogram2dcontour"
           }
          ],
          "mesh3d": [
           {
            "colorbar": {
             "outlinewidth": 0,
             "ticks": ""
            },
            "type": "mesh3d"
           }
          ],
          "parcoords": [
           {
            "line": {
             "colorbar": {
              "outlinewidth": 0,
              "ticks": ""
             }
            },
            "type": "parcoords"
           }
          ],
          "scatter": [
           {
            "marker": {
             "colorbar": {
              "outlinewidth": 0,
              "ticks": ""
             }
            },
            "type": "scatter"
           }
          ],
          "scatter3d": [
           {
            "line": {
             "colorbar": {
              "outlinewidth": 0,
              "ticks": ""
             }
            },
            "marker": {
             "colorbar": {
              "outlinewidth": 0,
              "ticks": ""
             }
            },
            "type": "scatter3d"
           }
          ],
          "scattercarpet": [
           {
            "marker": {
             "colorbar": {
              "outlinewidth": 0,
              "ticks": ""
             }
            },
            "type": "scattercarpet"
           }
          ],
          "scattergeo": [
           {
            "marker": {
             "colorbar": {
              "outlinewidth": 0,
              "ticks": ""
             }
            },
            "type": "scattergeo"
           }
          ],
          "scattergl": [
           {
            "marker": {
             "colorbar": {
              "outlinewidth": 0,
              "ticks": ""
             }
            },
            "type": "scattergl"
           }
          ],
          "scattermapbox": [
           {
            "marker": {
             "colorbar": {
              "outlinewidth": 0,
              "ticks": ""
             }
            },
            "type": "scattermapbox"
           }
          ],
          "scatterpolar": [
           {
            "marker": {
             "colorbar": {
              "outlinewidth": 0,
              "ticks": ""
             }
            },
            "type": "scatterpolar"
           }
          ],
          "scatterpolargl": [
           {
            "marker": {
             "colorbar": {
              "outlinewidth": 0,
              "ticks": ""
             }
            },
            "type": "scatterpolargl"
           }
          ],
          "scatterternary": [
           {
            "marker": {
             "colorbar": {
              "outlinewidth": 0,
              "ticks": ""
             }
            },
            "type": "scatterternary"
           }
          ],
          "surface": [
           {
            "colorbar": {
             "outlinewidth": 0,
             "ticks": ""
            },
            "colorscale": [
             [
              0,
              "#0d0887"
             ],
             [
              0.1111111111111111,
              "#46039f"
             ],
             [
              0.2222222222222222,
              "#7201a8"
             ],
             [
              0.3333333333333333,
              "#9c179e"
             ],
             [
              0.4444444444444444,
              "#bd3786"
             ],
             [
              0.5555555555555556,
              "#d8576b"
             ],
             [
              0.6666666666666666,
              "#ed7953"
             ],
             [
              0.7777777777777778,
              "#fb9f3a"
             ],
             [
              0.8888888888888888,
              "#fdca26"
             ],
             [
              1,
              "#f0f921"
             ]
            ],
            "type": "surface"
           }
          ],
          "table": [
           {
            "cells": {
             "fill": {
              "color": "#EBF0F8"
             },
             "line": {
              "color": "white"
             }
            },
            "header": {
             "fill": {
              "color": "#C8D4E3"
             },
             "line": {
              "color": "white"
             }
            },
            "type": "table"
           }
          ]
         },
         "layout": {
          "annotationdefaults": {
           "arrowcolor": "#2a3f5f",
           "arrowhead": 0,
           "arrowwidth": 1
          },
          "colorscale": {
           "diverging": [
            [
             0,
             "#8e0152"
            ],
            [
             0.1,
             "#c51b7d"
            ],
            [
             0.2,
             "#de77ae"
            ],
            [
             0.3,
             "#f1b6da"
            ],
            [
             0.4,
             "#fde0ef"
            ],
            [
             0.5,
             "#f7f7f7"
            ],
            [
             0.6,
             "#e6f5d0"
            ],
            [
             0.7,
             "#b8e186"
            ],
            [
             0.8,
             "#7fbc41"
            ],
            [
             0.9,
             "#4d9221"
            ],
            [
             1,
             "#276419"
            ]
           ],
           "sequential": [
            [
             0,
             "#0d0887"
            ],
            [
             0.1111111111111111,
             "#46039f"
            ],
            [
             0.2222222222222222,
             "#7201a8"
            ],
            [
             0.3333333333333333,
             "#9c179e"
            ],
            [
             0.4444444444444444,
             "#bd3786"
            ],
            [
             0.5555555555555556,
             "#d8576b"
            ],
            [
             0.6666666666666666,
             "#ed7953"
            ],
            [
             0.7777777777777778,
             "#fb9f3a"
            ],
            [
             0.8888888888888888,
             "#fdca26"
            ],
            [
             1,
             "#f0f921"
            ]
           ],
           "sequentialminus": [
            [
             0,
             "#0d0887"
            ],
            [
             0.1111111111111111,
             "#46039f"
            ],
            [
             0.2222222222222222,
             "#7201a8"
            ],
            [
             0.3333333333333333,
             "#9c179e"
            ],
            [
             0.4444444444444444,
             "#bd3786"
            ],
            [
             0.5555555555555556,
             "#d8576b"
            ],
            [
             0.6666666666666666,
             "#ed7953"
            ],
            [
             0.7777777777777778,
             "#fb9f3a"
            ],
            [
             0.8888888888888888,
             "#fdca26"
            ],
            [
             1,
             "#f0f921"
            ]
           ]
          },
          "colorway": [
           "#636efa",
           "#EF553B",
           "#00cc96",
           "#ab63fa",
           "#FFA15A",
           "#19d3f3",
           "#FF6692",
           "#B6E880",
           "#FF97FF",
           "#FECB52"
          ],
          "font": {
           "color": "#2a3f5f"
          },
          "geo": {
           "bgcolor": "white",
           "lakecolor": "white",
           "landcolor": "#E5ECF6",
           "showlakes": true,
           "showland": true,
           "subunitcolor": "white"
          },
          "hoverlabel": {
           "align": "left"
          },
          "hovermode": "closest",
          "mapbox": {
           "style": "light"
          },
          "paper_bgcolor": "white",
          "plot_bgcolor": "#E5ECF6",
          "polar": {
           "angularaxis": {
            "gridcolor": "white",
            "linecolor": "white",
            "ticks": ""
           },
           "bgcolor": "#E5ECF6",
           "radialaxis": {
            "gridcolor": "white",
            "linecolor": "white",
            "ticks": ""
           }
          },
          "scene": {
           "xaxis": {
            "backgroundcolor": "#E5ECF6",
            "gridcolor": "white",
            "gridwidth": 2,
            "linecolor": "white",
            "showbackground": true,
            "ticks": "",
            "zerolinecolor": "white"
           },
           "yaxis": {
            "backgroundcolor": "#E5ECF6",
            "gridcolor": "white",
            "gridwidth": 2,
            "linecolor": "white",
            "showbackground": true,
            "ticks": "",
            "zerolinecolor": "white"
           },
           "zaxis": {
            "backgroundcolor": "#E5ECF6",
            "gridcolor": "white",
            "gridwidth": 2,
            "linecolor": "white",
            "showbackground": true,
            "ticks": "",
            "zerolinecolor": "white"
           }
          },
          "shapedefaults": {
           "line": {
            "color": "#2a3f5f"
           }
          },
          "ternary": {
           "aaxis": {
            "gridcolor": "white",
            "linecolor": "white",
            "ticks": ""
           },
           "baxis": {
            "gridcolor": "white",
            "linecolor": "white",
            "ticks": ""
           },
           "bgcolor": "#E5ECF6",
           "caxis": {
            "gridcolor": "white",
            "linecolor": "white",
            "ticks": ""
           }
          },
          "title": {
           "x": 0.05
          },
          "xaxis": {
           "automargin": true,
           "gridcolor": "white",
           "linecolor": "white",
           "ticks": "",
           "zerolinecolor": "white",
           "zerolinewidth": 2
          },
          "yaxis": {
           "automargin": true,
           "gridcolor": "white",
           "linecolor": "white",
           "ticks": "",
           "zerolinecolor": "white",
           "zerolinewidth": 2
          }
         }
        },
        "xaxis": {
         "autorange": true,
         "range": [
          0,
          499999.96875
         ],
         "type": "linear"
        },
        "yaxis": {
         "autorange": true,
         "range": [
          -229222.7578125,
          679670.2109375
         ],
         "type": "linear"
        }
       }
      },
      "image/png": "[encoded data removed]",
      "text/html": [
       "<div>\n",
       "        \n",
       "        \n",
       "            <div id=\"66fe012e-8e08-432d-95e3-b8fc62d79e42\" class=\"plotly-graph-div\" style=\"height:525px; width:100%;\"></div>\n",
       "            <script type=\"text/javascript\">\n",
       "                require([\"plotly\"], function(Plotly) {\n",
       "                    window.PLOTLYENV=window.PLOTLYENV || {};\n",
       "                    \n",
       "                if (document.getElementById(\"66fe012e-8e08-432d-95e3-b8fc62d79e42\")) {\n",
       "                    Plotly.newPlot(\n",
       "                        '66fe012e-8e08-432d-95e3-b8fc62d79e42',\n",
       "                        [{\"fill\": \"tozeroy\", \"hoverinfo\": \"text+x+y\", \"hoveron\": \"points+fills\", \"text\": \"cout_du_travail\", \"type\": \"scatter\", \"x\": [0.0, 26315.7890625, 52631.578125, 78947.3515625, 105263.15625, 131578.953125, 157894.703125, 184210.515625, 210526.3125, 236842.109375, 263157.90625, 289473.71875, 315789.40625, 342105.25, 368421.03125, 394736.90625, 421052.625, 447368.34375, 473684.21875, 499999.96875], \"y\": [0.0, 33683.20703125, 73096.6953125, 110859.0234375, 147673.796875, 182733.875, 215975.703125, 248185.609375, 280355.4375, 312525.5, 344695.65625, 376865.6875, 409035.53125, 441205.625, 473375.4375, 505545.5, 537715.5625, 569885.375, 602055.5625, 634225.5625]}, {\"fill\": \"tozeroy\", \"hoverinfo\": \"text+x+y\", \"hoveron\": \"points+fills\", \"text\": \"credit_impot_competitivite_emploi\", \"type\": \"scatter\", \"x\": [0.0, 26315.7890625, 52631.578125, 78947.3515625, 105263.15625, 131578.953125, 157894.703125, 184210.515625, 210526.3125, 236842.109375, 263157.90625, 289473.71875, 315789.40625, 342105.25, 368421.03125, 394736.90625, 421052.625, 447368.34375, 473684.21875, 499999.96875], \"y\": [0.0, 1578.9476318359375, 0.0, 0.0, 0.0, 0.0, 0.0, 0.0, 0.0, 0.0, 0.0, 0.0, 0.0, 0.0, 0.0, 0.0, 0.0, 0.0, 0.0, 0.0]}, {\"fill\": \"tozeroy\", \"hoverinfo\": \"text+x+y\", \"hoveron\": \"points+fills\", \"text\": \"aide_premier_salarie\", \"type\": \"scatter\", \"x\": [0.0, 26315.7890625, 52631.578125, 78947.3515625, 105263.15625, 131578.953125, 157894.703125, 184210.515625, 210526.3125, 236842.109375, 263157.90625, 289473.71875, 315789.40625, 342105.25, 368421.03125, 394736.90625, 421052.625, 447368.34375, 473684.21875, 499999.96875], \"y\": [0.0, 0.0, 0.0, 0.0, 0.0, 0.0, 0.0, 0.0, 0.0, 0.0, 0.0, 0.0, 0.0, 0.0, 0.0, 0.0, 0.0, 0.0, 0.0, 0.0]}, {\"fill\": \"tozeroy\", \"hoverinfo\": \"text+x+y\", \"hoveron\": \"points+fills\", \"text\": \"aide_embauche_pme\", \"type\": \"scatter\", \"x\": [0.0, 26315.7890625, 52631.578125, 78947.3515625, 105263.15625, 131578.953125, 157894.703125, 184210.515625, 210526.3125, 236842.109375, 263157.90625, 289473.71875, 315789.40625, 342105.25, 368421.03125, 394736.90625, 421052.625, 447368.34375, 473684.21875, 499999.96875], \"y\": [0.0, 0.0, 0.0, 0.0, 0.0, 0.0, 0.0, 0.0, 0.0, 0.0, 0.0, 0.0, 0.0, 0.0, 0.0, 0.0, 0.0, 0.0, 0.0, 0.0]}, {\"fill\": \"tozeroy\", \"hoverinfo\": \"text+x+y\", \"hoveron\": \"points+fills\", \"text\": \"tehr\", \"type\": \"scatter\", \"x\": [0.0, 26315.7890625, 52631.578125, 78947.3515625, 105263.15625, 131578.953125, 157894.703125, 184210.515625, 210526.3125, 236842.109375, 263157.90625, 289473.71875, 315789.40625, 342105.25, 368421.03125, 394736.90625, 421052.625, 447368.34375, 473684.21875, 499999.96875], \"y\": [0.0, 0.0, 0.0, 0.0, 0.0, 0.0, 0.0, 0.0, 0.0, 0.0, 0.0, 0.0, 0.0, 0.0, 0.0, 0.0, 0.0, 0.0, 0.0, 0.0]}, {\"fill\": \"tozeroy\", \"hoverinfo\": \"text+x+y\", \"hoveron\": \"points+fills\", \"text\": \"salaire_super_brut\", \"type\": \"scatter\", \"x\": [0.0, 26315.7890625, 52631.578125, 78947.3515625, 105263.15625, 131578.953125, 157894.703125, 184210.515625, 210526.3125, 236842.109375, 263157.90625, 289473.71875, 315789.40625, 342105.25, 368421.03125, 394736.90625, 421052.625, 447368.34375, 473684.21875, 499999.96875], \"y\": [0.0, 35262.15625, 73096.6953125, 110859.0234375, 147673.796875, 182733.875, 215975.703125, 248185.609375, 280355.4375, 312525.5, 344695.65625, 376865.6875, 409035.53125, 441205.625, 473375.4375, 505545.5, 537715.5625, 569885.375, 602055.5625, 634225.5625]}, {\"fill\": \"tozeroy\", \"hoverinfo\": \"text+x+y\", \"hoveron\": \"points+fills\", \"text\": \"allegement_fillon\", \"type\": \"scatter\", \"x\": [0.0, 26315.7890625, 52631.578125, 78947.3515625, 105263.15625, 131578.953125, 157894.703125, 184210.515625, 210526.3125, 236842.109375, 263157.90625, 289473.71875, 315789.40625, 342105.25, 368421.03125, 394736.90625, 421052.625, 447368.34375, 473684.21875, 499999.96875], \"y\": [0.0, 1355.26318359375, 0.0, 0.0, 0.0, 0.0, 0.0, 0.0, 0.0, 0.0, 0.0, 0.0, 0.0, 0.0, 0.0, 0.0, 0.0, 0.0, 0.0, 0.0]}, {\"fill\": \"tozeroy\", \"hoverinfo\": \"text+x+y\", \"hoveron\": \"points+fills\", \"text\": \"salaire_super_brut_hors_allegements\", \"type\": \"scatter\", \"x\": [0.0, 26315.7890625, 52631.578125, 78947.3515625, 105263.15625, 131578.953125, 157894.703125, 184210.515625, 210526.3125, 236842.109375, 263157.90625, 289473.71875, 315789.40625, 342105.25, 368421.03125, 394736.90625, 421052.625, 447368.34375, 473684.21875, 499999.96875], \"y\": [0.0, 37091.10546875, 74044.0625, 110859.0234375, 147673.796875, 182733.875, 215975.703125, 248185.609375, 280355.4375, 312525.5, 344695.65625, 376865.6875, 409035.53125, 441205.625, 473375.4375, 505545.5, 537715.5625, 569885.375, 602055.5625, 634225.5625]}, {\"fill\": \"tozeroy\", \"hoverinfo\": \"text+x+y\", \"hoveron\": \"points+fills\", \"text\": \"cotisations_employeur\", \"type\": \"scatter\", \"x\": [0.0, 26315.7890625, 52631.578125, 78947.3515625, 105263.15625, 131578.953125, 157894.703125, 184210.515625, 210526.3125, 236842.109375, 263157.90625, 289473.71875, 315789.40625, 342105.25, 368421.03125, 394736.90625, 421052.625, 447368.34375, 473684.21875, 499999.96875], \"y\": [0.0, -10775.3125, -21412.478515625, -31911.658203125, -42410.625, -51154.90234375, -58080.99609375, -63975.0546875, -69829.1484375, -75683.3984375, -81537.75, -87391.96875, -93246.09375, -99100.34375, -104954.4375, -110808.5390625, -116662.9140625, -122517.0390625, -128371.375, -134225.59375]}, {\"fill\": \"tozeroy\", \"hoverinfo\": \"text+x+y\", \"hoveron\": \"points+fills\", \"text\": \"salaire_de_base\", \"type\": \"scatter\", \"x\": [0.0, 26315.7890625, 52631.578125, 78947.3515625, 105263.15625, 131578.953125, 157894.703125, 184210.515625, 210526.3125, 236842.109375, 263157.90625, 289473.71875, 315789.40625, 342105.25, 368421.03125, 394736.90625, 421052.625, 447368.34375, 473684.21875, 499999.96875], \"y\": [0.0, 26315.7890625, 52631.578125, 78947.3515625, 105263.15625, 131578.953125, 157894.703125, 184210.515625, 210526.3125, 236842.109375, 263157.90625, 289473.71875, 315789.40625, 342105.25, 368421.03125, 394736.90625, 421052.625, 447368.34375, 473684.21875, 499999.96875]}, {\"fill\": \"tozeroy\", \"hoverinfo\": \"text+x+y\", \"hoveron\": \"points+fills\", \"text\": \"cotisations_salariales\", \"type\": \"scatter\", \"x\": [0.0, 26315.7890625, 52631.578125, 78947.3515625, 105263.15625, 131578.953125, 157894.703125, 184210.515625, 210526.3125, 236842.109375, 263157.90625, 289473.71875, 315789.40625, 342105.25, 368421.03125, 394736.90625, 421052.625, 447368.34375, 473684.21875, 499999.96875], \"y\": [0.0, -2947.3203125, -5658.470703125, -8132.27001953125, -10606.0498046875, -11905.5791015625, -12010.8212890625, -12116.0595703125, -12221.419921875, -12326.658203125, -12431.8994140625, -12537.1376953125, -12642.380859375, -12747.7412109375, -12852.9794921875, -12958.2216796875, -13063.458984375, -13168.697265625, -13273.939453125, -13379.3017578125]}, {\"fill\": \"tozeroy\", \"hoverinfo\": \"text+x+y\", \"hoveron\": \"points+fills\", \"text\": \"csg_deductible_salaire\", \"type\": \"scatter\", \"x\": [0.0, 26315.7890625, 52631.578125, 78947.3515625, 105263.15625, 131578.953125, 157894.703125, 184210.515625, 210526.3125, 236842.109375, 263157.90625, 289473.71875, 315789.40625, 342105.25, 368421.03125, 394736.90625, 421052.625, 447368.34375, 473684.21875, 499999.96875], \"y\": [0.0, -1758.1553955078125, -3516.3193359375, -5274.47509765625, -7032.63134765625, -8790.7861328125, -10549.8974609375, -12338.2451171875, -14127.7138671875, -15917.1875, -17706.6640625, -19496.13671875, -21285.607421875, -23075.08203125, -24864.55859375, -26654.033203125, -28443.509765625, -30232.98046875, -32022.44921875, -33811.921875]}, {\"fill\": \"tozeroy\", \"hoverinfo\": \"text+x+y\", \"hoveron\": \"points+fills\", \"text\": \"salaire_imposable\", \"type\": \"scatter\", \"x\": [0.0, 26315.7890625, 52631.578125, 78947.3515625, 105263.15625, 131578.953125, 157894.703125, 184210.515625, 210526.3125, 236842.109375, 263157.90625, 289473.71875, 315789.40625, 342105.25, 368421.03125, 394736.90625, 421052.625, 447368.34375, 473684.21875, 499999.96875], \"y\": [0.0, 21610.314453125, 43456.796875, 65540.6171875, 87624.46875, 110882.609375, 135334.03125, 159756.265625, 184177.203125, 208598.21875, 233019.34375, 257440.40625, 281861.5, 306282.4375, 330703.53125, 355124.5625, 379545.65625, 403966.75, 428387.875, 452808.75]}, {\"fill\": \"tozeroy\", \"hoverinfo\": \"text+x+y\", \"hoveron\": \"points+fills\", \"text\": \"csg_imposable_salaire\", \"type\": \"scatter\", \"x\": [0.0, 26315.7890625, 52631.578125, 78947.3515625, 105263.15625, 131578.953125, 157894.703125, 184210.515625, 210526.3125, 236842.109375, 263157.90625, 289473.71875, 315789.40625, 342105.25, 368421.03125, 394736.90625, 421052.625, 447368.34375, 473684.21875, 499999.96875], \"y\": [0.0, -620.5254516601562, -1241.0538330078125, -1861.5792236328125, -2482.104736328125, -3102.630126953125, -3723.492919921875, -4354.67431640625, -4986.2529296875, -5617.83154296875, -6249.41162109375, -6880.98876953125, -7512.5693359375, -8144.146484375, -8775.7275390625, -9407.3046875, -10038.884765625, -10670.4609375, -11302.0400390625, -11933.62109375]}, {\"fill\": \"tozeroy\", \"hoverinfo\": \"text+x+y\", \"hoveron\": \"points+fills\", \"text\": \"crds_salaire\", \"type\": \"scatter\", \"x\": [0.0, 26315.7890625, 52631.578125, 78947.3515625, 105263.15625, 131578.953125, 157894.703125, 184210.515625, 210526.3125, 236842.109375, 263157.90625, 289473.71875, 315789.40625, 342105.25, 368421.03125, 394736.90625, 421052.625, 447368.34375, 473684.21875, 499999.96875], \"y\": [0.0, -129.27613830566406, -258.55291748046875, -387.8290710449219, -517.1051635742188, -646.3814086914062, -775.7278442382812, -907.2236938476562, -1038.802490234375, -1170.3817138671875, -1301.9605712890625, -1433.53955078125, -1565.1181640625, -1696.6973876953125, -1828.276611328125, -1959.8551025390625, -2091.434326171875, -2223.012939453125, -2354.592041015625, -2486.171142578125]}, {\"fill\": \"tozeroy\", \"hoverinfo\": \"text+x+y\", \"hoveron\": \"points+fills\", \"text\": \"salaire_net\", \"type\": \"scatter\", \"x\": [0.0, 26315.7890625, 52631.578125, 78947.3515625, 105263.15625, 131578.953125, 157894.703125, 184210.515625, 210526.3125, 236842.109375, 263157.90625, 289473.71875, 315789.40625, 342105.25, 368421.03125, 394736.90625, 421052.625, 447368.34375, 473684.21875, 499999.96875], \"y\": [0.0, 20860.51171875, 41957.1875, 63291.21875, 84625.265625, 107133.578125, 130834.78125, 154494.328125, 178152.140625, 201810.03125, 225468.0, 249125.84375, 272783.8125, 296441.59375, 320099.5, 343757.4375, 367415.34375, 391073.1875, 414731.125, 438389.03125]}, {\"fill\": \"tozeroy\", \"hoverinfo\": \"text+x+y\", \"hoveron\": \"points+fills\", \"text\": \"revenus_nets_du_travail\", \"type\": \"scatter\", \"x\": [0.0, 26315.7890625, 52631.578125, 78947.3515625, 105263.15625, 131578.953125, 157894.703125, 184210.515625, 210526.3125, 236842.109375, 263157.90625, 289473.71875, 315789.40625, 342105.25, 368421.03125, 394736.90625, 421052.625, 447368.34375, 473684.21875, 499999.96875], \"y\": [0.0, 20860.51171875, 41957.1875, 63291.21875, 84625.265625, 107133.578125, 130834.78125, 154494.328125, 178152.140625, 201810.03125, 225468.0, 249125.84375, 272783.8125, 296441.59375, 320099.5, 343757.4375, 367415.34375, 391073.1875, 414731.125, 438389.03125]}, {\"fill\": \"tozeroy\", \"hoverinfo\": \"text+x+y\", \"hoveron\": \"points+fills\", \"text\": \"rsa\", \"type\": \"scatter\", \"x\": [0.0, 26315.7890625, 52631.578125, 78947.3515625, 105263.15625, 131578.953125, 157894.703125, 184210.515625, 210526.3125, 236842.109375, 263157.90625, 289473.71875, 315789.40625, 342105.25, 368421.03125, 394736.90625, 421052.625, 447368.34375, 473684.21875, 499999.96875], \"y\": [6690.451171875, 550.9299926757812, 550.9299926757812, 550.9299926757812, 550.9299926757812, 550.9299926757812, 550.9299926757812, 550.9299926757812, 550.9299926757812, 550.9299926757812, 550.9299926757812, 550.9299926757812, 550.9299926757812, 550.9299926757812, 550.9299926757812, 550.9299926757812, 550.9299926757812, 550.9299926757812, 550.9299926757812, 550.9299926757812]}, {\"fill\": \"tozeroy\", \"hoverinfo\": \"text+x+y\", \"hoveron\": \"points+fills\", \"text\": \"ppa\", \"type\": \"scatter\", \"x\": [0.0, 26315.7890625, 52631.578125, 78947.3515625, 105263.15625, 131578.953125, 157894.703125, 184210.515625, 210526.3125, 236842.109375, 263157.90625, 289473.71875, 315789.40625, 342105.25, 368421.03125, 394736.90625, 421052.625, 447368.34375, 473684.21875, 499999.96875], \"y\": [0.0, 328.9901123046875, 0.0, 0.0, 0.0, 0.0, 0.0, 0.0, 0.0, 0.0, 0.0, 0.0, 0.0, 0.0, 0.0, 0.0, 0.0, 0.0, 0.0, 0.0]}, {\"fill\": \"tozeroy\", \"hoverinfo\": \"text+x+y\", \"hoveron\": \"points+fills\", \"text\": \"minima_sociaux\", \"type\": \"scatter\", \"x\": [0.0, 26315.7890625, 52631.578125, 78947.3515625, 105263.15625, 131578.953125, 157894.703125, 184210.515625, 210526.3125, 236842.109375, 263157.90625, 289473.71875, 315789.40625, 342105.25, 368421.03125, 394736.90625, 421052.625, 447368.34375, 473684.21875, 499999.96875], \"y\": [6842.9013671875, 1030.72509765625, 703.3800048828125, 703.3800048828125, 703.3800048828125, 703.3800048828125, 703.3800048828125, 703.3800048828125, 703.3800048828125, 703.3800048828125, 703.3800048828125, 703.3800048828125, 703.3800048828125, 703.3800048828125, 703.3800048828125, 703.3800048828125, 703.3800048828125, 703.3800048828125, 703.3800048828125, 703.3800048828125]}, {\"fill\": \"tozeroy\", \"hoverinfo\": \"text+x+y\", \"hoveron\": \"points+fills\", \"text\": \"prestations_sociales\", \"type\": \"scatter\", \"x\": [0.0, 26315.7890625, 52631.578125, 78947.3515625, 105263.15625, 131578.953125, 157894.703125, 184210.515625, 210526.3125, 236842.109375, 263157.90625, 289473.71875, 315789.40625, 342105.25, 368421.03125, 394736.90625, 421052.625, 447368.34375, 473684.21875, 499999.96875], \"y\": [6842.9013671875, 1030.72509765625, 703.3800048828125, 703.3800048828125, 703.3800048828125, 703.3800048828125, 703.3800048828125, 703.3800048828125, 703.3800048828125, 703.3800048828125, 703.3800048828125, 703.3800048828125, 703.3800048828125, 703.3800048828125, 703.3800048828125, 703.3800048828125, 703.3800048828125, 703.3800048828125, 703.3800048828125, 703.3800048828125]}, {\"fill\": \"tozeroy\", \"hoverinfo\": \"text+x+y\", \"hoveron\": \"points+fills\", \"text\": \"ppe\", \"type\": \"scatter\", \"x\": [0.0, 26315.7890625, 52631.578125, 78947.3515625, 105263.15625, 131578.953125, 157894.703125, 184210.515625, 210526.3125, 236842.109375, 263157.90625, 289473.71875, 315789.40625, 342105.25, 368421.03125, 394736.90625, 421052.625, 447368.34375, 473684.21875, 499999.96875], \"y\": [0.0, 0.0, 0.0, 0.0, 0.0, 0.0, 0.0, 0.0, 0.0, 0.0, 0.0, 0.0, 0.0, 0.0, 0.0, 0.0, 0.0, 0.0, 0.0, 0.0]}, {\"fill\": \"tozeroy\", \"hoverinfo\": \"text+x+y\", \"hoveron\": \"points+fills\", \"text\": \"irpp\", \"type\": \"scatter\", \"x\": [0.0, 26315.7890625, 52631.578125, 78947.3515625, 105263.15625, 131578.953125, 157894.703125, 184210.515625, 210526.3125, 236842.109375, 263157.90625, 289473.71875, 315789.40625, 342105.25, 368421.03125, 394736.90625, 421052.625, 447368.34375, 473684.21875, 499999.96875], \"y\": [0.0, -953.0, -5935.0, -11898.0, -18420.0, -27002.0, -36528.0, -46541.0, -57179.0, -68168.0, -79158.0, -90147.0, -101723.6953125, -113445.3203125, -125167.953125, -136889.59375, -148612.21875, -160333.859375, -172056.484375, -183778.109375]}, {\"fill\": \"tozeroy\", \"hoverinfo\": \"text+x+y\", \"hoveron\": \"points+fills\", \"text\": \"impots_directs\", \"type\": \"scatter\", \"x\": [0.0, 26315.7890625, 52631.578125, 78947.3515625, 105263.15625, 131578.953125, 157894.703125, 184210.515625, 210526.3125, 236842.109375, 263157.90625, 289473.71875, 315789.40625, 342105.25, 368421.03125, 394736.90625, 421052.625, 447368.34375, 473684.21875, 499999.96875], \"y\": [0.0, -953.0, -5935.0, -11898.0, -18420.0, -27002.0, -36528.0, -46541.0, -57179.0, -68168.0, -79158.0, -90147.0, -101723.6953125, -113445.3203125, -125167.953125, -136889.59375, -148612.21875, -160333.859375, -172056.484375, -183778.109375]}, {\"fill\": \"tozeroy\", \"hoverinfo\": \"text+x+y\", \"hoveron\": \"points+fills\", \"text\": \"revenu_disponible\", \"type\": \"scatter\", \"x\": [0.0, 26315.7890625, 52631.578125, 78947.3515625, 105263.15625, 131578.953125, 157894.703125, 184210.515625, 210526.3125, 236842.109375, 263157.90625, 289473.71875, 315789.40625, 342105.25, 368421.03125, 394736.90625, 421052.625, 447368.34375, 473684.21875, 499999.96875], \"y\": [6842.9013671875, 20938.236328125, 36725.56640625, 52096.59765625, 66908.6484375, 80834.9609375, 95010.1640625, 108656.7109375, 121676.5234375, 134345.40625, 147013.375, 159682.21875, 171763.5, 183699.65625, 195634.921875, 207571.21875, 219506.5, 231442.703125, 243378.015625, 255314.296875]}],\n",
       "                        {\"template\": {\"data\": {\"bar\": [{\"error_x\": {\"color\": \"#2a3f5f\"}, \"error_y\": {\"color\": \"#2a3f5f\"}, \"marker\": {\"line\": {\"color\": \"#E5ECF6\", \"width\": 0.5}}, \"type\": \"bar\"}], \"barpolar\": [{\"marker\": {\"line\": {\"color\": \"#E5ECF6\", \"width\": 0.5}}, \"type\": \"barpolar\"}], \"carpet\": [{\"aaxis\": {\"endlinecolor\": \"#2a3f5f\", \"gridcolor\": \"white\", \"linecolor\": \"white\", \"minorgridcolor\": \"white\", \"startlinecolor\": \"#2a3f5f\"}, \"baxis\": {\"endlinecolor\": \"#2a3f5f\", \"gridcolor\": \"white\", \"linecolor\": \"white\", \"minorgridcolor\": \"white\", \"startlinecolor\": \"#2a3f5f\"}, \"type\": \"carpet\"}], \"choropleth\": [{\"colorbar\": {\"outlinewidth\": 0, \"ticks\": \"\"}, \"type\": \"choropleth\"}], \"contour\": [{\"colorbar\": {\"outlinewidth\": 0, \"ticks\": \"\"}, \"colorscale\": [[0.0, \"#0d0887\"], [0.1111111111111111, \"#46039f\"], [0.2222222222222222, \"#7201a8\"], [0.3333333333333333, \"#9c179e\"], [0.4444444444444444, \"#bd3786\"], [0.5555555555555556, \"#d8576b\"], [0.6666666666666666, \"#ed7953\"], [0.7777777777777778, \"#fb9f3a\"], [0.8888888888888888, \"#fdca26\"], [1.0, \"#f0f921\"]], \"type\": \"contour\"}], \"contourcarpet\": [{\"colorbar\": {\"outlinewidth\": 0, \"ticks\": \"\"}, \"type\": \"contourcarpet\"}], \"heatmap\": [{\"colorbar\": {\"outlinewidth\": 0, \"ticks\": \"\"}, \"colorscale\": [[0.0, \"#0d0887\"], [0.1111111111111111, \"#46039f\"], [0.2222222222222222, \"#7201a8\"], [0.3333333333333333, \"#9c179e\"], [0.4444444444444444, \"#bd3786\"], [0.5555555555555556, \"#d8576b\"], [0.6666666666666666, \"#ed7953\"], [0.7777777777777778, \"#fb9f3a\"], [0.8888888888888888, \"#fdca26\"], [1.0, \"#f0f921\"]], \"type\": \"heatmap\"}], \"heatmapgl\": [{\"colorbar\": {\"outlinewidth\": 0, \"ticks\": \"\"}, \"colorscale\": [[0.0, \"#0d0887\"], [0.1111111111111111, \"#46039f\"], [0.2222222222222222, \"#7201a8\"], [0.3333333333333333, \"#9c179e\"], [0.4444444444444444, \"#bd3786\"], [0.5555555555555556, \"#d8576b\"], [0.6666666666666666, \"#ed7953\"], [0.7777777777777778, \"#fb9f3a\"], [0.8888888888888888, \"#fdca26\"], [1.0, \"#f0f921\"]], \"type\": \"heatmapgl\"}], \"histogram\": [{\"marker\": {\"colorbar\": {\"outlinewidth\": 0, \"ticks\": \"\"}}, \"type\": \"histogram\"}], \"histogram2d\": [{\"colorbar\": {\"outlinewidth\": 0, \"ticks\": \"\"}, \"colorscale\": [[0.0, \"#0d0887\"], [0.1111111111111111, \"#46039f\"], [0.2222222222222222, \"#7201a8\"], [0.3333333333333333, \"#9c179e\"], [0.4444444444444444, \"#bd3786\"], [0.5555555555555556, \"#d8576b\"], [0.6666666666666666, \"#ed7953\"], [0.7777777777777778, \"#fb9f3a\"], [0.8888888888888888, \"#fdca26\"], [1.0, \"#f0f921\"]], \"type\": \"histogram2d\"}], \"histogram2dcontour\": [{\"colorbar\": {\"outlinewidth\": 0, \"ticks\": \"\"}, \"colorscale\": [[0.0, \"#0d0887\"], [0.1111111111111111, \"#46039f\"], [0.2222222222222222, \"#7201a8\"], [0.3333333333333333, \"#9c179e\"], [0.4444444444444444, \"#bd3786\"], [0.5555555555555556, \"#d8576b\"], [0.6666666666666666, \"#ed7953\"], [0.7777777777777778, \"#fb9f3a\"], [0.8888888888888888, \"#fdca26\"], [1.0, \"#f0f921\"]], \"type\": \"histogram2dcontour\"}], \"mesh3d\": [{\"colorbar\": {\"outlinewidth\": 0, \"ticks\": \"\"}, \"type\": \"mesh3d\"}], \"parcoords\": [{\"line\": {\"colorbar\": {\"outlinewidth\": 0, \"ticks\": \"\"}}, \"type\": \"parcoords\"}], \"scatter\": [{\"marker\": {\"colorbar\": {\"outlinewidth\": 0, \"ticks\": \"\"}}, \"type\": \"scatter\"}], \"scatter3d\": [{\"line\": {\"colorbar\": {\"outlinewidth\": 0, \"ticks\": \"\"}}, \"marker\": {\"colorbar\": {\"outlinewidth\": 0, \"ticks\": \"\"}}, \"type\": \"scatter3d\"}], \"scattercarpet\": [{\"marker\": {\"colorbar\": {\"outlinewidth\": 0, \"ticks\": \"\"}}, \"type\": \"scattercarpet\"}], \"scattergeo\": [{\"marker\": {\"colorbar\": {\"outlinewidth\": 0, \"ticks\": \"\"}}, \"type\": \"scattergeo\"}], \"scattergl\": [{\"marker\": {\"colorbar\": {\"outlinewidth\": 0, \"ticks\": \"\"}}, \"type\": \"scattergl\"}], \"scattermapbox\": [{\"marker\": {\"colorbar\": {\"outlinewidth\": 0, \"ticks\": \"\"}}, \"type\": \"scattermapbox\"}], \"scatterpolar\": [{\"marker\": {\"colorbar\": {\"outlinewidth\": 0, \"ticks\": \"\"}}, \"type\": \"scatterpolar\"}], \"scatterpolargl\": [{\"marker\": {\"colorbar\": {\"outlinewidth\": 0, \"ticks\": \"\"}}, \"type\": \"scatterpolargl\"}], \"scatterternary\": [{\"marker\": {\"colorbar\": {\"outlinewidth\": 0, \"ticks\": \"\"}}, \"type\": \"scatterternary\"}], \"surface\": [{\"colorbar\": {\"outlinewidth\": 0, \"ticks\": \"\"}, \"colorscale\": [[0.0, \"#0d0887\"], [0.1111111111111111, \"#46039f\"], [0.2222222222222222, \"#7201a8\"], [0.3333333333333333, \"#9c179e\"], [0.4444444444444444, \"#bd3786\"], [0.5555555555555556, \"#d8576b\"], [0.6666666666666666, \"#ed7953\"], [0.7777777777777778, \"#fb9f3a\"], [0.8888888888888888, \"#fdca26\"], [1.0, \"#f0f921\"]], \"type\": \"surface\"}], \"table\": [{\"cells\": {\"fill\": {\"color\": \"#EBF0F8\"}, \"line\": {\"color\": \"white\"}}, \"header\": {\"fill\": {\"color\": \"#C8D4E3\"}, \"line\": {\"color\": \"white\"}}, \"type\": \"table\"}]}, \"layout\": {\"annotationdefaults\": {\"arrowcolor\": \"#2a3f5f\", \"arrowhead\": 0, \"arrowwidth\": 1}, \"colorscale\": {\"diverging\": [[0, \"#8e0152\"], [0.1, \"#c51b7d\"], [0.2, \"#de77ae\"], [0.3, \"#f1b6da\"], [0.4, \"#fde0ef\"], [0.5, \"#f7f7f7\"], [0.6, \"#e6f5d0\"], [0.7, \"#b8e186\"], [0.8, \"#7fbc41\"], [0.9, \"#4d9221\"], [1, \"#276419\"]], \"sequential\": [[0.0, \"#0d0887\"], [0.1111111111111111, \"#46039f\"], [0.2222222222222222, \"#7201a8\"], [0.3333333333333333, \"#9c179e\"], [0.4444444444444444, \"#bd3786\"], [0.5555555555555556, \"#d8576b\"], [0.6666666666666666, \"#ed7953\"], [0.7777777777777778, \"#fb9f3a\"], [0.8888888888888888, \"#fdca26\"], [1.0, \"#f0f921\"]], \"sequentialminus\": [[0.0, \"#0d0887\"], [0.1111111111111111, \"#46039f\"], [0.2222222222222222, \"#7201a8\"], [0.3333333333333333, \"#9c179e\"], [0.4444444444444444, \"#bd3786\"], [0.5555555555555556, \"#d8576b\"], [0.6666666666666666, \"#ed7953\"], [0.7777777777777778, \"#fb9f3a\"], [0.8888888888888888, \"#fdca26\"], [1.0, \"#f0f921\"]]}, \"colorway\": [\"#636efa\", \"#EF553B\", \"#00cc96\", \"#ab63fa\", \"#FFA15A\", \"#19d3f3\", \"#FF6692\", \"#B6E880\", \"#FF97FF\", \"#FECB52\"], \"font\": {\"color\": \"#2a3f5f\"}, \"geo\": {\"bgcolor\": \"white\", \"lakecolor\": \"white\", \"landcolor\": \"#E5ECF6\", \"showlakes\": true, \"showland\": true, \"subunitcolor\": \"white\"}, \"hoverlabel\": {\"align\": \"left\"}, \"hovermode\": \"closest\", \"mapbox\": {\"style\": \"light\"}, \"paper_bgcolor\": \"white\", \"plot_bgcolor\": \"#E5ECF6\", \"polar\": {\"angularaxis\": {\"gridcolor\": \"white\", \"linecolor\": \"white\", \"ticks\": \"\"}, \"bgcolor\": \"#E5ECF6\", \"radialaxis\": {\"gridcolor\": \"white\", \"linecolor\": \"white\", \"ticks\": \"\"}}, \"scene\": {\"xaxis\": {\"backgroundcolor\": \"#E5ECF6\", \"gridcolor\": \"white\", \"gridwidth\": 2, \"linecolor\": \"white\", \"showbackground\": true, \"ticks\": \"\", \"zerolinecolor\": \"white\"}, \"yaxis\": {\"backgroundcolor\": \"#E5ECF6\", \"gridcolor\": \"white\", \"gridwidth\": 2, \"linecolor\": \"white\", \"showbackground\": true, \"ticks\": \"\", \"zerolinecolor\": \"white\"}, \"zaxis\": {\"backgroundcolor\": \"#E5ECF6\", \"gridcolor\": \"white\", \"gridwidth\": 2, \"linecolor\": \"white\", \"showbackground\": true, \"ticks\": \"\", \"zerolinecolor\": \"white\"}}, \"shapedefaults\": {\"line\": {\"color\": \"#2a3f5f\"}}, \"ternary\": {\"aaxis\": {\"gridcolor\": \"white\", \"linecolor\": \"white\", \"ticks\": \"\"}, \"baxis\": {\"gridcolor\": \"white\", \"linecolor\": \"white\", \"ticks\": \"\"}, \"bgcolor\": \"#E5ECF6\", \"caxis\": {\"gridcolor\": \"white\", \"linecolor\": \"white\", \"ticks\": \"\"}}, \"title\": {\"x\": 0.05}, \"xaxis\": {\"automargin\": true, \"gridcolor\": \"white\", \"linecolor\": \"white\", \"ticks\": \"\", \"zerolinecolor\": \"white\", \"zerolinewidth\": 2}, \"yaxis\": {\"automargin\": true, \"gridcolor\": \"white\", \"linecolor\": \"white\", \"ticks\": \"\", \"zerolinecolor\": \"white\", \"zerolinewidth\": 2}}}},\n",
       "                        {\"responsive\": true}\n",
       "                    ).then(function(){\n",
       "                            \n",
       "var gd = document.getElementById('66fe012e-8e08-432d-95e3-b8fc62d79e42');\n",
       "var x = new MutationObserver(function (mutations, observer) {{\n",
       "        var display = window.getComputedStyle(gd).display;\n",
       "        if (!display || display === 'none') {{\n",
       "            console.log([gd, 'removed!']);\n",
       "            Plotly.purge(gd);\n",
       "            observer.disconnect();\n",
       "        }}\n",
       "}});\n",
       "\n",
       "// Listen for the removal of the full notebook cells\n",
       "var notebookContainer = gd.closest('#notebook-container');\n",
       "if (notebookContainer) {{\n",
       "    x.observe(notebookContainer, {childList: true});\n",
       "}}\n",
       "\n",
       "// Listen for the clearing of the current output cell\n",
       "var outputEl = gd.closest('.output');\n",
       "if (outputEl) {{\n",
       "    x.observe(outputEl, {childList: true});\n",
       "}}\n",
       "\n",
       "                        })\n",
       "                };\n",
       "                });\n",
       "            </script>\n",
       "        </div>"
      ]
     },
     "metadata": {},
     "output_type": "display_data"
    }
   ],
   "source": [
    "data = [\n",
    "    go.Scatter(\n",
    "        x=salaire_de_base,\n",
    "        y=result,\n",
    "        fill='tozeroy',\n",
    "    #     fillcolor='darkviolet',\n",
    "        hoveron = 'points+fills', # select where hover is active\n",
    "        text=variable_name,\n",
    "        hoverinfo = 'text+x+y')\n",
    "    for variable_name, result in results.items()\n",
    "]\n",
    "fig = go.Figure(data=data)\n",
    "fig.show()"
   ]
  },
  {
   "cell_type": "code",
   "execution_count": null,
   "metadata": {},
   "outputs": [],
   "source": []
  }
 ],
 "metadata": {
  "kernelspec": {
   "display_name": "Python 3",
   "language": "python",
   "name": "python3"
  },
  "language_info": {
   "codemirror_mode": {
    "name": "ipython",
    "version": 3
   },
   "file_extension": ".py",
   "mimetype": "text/x-python",
   "name": "python",
   "nbconvert_exporter": "python",
   "pygments_lexer": "ipython3",
   "version": "3.7.3"
  }
 },
 "nbformat": 4,
 "nbformat_minor": 4
}
